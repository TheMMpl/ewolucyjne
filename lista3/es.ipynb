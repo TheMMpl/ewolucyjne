{
 "cells": [
  {
   "cell_type": "code",
   "execution_count": null,
   "metadata": {},
   "outputs": [],
   "source": [
    "import numpy as np\n",
    "\n",
    "class ES:\n",
    "    def __init__(self,eval_function,dim,learning_rate,replacement_type,num_iterations):\n",
    "        self.eval_function=eval_function\n",
    "        self.dim=dim\n",
    "        self.learning_rate=learning_rate\n",
    "        self.rng = np.random.default_rng()\n",
    "        self.replacement_type=replacement_type\n",
    "        self.tau=learning_rate/np.sqrt(2*dim)\n",
    "        self.tau1=learning_rate/np.sqrt(2*np.sqrt(dim))\n",
    "        self.num_iterations=num_iterations\n",
    "\n",
    "    def mutation_function(self,parents,parameters):\n",
    "        #losowanie z normalnym - jeden ten sam, jeden losowany po współrzędnych powinien być (rzędy niezal) - trzeba spr w dokumentacji\n",
    "        child_parameters=parameters*np.exp(self.rng.normal(0,self.tau,parameters.shape)+self.rng.normal(0,self.tau1))\n",
    "        children=parents+self.rng.normal(0,child_parameters,parents.shape)\n",
    "        return (children,child_parameters)\n",
    "\n",
    "    def fit(self):\n",
    "        #init function\n",
    "        inital_population=self.rng.normal(n)\n",
    "        initial_params=1\n",
    "        #jak podchodzimy do eval function?\n",
    "        self.eval_function(inital_population,initial_params)\n",
    "        for i in range(self.num_iterations):\n",
    "            (parents,parent_params)=sorted(())\n",
    "\n"
   ]
  }
 ],
 "metadata": {
  "kernelspec": {
   "display_name": "Python 3",
   "language": "python",
   "name": "python3"
  },
  "language_info": {
   "name": "python",
   "version": "3.10.12"
  }
 },
 "nbformat": 4,
 "nbformat_minor": 2
}
