{
 "cells": [
  {
   "cell_type": "code",
   "execution_count": 128,
   "metadata": {},
   "outputs": [],
   "source": [
    "from dataclasses import dataclass\n",
    "import sympy\n",
    "import numpy as np\n",
    "import pickle\n",
    "import copy\n",
    "from collections import deque\n",
    "from sympy.utilities import lambdify\n",
    "from tqdm import tqdm\n",
    "import warnings\n",
    "\n",
    "\n",
    "\n",
    "\n",
    "warnings.filterwarnings(\"error\")\n",
    "rng = np.random.default_rng()\n",
    "\n",
    "# EXTRA_FUNC_DICT = {\n",
    "#     'exp': make_function(np.exp, 'exp', 1),\n",
    "#     'pow': make_function(np.power, 'pow', 2)\n",
    "# }\n",
    "\n",
    "STR2SYMPY = {\n",
    "    'neg': lambda x: -x,\n",
    "    'abs': sympy.Abs,\n",
    "    'sqrt': sympy.sqrt,\n",
    "    'exp': sympy.exp,\n",
    "    'log': sympy.log,\n",
    "    'sin': sympy.sin,\n",
    "    'cos': sympy.cos,\n",
    "    'tan': sympy.tan,\n",
    "    'add': lambda x, y : x + y,\n",
    "    'sub': lambda x, y : x - y,\n",
    "    'mul': lambda x, y : x * y,\n",
    "    'div': lambda x, y : x / y,\n",
    "    'pow': lambda x, y : x ** y\n",
    "}\n",
    "\n",
    "binary_functions=np.array(['add','sub','mul','div','pow'])\n",
    "unary_functions=np.array(['neg','sqrt','exp','log','sin','cos','tan'])\n",
    "extra_constants=np.array(['2','3','4','5','pi'])\n",
    "true_variables=(['x0','x1','x2','x3','x4','x5'])\n",
    "\n",
    "@dataclass\n",
    "class ExpNode:\n",
    "    kind: str\n",
    "    num_children: int\n",
    "    children: list\n",
    "    parent: 'ExpNode' = None\n",
    "\n",
    "def find_depth(node: ExpNode,currdepth):\n",
    "    if isinstance(node, np.ndarray):\n",
    "        return currdepth\n",
    "    elif node.num_children==1:\n",
    "        return find_depth(node.children[0],currdepth+1)\n",
    "    else:\n",
    "        return max(find_depth(node.children[0],currdepth+1),find_depth(node.children[1],currdepth+1))\n",
    "\n",
    "def find_variables(root: ExpNode):\n",
    "    if isinstance(root, np.ndarray):\n",
    "        return root\n",
    "    dir=rng.uniform(0,1)\n",
    "    if dir<1/2 or root.num_children==1:\n",
    "        return find_variables(root.children[0])\n",
    "    elif dir>1/2 and root.num_children>1:\n",
    "        return find_variables(root.children[1])\n",
    "\n",
    "\n",
    "def visit(formula: ExpNode):\n",
    "    tovisit=deque()\n",
    "    tovisit.append((formula,None,0))\n",
    "    count=0\n",
    "    while tovisit:\n",
    "        node,parent,j=tovisit.popleft()\n",
    "        if not isinstance(node, np.ndarray):\n",
    "            for i,child in enumerate(node.children):\n",
    "                tovisit.append((child,node,i))\n",
    "        count+=1\n",
    "        if rng.integers(1,count+1)==count:\n",
    "            item=node\n",
    "            itemparent=parent\n",
    "            itemid=j\n",
    "    return item,itemparent,itemid\n",
    "\n",
    "def cut_and_shorten(formula: ExpNode):\n",
    "    cutpoint,cutparent,cutid=visit(formula)\n",
    "    if cutparent is not None:\n",
    "        cutparent.children[cutid]=find_variables(cutpoint)\n",
    "    return formula\n",
    "\n",
    "def cut_and_regenerate(formula: ExpNode, variables,dummy,simplified):\n",
    "    cutpoint,cutparent,cutid=visit(formula)\n",
    "    if cutparent is not None:\n",
    "        cutparent.children[cutid]=generate_Expression(variables,dummy,simplified)\n",
    "        cutparent.children[cutid].parent=cutparent\n",
    "    else:\n",
    "        formula=generate_Expression(variables,dummy,simplified)\n",
    "    return formula\n",
    "\n",
    "def crossover(formula1: ExpNode,formula2: ExpNode):\n",
    "    cxpoint1,parent1,id1=visit(formula1)\n",
    "    cxpoint2,parent2,id2=visit(formula2)\n",
    "    if (parent1 is None) and (not isinstance(cxpoint2,np.ndarray)):\n",
    "        return cxpoint2\n",
    "    elif (parent1 is not None) and (not isinstance(cxpoint2,np.ndarray)):\n",
    "        cxpoint2.parent=parent1\n",
    "        parent1.children[id1]=cxpoint2\n",
    "        return formula1\n",
    "    elif parent1 is not None:\n",
    "        parent1.children[id1]=cxpoint2\n",
    "        return formula1\n",
    "    else:\n",
    "        return formula1\n",
    "\n",
    "\n",
    "\n",
    "def choose_function():\n",
    "    fn_choice=rng.uniform(0,1)\n",
    "    children=0\n",
    "    if fn_choice>7/12:\n",
    "        kind=rng.choice(binary_functions,1)\n",
    "        children=2\n",
    "    else:\n",
    "        kind=rng.choice(unary_functions,1)\n",
    "        children=1\n",
    "    return kind[0],children\n",
    "\n",
    "def generate_subtree(root,depth,max_depth,variables):\n",
    "    if depth==max_depth:\n",
    "        for n in range(root.num_children):\n",
    "            var=rng.choice(variables,1)\n",
    "            # if var[0]=='const':\n",
    "            root.children.append(var)\n",
    "    else:\n",
    "        for n in range(root.num_children):\n",
    "            fn,children=choose_function()\n",
    "            child=ExpNode(fn,children,[],root)\n",
    "            generate_subtree(child,depth+1,max_depth,variables)\n",
    "            root.children.append(child)\n",
    "\n",
    "\n",
    "def generate_Expression(variables: np.ndarray,dummy=True,simplified=False):\n",
    "    depth=rng.integers(1,3)\n",
    "    num_variables=rng.integers(1,variables.shape[0]+1)\n",
    "    #check if replacement mayu be usefull (the same variable is used twice in different fragments of the expression)\n",
    "    # we may choose just one variable then\n",
    "    if dummy:\n",
    "        used_variables=rng.choice(variables,num_variables,replace=False)\n",
    "    else:\n",
    "        used_variables=variables\n",
    "    #print(num_variables,used_variables)\n",
    "    #using uniform generation\n",
    "    d=0\n",
    "    curr_fn,kids=choose_function()\n",
    "    root=ExpNode(curr_fn,kids,[])\n",
    "    if simplified:\n",
    "        generate_subtree(root,1,depth,used_variables)\n",
    "    else:\n",
    "        generate_subtree(root,1,depth,np.concatenate([used_variables,extra_constants]))\n",
    "    return root\n",
    "\n",
    "        \n",
    "# def parse_Expression(expr: ExpNode):\n",
    "#     if type(expr)==np.ndarray:\n",
    "#         return sympy.symbols(expr[0])\n",
    "#     else:\n",
    "#         print(expr.kind)\n",
    "#         print((parse_Expression(expr.children[i]) for i in range(expr.num_children)))\n",
    "#         return STR2SYMPY[expr.kind](parse_Expression(expr.children[i]) for i in range(expr.num_children))\n",
    "\n",
    "def parse_Expression(expr: ExpNode):\n",
    "    if isinstance(expr, np.ndarray):\n",
    "        return sympy.symbols(expr[0])\n",
    "    elif expr.kind in STR2SYMPY:\n",
    "        # Parse children recursively\n",
    "        parsed_children = [parse_Expression(child) for child in expr.children]\n",
    "        if expr.kind == 'div' and len(parsed_children) == 2:\n",
    "            # Check for division by zero\n",
    "            denominator = parsed_children[1]\n",
    "            if denominator == 0:\n",
    "                raise ZeroDivisionError(f\"Division by zero detected in expression: {expr}\")\n",
    "        # Apply the corresponding sympy function/operator\n",
    "        return STR2SYMPY[expr.kind](*parsed_children)\n",
    "    else:\n",
    "        raise ValueError(f\"Unsupported expression kind: {expr.kind}\")\n",
    "    \n",
    "\n",
    "    # except RuntimeWarning:\n",
    "        #     return np.inf\n",
    "    # print(type(fn))\n",
    "    # print(data.shape)\n",
    "    # print(data[:,nums].shape)\n",
    "    # print(fn(data[:,nums]))\n",
    "    # print(data[:,[data.shape[1]-1]])\n",
    "    #print(np.sqrt((fn(data[:,nums])-data[:,[data.shape[1]-1]])*(fn(data[:,nums])-data[:,[data.shape[1]-1]])))\n",
    "    # temp=[]\n",
    "    # indices=[temp.extend(num) for num in nums]\n",
    "    #print(nums)\n",
    "    \n"
   ]
  },
  {
   "cell_type": "code",
   "execution_count": 129,
   "metadata": {},
   "outputs": [],
   "source": [
    "class SGA:\n",
    "    def __init__(self,pop_size,children_size,crossover_prob,mutation_prob,num_iter,variables,data,dummy=False,simplified=False):\n",
    "        self.pop_size=pop_size\n",
    "        self.crossover_prob=crossover_prob\n",
    "        self.mutation_prob=mutation_prob\n",
    "        self.num_iter=num_iter\n",
    "        self.variables=variables\n",
    "        #self.objective_function=objective_function\n",
    "        self.dummy=dummy\n",
    "        self.data=data\n",
    "        self.children_size=children_size\n",
    "        self.simplified=simplified\n",
    "\n",
    "    def initial_population(self):\n",
    "        self.parent_population=[generate_Expression(self.variables,self.dummy,self.simplified) for i in range(self.pop_size)]\n",
    "        self.best_individual=self.parent_population[0]\n",
    "        #a litt;e shenanigans\n",
    "        self.best_objective_value = min([self.objective_function(pop,self.data) for pop in self.parent_population])\n",
    "    \n",
    "    def objective_function(self,expression,data):\n",
    "\n",
    "        try:\n",
    "            parsed_expression=parse_Expression(expression)\n",
    "        except:\n",
    "            return np.inf\n",
    "        \n",
    "        variables=[_ for _ in parsed_expression.atoms() if type(_) is sympy.Symbol and str(_) in true_variables]\n",
    "        nums=[int(str(_)[1]) for _ in variables]\n",
    "        #print(parsed_expression,nums)\n",
    "        try:\n",
    "            fn=lambdify(variables,parsed_expression)\n",
    "            if len(nums)==0:\n",
    "                return np.inf\n",
    "            \n",
    "            score=np.sum(np.sqrt((fn(data[:,nums])-data[:,[data.shape[1]-1]])*(fn(data[:,nums])-data[:,[data.shape[1]-1]])))\n",
    "            depth=find_depth(expression,0)\n",
    "            if depth>3*data.shape[1]:\n",
    "                score=score*depth\n",
    "            if len(nums)<data.shape[1] and self.dummy==False:\n",
    "                return (data.shape[1]-len(nums))*score\n",
    "            else:\n",
    "                return score\n",
    "        except:\n",
    "            return np.inf\n",
    "\n",
    "    def fit(self):\n",
    "        for t in tqdm(range(self.num_iter)):\n",
    "            self.children_population=[]\n",
    "            \n",
    "            for i in range(self.pop_size-1):\n",
    "                if rng.uniform(0,1)<self.crossover_prob:\n",
    "                    #check here if copy is deep enough\n",
    "                    self.children_population.append(crossover(copy.deepcopy(self.parent_population[i]),copy.deepcopy(self.parent_population[i+1])))\n",
    "                else:\n",
    "                    self.children_population.append(self.parent_population[i])\n",
    "            #print(len(self.children_population))\n",
    "\n",
    "            for i in range(self.children_size-1):\n",
    "                if rng.uniform(0,1)<self.mutation_prob:\n",
    "                    self.children_population[i]=cut_and_regenerate(self.children_population[i],self.variables,self.dummy,self.simplified)\n",
    "                elif rng.uniform(0,1)<self.mutation_prob:\n",
    "                    self.children_population[i]=cut_and_shorten(self.children_population[i])\n",
    "                    \n",
    "            total_pop=self.parent_population+self.children_population\n",
    "            self.fitness_values=[self.objective_function(pop,self.data) for pop in total_pop]\n",
    "            self.parent_population=[x for _, x in sorted(zip(self.fitness_values, total_pop), key=lambda pair: pair[0])][:self.pop_size]\n",
    "\n",
    "            if min(self.fitness_values)<self.best_objective_value:\n",
    "                self.best_objective_value=min(self.fitness_values)\n",
    "                self.best_individual=self.parent_population[0]\n",
    "            \n",
    "            print(parse_Expression(self.best_individual),self.best_objective_value)\n",
    "            #print([parse_Expression(pop,)])\n",
    "            sample=[]\n",
    "            for i in range(10):\n",
    "                try:\n",
    "                    sample.append(parse_Expression(self.parent_population[i]))\n",
    "                except:\n",
    "                    print('div by 0')\n",
    "            print(sample)\n",
    "\n",
    "        return parse_Expression(self.best_individual)\n"
   ]
  },
  {
   "cell_type": "code",
   "execution_count": 25,
   "metadata": {},
   "outputs": [
    {
     "name": "stdout",
     "output_type": "stream",
     "text": [
      "1 ['x2']\n",
      "ExpNode(kind=np.str_('pow'), num_children=2, children=[ExpNode(kind=np.str_('add'), num_children=2, children=[array(['4'], dtype='<U2'), array(['4'], dtype='<U2')], parent=...), ExpNode(kind=np.str_('mul'), num_children=2, children=[array(['4'], dtype='<U2'), array(['x2'], dtype='<U2')], parent=...)], parent=None)\n"
     ]
    }
   ],
   "source": [
    "t=np.array(['x1','x2','x3'],dtype=str)\n",
    "res=generate_Expression(t)\n",
    "print(res)"
   ]
  },
  {
   "cell_type": "code",
   "execution_count": 6,
   "metadata": {},
   "outputs": [
    {
     "name": "stdout",
     "output_type": "stream",
     "text": [
      "(ExpNode(kind=np.str_('log'), num_children=1, children=[array(['4'], dtype='<U2')], parent=ExpNode(kind=np.str_('pow'), num_children=2, children=[ExpNode(kind=np.str_('exp'), num_children=1, children=[array(['x'], dtype='<U2')], parent=...), ...], parent=None)), ExpNode(kind=np.str_('pow'), num_children=2, children=[ExpNode(kind=np.str_('exp'), num_children=1, children=[array(['x'], dtype='<U2')], parent=...), ExpNode(kind=np.str_('log'), num_children=1, children=[array(['4'], dtype='<U2')], parent=...)], parent=None), 1)\n"
     ]
    }
   ],
   "source": [
    "print(visit(res))\n"
   ]
  },
  {
   "cell_type": "code",
   "execution_count": 55,
   "metadata": {},
   "outputs": [
    {
     "name": "stdout",
     "output_type": "stream",
     "text": [
      "<class 'sympy.core.power.Pow'>\n",
      "<class 'sympy.core.symbol.Symbol'> x2\n"
     ]
    }
   ],
   "source": [
    "symbolic=parse_Expression(res)\n",
    "print(type(parse_Expression(res)))\n",
    "variables=[_ for _ in symbolic.atoms() if type(_) is sympy.Symbol and str(_) in true_variables]\n",
    "if len(variables)>0:\n",
    "    print(type(variables[0]),variables[0])"
   ]
  },
  {
   "cell_type": "code",
   "execution_count": 86,
   "metadata": {},
   "outputs": [
    {
     "name": "stdout",
     "output_type": "stream",
     "text": [
      "(8000, 5)\n",
      "x2*x3 <class 'sympy.core.mul.Mul'>\n"
     ]
    }
   ],
   "source": [
    "# with open('srsd/medium_set/true_eq/feynman-i.8.14.pkl','rb') as eq:\n",
    "#     equaion=pickle.load(eq)\n",
    "#     print(equaion,type(equaion))\n",
    "\n",
    "# arr=np.loadtxt('srsd/medium_set/test/feynman-i.8.14.txt')\n",
    "# print(arr)\n",
    "# arr1=np.loadtxt('srsd/medium_set/test/feynman-i.34.8.txt')\n",
    "# print(arr1)\n",
    "\n",
    "#dummy variable amounts disagree with dataset decription\n",
    "data=np.loadtxt('srsd/easy_set_dummy/train/feynman-i.12.5.txt')\n",
    "print(data.shape)\n",
    "with open('srsd/easy_set_dummy/true_eq/feynman-i.12.5.pkl','rb') as eq:\n",
    "    equaion=pickle.load(eq)\n",
    "    print(equaion,type(equaion))\n",
    "\n"
   ]
  },
  {
   "cell_type": "code",
   "execution_count": 113,
   "metadata": {},
   "outputs": [
    {
     "name": "stderr",
     "output_type": "stream",
     "text": [
      "  1%|          | 1/100 [00:40<1:06:47, 40.48s/it]"
     ]
    },
    {
     "name": "stdout",
     "output_type": "stream",
     "text": [
      "exp(x3) 35341.04400568461\n"
     ]
    },
    {
     "name": "stderr",
     "output_type": "stream",
     "text": [
      "  2%|▏         | 2/100 [00:45<31:52, 19.51s/it]  "
     ]
    },
    {
     "name": "stdout",
     "output_type": "stream",
     "text": [
      "exp(x3) 35341.04400568461\n"
     ]
    },
    {
     "name": "stderr",
     "output_type": "stream",
     "text": [
      "  3%|▎         | 3/100 [00:54<23:36, 14.61s/it]"
     ]
    },
    {
     "name": "stdout",
     "output_type": "stream",
     "text": [
      "exp(x3) 35341.04400568461\n"
     ]
    },
    {
     "name": "stderr",
     "output_type": "stream",
     "text": [
      "  4%|▍         | 4/100 [01:03<19:51, 12.41s/it]"
     ]
    },
    {
     "name": "stdout",
     "output_type": "stream",
     "text": [
      "exp(x3) 35341.04400568461\n"
     ]
    },
    {
     "name": "stderr",
     "output_type": "stream",
     "text": [
      "  5%|▌         | 5/100 [01:04<13:10,  8.32s/it]"
     ]
    },
    {
     "name": "stdout",
     "output_type": "stream",
     "text": [
      "exp(x3) 35341.04400568461\n"
     ]
    },
    {
     "name": "stderr",
     "output_type": "stream",
     "text": [
      "  6%|▌         | 6/100 [01:18<16:21, 10.45s/it]"
     ]
    },
    {
     "name": "stdout",
     "output_type": "stream",
     "text": [
      "x0*log(x0) 35341.04400224722\n"
     ]
    },
    {
     "name": "stderr",
     "output_type": "stream",
     "text": [
      "  7%|▋         | 7/100 [01:36<19:53, 12.83s/it]"
     ]
    },
    {
     "name": "stdout",
     "output_type": "stream",
     "text": [
      "x0*log(x0) 35341.04400224722\n"
     ]
    },
    {
     "name": "stderr",
     "output_type": "stream",
     "text": [
      "  8%|▊         | 8/100 [01:49<19:33, 12.75s/it]"
     ]
    },
    {
     "name": "stdout",
     "output_type": "stream",
     "text": [
      "x0*log(x0) 35341.04400224722\n"
     ]
    },
    {
     "name": "stderr",
     "output_type": "stream",
     "text": [
      "  9%|▉         | 9/100 [02:06<21:26, 14.14s/it]"
     ]
    },
    {
     "name": "stdout",
     "output_type": "stream",
     "text": [
      "x0*log(x0) 35341.04400224722\n"
     ]
    },
    {
     "name": "stderr",
     "output_type": "stream",
     "text": [
      " 10%|█         | 10/100 [02:26<24:14, 16.16s/it]"
     ]
    },
    {
     "name": "stdout",
     "output_type": "stream",
     "text": [
      "-5*exp(4)*tan(x0) 35341.04394832601\n"
     ]
    },
    {
     "name": "stderr",
     "output_type": "stream",
     "text": [
      " 12%|█▏        | 12/100 [02:27<11:38,  7.94s/it]"
     ]
    },
    {
     "name": "stdout",
     "output_type": "stream",
     "text": [
      "-sin(sqrt(x0)) 35341.04144037465\n",
      "-sin(sqrt(x0)) 35341.04144037465\n"
     ]
    },
    {
     "name": "stderr",
     "output_type": "stream",
     "text": [
      " 13%|█▎        | 13/100 [02:43<14:49, 10.22s/it]"
     ]
    },
    {
     "name": "stdout",
     "output_type": "stream",
     "text": [
      "-2**2*sqrt(x0) 35341.033743056294\n"
     ]
    },
    {
     "name": "stderr",
     "output_type": "stream",
     "text": [
      " 14%|█▍        | 14/100 [03:09<21:50, 15.24s/it]"
     ]
    },
    {
     "name": "stdout",
     "output_type": "stream",
     "text": [
      "-2**2*sqrt(x0) 35341.033743056294\n"
     ]
    },
    {
     "name": "stderr",
     "output_type": "stream",
     "text": [
      " 15%|█▌        | 15/100 [03:25<21:41, 15.31s/it]"
     ]
    },
    {
     "name": "stdout",
     "output_type": "stream",
     "text": [
      "-2**2*sqrt(x0) 35341.033743056294\n"
     ]
    },
    {
     "name": "stderr",
     "output_type": "stream",
     "text": [
      " 16%|█▌        | 16/100 [03:37<20:16, 14.48s/it]"
     ]
    },
    {
     "name": "stdout",
     "output_type": "stream",
     "text": [
      "-2**2*sqrt(x0) 35341.033743056294\n"
     ]
    },
    {
     "name": "stderr",
     "output_type": "stream",
     "text": [
      " 17%|█▋        | 17/100 [03:39<14:45, 10.66s/it]"
     ]
    },
    {
     "name": "stdout",
     "output_type": "stream",
     "text": [
      "-2**2*sqrt(x0) 35341.033743056294\n"
     ]
    },
    {
     "name": "stderr",
     "output_type": "stream",
     "text": [
      " 18%|█▊        | 18/100 [03:53<16:01, 11.73s/it]"
     ]
    },
    {
     "name": "stdout",
     "output_type": "stream",
     "text": [
      "-5*sqrt(x0)*exp(x0) 35341.031177283396\n"
     ]
    },
    {
     "name": "stderr",
     "output_type": "stream",
     "text": [
      " 19%|█▉        | 19/100 [04:05<15:57, 11.82s/it]"
     ]
    },
    {
     "name": "stdout",
     "output_type": "stream",
     "text": [
      "-5*(sqrt(x3) - sin(pi))*exp(x0)/sqrt(x0) 35341.031177283396\n"
     ]
    },
    {
     "name": "stderr",
     "output_type": "stream",
     "text": [
      " 20%|██        | 20/100 [04:20<16:58, 12.73s/it]"
     ]
    },
    {
     "name": "stdout",
     "output_type": "stream",
     "text": [
      "-2*(-2 + 5)*sin(sqrt(x0)) 35341.02861151075\n"
     ]
    },
    {
     "name": "stderr",
     "output_type": "stream",
     "text": [
      " 22%|██▏       | 22/100 [05:03<19:41, 15.15s/it]"
     ]
    },
    {
     "name": "stdout",
     "output_type": "stream",
     "text": [
      "2*sqrt(2*sqrt(x0))*cos(2) 35340.597966745554\n",
      "2*sqrt(2*sqrt(x0))*cos(2) 35340.597966745554\n"
     ]
    },
    {
     "name": "stderr",
     "output_type": "stream",
     "text": [
      " 23%|██▎       | 23/100 [05:16<18:56, 14.76s/it]"
     ]
    },
    {
     "name": "stdout",
     "output_type": "stream",
     "text": [
      "2*sqrt(2*sqrt(x0))*cos(2) 35340.597966745554\n"
     ]
    },
    {
     "name": "stderr",
     "output_type": "stream",
     "text": [
      " 24%|██▍       | 24/100 [05:25<16:29, 13.03s/it]"
     ]
    },
    {
     "name": "stdout",
     "output_type": "stream",
     "text": [
      "2*sqrt(2*sqrt(x0))*cos(2) 35340.597966745554\n"
     ]
    },
    {
     "name": "stderr",
     "output_type": "stream",
     "text": [
      " 25%|██▌       | 25/100 [05:26<11:30,  9.21s/it]"
     ]
    },
    {
     "name": "stdout",
     "output_type": "stream",
     "text": [
      "2*sqrt(2*sqrt(x0))*cos(2) 35340.597966745554\n"
     ]
    },
    {
     "name": "stderr",
     "output_type": "stream",
     "text": [
      " 26%|██▌       | 26/100 [05:26<08:01,  6.51s/it]"
     ]
    },
    {
     "name": "stdout",
     "output_type": "stream",
     "text": [
      "-2*sin(x0**(1/4)) 35340.3406529644\n"
     ]
    },
    {
     "name": "stderr",
     "output_type": "stream",
     "text": [
      " 27%|██▋       | 27/100 [05:29<06:32,  5.38s/it]"
     ]
    },
    {
     "name": "stdout",
     "output_type": "stream",
     "text": [
      "-2*sin(x0**(1/4)) 35340.3406529644\n"
     ]
    },
    {
     "name": "stderr",
     "output_type": "stream",
     "text": [
      " 28%|██▊       | 28/100 [05:29<04:35,  3.83s/it]"
     ]
    },
    {
     "name": "stdout",
     "output_type": "stream",
     "text": [
      "-2*sin(x0**(1/4)) 35340.3406529644\n"
     ]
    },
    {
     "name": "stderr",
     "output_type": "stream",
     "text": [
      " 29%|██▉       | 29/100 [06:27<23:50, 20.14s/it]"
     ]
    },
    {
     "name": "stdout",
     "output_type": "stream",
     "text": [
      "-2*x0**(1/4) 35340.340649257385\n"
     ]
    },
    {
     "name": "stderr",
     "output_type": "stream",
     "text": [
      " 30%|███       | 30/100 [06:53<25:24, 21.77s/it]"
     ]
    },
    {
     "name": "stdout",
     "output_type": "stream",
     "text": [
      "2**2*sqrt(2*sqrt(x0))*cos(2) 35340.29165461131\n"
     ]
    },
    {
     "name": "stderr",
     "output_type": "stream",
     "text": [
      " 31%|███       | 31/100 [07:12<24:05, 20.96s/it]"
     ]
    },
    {
     "name": "stdout",
     "output_type": "stream",
     "text": [
      "2**2*sqrt(2*sqrt(x0))*cos(2) 35340.29165461131\n"
     ]
    },
    {
     "name": "stderr",
     "output_type": "stream",
     "text": [
      " 32%|███▏      | 32/100 [07:18<18:38, 16.45s/it]"
     ]
    },
    {
     "name": "stdout",
     "output_type": "stream",
     "text": [
      "2**2*sqrt(2*sqrt(x0))*cos(2) 35340.29165461131\n"
     ]
    },
    {
     "name": "stderr",
     "output_type": "stream",
     "text": [
      " 33%|███▎      | 33/100 [07:26<15:41, 14.06s/it]"
     ]
    },
    {
     "name": "stdout",
     "output_type": "stream",
     "text": [
      "2**2*sqrt(2*sqrt(x0))*cos(2) 35340.29165461131\n"
     ]
    },
    {
     "name": "stderr",
     "output_type": "stream",
     "text": [
      " 34%|███▍      | 34/100 [07:55<20:20, 18.49s/it]"
     ]
    },
    {
     "name": "stdout",
     "output_type": "stream",
     "text": [
      "2**2*sqrt(2*sqrt(x0))*cos(2) 35340.29165461131\n"
     ]
    },
    {
     "name": "stderr",
     "output_type": "stream",
     "text": [
      " 35%|███▌      | 35/100 [07:55<14:05, 13.01s/it]"
     ]
    },
    {
     "name": "stdout",
     "output_type": "stream",
     "text": [
      "2**2*sqrt(2*sqrt(x0))*cos(2) 35340.29165461131\n"
     ]
    },
    {
     "name": "stderr",
     "output_type": "stream",
     "text": [
      " 36%|███▌      | 36/100 [08:09<14:04, 13.20s/it]"
     ]
    },
    {
     "name": "stdout",
     "output_type": "stream",
     "text": [
      "2**2*sqrt(2*sqrt(x0))*cos(2) 35340.29165461131\n"
     ]
    },
    {
     "name": "stderr",
     "output_type": "stream",
     "text": [
      " 37%|███▋      | 37/100 [08:20<13:07, 12.50s/it]"
     ]
    },
    {
     "name": "stdout",
     "output_type": "stream",
     "text": [
      "2**2*sqrt(2*sqrt(x0))*cos(2) 35340.29165461131\n"
     ]
    },
    {
     "name": "stderr",
     "output_type": "stream",
     "text": [
      " 38%|███▊      | 38/100 [08:54<19:45, 19.12s/it]"
     ]
    },
    {
     "name": "stdout",
     "output_type": "stream",
     "text": [
      "2**2*sqrt(2*sqrt(x0))*cos(2) 35340.29165461131\n"
     ]
    },
    {
     "name": "stderr",
     "output_type": "stream",
     "text": [
      " 39%|███▉      | 39/100 [08:55<13:41, 13.47s/it]"
     ]
    },
    {
     "name": "stdout",
     "output_type": "stream",
     "text": [
      "2**2*sqrt(2*sqrt(x0))*cos(2) 35340.29165461131\n"
     ]
    },
    {
     "name": "stderr",
     "output_type": "stream",
     "text": [
      " 40%|████      | 40/100 [08:55<09:30,  9.51s/it]"
     ]
    },
    {
     "name": "stdout",
     "output_type": "stream",
     "text": [
      "2**2*sqrt(2*sqrt(x0))*cos(2) 35340.29165461131\n"
     ]
    },
    {
     "name": "stderr",
     "output_type": "stream",
     "text": [
      " 41%|████      | 41/100 [09:44<21:09, 21.51s/it]"
     ]
    },
    {
     "name": "stdout",
     "output_type": "stream",
     "text": [
      "2**2*sqrt(2*sqrt(x0))*cos(2) 35340.29165461131\n"
     ]
    },
    {
     "name": "stderr",
     "output_type": "stream",
     "text": [
      " 42%|████▏     | 42/100 [10:22<25:22, 26.25s/it]"
     ]
    },
    {
     "name": "stdout",
     "output_type": "stream",
     "text": [
      "2**2*sqrt(2*sqrt((-2)**(3/x0)))*cos(2) 35340.29165461131\n"
     ]
    },
    {
     "name": "stderr",
     "output_type": "stream",
     "text": [
      " 44%|████▍     | 44/100 [10:24<12:25, 13.32s/it]"
     ]
    },
    {
     "name": "stdout",
     "output_type": "stream",
     "text": [
      "2**2*sqrt(2*sqrt((-2)**(3/x0)))*cos(2) 35340.29165461131\n",
      "2**2*sqrt(2*sqrt((-2)**(3/x0)))*cos(2) 35340.29165461131\n"
     ]
    },
    {
     "name": "stderr",
     "output_type": "stream",
     "text": [
      " 45%|████▌     | 45/100 [10:24<08:35,  9.38s/it]"
     ]
    },
    {
     "name": "stdout",
     "output_type": "stream",
     "text": [
      "2**2*sqrt(2*sqrt((-2)**(3/x0)))*cos(2) 35340.29165461131\n"
     ]
    },
    {
     "name": "stderr",
     "output_type": "stream",
     "text": [
      " 47%|████▋     | 47/100 [10:26<04:29,  5.09s/it]"
     ]
    },
    {
     "name": "stdout",
     "output_type": "stream",
     "text": [
      "2**2*sqrt(2*sqrt((-2)**(3/x0)))*cos(2) 35340.29165461131\n",
      "2*sqrt(2**3*sqrt(x0)*log(3))*cos(2) 35340.291061330325\n"
     ]
    },
    {
     "name": "stderr",
     "output_type": "stream",
     "text": [
      " 48%|████▊     | 48/100 [10:47<08:23,  9.67s/it]"
     ]
    },
    {
     "name": "stdout",
     "output_type": "stream",
     "text": [
      "2*sqrt(2**3*sqrt(x0)*log(3))*cos(2) 35340.291061330325\n"
     ]
    },
    {
     "name": "stderr",
     "output_type": "stream",
     "text": [
      " 49%|████▉     | 49/100 [11:01<09:25, 11.08s/it]"
     ]
    },
    {
     "name": "stdout",
     "output_type": "stream",
     "text": [
      "2*sqrt(2**3*sqrt(x0)*log(3))*cos(2) 35340.291061330325\n"
     ]
    },
    {
     "name": "stderr",
     "output_type": "stream",
     "text": [
      " 51%|█████     | 51/100 [11:07<05:28,  6.71s/it]"
     ]
    },
    {
     "name": "stdout",
     "output_type": "stream",
     "text": [
      "2*sqrt(2**3*sqrt(x0)*log(3))*cos(2) 35340.291061330325\n",
      "2*sqrt(2**3*sqrt(x0)*log(3))*cos(2) 35340.291061330325\n"
     ]
    },
    {
     "name": "stderr",
     "output_type": "stream",
     "text": [
      " 52%|█████▏    | 52/100 [11:49<13:48, 17.26s/it]"
     ]
    },
    {
     "name": "stdout",
     "output_type": "stream",
     "text": [
      "2*sqrt(2**3*sqrt(x0)*log(3))*cos(2) 35340.291061330325\n"
     ]
    },
    {
     "name": "stderr",
     "output_type": "stream",
     "text": [
      " 53%|█████▎    | 53/100 [12:11<14:47, 18.88s/it]"
     ]
    },
    {
     "name": "stdout",
     "output_type": "stream",
     "text": [
      "2*sqrt(2**3*sqrt(x0)*log(3))*cos(2) 35340.291061330325\n"
     ]
    },
    {
     "name": "stderr",
     "output_type": "stream",
     "text": [
      " 54%|█████▍    | 54/100 [12:24<13:01, 17.00s/it]"
     ]
    },
    {
     "name": "stdout",
     "output_type": "stream",
     "text": [
      "2*sqrt(2**3*sqrt(x0)*log(3))*cos(2) 35340.291061330325\n"
     ]
    },
    {
     "name": "stderr",
     "output_type": "stream",
     "text": [
      " 56%|█████▌    | 56/100 [12:25<06:17,  8.59s/it]"
     ]
    },
    {
     "name": "stdout",
     "output_type": "stream",
     "text": [
      "2*sqrt(2**3*sqrt(x0)*log(3))*cos(2) 35340.291061330325\n",
      "2*sqrt(2**3*sqrt(x0)*log(3))*cos(2) 35340.291061330325\n"
     ]
    },
    {
     "name": "stderr",
     "output_type": "stream",
     "text": [
      " 57%|█████▋    | 57/100 [12:39<07:14, 10.11s/it]"
     ]
    },
    {
     "name": "stdout",
     "output_type": "stream",
     "text": [
      "2*sqrt(2**3*sqrt(x0)*log(3))*cos(2) 35340.291061330325\n"
     ]
    },
    {
     "name": "stderr",
     "output_type": "stream",
     "text": [
      " 58%|█████▊    | 58/100 [12:39<05:02,  7.21s/it]"
     ]
    },
    {
     "name": "stdout",
     "output_type": "stream",
     "text": [
      "2*sqrt(2**3*sqrt(x0)*log(3))*cos(2) 35340.291061330325\n"
     ]
    },
    {
     "name": "stderr",
     "output_type": "stream",
     "text": [
      " 59%|█████▉    | 59/100 [12:40<03:29,  5.11s/it]"
     ]
    },
    {
     "name": "stdout",
     "output_type": "stream",
     "text": [
      "2*sqrt(2**3*sqrt(x0)*log(3))*cos(2) 35340.291061330325\n"
     ]
    },
    {
     "name": "stderr",
     "output_type": "stream",
     "text": [
      " 60%|██████    | 60/100 [12:49<04:15,  6.38s/it]"
     ]
    },
    {
     "name": "stdout",
     "output_type": "stream",
     "text": [
      "2*sqrt(2**3*sqrt(x0)*log(3))*cos(2) 35340.291061330325\n"
     ]
    },
    {
     "name": "stderr",
     "output_type": "stream",
     "text": [
      " 61%|██████    | 61/100 [12:49<02:56,  4.52s/it]"
     ]
    },
    {
     "name": "stdout",
     "output_type": "stream",
     "text": [
      "2*sqrt(2**3*sqrt(x0)*log(3))*cos(2) 35340.291061330325\n"
     ]
    },
    {
     "name": "stderr",
     "output_type": "stream",
     "text": [
      " 62%|██████▏   | 62/100 [13:13<06:29, 10.25s/it]"
     ]
    },
    {
     "name": "stdout",
     "output_type": "stream",
     "text": [
      "2*sqrt(2**3*sqrt(x0)*log(3))*cos(2) 35340.291061330325\n"
     ]
    },
    {
     "name": "stderr",
     "output_type": "stream",
     "text": [
      " 63%|██████▎   | 63/100 [13:56<12:28, 20.23s/it]"
     ]
    },
    {
     "name": "stdout",
     "output_type": "stream",
     "text": [
      "2*sqrt(2**3*sqrt(x0)*log(3))*cos(2) 35340.291061330325\n"
     ]
    },
    {
     "name": "stderr",
     "output_type": "stream",
     "text": [
      " 64%|██████▍   | 64/100 [13:57<08:40, 14.45s/it]"
     ]
    },
    {
     "name": "stdout",
     "output_type": "stream",
     "text": [
      "2*sqrt(2**3*sqrt(x0)*log(3))*cos(2) 35340.291061330325\n"
     ]
    },
    {
     "name": "stderr",
     "output_type": "stream",
     "text": [
      " 65%|██████▌   | 65/100 [13:59<06:08, 10.52s/it]"
     ]
    },
    {
     "name": "stdout",
     "output_type": "stream",
     "text": [
      "2*sqrt(2**3*sqrt(x0)*log(3))*cos(2) 35340.291061330325\n"
     ]
    },
    {
     "name": "stderr",
     "output_type": "stream",
     "text": [
      " 67%|██████▋   | 67/100 [14:01<03:06,  5.64s/it]"
     ]
    },
    {
     "name": "stdout",
     "output_type": "stream",
     "text": [
      "2*sqrt(2**3*sqrt(x0)*log(3))*cos(2) 35340.291061330325\n",
      "2*sqrt(2**3*sqrt(x0)*log(3))*cos(2) 35340.291061330325\n"
     ]
    },
    {
     "name": "stderr",
     "output_type": "stream",
     "text": [
      " 68%|██████▊   | 68/100 [14:39<08:08, 15.27s/it]"
     ]
    },
    {
     "name": "stdout",
     "output_type": "stream",
     "text": [
      "2*sqrt(2**3*sqrt(x0)*log(3))*cos(2) 35340.291061330325\n"
     ]
    },
    {
     "name": "stderr",
     "output_type": "stream",
     "text": [
      " 69%|██████▉   | 69/100 [14:39<05:33, 10.75s/it]"
     ]
    },
    {
     "name": "stdout",
     "output_type": "stream",
     "text": [
      "2*sqrt(2**3*sqrt(x0)*log(3))*cos(2) 35340.291061330325\n"
     ]
    },
    {
     "name": "stderr",
     "output_type": "stream",
     "text": [
      " 70%|███████   | 70/100 [14:39<03:50,  7.69s/it]"
     ]
    },
    {
     "name": "stdout",
     "output_type": "stream",
     "text": [
      "2*sqrt(2**3*sqrt(x0)*log(3))*cos(2) 35340.291061330325\n"
     ]
    },
    {
     "name": "stderr",
     "output_type": "stream",
     "text": [
      " 71%|███████   | 71/100 [15:06<06:30, 13.46s/it]"
     ]
    },
    {
     "name": "stdout",
     "output_type": "stream",
     "text": [
      "2*sqrt(2**3*sqrt(x0)*log(3))*cos(2) 35340.291061330325\n"
     ]
    },
    {
     "name": "stderr",
     "output_type": "stream",
     "text": [
      " 72%|███████▏  | 72/100 [15:32<07:58, 17.08s/it]"
     ]
    },
    {
     "name": "stdout",
     "output_type": "stream",
     "text": [
      "2*sqrt(2**3*sqrt(x0)*log(3))*cos(2) 35340.291061330325\n"
     ]
    },
    {
     "name": "stderr",
     "output_type": "stream",
     "text": [
      " 73%|███████▎  | 73/100 [15:39<06:19, 14.07s/it]"
     ]
    },
    {
     "name": "stdout",
     "output_type": "stream",
     "text": [
      "2*sqrt(2**3*sqrt(x0)*log(3))*cos(2) 35340.291061330325\n"
     ]
    },
    {
     "name": "stderr",
     "output_type": "stream",
     "text": [
      " 75%|███████▌  | 75/100 [16:15<06:04, 14.57s/it]"
     ]
    },
    {
     "name": "stdout",
     "output_type": "stream",
     "text": [
      "2*sqrt(2**3*3**3*log(3))*cos(2) 35340.291061330325\n",
      "2*sqrt(2**3*3**3*log(3))*cos(2) 35340.291061330325\n"
     ]
    },
    {
     "name": "stderr",
     "output_type": "stream",
     "text": [
      " 76%|███████▌  | 76/100 [16:16<04:07, 10.31s/it]"
     ]
    },
    {
     "name": "stdout",
     "output_type": "stream",
     "text": [
      "2*sqrt(2**3*3**3*log(3))*cos(2) 35340.291061330325\n"
     ]
    },
    {
     "name": "stderr",
     "output_type": "stream",
     "text": [
      " 77%|███████▋  | 77/100 [16:19<03:11,  8.33s/it]"
     ]
    },
    {
     "name": "stdout",
     "output_type": "stream",
     "text": [
      "2*sqrt(2**3*3**3*log(3))*cos(2) 35340.291061330325\n"
     ]
    },
    {
     "name": "stderr",
     "output_type": "stream",
     "text": [
      " 79%|███████▉  | 79/100 [17:05<04:46, 13.66s/it]"
     ]
    },
    {
     "name": "stdout",
     "output_type": "stream",
     "text": [
      "2*sqrt(2**3*3**3*log(3))*cos(2) 35340.291061330325\n",
      "2*sqrt(2**3*3**3*log(3))*cos(2) 35340.291061330325\n"
     ]
    },
    {
     "name": "stderr",
     "output_type": "stream",
     "text": [
      " 80%|████████  | 80/100 [17:21<04:48, 14.42s/it]"
     ]
    },
    {
     "name": "stdout",
     "output_type": "stream",
     "text": [
      "2*sqrt(2**3*3**3*log(3))*cos(2) 35340.291061330325\n"
     ]
    },
    {
     "name": "stderr",
     "output_type": "stream",
     "text": [
      " 81%|████████  | 81/100 [17:30<04:05, 12.90s/it]"
     ]
    },
    {
     "name": "stdout",
     "output_type": "stream",
     "text": [
      "2*sqrt(2**3*3**3*log(3))*cos(2) 35340.291061330325\n"
     ]
    },
    {
     "name": "stderr",
     "output_type": "stream",
     "text": [
      " 82%|████████▏ | 82/100 [18:11<06:23, 21.29s/it]"
     ]
    },
    {
     "name": "stdout",
     "output_type": "stream",
     "text": [
      "2*sqrt(2**3*3**3*log(3))*cos(2) 35340.291061330325\n"
     ]
    },
    {
     "name": "stderr",
     "output_type": "stream",
     "text": [
      " 83%|████████▎ | 83/100 [18:52<07:41, 27.15s/it]"
     ]
    },
    {
     "name": "stdout",
     "output_type": "stream",
     "text": [
      "2*sqrt(2**3*3**3*log(3))*cos(2) 35340.291061330325\n"
     ]
    },
    {
     "name": "stderr",
     "output_type": "stream",
     "text": [
      " 84%|████████▍ | 84/100 [18:55<05:18, 19.90s/it]"
     ]
    },
    {
     "name": "stdout",
     "output_type": "stream",
     "text": [
      "2*sqrt(2**3*3**3*log(3))*cos(2) 35340.291061330325\n"
     ]
    },
    {
     "name": "stderr",
     "output_type": "stream",
     "text": [
      " 85%|████████▌ | 85/100 [19:15<04:58, 19.92s/it]"
     ]
    },
    {
     "name": "stdout",
     "output_type": "stream",
     "text": [
      "2*sqrt(2**3*3**3*log(3))*cos(2) 35340.291061330325\n"
     ]
    },
    {
     "name": "stderr",
     "output_type": "stream",
     "text": [
      " 86%|████████▌ | 86/100 [19:38<04:52, 20.88s/it]"
     ]
    },
    {
     "name": "stdout",
     "output_type": "stream",
     "text": [
      "2*sqrt(2**3*3**3*log(3))*cos(2) 35340.291061330325\n"
     ]
    },
    {
     "name": "stderr",
     "output_type": "stream",
     "text": [
      " 87%|████████▋ | 87/100 [19:41<03:20, 15.43s/it]"
     ]
    },
    {
     "name": "stdout",
     "output_type": "stream",
     "text": [
      "2*sqrt(2**3*3**3*log(3))*cos(2) 35340.291061330325\n"
     ]
    },
    {
     "name": "stderr",
     "output_type": "stream",
     "text": [
      " 88%|████████▊ | 88/100 [19:51<02:45, 13.77s/it]"
     ]
    },
    {
     "name": "stdout",
     "output_type": "stream",
     "text": [
      "2*sqrt(2**3*3**3*log(3))*cos(2) 35340.291061330325\n"
     ]
    },
    {
     "name": "stderr",
     "output_type": "stream",
     "text": [
      " 89%|████████▉ | 89/100 [20:08<02:42, 14.77s/it]"
     ]
    },
    {
     "name": "stdout",
     "output_type": "stream",
     "text": [
      "2*sqrt(2**3*3**3*log(3))*cos(2) 35340.291061330325\n"
     ]
    },
    {
     "name": "stderr",
     "output_type": "stream",
     "text": [
      " 90%|█████████ | 90/100 [20:11<01:52, 11.23s/it]"
     ]
    },
    {
     "name": "stdout",
     "output_type": "stream",
     "text": [
      "2*sqrt(2**3*3**3*log(3))*cos(2) 35340.291061330325\n"
     ]
    },
    {
     "name": "stderr",
     "output_type": "stream",
     "text": [
      " 92%|█████████▏| 92/100 [20:24<01:07,  8.38s/it]"
     ]
    },
    {
     "name": "stdout",
     "output_type": "stream",
     "text": [
      "2*sqrt(2**3*3**3*log(3))*cos(2) 35340.291061330325\n",
      "2*sqrt(2**3*3**3*log(3))*cos(2) 35340.291061330325\n"
     ]
    },
    {
     "name": "stderr",
     "output_type": "stream",
     "text": [
      " 93%|█████████▎| 93/100 [20:27<00:46,  6.68s/it]"
     ]
    },
    {
     "name": "stdout",
     "output_type": "stream",
     "text": [
      "2*sqrt(2**3*3**3*log(3))*cos(2) 35340.291061330325\n"
     ]
    },
    {
     "name": "stderr",
     "output_type": "stream",
     "text": [
      " 94%|█████████▍| 94/100 [21:21<02:04, 20.80s/it]"
     ]
    },
    {
     "name": "stdout",
     "output_type": "stream",
     "text": [
      "2*sqrt(2**3*3**3*log(3))*cos(2) 35340.291061330325\n"
     ]
    },
    {
     "name": "stderr",
     "output_type": "stream",
     "text": [
      " 95%|█████████▌| 95/100 [22:20<02:41, 32.21s/it]"
     ]
    },
    {
     "name": "stdout",
     "output_type": "stream",
     "text": [
      "-2*(x0*tan(4*5))**(1/4) 35340.29096439666\n"
     ]
    },
    {
     "name": "stderr",
     "output_type": "stream",
     "text": [
      " 96%|█████████▌| 96/100 [22:20<01:30, 22.61s/it]"
     ]
    },
    {
     "name": "stdout",
     "output_type": "stream",
     "text": [
      "-2*(x0*tan(4*5))**(1/4) 35340.29096439666\n"
     ]
    },
    {
     "name": "stderr",
     "output_type": "stream",
     "text": [
      " 97%|█████████▋| 97/100 [23:47<02:06, 42.05s/it]"
     ]
    },
    {
     "name": "stdout",
     "output_type": "stream",
     "text": [
      "-2*(x0*tan(4*5))**(1/4) 35340.29096439666\n"
     ]
    },
    {
     "name": "stderr",
     "output_type": "stream",
     "text": [
      " 98%|█████████▊| 98/100 [24:29<01:23, 41.82s/it]"
     ]
    },
    {
     "name": "stdout",
     "output_type": "stream",
     "text": [
      "-2*(x0*tan(4*5))**(1/4) 35340.29096439666\n"
     ]
    },
    {
     "name": "stderr",
     "output_type": "stream",
     "text": [
      " 99%|█████████▉| 99/100 [24:29<00:29, 29.34s/it]"
     ]
    },
    {
     "name": "stdout",
     "output_type": "stream",
     "text": [
      "-2*(x0*tan(4*5))**(1/4) 35340.29096439666\n"
     ]
    },
    {
     "name": "stderr",
     "output_type": "stream",
     "text": [
      "100%|██████████| 100/100 [24:29<00:00, 14.70s/it]"
     ]
    },
    {
     "name": "stdout",
     "output_type": "stream",
     "text": [
      "-2*(x0*tan(4*5))**(1/4) 35340.29096439666\n"
     ]
    },
    {
     "name": "stderr",
     "output_type": "stream",
     "text": [
      "\n"
     ]
    },
    {
     "data": {
      "text/plain": [
       "ExpNode(kind=np.str_('neg'), num_children=1, children=[ExpNode(kind=np.str_('mul'), num_children=2, children=[array(['2'], dtype='<U2'), ExpNode(kind=np.str_('sqrt'), num_children=1, children=[ExpNode(kind=np.str_('sqrt'), num_children=1, children=[ExpNode(kind=np.str_('mul'), num_children=2, children=[ExpNode(kind=np.str_('tan'), num_children=1, children=[ExpNode(kind=np.str_('mul'), num_children=2, children=[array(['5'], dtype='<U2'), array(['4'], dtype='<U2')], parent=...)], parent=...), array(['x0'], dtype='<U2')], parent=...)], parent=...)], parent=...)], parent=...)], parent=None)"
      ]
     },
     "execution_count": 113,
     "metadata": {},
     "output_type": "execute_result"
    }
   ],
   "source": [
    "testing=SGA(100,100,0.95,0.3,100,np.array(['x0','x1','x2','x3']),data,dummy=True)\n",
    "testing.initial_population()\n",
    "testing.fit()"
   ]
  },
  {
   "cell_type": "code",
   "execution_count": 116,
   "metadata": {},
   "outputs": [
    {
     "name": "stdout",
     "output_type": "stream",
     "text": [
      "sqrt((x0 - x1)**2 + (x2 - x3)**2) <class 'sympy.core.power.Pow'>\n",
      "[[ 2.00293401  0.76615789 -1.16301986 -2.29924894  1.67947364]\n",
      " [-0.1516021  -0.315528    4.28046425 -0.16175568  4.44524347]\n",
      " [ 7.22516759 -0.60686739  5.98877255 -2.48898992 11.54180351]\n",
      " ...\n",
      " [-0.38752721 -3.80981155 -4.00705763 -9.805081    6.73268929]\n",
      " [ 0.15153997  1.39060106 -0.13542526 -5.74073294  5.74062249]\n",
      " [-3.96895032 -3.69390316  2.53040955 -1.05597386  3.59691491]]\n"
     ]
    },
    {
     "name": "stderr",
     "output_type": "stream",
     "text": [
      "  1%|          | 1/100 [00:17<28:42, 17.40s/it]"
     ]
    },
    {
     "name": "stdout",
     "output_type": "stream",
     "text": [
      "exp(pi) 7362.35645742886\n"
     ]
    },
    {
     "name": "stderr",
     "output_type": "stream",
     "text": [
      "  2%|▏         | 2/100 [00:20<14:23,  8.81s/it]"
     ]
    },
    {
     "name": "stdout",
     "output_type": "stream",
     "text": [
      "5 - x2 7323.74971794977\n"
     ]
    },
    {
     "name": "stderr",
     "output_type": "stream",
     "text": [
      "  3%|▎         | 3/100 [00:25<11:31,  7.13s/it]"
     ]
    },
    {
     "name": "stdout",
     "output_type": "stream",
     "text": [
      "5 - x2 7323.74971794977\n"
     ]
    },
    {
     "name": "stderr",
     "output_type": "stream",
     "text": [
      "  4%|▍         | 4/100 [00:27<08:09,  5.10s/it]"
     ]
    },
    {
     "name": "stdout",
     "output_type": "stream",
     "text": [
      "5 - sin(x0) 5841.502314201443\n"
     ]
    },
    {
     "name": "stderr",
     "output_type": "stream",
     "text": [
      "  5%|▌         | 5/100 [00:27<05:30,  3.47s/it]"
     ]
    },
    {
     "name": "stdout",
     "output_type": "stream",
     "text": [
      "5 - sin(x0) 5841.502314201443\n"
     ]
    },
    {
     "name": "stderr",
     "output_type": "stream",
     "text": [
      "  6%|▌         | 6/100 [00:32<05:47,  3.70s/it]"
     ]
    },
    {
     "name": "stdout",
     "output_type": "stream",
     "text": [
      "5 - sin(x0) 5841.502314201443\n"
     ]
    },
    {
     "name": "stderr",
     "output_type": "stream",
     "text": [
      "  7%|▋         | 7/100 [00:32<03:58,  2.56s/it]"
     ]
    },
    {
     "name": "stdout",
     "output_type": "stream",
     "text": [
      "5 - sin(x0) 5841.502314201443\n"
     ]
    },
    {
     "name": "stderr",
     "output_type": "stream",
     "text": [
      "  8%|▊         | 8/100 [00:38<05:43,  3.74s/it]"
     ]
    },
    {
     "name": "stdout",
     "output_type": "stream",
     "text": [
      "5 - sin(x0) 5841.502314201443\n"
     ]
    },
    {
     "name": "stderr",
     "output_type": "stream",
     "text": [
      "  9%|▉         | 9/100 [00:41<05:07,  3.37s/it]"
     ]
    },
    {
     "name": "stdout",
     "output_type": "stream",
     "text": [
      "5 - sin(x0) 5841.502314201443\n"
     ]
    },
    {
     "name": "stderr",
     "output_type": "stream",
     "text": [
      " 11%|█         | 11/100 [00:43<03:08,  2.12s/it]"
     ]
    },
    {
     "name": "stdout",
     "output_type": "stream",
     "text": [
      "5 - sin(x0) 5841.502314201443\n",
      "5 - sin(sin(x0)) 5833.701108580344\n"
     ]
    },
    {
     "name": "stderr",
     "output_type": "stream",
     "text": [
      " 12%|█▏        | 12/100 [00:45<03:05,  2.11s/it]"
     ]
    },
    {
     "name": "stdout",
     "output_type": "stream",
     "text": [
      "5 - sin(sin(x0)) 5833.701108580344\n"
     ]
    },
    {
     "name": "stderr",
     "output_type": "stream",
     "text": [
      " 14%|█▍        | 14/100 [00:48<02:31,  1.76s/it]"
     ]
    },
    {
     "name": "stdout",
     "output_type": "stream",
     "text": [
      "5 - sin(3 + sin(cos(sin(5) - cos(x1)))) 5768.741511821345\n",
      "5 - sin(3 + sin(cos(sin(5) - cos(x1)))) 5768.741511821345\n"
     ]
    },
    {
     "name": "stderr",
     "output_type": "stream",
     "text": [
      " 15%|█▌        | 15/100 [00:50<02:30,  1.77s/it]"
     ]
    },
    {
     "name": "stdout",
     "output_type": "stream",
     "text": [
      "5 - sin(3 + sin(cos(sin(5) - cos(x1)))) 5768.741511821345\n"
     ]
    },
    {
     "name": "stderr",
     "output_type": "stream",
     "text": [
      " 16%|█▌        | 16/100 [00:50<01:52,  1.33s/it]"
     ]
    },
    {
     "name": "stdout",
     "output_type": "stream",
     "text": [
      "5 - sin(3 + sin(cos(sin(5) - cos(x1)))) 5768.741511821345\n"
     ]
    },
    {
     "name": "stderr",
     "output_type": "stream",
     "text": [
      " 17%|█▋        | 17/100 [00:52<01:44,  1.25s/it]"
     ]
    },
    {
     "name": "stdout",
     "output_type": "stream",
     "text": [
      "5 - sin(3 + sin(cos(sin(5) - cos(x1)))) 5768.741511821345\n"
     ]
    },
    {
     "name": "stderr",
     "output_type": "stream",
     "text": [
      " 18%|█▊        | 18/100 [00:52<01:33,  1.14s/it]"
     ]
    },
    {
     "name": "stdout",
     "output_type": "stream",
     "text": [
      "5 - sin(3 + sin(cos(sin(5) - cos(x1)))) 5768.741511821345\n"
     ]
    },
    {
     "name": "stderr",
     "output_type": "stream",
     "text": [
      " 19%|█▉        | 19/100 [00:53<01:11,  1.13it/s]"
     ]
    },
    {
     "name": "stdout",
     "output_type": "stream",
     "text": [
      "5 - sin(3 + sin(cos(sin(5) - cos(x1)))) 5768.741511821345\n"
     ]
    },
    {
     "name": "stderr",
     "output_type": "stream",
     "text": [
      " 20%|██        | 20/100 [00:55<01:33,  1.17s/it]"
     ]
    },
    {
     "name": "stdout",
     "output_type": "stream",
     "text": [
      "5 - sin(3 + sin(cos(sin(5) - cos(x1)))) 5768.741511821345\n"
     ]
    },
    {
     "name": "stderr",
     "output_type": "stream",
     "text": [
      " 21%|██        | 21/100 [00:58<02:31,  1.91s/it]"
     ]
    },
    {
     "name": "stdout",
     "output_type": "stream",
     "text": [
      "5 - sin(-4 + x2 + sin(cos(3))) 5702.128623778568\n"
     ]
    },
    {
     "name": "stderr",
     "output_type": "stream",
     "text": [
      " 22%|██▏       | 22/100 [00:59<01:51,  1.44s/it]"
     ]
    },
    {
     "name": "stdout",
     "output_type": "stream",
     "text": [
      "5 - sin(-4 + x2 + sin(cos(3))) 5702.128623778568\n"
     ]
    },
    {
     "name": "stderr",
     "output_type": "stream",
     "text": [
      " 23%|██▎       | 23/100 [00:59<01:23,  1.08s/it]"
     ]
    },
    {
     "name": "stdout",
     "output_type": "stream",
     "text": [
      "5 - sin(-4 + x2 + sin(cos(3))) 5702.128623778568\n"
     ]
    },
    {
     "name": "stderr",
     "output_type": "stream",
     "text": [
      " 24%|██▍       | 24/100 [01:00<01:22,  1.08s/it]"
     ]
    },
    {
     "name": "stdout",
     "output_type": "stream",
     "text": [
      "5 - sin(-4 + x2 + sin(cos(3))) 5702.128623778568\n"
     ]
    },
    {
     "name": "stderr",
     "output_type": "stream",
     "text": [
      " 25%|██▌       | 25/100 [01:01<01:17,  1.04s/it]"
     ]
    },
    {
     "name": "stdout",
     "output_type": "stream",
     "text": [
      "5 - sin(exp(x2) + sin(cos(3))) 5655.114375685438\n"
     ]
    },
    {
     "name": "stderr",
     "output_type": "stream",
     "text": [
      " 26%|██▌       | 26/100 [01:01<01:01,  1.20it/s]"
     ]
    },
    {
     "name": "stdout",
     "output_type": "stream",
     "text": [
      "5 - sin(exp(x2) + sin(cos(3))) 5655.114375685438\n"
     ]
    },
    {
     "name": "stderr",
     "output_type": "stream",
     "text": [
      " 27%|██▋       | 27/100 [01:03<01:17,  1.06s/it]"
     ]
    },
    {
     "name": "stdout",
     "output_type": "stream",
     "text": [
      "5 - sin(exp(x2) + sin(cos(3))) 5655.114375685438\n"
     ]
    },
    {
     "name": "stderr",
     "output_type": "stream",
     "text": [
      " 28%|██▊       | 28/100 [01:03<01:00,  1.18it/s]"
     ]
    },
    {
     "name": "stdout",
     "output_type": "stream",
     "text": [
      "5 - sin(exp(x2) + sin(cos(3))) 5655.114375685438\n"
     ]
    },
    {
     "name": "stderr",
     "output_type": "stream",
     "text": [
      " 29%|██▉       | 29/100 [01:04<01:02,  1.13it/s]"
     ]
    },
    {
     "name": "stdout",
     "output_type": "stream",
     "text": [
      "3 + exp((3 + exp(x2/5))/5) 5643.930987821019\n"
     ]
    },
    {
     "name": "stderr",
     "output_type": "stream",
     "text": [
      " 30%|███       | 30/100 [01:05<00:52,  1.32it/s]"
     ]
    },
    {
     "name": "stdout",
     "output_type": "stream",
     "text": [
      "3 + exp((3 + exp(x2/5))/5) 5643.930987821019\n"
     ]
    },
    {
     "name": "stderr",
     "output_type": "stream",
     "text": [
      " 31%|███       | 31/100 [01:05<00:44,  1.56it/s]"
     ]
    },
    {
     "name": "stdout",
     "output_type": "stream",
     "text": [
      "3 + exp((3 + exp(x2/5))/5) 5643.930987821019\n"
     ]
    },
    {
     "name": "stderr",
     "output_type": "stream",
     "text": [
      " 32%|███▏      | 32/100 [01:07<01:10,  1.03s/it]"
     ]
    },
    {
     "name": "stdout",
     "output_type": "stream",
     "text": [
      "3 + exp((3 + exp(x2/5))/5) 5643.930987821019\n"
     ]
    },
    {
     "name": "stderr",
     "output_type": "stream",
     "text": [
      " 33%|███▎      | 33/100 [01:08<01:02,  1.08it/s]"
     ]
    },
    {
     "name": "stdout",
     "output_type": "stream",
     "text": [
      "3 + exp((3 + exp(x2/5))/5) 5643.930987821019\n"
     ]
    },
    {
     "name": "stderr",
     "output_type": "stream",
     "text": [
      " 34%|███▍      | 34/100 [01:13<02:23,  2.17s/it]"
     ]
    },
    {
     "name": "stdout",
     "output_type": "stream",
     "text": [
      "3 + exp((3 + exp(x2/5))/5) 5643.930987821019\n"
     ]
    },
    {
     "name": "stderr",
     "output_type": "stream",
     "text": [
      " 35%|███▌      | 35/100 [01:13<01:50,  1.69s/it]"
     ]
    },
    {
     "name": "stdout",
     "output_type": "stream",
     "text": [
      "3 + exp((3 + exp(x2/5))/5) 5643.930987821019\n"
     ]
    },
    {
     "name": "stderr",
     "output_type": "stream",
     "text": [
      " 36%|███▌      | 36/100 [01:14<01:25,  1.34s/it]"
     ]
    },
    {
     "name": "stdout",
     "output_type": "stream",
     "text": [
      "5 - sin(sin(4) + sin(sin(cos(x0/3)))) 5590.411019286581\n"
     ]
    },
    {
     "name": "stderr",
     "output_type": "stream",
     "text": [
      " 37%|███▋      | 37/100 [01:15<01:24,  1.34s/it]"
     ]
    },
    {
     "name": "stdout",
     "output_type": "stream",
     "text": [
      "5 - sin(sin(4) + sin(sin(cos(x0/3)))) 5590.411019286581\n"
     ]
    },
    {
     "name": "stderr",
     "output_type": "stream",
     "text": [
      " 38%|███▊      | 38/100 [01:16<01:20,  1.29s/it]"
     ]
    },
    {
     "name": "stdout",
     "output_type": "stream",
     "text": [
      "5 - sin(sin(4) + sin(sin(cos(x0/3)))) 5590.411019286581\n"
     ]
    },
    {
     "name": "stderr",
     "output_type": "stream",
     "text": [
      " 39%|███▉      | 39/100 [01:17<01:11,  1.18s/it]"
     ]
    },
    {
     "name": "stdout",
     "output_type": "stream",
     "text": [
      "5 - sin(sin(4) + sin(sin(cos(x0/3)))) 5590.411019286581\n"
     ]
    },
    {
     "name": "stderr",
     "output_type": "stream",
     "text": [
      " 40%|████      | 40/100 [01:18<01:12,  1.21s/it]"
     ]
    },
    {
     "name": "stdout",
     "output_type": "stream",
     "text": [
      "5 - sin(sin(4) + sin(sin(cos(x0/3)))) 5590.411019286581\n"
     ]
    },
    {
     "name": "stderr",
     "output_type": "stream",
     "text": [
      " 41%|████      | 41/100 [01:19<01:07,  1.14s/it]"
     ]
    },
    {
     "name": "stdout",
     "output_type": "stream",
     "text": [
      "5 - sin(sin(4) + sin(sin(cos(x0/3)))) 5590.411019286581\n"
     ]
    },
    {
     "name": "stderr",
     "output_type": "stream",
     "text": [
      " 42%|████▏     | 42/100 [01:20<00:51,  1.12it/s]"
     ]
    },
    {
     "name": "stdout",
     "output_type": "stream",
     "text": [
      "5 - sin(sin(4) + sin(sin(cos(x0/3)))) 5590.411019286581\n"
     ]
    },
    {
     "name": "stderr",
     "output_type": "stream",
     "text": [
      " 43%|████▎     | 43/100 [01:21<01:04,  1.14s/it]"
     ]
    },
    {
     "name": "stdout",
     "output_type": "stream",
     "text": [
      "5 - sin(sin(4) + sin(sin(cos(x0/3)))) 5590.411019286581\n"
     ]
    },
    {
     "name": "stderr",
     "output_type": "stream",
     "text": [
      " 44%|████▍     | 44/100 [01:23<01:07,  1.21s/it]"
     ]
    },
    {
     "name": "stdout",
     "output_type": "stream",
     "text": [
      "5 - sin(sin(4) + sin(sin(cos(x0/3)))) 5590.411019286581\n"
     ]
    },
    {
     "name": "stderr",
     "output_type": "stream",
     "text": [
      " 45%|████▌     | 45/100 [01:23<00:53,  1.03it/s]"
     ]
    },
    {
     "name": "stdout",
     "output_type": "stream",
     "text": [
      "5 - sin(sin(3) + 2*sin(sin(cos(x0/3)))) 5539.433311738459\n"
     ]
    },
    {
     "name": "stderr",
     "output_type": "stream",
     "text": [
      " 46%|████▌     | 46/100 [01:24<00:43,  1.25it/s]"
     ]
    },
    {
     "name": "stdout",
     "output_type": "stream",
     "text": [
      "5 - sin(sin(3) + 2*sin(sin(cos(x0/3)))) 5539.433311738459\n"
     ]
    },
    {
     "name": "stderr",
     "output_type": "stream",
     "text": [
      " 47%|████▋     | 47/100 [01:24<00:38,  1.37it/s]"
     ]
    },
    {
     "name": "stdout",
     "output_type": "stream",
     "text": [
      "5 - sin(sin(3) + 2*sin(sin(cos(x0/3)))) 5539.433311738459\n"
     ]
    },
    {
     "name": "stderr",
     "output_type": "stream",
     "text": [
      " 48%|████▊     | 48/100 [01:25<00:32,  1.58it/s]"
     ]
    },
    {
     "name": "stdout",
     "output_type": "stream",
     "text": [
      "5 - sin(sin(3) + 2*sin(sin(cos(x0/3)))) 5539.433311738459\n"
     ]
    },
    {
     "name": "stderr",
     "output_type": "stream",
     "text": [
      " 49%|████▉     | 49/100 [01:25<00:32,  1.55it/s]"
     ]
    },
    {
     "name": "stdout",
     "output_type": "stream",
     "text": [
      "5 - sin(sin(3) + 2*sin(sin(cos(x0/3)))) 5539.433311738459\n"
     ]
    },
    {
     "name": "stderr",
     "output_type": "stream",
     "text": [
      " 50%|█████     | 50/100 [01:26<00:30,  1.66it/s]"
     ]
    },
    {
     "name": "stdout",
     "output_type": "stream",
     "text": [
      "5 - sin(sin(3) + 2*sin(sin(cos(x0/3)))) 5539.433311738459\n"
     ]
    },
    {
     "name": "stderr",
     "output_type": "stream",
     "text": [
      " 51%|█████     | 51/100 [01:26<00:28,  1.70it/s]"
     ]
    },
    {
     "name": "stdout",
     "output_type": "stream",
     "text": [
      "5 - sin(sin(3) + 2*sin(sin(cos(x0/3)))) 5539.433311738459\n"
     ]
    },
    {
     "name": "stderr",
     "output_type": "stream",
     "text": [
      " 52%|█████▏    | 52/100 [01:28<00:42,  1.14it/s]"
     ]
    },
    {
     "name": "stdout",
     "output_type": "stream",
     "text": [
      "5 - sin(sin(sin(sin(cos(x0/3)))) + sin(sin(cos(x0/3)))) 5522.15680803191\n"
     ]
    },
    {
     "name": "stderr",
     "output_type": "stream",
     "text": [
      " 53%|█████▎    | 53/100 [01:28<00:37,  1.25it/s]"
     ]
    },
    {
     "name": "stdout",
     "output_type": "stream",
     "text": [
      "5 - sin(sin(sin(sin(cos(x0/3)))) + sin(sin(cos(x0/3)))) 5522.15680803191\n"
     ]
    },
    {
     "name": "stderr",
     "output_type": "stream",
     "text": [
      " 54%|█████▍    | 54/100 [01:29<00:36,  1.28it/s]"
     ]
    },
    {
     "name": "stdout",
     "output_type": "stream",
     "text": [
      "5 - sin(sin(sin(sin(cos(x0/3)))) + sin(sin(cos(x0/3)))) 5522.15680803191\n"
     ]
    },
    {
     "name": "stderr",
     "output_type": "stream",
     "text": [
      " 55%|█████▌    | 55/100 [01:30<00:33,  1.35it/s]"
     ]
    },
    {
     "name": "stdout",
     "output_type": "stream",
     "text": [
      "5 - sin(sin(sin(cos(x0/3))) + sin(cos(x0/3))) 5519.878369023745\n"
     ]
    },
    {
     "name": "stderr",
     "output_type": "stream",
     "text": [
      " 56%|█████▌    | 56/100 [01:31<00:32,  1.35it/s]"
     ]
    },
    {
     "name": "stdout",
     "output_type": "stream",
     "text": [
      "5 - sin(sin(sin(cos(x0/3))) + cos(x0/3)) 5519.025211257945\n"
     ]
    },
    {
     "name": "stderr",
     "output_type": "stream",
     "text": [
      " 57%|█████▋    | 57/100 [01:31<00:32,  1.34it/s]"
     ]
    },
    {
     "name": "stdout",
     "output_type": "stream",
     "text": [
      "5 - sin(sin(sin(cos(x0/3))) + cos(x0/3)) 5519.025211257945\n"
     ]
    },
    {
     "name": "stderr",
     "output_type": "stream",
     "text": [
      " 58%|█████▊    | 58/100 [01:32<00:30,  1.39it/s]"
     ]
    },
    {
     "name": "stdout",
     "output_type": "stream",
     "text": [
      "5 - sin(sin(cos(x0/3)) + cos(x0/3)) 5518.660867824487\n"
     ]
    },
    {
     "name": "stderr",
     "output_type": "stream",
     "text": [
      " 59%|█████▉    | 59/100 [01:36<01:07,  1.65s/it]"
     ]
    },
    {
     "name": "stdout",
     "output_type": "stream",
     "text": [
      "5 - sin(sin(2*sin(sin(cos(x0/3)))) + sin(sin(cos(x0/3)))) 5509.960900645259\n"
     ]
    },
    {
     "name": "stderr",
     "output_type": "stream",
     "text": [
      " 60%|██████    | 60/100 [01:37<00:58,  1.47s/it]"
     ]
    },
    {
     "name": "stdout",
     "output_type": "stream",
     "text": [
      "5 - log(4) 5509.960900645259\n"
     ]
    },
    {
     "name": "stderr",
     "output_type": "stream",
     "text": [
      " 61%|██████    | 61/100 [01:38<00:54,  1.40s/it]"
     ]
    },
    {
     "name": "stdout",
     "output_type": "stream",
     "text": [
      "5 - log(4) 5509.960900645259\n"
     ]
    },
    {
     "name": "stderr",
     "output_type": "stream",
     "text": [
      " 62%|██████▏   | 62/100 [01:39<00:52,  1.37s/it]"
     ]
    },
    {
     "name": "stdout",
     "output_type": "stream",
     "text": [
      "5 - log(4) 5509.960900645259\n"
     ]
    },
    {
     "name": "stderr",
     "output_type": "stream",
     "text": [
      " 63%|██████▎   | 63/100 [01:41<00:48,  1.32s/it]"
     ]
    },
    {
     "name": "stdout",
     "output_type": "stream",
     "text": [
      "5 - sin(sin(exp(x2) + sin(sin(exp(x2) + sin(exp(x2) + sin(cos(3)))))) + sin(sin(4) + sin(sin(cos(x2/3))))) 5481.908364333671\n"
     ]
    },
    {
     "name": "stderr",
     "output_type": "stream",
     "text": [
      " 64%|██████▍   | 64/100 [01:42<00:44,  1.24s/it]"
     ]
    },
    {
     "name": "stdout",
     "output_type": "stream",
     "text": [
      "5 - sin(sin(exp(x2) + sin(sin(exp(x2) + sin(exp(x2) + sin(cos(3)))))) + sin(sin(4) + sin(sin(cos(x2/3))))) 5481.908364333671\n"
     ]
    },
    {
     "name": "stderr",
     "output_type": "stream",
     "text": [
      " 65%|██████▌   | 65/100 [01:43<00:41,  1.20s/it]"
     ]
    },
    {
     "name": "stdout",
     "output_type": "stream",
     "text": [
      "5 - sin(sin(exp(x2) + sin(sin(exp(x2) + sin(exp(x2) + sin(cos(3)))))) + sin(sin(4) + sin(sin(cos(x2/3))))) 5481.908364333671\n"
     ]
    },
    {
     "name": "stderr",
     "output_type": "stream",
     "text": [
      " 66%|██████▌   | 66/100 [01:45<00:47,  1.39s/it]"
     ]
    },
    {
     "name": "stdout",
     "output_type": "stream",
     "text": [
      "5 - sin(sin(exp(x2) + sin(sin(exp(x2) + sin(exp(x2) + sin(cos(3)))))) + sin(sin(4) + sin(sin(cos(x2/3))))) 5481.908364333671\n"
     ]
    },
    {
     "name": "stderr",
     "output_type": "stream",
     "text": [
      " 67%|██████▋   | 67/100 [01:47<00:52,  1.60s/it]"
     ]
    },
    {
     "name": "stdout",
     "output_type": "stream",
     "text": [
      "5 - sin(sin(exp(x2) + sin(sin(exp(x2) + sin(exp(x2) + sin(cos(3)))))) + sin(sin(4) + sin(sin(cos(x2/3))))) 5481.908364333671\n"
     ]
    },
    {
     "name": "stderr",
     "output_type": "stream",
     "text": [
      " 68%|██████▊   | 68/100 [01:49<00:53,  1.67s/it]"
     ]
    },
    {
     "name": "stdout",
     "output_type": "stream",
     "text": [
      "5 - sin(sin(exp(x2) + sin(sin(exp(x2) + sin(exp(x2) + sin(cos(3)))))) + sin(sin(4) + sin(sin(cos(x2/3))))) 5481.908364333671\n"
     ]
    },
    {
     "name": "stderr",
     "output_type": "stream",
     "text": [
      " 69%|██████▉   | 69/100 [01:49<00:43,  1.42s/it]"
     ]
    },
    {
     "name": "stdout",
     "output_type": "stream",
     "text": [
      "5 - sin(sin(exp(x2) + sin(sin(exp(x2) + sin(exp(x2) + sin(cos(3)))))) + sin(sin(4) + sin(sin(cos(x2/3))))) 5481.908364333671\n"
     ]
    },
    {
     "name": "stderr",
     "output_type": "stream",
     "text": [
      " 70%|███████   | 70/100 [01:50<00:35,  1.18s/it]"
     ]
    },
    {
     "name": "stdout",
     "output_type": "stream",
     "text": [
      "5 - sin(sin(exp(x2) + sin(sin(exp(x2) + sin(exp(x2) + sin(cos(3)))))) + sin(sin(4) + sin(sin(cos(x2/3))))) 5481.908364333671\n"
     ]
    },
    {
     "name": "stderr",
     "output_type": "stream",
     "text": [
      " 71%|███████   | 71/100 [01:51<00:30,  1.05s/it]"
     ]
    },
    {
     "name": "stdout",
     "output_type": "stream",
     "text": [
      "5 - sin(sin(exp(x2) + sin(sin(exp(x2) + sin(exp(x2) + sin(cos(3)))))) + sin(sin(4) + sin(sin(cos(x2/3))))) 5481.908364333671\n"
     ]
    },
    {
     "name": "stderr",
     "output_type": "stream",
     "text": [
      " 72%|███████▏  | 72/100 [01:55<00:53,  1.92s/it]"
     ]
    },
    {
     "name": "stdout",
     "output_type": "stream",
     "text": [
      "5 - sin(sin(exp(x2) + sin(sin(exp(x2) + sin(exp(x2) + sin(cos(3)))))) + sin(sin(4) + sin(sin(cos(x2/3))))) 5481.908364333671\n"
     ]
    },
    {
     "name": "stderr",
     "output_type": "stream",
     "text": [
      " 73%|███████▎  | 73/100 [01:57<00:54,  2.02s/it]"
     ]
    },
    {
     "name": "stdout",
     "output_type": "stream",
     "text": [
      "5 - sin(sin(exp(x2) + sin(sin(exp(x2) + sin(exp(x2) + sin(cos(3)))))) + sin(sin(4) + sin(sin(cos(x2/3))))) 5481.908364333671\n"
     ]
    },
    {
     "name": "stderr",
     "output_type": "stream",
     "text": [
      " 74%|███████▍  | 74/100 [01:58<00:42,  1.62s/it]"
     ]
    },
    {
     "name": "stdout",
     "output_type": "stream",
     "text": [
      "5 - sin(sin(exp(x2) + sin(sin(exp(x2) + sin(exp(x2) + sin(cos(3)))))) + sin(sin(4) + sin(sin(cos(x2/3))))) 5481.908364333671\n"
     ]
    },
    {
     "name": "stderr",
     "output_type": "stream",
     "text": [
      " 75%|███████▌  | 75/100 [02:00<00:44,  1.77s/it]"
     ]
    },
    {
     "name": "stdout",
     "output_type": "stream",
     "text": [
      "5 - sin(sin(exp(x2) + sin(sin(exp(x2) + sin(exp(x2) + sin(cos(3)))))) + sin(sin(4) + sin(sin(cos(x2/3))))) 5481.908364333671\n"
     ]
    },
    {
     "name": "stderr",
     "output_type": "stream",
     "text": [
      " 76%|███████▌  | 76/100 [02:01<00:40,  1.71s/it]"
     ]
    },
    {
     "name": "stdout",
     "output_type": "stream",
     "text": [
      "5 - sin(sin(exp(x2) + sin(sin(exp(x2) + sin(exp(x2) + sin(cos(3)))))) + sin(sin(4) + sin(sin(cos(x2/3))))) 5481.908364333671\n"
     ]
    },
    {
     "name": "stderr",
     "output_type": "stream",
     "text": [
      " 77%|███████▋  | 77/100 [02:02<00:33,  1.45s/it]"
     ]
    },
    {
     "name": "stdout",
     "output_type": "stream",
     "text": [
      "5 - sin(sin(exp(x2) + sin(sin(exp(x2) + sin(exp(x2) + sin(cos(3)))))) + sin(sin(4) + sin(sin(cos(x2/3))))) 5481.908364333671\n"
     ]
    },
    {
     "name": "stderr",
     "output_type": "stream",
     "text": [
      " 78%|███████▊  | 78/100 [02:03<00:26,  1.22s/it]"
     ]
    },
    {
     "name": "stdout",
     "output_type": "stream",
     "text": [
      "5 - sin(sin(sin(sin(sin(cos(x0/3))) + cos(x0/3)))) - sin(sin(cos((5 - sin(sin(sin(5)) + sin(sin(cos(x0/3)))))/3))) 5472.071969708786\n"
     ]
    },
    {
     "name": "stderr",
     "output_type": "stream",
     "text": [
      " 79%|███████▉  | 79/100 [02:04<00:27,  1.31s/it]"
     ]
    },
    {
     "name": "stdout",
     "output_type": "stream",
     "text": [
      "5 - sin(sin(sin(5 - sin(sin(5 - sin(exp(3) + exp(x0/3))))) + cos(x0/3)) + cos(x0/3)) - sin(sin(4) + sin(sin(sin(3) + sin(sin(cos(x0/3))))) + sin(sin(cos(x0/3)))) 5435.170103885528\n"
     ]
    },
    {
     "name": "stderr",
     "output_type": "stream",
     "text": [
      " 80%|████████  | 80/100 [02:05<00:24,  1.21s/it]"
     ]
    },
    {
     "name": "stdout",
     "output_type": "stream",
     "text": [
      "5 - sin(sin(sin(sin(cos(3*(5 - sin(sin(sin(cos(x0/3))) + sin(cos(x0/3))))/x0)))) + sin(sin(cos(x0/3)))) - sin(sin(sin(cos(x0/3)))) 5417.040888131725\n"
     ]
    },
    {
     "name": "stderr",
     "output_type": "stream",
     "text": [
      " 81%|████████  | 81/100 [02:06<00:20,  1.10s/it]"
     ]
    },
    {
     "name": "stdout",
     "output_type": "stream",
     "text": [
      "5 - sin(sin(sin(sin(cos(3*(5 - sin(sin(sin(4) + sin(sin(sin(3) + sin(sin(cos(x0/3))))) + sin(sin(cos(x0/3)))) + sin(cos(x0/3))))/x0)))) + sin(sin(cos(x0/3)))) - sin(sin(sin(cos(x0/3)))) 5416.76837790235\n"
     ]
    },
    {
     "name": "stderr",
     "output_type": "stream",
     "text": [
      " 82%|████████▏ | 82/100 [02:07<00:19,  1.11s/it]"
     ]
    },
    {
     "name": "stdout",
     "output_type": "stream",
     "text": [
      "5 - sin(sin(sin(sin(cos(3*(5 - sin(sin(sin(4) + sin(sin(sin(3) + sin(sin(cos(x0/3))))) + sin(sin(cos(x0/3)))) + sin(cos(x0/3))))/x0)))) + sin(sin(cos(x0/3)))) - sin(sin(sin(cos(x0/3)))) 5416.76837790235\n"
     ]
    },
    {
     "name": "stderr",
     "output_type": "stream",
     "text": [
      " 83%|████████▎ | 83/100 [02:08<00:18,  1.07s/it]"
     ]
    },
    {
     "name": "stdout",
     "output_type": "stream",
     "text": [
      "5 - sin(sin(sin(sin(cos(3*(5 - sin(sin(sin(4) + sin(sin(sin(3) + sin(sin(cos(x0/3))))) + sin(sin(cos(x0/3)))) + sin(cos(x0/3))))/x0)))) + sin(sin(cos(x0/3)))) - sin(sin(sin(cos(x0/3)))) 5416.76837790235\n"
     ]
    },
    {
     "name": "stderr",
     "output_type": "stream",
     "text": [
      " 84%|████████▍ | 84/100 [02:10<00:18,  1.17s/it]"
     ]
    },
    {
     "name": "stdout",
     "output_type": "stream",
     "text": [
      "5 - sin(sin(sin(sin(cos(3*(5 - sin(sin(sin(4) + sin(sin(sin(3) + sin(sin(cos(x0/3))))) + sin(sin(cos(x0/3)))) + sin(cos(x0/3))))/x0)))) + sin(sin(cos(x0/3)))) - sin(sin(sin(cos(x0/3)))) 5416.76837790235\n"
     ]
    },
    {
     "name": "stderr",
     "output_type": "stream",
     "text": [
      " 85%|████████▌ | 85/100 [02:11<00:17,  1.20s/it]"
     ]
    },
    {
     "name": "stdout",
     "output_type": "stream",
     "text": [
      "5 - sin(sin(sin(5 - sin(sin(5 - sin(exp(3) + exp(x0/3))))) + cos(x0/3)) + cos(x0/3)) - sin(sin(4) + sin(sin(sin(3) + sin(sin(cos(x0/sin(sin(cos(3*(5 - sin(sin(sin(sin(3) + cos(x0/3))) + sin(sin(cos(x0/3)))))/x0)))))))) + sin(sin(cos(x0/3)))) 5393.78023327741\n"
     ]
    },
    {
     "name": "stderr",
     "output_type": "stream",
     "text": [
      " 86%|████████▌ | 86/100 [02:13<00:19,  1.38s/it]"
     ]
    },
    {
     "name": "stdout",
     "output_type": "stream",
     "text": [
      "5 - sin(sin(sin(sin(exp(-5))) + cos(x0/3)) + cos(x0/3)) - sin(sin(4) + sin(sin(sin(3) + sin(sin(cos(3))))) + sin(sin(cos(x0/3)))) 5349.479987886545\n"
     ]
    },
    {
     "name": "stderr",
     "output_type": "stream",
     "text": [
      " 87%|████████▋ | 87/100 [02:15<00:21,  1.63s/it]"
     ]
    },
    {
     "name": "stdout",
     "output_type": "stream",
     "text": [
      "5 - sin(sin(sin(sin(exp(-5))) + cos(x0/3)) + cos(x0/3)) - sin(sin(4) + sin(sin(sin(3) + sin(sin(cos(3))))) + sin(sin(cos(x0/3)))) 5349.479987886545\n"
     ]
    },
    {
     "name": "stderr",
     "output_type": "stream",
     "text": [
      " 88%|████████▊ | 88/100 [02:16<00:18,  1.52s/it]"
     ]
    },
    {
     "name": "stdout",
     "output_type": "stream",
     "text": [
      "5 - sin(sin(4) + sin(sin(5 - sin(sin(5 - sin(exp(3) + exp(x0/3))))) + cos(x0/3))) - sin(sin(sin(5 - sin(sin(5 - sin(exp(3) + exp(x0/3))))) + cos(x0/3)) + cos(x0/3)) 5336.320226178328\n"
     ]
    },
    {
     "name": "stderr",
     "output_type": "stream",
     "text": [
      " 89%|████████▉ | 89/100 [02:17<00:15,  1.41s/it]"
     ]
    },
    {
     "name": "stdout",
     "output_type": "stream",
     "text": [
      "5 - sin(sin(4) + sin(sin(5 - sin(sin(5 - sin(exp(3) + exp(x0/3))))) + cos(x0/3))) - sin(sin(sin(5 - sin(sin(5 - sin(exp(3) + exp(x0/3))))) + cos(x0/3)) + cos(x0/3)) 5336.320226178328\n"
     ]
    },
    {
     "name": "stderr",
     "output_type": "stream",
     "text": [
      " 90%|█████████ | 90/100 [02:19<00:13,  1.39s/it]"
     ]
    },
    {
     "name": "stdout",
     "output_type": "stream",
     "text": [
      "5 - sin(sin(sin(5 - sin(sin(cos(x0/cos(x0/3))))) + cos(x0/3)) + cos(x0/3)) - sin(sqrt(5)*exp(-4) + sin(4) + sin(sin(cos(x0/3)))) 5324.18099516391\n"
     ]
    },
    {
     "name": "stderr",
     "output_type": "stream",
     "text": [
      " 91%|█████████ | 91/100 [02:20<00:13,  1.49s/it]"
     ]
    },
    {
     "name": "stdout",
     "output_type": "stream",
     "text": [
      "5 - sin(sin(sin(5 - sin(sin(5 - sin(exp(3) + exp(x0/3))))) + cos(x0/3)) + cos(x0/3)) - sin(sin(4) + sin(sin(sin(3) - cos(5))) + sin(sin(sin(sin(sin(cos(x0/3))) + cos(x0/3))))) 5317.143098611465\n"
     ]
    },
    {
     "name": "stderr",
     "output_type": "stream",
     "text": [
      " 92%|█████████▏| 92/100 [02:22<00:11,  1.45s/it]"
     ]
    },
    {
     "name": "stdout",
     "output_type": "stream",
     "text": [
      "5 - sin(sin(sin(5 - sin(sin(5 - sin(exp(3) + exp(x0/3))))) + cos(x0/3)) + cos(x0/3)) - sin(sin(4) + sin(sin(sin(3) - cos(5))) + sin(sin(sin(sin(sin(cos(x0/3))) + cos(x0/3))))) 5317.143098611465\n"
     ]
    },
    {
     "name": "stderr",
     "output_type": "stream",
     "text": [
      " 93%|█████████▎| 93/100 [02:23<00:09,  1.40s/it]"
     ]
    },
    {
     "name": "stdout",
     "output_type": "stream",
     "text": [
      "5 - sin(sin(sin(5 - sin(sin(5 - sin(exp(3) + exp(x0/3))))) + cos(x0/3)) + cos(x0/3)) - sin(sin(4) + sin(sin(sin(3) - cos(5))) + sin(sin(sin(sin(sin(cos(x0/3))) + cos(x0/3))))) 5317.143098611465\n"
     ]
    },
    {
     "name": "stderr",
     "output_type": "stream",
     "text": [
      " 94%|█████████▍| 94/100 [02:25<00:08,  1.47s/it]"
     ]
    },
    {
     "name": "stdout",
     "output_type": "stream",
     "text": [
      "5 - sin(sin(sin(5 - sin(sin(5 - sin(exp(3) + exp(x0/3))))) + cos(x0/3)) + cos(x0/3)) - sin(sin(4) + sin(sin(sin(3) - cos(5))) + sin(sin(sin(sin(sin(cos(x0/3))) + cos(x0/3))))) 5317.143098611465\n"
     ]
    },
    {
     "name": "stderr",
     "output_type": "stream",
     "text": [
      " 95%|█████████▌| 95/100 [02:27<00:08,  1.78s/it]"
     ]
    },
    {
     "name": "stdout",
     "output_type": "stream",
     "text": [
      "5 - sin(sin(sin(5 + sin(sin(-sin(3) + sin(exp(3) + exp(x0/3)) + cos(5)))) + cos(x0/3)) + cos(x0/3)) - sin(sin(4) + sin(sin(sin(3) - cos(5))) + sin(sin(sin(sin(sin(cos(x0/3))) + cos(x0/3))))) 5315.252072902107\n"
     ]
    },
    {
     "name": "stderr",
     "output_type": "stream",
     "text": [
      " 96%|█████████▌| 96/100 [02:30<00:07,  1.94s/it]"
     ]
    },
    {
     "name": "stdout",
     "output_type": "stream",
     "text": [
      "5 - sin(sin(sin(5 - sin(exp(3) + exp(x0/3))) + cos(x0/3)) + sin(sin(cos(x0/3)))) - sin(sin(sin(sin(cos(3)))) + sin(sin(cos(x0/3)))) - sin(sin(4) + sin(sin(-2 + 5 + sin(sin(cos(x0/3))))) + sin(sin(cos(x0/3)))) - sin(cos(x0/3)) 5200.194624801401\n"
     ]
    },
    {
     "name": "stderr",
     "output_type": "stream",
     "text": [
      " 97%|█████████▋| 97/100 [02:31<00:05,  1.86s/it]"
     ]
    },
    {
     "name": "stdout",
     "output_type": "stream",
     "text": [
      "5 - sin(sin(sin(5 - sin(exp(3) + exp(x0/3))) + cos(x0/3)) + sin(sin(cos(x0/3)))) - sin(sin(sin(sin(cos(3)))) + sin(sin(cos(x0/3)))) - sin(sin(4) + sin(sin(-2 + 5 + sin(sin(cos(x0/3))))) + sin(sin(cos(x0/3)))) - sin(cos(x0/3)) 5200.194624801401\n"
     ]
    },
    {
     "name": "stderr",
     "output_type": "stream",
     "text": [
      " 98%|█████████▊| 98/100 [02:33<00:03,  1.86s/it]"
     ]
    },
    {
     "name": "stdout",
     "output_type": "stream",
     "text": [
      "5 - sin(sin(sin(5 - sin(exp(3) + exp(x0/3))) + cos(x0/3)) + sin(sin(cos(x0/3)))) - sin(sin(sin(sin(cos(3)))) + sin(sin(cos(x0/3)))) - sin(sin(4) + sin(sin(-2 + 5 + sin(sin(cos(x0/3))))) + sin(sin(cos(x0/3)))) - sin(cos(x0/3)) 5200.194624801401\n"
     ]
    },
    {
     "name": "stderr",
     "output_type": "stream",
     "text": [
      " 99%|█████████▉| 99/100 [02:35<00:01,  1.74s/it]"
     ]
    },
    {
     "name": "stdout",
     "output_type": "stream",
     "text": [
      "5 - sin(sin(sin(5 - sin(exp(3) + exp(x0/3))) + cos(x0/3)) + sin(sin(cos(x0/3)))) - sin(sin(sin(sin(cos(3)))) + sin(sin(cos(x0/3)))) - sin(sin(4) + sin(sin(-2 + 5 + sin(sin(cos(x0/3))))) + sin(sin(cos(x0/3)))) - sin(cos(x0/3)) 5200.194624801401\n"
     ]
    },
    {
     "name": "stderr",
     "output_type": "stream",
     "text": [
      "100%|██████████| 100/100 [02:36<00:00,  1.57s/it]"
     ]
    },
    {
     "name": "stdout",
     "output_type": "stream",
     "text": [
      "5 - sin(sin(sin(5 - sin(exp(3) + exp(x0/3))) + cos(x0/3)) + sin(sin(cos(x0/3)))) - sin(sin(sin(sin(cos(3)))) + sin(sin(cos(x0/3)))) - sin(sin(4) + sin(sin(-2 + 5 + sin(sin(cos(x0/3))))) + sin(sin(cos(x0/3)))) - sin(cos(x0/3)) 5200.194624801401\n"
     ]
    },
    {
     "name": "stderr",
     "output_type": "stream",
     "text": [
      "\n"
     ]
    },
    {
     "data": {
      "text/latex": [
       "$\\displaystyle 5 - \\sin{\\left(\\sin{\\left(\\sin{\\left(5 - \\sin{\\left(e^{3} + e^{\\frac{x_{0}}{3}} \\right)} \\right)} + \\cos{\\left(\\frac{x_{0}}{3} \\right)} \\right)} + \\sin{\\left(\\sin{\\left(\\cos{\\left(\\frac{x_{0}}{3} \\right)} \\right)} \\right)} \\right)} - \\sin{\\left(\\sin{\\left(\\sin{\\left(\\sin{\\left(\\cos{\\left(3 \\right)} \\right)} \\right)} \\right)} + \\sin{\\left(\\sin{\\left(\\cos{\\left(\\frac{x_{0}}{3} \\right)} \\right)} \\right)} \\right)} - \\sin{\\left(\\sin{\\left(4 \\right)} + \\sin{\\left(\\sin{\\left(- 2 + 5 + \\sin{\\left(\\sin{\\left(\\cos{\\left(\\frac{x_{0}}{3} \\right)} \\right)} \\right)} \\right)} \\right)} + \\sin{\\left(\\sin{\\left(\\cos{\\left(\\frac{x_{0}}{3} \\right)} \\right)} \\right)} \\right)} - \\sin{\\left(\\cos{\\left(\\frac{x_{0}}{3} \\right)} \\right)}$"
      ],
      "text/plain": [
       "5 - sin(sin(sin(5 - sin(exp(3) + exp(x0/3))) + cos(x0/3)) + sin(sin(cos(x0/3)))) - sin(sin(sin(sin(cos(3)))) + sin(sin(cos(x0/3)))) - sin(sin(4) + sin(sin(-2 + 5 + sin(sin(cos(x0/3))))) + sin(sin(cos(x0/3)))) - sin(cos(x0/3))"
      ]
     },
     "execution_count": 116,
     "metadata": {},
     "output_type": "execute_result"
    }
   ],
   "source": [
    "with open('srsd/medium_set/true_eq/feynman-i.8.14.pkl','rb') as eq:\n",
    "    equaion=pickle.load(eq)\n",
    "    print(equaion,type(equaion))\n",
    "\n",
    "arr=np.loadtxt('srsd/medium_set/test/feynman-i.8.14.txt')\n",
    "print(arr)\n",
    "testing=SGA(100,100,0.95,0.3,100,np.array(['x0','x1','x2','x3']),arr,dummy=False)\n",
    "testing.initial_population()\n",
    "testing.fit()\n",
    "\n",
    "\n",
    "# print(rng.integers(1,2))\n",
    "# w=deque()\n",
    "# w.append('a')\n",
    "# w.append(17)\n",
    "# print(w)"
   ]
  },
  {
   "cell_type": "code",
   "execution_count": null,
   "metadata": {},
   "outputs": [
    {
     "name": "stderr",
     "output_type": "stream",
     "text": [
      "  1%|          | 1/100 [00:23<38:55, 23.60s/it]"
     ]
    },
    {
     "name": "stdout",
     "output_type": "stream",
     "text": [
      "-sin(x1) 7271.026189509979\n"
     ]
    },
    {
     "name": "stderr",
     "output_type": "stream",
     "text": [
      "  2%|▏         | 2/100 [00:37<29:02, 17.78s/it]"
     ]
    },
    {
     "name": "stdout",
     "output_type": "stream",
     "text": [
      "-sin(x1) 7271.026189509979\n"
     ]
    },
    {
     "name": "stderr",
     "output_type": "stream",
     "text": [
      "  3%|▎         | 3/100 [00:40<18:09, 11.23s/it]"
     ]
    },
    {
     "name": "stdout",
     "output_type": "stream",
     "text": [
      "-sin(x1) 7271.026189509979\n"
     ]
    },
    {
     "name": "stderr",
     "output_type": "stream",
     "text": [
      "  4%|▍         | 4/100 [00:42<11:54,  7.45s/it]"
     ]
    },
    {
     "name": "stdout",
     "output_type": "stream",
     "text": [
      "4 - cos(x3) + tan(4) 5727.540745891321\n"
     ]
    },
    {
     "name": "stderr",
     "output_type": "stream",
     "text": [
      "  5%|▌         | 5/100 [00:42<07:40,  4.85s/it]"
     ]
    },
    {
     "name": "stdout",
     "output_type": "stream",
     "text": [
      "4 - cos(x3) + tan(4) 5727.540745891321\n"
     ]
    },
    {
     "name": "stderr",
     "output_type": "stream",
     "text": [
      "  6%|▌         | 6/100 [00:42<05:09,  3.29s/it]"
     ]
    },
    {
     "name": "stdout",
     "output_type": "stream",
     "text": [
      "4 - cos(x3) + tan(4) 5727.540745891321\n"
     ]
    },
    {
     "name": "stderr",
     "output_type": "stream",
     "text": [
      "  7%|▋         | 7/100 [00:43<03:56,  2.54s/it]"
     ]
    },
    {
     "name": "stdout",
     "output_type": "stream",
     "text": [
      "4 - cos(x3) + tan(4) 5727.540745891321\n"
     ]
    },
    {
     "name": "stderr",
     "output_type": "stream",
     "text": [
      "  8%|▊         | 8/100 [00:44<03:07,  2.04s/it]"
     ]
    },
    {
     "name": "stdout",
     "output_type": "stream",
     "text": [
      "4 - cos(x3) + tan(4) 5727.540745891321\n"
     ]
    },
    {
     "name": "stderr",
     "output_type": "stream",
     "text": [
      " 10%|█         | 10/100 [00:45<01:35,  1.06s/it]"
     ]
    },
    {
     "name": "stdout",
     "output_type": "stream",
     "text": [
      "4 - cos(x3) + tan(4) 5727.540745891321\n",
      "4 - cos(x3) + tan(4) 5727.540745891321\n"
     ]
    },
    {
     "name": "stderr",
     "output_type": "stream",
     "text": [
      " 11%|█         | 11/100 [00:46<01:41,  1.14s/it]"
     ]
    },
    {
     "name": "stdout",
     "output_type": "stream",
     "text": [
      "4 - cos(x3) + tan(4) 5727.540745891321\n"
     ]
    },
    {
     "name": "stderr",
     "output_type": "stream",
     "text": [
      " 13%|█▎        | 13/100 [00:48<01:25,  1.01it/s]"
     ]
    },
    {
     "name": "stdout",
     "output_type": "stream",
     "text": [
      "4 - cos(x3) + tan(4) 5727.540745891321\n",
      "4 - cos(x3) + tan(4) 5727.540745891321\n"
     ]
    },
    {
     "name": "stderr",
     "output_type": "stream",
     "text": [
      " 14%|█▍        | 14/100 [00:52<02:36,  1.82s/it]"
     ]
    },
    {
     "name": "stdout",
     "output_type": "stream",
     "text": [
      "4 - cos(x3) + tan(4) 5727.540745891321\n"
     ]
    },
    {
     "name": "stderr",
     "output_type": "stream",
     "text": [
      " 15%|█▌        | 15/100 [00:53<02:31,  1.78s/it]"
     ]
    },
    {
     "name": "stdout",
     "output_type": "stream",
     "text": [
      "4 - cos(x3) + tan(4) 5727.540745891321\n"
     ]
    },
    {
     "name": "stderr",
     "output_type": "stream",
     "text": [
      " 16%|█▌        | 16/100 [00:56<02:38,  1.88s/it]"
     ]
    },
    {
     "name": "stdout",
     "output_type": "stream",
     "text": [
      "2 + 3 + cos(3 - x2) 5711.89156236707\n"
     ]
    },
    {
     "name": "stderr",
     "output_type": "stream",
     "text": [
      " 17%|█▋        | 17/100 [00:58<02:38,  1.91s/it]"
     ]
    },
    {
     "name": "stdout",
     "output_type": "stream",
     "text": [
      "2 + 3 + cos(3 - x2) 5711.89156236707\n"
     ]
    },
    {
     "name": "stderr",
     "output_type": "stream",
     "text": [
      " 18%|█▊        | 18/100 [00:58<01:58,  1.44s/it]"
     ]
    },
    {
     "name": "stdout",
     "output_type": "stream",
     "text": [
      "2 + 3 + cos(3 - x2) 5711.89156236707\n"
     ]
    },
    {
     "name": "stderr",
     "output_type": "stream",
     "text": [
      " 19%|█▉        | 19/100 [00:58<01:28,  1.10s/it]"
     ]
    },
    {
     "name": "stdout",
     "output_type": "stream",
     "text": [
      "2 + 3 + cos(3 - x2) 5711.89156236707\n"
     ]
    },
    {
     "name": "stderr",
     "output_type": "stream",
     "text": [
      " 20%|██        | 20/100 [01:01<02:03,  1.55s/it]"
     ]
    },
    {
     "name": "stdout",
     "output_type": "stream",
     "text": [
      "2 + 3 + cos(3 - x2) 5711.89156236707\n"
     ]
    },
    {
     "name": "stderr",
     "output_type": "stream",
     "text": [
      " 21%|██        | 21/100 [01:01<01:34,  1.19s/it]"
     ]
    },
    {
     "name": "stdout",
     "output_type": "stream",
     "text": [
      "2 + 3 + cos(3 - x2) 5711.89156236707\n"
     ]
    },
    {
     "name": "stderr",
     "output_type": "stream",
     "text": [
      " 22%|██▏       | 22/100 [01:01<01:11,  1.08it/s]"
     ]
    },
    {
     "name": "stdout",
     "output_type": "stream",
     "text": [
      "2 + 3 + cos(3 - x2) 5711.89156236707\n"
     ]
    },
    {
     "name": "stderr",
     "output_type": "stream",
     "text": [
      " 23%|██▎       | 23/100 [01:02<01:01,  1.24it/s]"
     ]
    },
    {
     "name": "stdout",
     "output_type": "stream",
     "text": [
      "2 + 3 + cos(3 - x2) 5711.89156236707\n"
     ]
    },
    {
     "name": "stderr",
     "output_type": "stream",
     "text": [
      " 24%|██▍       | 24/100 [01:03<00:57,  1.31it/s]"
     ]
    },
    {
     "name": "stdout",
     "output_type": "stream",
     "text": [
      "2 + 3 + cos(3 - x2) 5711.89156236707\n"
     ]
    },
    {
     "name": "stderr",
     "output_type": "stream",
     "text": [
      " 25%|██▌       | 25/100 [01:03<00:56,  1.33it/s]"
     ]
    },
    {
     "name": "stdout",
     "output_type": "stream",
     "text": [
      "2**(1/4) + 3 + cos(sqrt(2) + cos(x2)) + cos(cos(x2)) 5686.802781857445\n"
     ]
    },
    {
     "name": "stderr",
     "output_type": "stream",
     "text": [
      " 26%|██▌       | 26/100 [01:04<01:01,  1.20it/s]"
     ]
    },
    {
     "name": "stdout",
     "output_type": "stream",
     "text": [
      "2**(1/4) + 3 + cos(sqrt(2) + cos(x2)) + cos(cos(x2)) 5686.802781857445\n"
     ]
    },
    {
     "name": "stderr",
     "output_type": "stream",
     "text": [
      " 27%|██▋       | 27/100 [01:05<00:56,  1.30it/s]"
     ]
    },
    {
     "name": "stdout",
     "output_type": "stream",
     "text": [
      "2**(1/4) + 3 + cos(sqrt(2) + cos(x2)) + cos(cos(x2)) 5686.802781857445\n"
     ]
    },
    {
     "name": "stderr",
     "output_type": "stream",
     "text": [
      " 28%|██▊       | 28/100 [01:05<00:46,  1.55it/s]"
     ]
    },
    {
     "name": "stdout",
     "output_type": "stream",
     "text": [
      "2 + 3 + sin(2 + sin(sqrt(3))**x0/x0) 5648.574564585675\n"
     ]
    },
    {
     "name": "stderr",
     "output_type": "stream",
     "text": [
      " 29%|██▉       | 29/100 [01:06<00:38,  1.86it/s]"
     ]
    },
    {
     "name": "stdout",
     "output_type": "stream",
     "text": [
      "2 + 3 + sin(2 + sin(sqrt(3))**x0/x0) 5648.574564585675\n"
     ]
    },
    {
     "name": "stderr",
     "output_type": "stream",
     "text": [
      " 30%|███       | 30/100 [01:06<00:41,  1.67it/s]"
     ]
    },
    {
     "name": "stdout",
     "output_type": "stream",
     "text": [
      "2 + 3 + sin(2 + sin(sqrt(3))**x0/x0) 5648.574564585675\n"
     ]
    },
    {
     "name": "stderr",
     "output_type": "stream",
     "text": [
      " 31%|███       | 31/100 [01:07<00:52,  1.33it/s]"
     ]
    },
    {
     "name": "stdout",
     "output_type": "stream",
     "text": [
      "2 + 3 + sin(2 + sin(sqrt(3))**x0/x0) 5648.574564585675\n"
     ]
    },
    {
     "name": "stderr",
     "output_type": "stream",
     "text": [
      " 32%|███▏      | 32/100 [01:09<01:00,  1.13it/s]"
     ]
    },
    {
     "name": "stdout",
     "output_type": "stream",
     "text": [
      "2 + 3 + sin(2 + sin(sqrt(3))**x0/x0) 5648.574564585675\n"
     ]
    },
    {
     "name": "stderr",
     "output_type": "stream",
     "text": [
      " 33%|███▎      | 33/100 [01:09<00:50,  1.33it/s]"
     ]
    },
    {
     "name": "stdout",
     "output_type": "stream",
     "text": [
      "2 + 3 + sin(2 + sin(sqrt(3))**x0/x0) 5648.574564585675\n"
     ]
    },
    {
     "name": "stderr",
     "output_type": "stream",
     "text": [
      " 34%|███▍      | 34/100 [01:10<00:42,  1.54it/s]"
     ]
    },
    {
     "name": "stdout",
     "output_type": "stream",
     "text": [
      "2 + 3 + sin(2 + sin(sqrt(3))**x0/x0) 5648.574564585675\n"
     ]
    },
    {
     "name": "stderr",
     "output_type": "stream",
     "text": [
      " 35%|███▌      | 35/100 [01:12<01:19,  1.22s/it]"
     ]
    },
    {
     "name": "stdout",
     "output_type": "stream",
     "text": [
      "2 + 3 + sin(2 + sin(sqrt(3))**x0/x0) 5648.574564585675\n"
     ]
    },
    {
     "name": "stderr",
     "output_type": "stream",
     "text": [
      " 36%|███▌      | 36/100 [01:12<01:00,  1.06it/s]"
     ]
    },
    {
     "name": "stdout",
     "output_type": "stream",
     "text": [
      "2 + 3 + sin(2 + sin(sqrt(3))**x0/x0) 5648.574564585675\n"
     ]
    },
    {
     "name": "stderr",
     "output_type": "stream",
     "text": [
      " 37%|███▋      | 37/100 [01:13<00:46,  1.34it/s]"
     ]
    },
    {
     "name": "stdout",
     "output_type": "stream",
     "text": [
      "2 + 3 + sin(2 + sin(sqrt(3))**x0/x0) 5648.574564585675\n"
     ]
    },
    {
     "name": "stderr",
     "output_type": "stream",
     "text": [
      " 38%|███▊      | 38/100 [01:13<00:37,  1.63it/s]"
     ]
    },
    {
     "name": "stdout",
     "output_type": "stream",
     "text": [
      "2 + 3 + sin(2 + 2/x0) 5618.368993868822\n"
     ]
    },
    {
     "name": "stderr",
     "output_type": "stream",
     "text": [
      " 39%|███▉      | 39/100 [01:16<01:14,  1.22s/it]"
     ]
    },
    {
     "name": "stdout",
     "output_type": "stream",
     "text": [
      "2 + 3 + sin(2 + 2/x0) 5618.368993868822\n"
     ]
    },
    {
     "name": "stderr",
     "output_type": "stream",
     "text": [
      " 40%|████      | 40/100 [01:18<01:34,  1.58s/it]"
     ]
    },
    {
     "name": "stdout",
     "output_type": "stream",
     "text": [
      "2 + 3 + sin(2 + 2/x0) 5618.368993868822\n"
     ]
    },
    {
     "name": "stderr",
     "output_type": "stream",
     "text": [
      " 41%|████      | 41/100 [01:21<01:58,  2.00s/it]"
     ]
    },
    {
     "name": "stdout",
     "output_type": "stream",
     "text": [
      "2 + 3 + sin(2 + 2/x0) 5618.368993868822\n"
     ]
    },
    {
     "name": "stderr",
     "output_type": "stream",
     "text": [
      " 42%|████▏     | 42/100 [01:24<02:07,  2.20s/it]"
     ]
    },
    {
     "name": "stdout",
     "output_type": "stream",
     "text": [
      "2 + 3 + sin(2 + 2/x0) 5618.368993868822\n"
     ]
    },
    {
     "name": "stderr",
     "output_type": "stream",
     "text": [
      " 43%|████▎     | 43/100 [01:26<01:59,  2.09s/it]"
     ]
    },
    {
     "name": "stdout",
     "output_type": "stream",
     "text": [
      "2 + 3 + sin(2 + 2/x0) 5618.368993868822\n"
     ]
    },
    {
     "name": "stderr",
     "output_type": "stream",
     "text": [
      " 44%|████▍     | 44/100 [01:26<01:32,  1.66s/it]"
     ]
    },
    {
     "name": "stdout",
     "output_type": "stream",
     "text": [
      "2 + 3 + sin(2 + 2/x0) 5618.368993868822\n"
     ]
    },
    {
     "name": "stderr",
     "output_type": "stream",
     "text": [
      " 45%|████▌     | 45/100 [01:27<01:20,  1.46s/it]"
     ]
    },
    {
     "name": "stdout",
     "output_type": "stream",
     "text": [
      "2 + 3 + sin(sqrt(2) + 2/x0) 5615.465648097964\n"
     ]
    },
    {
     "name": "stderr",
     "output_type": "stream",
     "text": [
      " 46%|████▌     | 46/100 [01:29<01:20,  1.50s/it]"
     ]
    },
    {
     "name": "stdout",
     "output_type": "stream",
     "text": [
      "2 + 3 + sin(sqrt(2) + 2/x0) 5615.465648097964\n"
     ]
    },
    {
     "name": "stderr",
     "output_type": "stream",
     "text": [
      " 47%|████▋     | 47/100 [01:31<01:34,  1.78s/it]"
     ]
    },
    {
     "name": "stdout",
     "output_type": "stream",
     "text": [
      "2 + 3 + sin(sqrt(2) + 2/x0) 5615.465648097964\n"
     ]
    },
    {
     "name": "stderr",
     "output_type": "stream",
     "text": [
      " 48%|████▊     | 48/100 [01:32<01:20,  1.54s/it]"
     ]
    },
    {
     "name": "stdout",
     "output_type": "stream",
     "text": [
      "2 + 3 + sin(sqrt(2) + 2/x0) 5615.465648097964\n"
     ]
    },
    {
     "name": "stderr",
     "output_type": "stream",
     "text": [
      " 49%|████▉     | 49/100 [01:39<02:46,  3.26s/it]"
     ]
    },
    {
     "name": "stdout",
     "output_type": "stream",
     "text": [
      "2 + 3 + sin(sqrt(2) + 2/x0) 5615.465648097964\n"
     ]
    },
    {
     "name": "stderr",
     "output_type": "stream",
     "text": [
      " 50%|█████     | 50/100 [01:41<02:10,  2.61s/it]"
     ]
    },
    {
     "name": "stdout",
     "output_type": "stream",
     "text": [
      "2 + 3 + sin(sqrt(2) + 2/x0) 5615.465648097964\n"
     ]
    },
    {
     "name": "stderr",
     "output_type": "stream",
     "text": [
      " 51%|█████     | 51/100 [01:44<02:18,  2.83s/it]"
     ]
    },
    {
     "name": "stdout",
     "output_type": "stream",
     "text": [
      "2 + 3 + sin(2 + 3**(sin(2 + sin(sqrt(3))**(2 + 3 + sin(cos(5)))/x0)/2 + sin(cos(5))/2)/x0) 5608.245903670423\n"
     ]
    },
    {
     "name": "stderr",
     "output_type": "stream",
     "text": [
      " 52%|█████▏    | 52/100 [01:45<01:47,  2.23s/it]"
     ]
    },
    {
     "name": "stdout",
     "output_type": "stream",
     "text": [
      "2 + 3 + sin(2 + 3**(sin(2 + sin(sqrt(3))**(2 + 3 + sin(cos(5)))/x0)/2 + sin(cos(5))/2)/x0) 5608.245903670423\n"
     ]
    },
    {
     "name": "stderr",
     "output_type": "stream",
     "text": [
      " 53%|█████▎    | 53/100 [01:48<01:59,  2.55s/it]"
     ]
    },
    {
     "name": "stdout",
     "output_type": "stream",
     "text": [
      "2 + 3 + sin(2 + 3**(sin(2 + sin(sqrt(3))**(2 + 3 + sin(cos(5)))/x0)/2 + sin(cos(5))/2)/x0) 5608.245903670423\n"
     ]
    },
    {
     "name": "stderr",
     "output_type": "stream",
     "text": [
      " 54%|█████▍    | 54/100 [01:49<01:33,  2.03s/it]"
     ]
    },
    {
     "name": "stdout",
     "output_type": "stream",
     "text": [
      "2 + 3 + sin(2 + 3**(sin(2 + sin(sqrt(3))**(2 + 3 + sin(cos(5)))/x0)/2 + sin(cos(5))/2)/x0) 5608.245903670423\n"
     ]
    },
    {
     "name": "stderr",
     "output_type": "stream",
     "text": [
      " 55%|█████▌    | 55/100 [01:50<01:13,  1.64s/it]"
     ]
    },
    {
     "name": "stdout",
     "output_type": "stream",
     "text": [
      "2 + 3 + sin(2 + (2 + sin(sqrt(3))**(2 + sqrt(3))/x0**2)/x0 + sin(sqrt(3))**(sqrt(3))/x0) 5605.634960432635\n"
     ]
    },
    {
     "name": "stderr",
     "output_type": "stream",
     "text": [
      " 56%|█████▌    | 56/100 [01:50<00:58,  1.34s/it]"
     ]
    },
    {
     "name": "stdout",
     "output_type": "stream",
     "text": [
      "2 + 3 + sin(2 + (2 + sin(sqrt(3))**(2 + sqrt(3))/x0**2)/x0 + sin(sqrt(3))**(sqrt(3))/x0) 5605.634960432635\n"
     ]
    },
    {
     "name": "stderr",
     "output_type": "stream",
     "text": [
      " 57%|█████▋    | 57/100 [01:53<01:14,  1.73s/it]"
     ]
    },
    {
     "name": "stdout",
     "output_type": "stream",
     "text": [
      "2 + 3 + sin(2 + 2/x0) + sin(2 + sin(sqrt(3))/x0) 5550.8943021999485\n"
     ]
    },
    {
     "name": "stderr",
     "output_type": "stream",
     "text": [
      " 58%|█████▊    | 58/100 [01:53<00:57,  1.36s/it]"
     ]
    },
    {
     "name": "stdout",
     "output_type": "stream",
     "text": [
      "2 + 3 + sin(2 + 2/x0) + sin(2 + sin(sqrt(3))/x0) 5550.8943021999485\n"
     ]
    },
    {
     "name": "stderr",
     "output_type": "stream",
     "text": [
      " 59%|█████▉    | 59/100 [01:57<01:21,  1.99s/it]"
     ]
    },
    {
     "name": "stdout",
     "output_type": "stream",
     "text": [
      "2 + 3 + sin(2 + 2/x0) + sin(2 + sin(sqrt(3))/x0) 5550.8943021999485\n"
     ]
    },
    {
     "name": "stderr",
     "output_type": "stream",
     "text": [
      " 60%|██████    | 60/100 [01:57<01:02,  1.56s/it]"
     ]
    },
    {
     "name": "stdout",
     "output_type": "stream",
     "text": [
      "2 + 3 + sin(2 + 2/x0) + sin(2 + sin(sqrt(3))/x0) 5550.8943021999485\n"
     ]
    },
    {
     "name": "stderr",
     "output_type": "stream",
     "text": [
      " 61%|██████    | 61/100 [01:58<00:51,  1.32s/it]"
     ]
    },
    {
     "name": "stdout",
     "output_type": "stream",
     "text": [
      "2 + 3 + sin(2 + 2/x0) + sin(2 + sin(sqrt(3))/x0) 5550.8943021999485\n"
     ]
    },
    {
     "name": "stderr",
     "output_type": "stream",
     "text": [
      " 62%|██████▏   | 62/100 [02:00<00:51,  1.34s/it]"
     ]
    },
    {
     "name": "stdout",
     "output_type": "stream",
     "text": [
      "2 + 3 + sin(2 + 2/x0) + sin(2 + sin(sqrt(3))/x0) 5550.8943021999485\n"
     ]
    },
    {
     "name": "stderr",
     "output_type": "stream",
     "text": [
      " 63%|██████▎   | 63/100 [02:00<00:40,  1.09s/it]"
     ]
    },
    {
     "name": "stdout",
     "output_type": "stream",
     "text": [
      "2 + 3 + sin(2 + 2/x0) + sin(2 + sin(sqrt(3))/x0) 5550.8943021999485\n"
     ]
    },
    {
     "name": "stderr",
     "output_type": "stream",
     "text": [
      " 64%|██████▍   | 64/100 [02:03<00:54,  1.52s/it]"
     ]
    },
    {
     "name": "stdout",
     "output_type": "stream",
     "text": [
      "2 + 3 + sin(2 + 2/x0) + sin(2 + sin(sqrt(3))/x0) 5550.8943021999485\n"
     ]
    },
    {
     "name": "stderr",
     "output_type": "stream",
     "text": [
      " 65%|██████▌   | 65/100 [02:03<00:45,  1.29s/it]"
     ]
    },
    {
     "name": "stdout",
     "output_type": "stream",
     "text": [
      "2 + 3 + sin(2 + 3**(sin(2 + sin(sqrt(3))**(2 + log(sin(3))/x0)/x0)/2 + sin(cos(5))/2)/x0) + sin(2 + 3**(sin(2 + sin(sqrt(3))**(2 + 3 + sin(cos(5)))/x0)/2 + sin(cos(5))/2)/x0) 5525.856751478339\n"
     ]
    },
    {
     "name": "stderr",
     "output_type": "stream",
     "text": [
      " 66%|██████▌   | 66/100 [02:07<01:11,  2.10s/it]"
     ]
    },
    {
     "name": "stdout",
     "output_type": "stream",
     "text": [
      "2 + 3 + sin(2 + 3**(sin(2 + sin(sqrt(3))**(2 + log(sin(3))/x0)/x0)/2 + sin(cos(5))/2)/x0) + sin(2 + 3**(sin(2 + sin(sqrt(3))**(2 + 3 + sin(cos(5)))/x0)/2 + sin(cos(5))/2)/x0) 5525.856751478339\n"
     ]
    },
    {
     "name": "stderr",
     "output_type": "stream",
     "text": [
      " 67%|██████▋   | 67/100 [02:09<01:09,  2.10s/it]"
     ]
    },
    {
     "name": "stdout",
     "output_type": "stream",
     "text": [
      "2 + 3 + sin(2 + 3**(sin(2 + sin(sqrt(3))**(2 + log(sin(3))/x0)/x0)/2 + sin(cos(5))/2)/x0) + sin(2 + 3**(sin(2 + sin(sqrt(3))**(2 + 3 + sin(cos(5)))/x0)/2 + sin(cos(5))/2)/x0) 5525.856751478339\n"
     ]
    },
    {
     "name": "stderr",
     "output_type": "stream",
     "text": [
      " 68%|██████▊   | 68/100 [02:12<01:14,  2.34s/it]"
     ]
    },
    {
     "name": "stdout",
     "output_type": "stream",
     "text": [
      "2 + 3 + sin(2 + 3**(sin(2 + sin(sqrt(3))**(2 + log(sin(3))/x0)/x0)/2 + sin(cos(5))/2)/x0) + sin(2 + 3**(sin(2 + sin(sqrt(3))**(2 + 3 + sin(cos(5)))/x0)/2 + sin(cos(5))/2)/x0) 5525.856751478339\n"
     ]
    },
    {
     "name": "stderr",
     "output_type": "stream",
     "text": [
      " 69%|██████▉   | 69/100 [02:15<01:13,  2.38s/it]"
     ]
    },
    {
     "name": "stdout",
     "output_type": "stream",
     "text": [
      "2 + 3 + sin(2 + 3**(sin(2 + sin(sqrt(3))**(2 + log(sin(3))/x0)/x0)/2 + sin(cos(5))/2)/x0) + sin(2 + 3**(sin(2 + sin(sqrt(3))**(2 + 3 + sin(cos(5)))/x0)/2 + sin(cos(5))/2)/x0) 5525.856751478339\n"
     ]
    },
    {
     "name": "stderr",
     "output_type": "stream",
     "text": [
      " 70%|███████   | 70/100 [02:19<01:28,  2.94s/it]"
     ]
    },
    {
     "name": "stdout",
     "output_type": "stream",
     "text": [
      "2 + 3 + sin(2 + 3**(sin(2 + sin(sqrt(3))**(2 + log(sin(3))/x0)/x0)/2 + sin(cos(5))/2)/x0) + sin(2 + 3**(sin(2 + sin(sqrt(3))**(2 + 3 + sin(cos(5)))/x0)/2 + sin(cos(5))/2)/x0) 5525.856751478339\n"
     ]
    },
    {
     "name": "stderr",
     "output_type": "stream",
     "text": [
      " 71%|███████   | 71/100 [02:20<01:09,  2.39s/it]"
     ]
    },
    {
     "name": "stdout",
     "output_type": "stream",
     "text": [
      "2 + 3 + sin(2 + 3**(sin(2 + sin(sqrt(3))**(2 + log(sin(3))/x0)/x0)/2 + sin(cos(5))/2)/x0) + sin(2 + 3**(sin(2 + sin(sqrt(3))**(2 + 3 + sin(cos(sin(2 + 2/x0))))/x0)/2 + sin(cos(5))/2)/x0) 5525.68451816115\n"
     ]
    },
    {
     "name": "stderr",
     "output_type": "stream",
     "text": [
      " 72%|███████▏  | 72/100 [02:21<00:54,  1.94s/it]"
     ]
    },
    {
     "name": "stdout",
     "output_type": "stream",
     "text": [
      "2 + 3 + sin(2 + 3**(3**(sin(2 + sin(sqrt(3))**(2 + log(sin(3))/x0)/x0)/2 + sin(cos(5))/2)/2 + sin(2 + sin(sqrt(3))**(2 + 3 + sin(cos(sin(2 + 2/x0))))/x0)/2)/x0) + sin(2 + 3**(sin(2 + sin(sqrt(3))**(2 + log(sin(3))/x0)/x0)/2 + sin(cos(5))/2)/x0) 5465.58828452038\n"
     ]
    },
    {
     "name": "stderr",
     "output_type": "stream",
     "text": [
      " 73%|███████▎  | 73/100 [02:22<00:45,  1.69s/it]"
     ]
    },
    {
     "name": "stdout",
     "output_type": "stream",
     "text": [
      "2 + 3 + sin(2 + 3**(3**(sin(2 + sin(sqrt(3))**(2 + log(sin(3))/x0)/x0)/2 + sin(cos(5))/2)/2 + sin(2 + sin(sqrt(3))**(2 + 3 + sin(cos(sin(2 + 2/x0))))/x0)/2)/x0) + sin(2 + 3**(sin(2 + sin(sqrt(3))**(2 + log(sin(3))/x0)/x0)/2 + sin(cos(5))/2)/x0) 5465.58828452038\n"
     ]
    },
    {
     "name": "stderr",
     "output_type": "stream",
     "text": [
      " 74%|███████▍  | 74/100 [02:23<00:41,  1.60s/it]"
     ]
    },
    {
     "name": "stdout",
     "output_type": "stream",
     "text": [
      "2 + 3 + sin(2 + 3**(3**(sin(2 + sin(sqrt(3))**(2 + log(sin(3))/x0)/x0)/2 + sin(cos(5))/2)/2 + sin(2 + sin(sqrt(3))**(2 + 3 + sin(cos(sin(2 + 2/x0))))/x0)/2)/x0) + sin(2 + 3**(sin(2 + sin(sqrt(3))**(2 + log(sin(3))/x0)/x0)/2 + sin(cos(5))/2)/x0) 5465.58828452038\n"
     ]
    },
    {
     "name": "stderr",
     "output_type": "stream",
     "text": [
      " 75%|███████▌  | 75/100 [02:25<00:39,  1.59s/it]"
     ]
    },
    {
     "name": "stdout",
     "output_type": "stream",
     "text": [
      "2 + 3 + sin(2 + 3**(3**(sin(2 + sin(sqrt(3))**(2 + log(sin(3))/x0)/x0)/2 + sin(cos(5))/2)/2 + sin(2 + sin(sqrt(3))**(2 + 3 + sin(cos(sin(2 + 2/x0))))/x0)/2)/x0) + sin(2 + 3**(sin(2 + sin(sqrt(3))**(2 + log(sin(3))/x0)/x0)/2 + sin(cos(5))/2)/x0) 5465.58828452038\n"
     ]
    },
    {
     "name": "stderr",
     "output_type": "stream",
     "text": [
      " 76%|███████▌  | 76/100 [02:27<00:44,  1.85s/it]"
     ]
    },
    {
     "name": "stdout",
     "output_type": "stream",
     "text": [
      "2 + 3 + sin(2 + 3**(3**(sin(2 + sin(sqrt(3))**(2*2 + x0)/x0)/2 + sin(cos(5))/2)/2 + sin(2 + sin(sqrt(3))**(2 + 3 + sin(cos(sin(2 + 2/x0))))/x0)/2)/x0) + sin(2 + 3**(sin(2 + sin(sqrt(3))**(2 + log(sin(3))/x0)/x0)/2 + sin(cos(2 + 2/x0))/2)/x0) 5458.270910799098\n"
     ]
    },
    {
     "name": "stderr",
     "output_type": "stream",
     "text": [
      " 77%|███████▋  | 77/100 [02:30<00:46,  2.00s/it]"
     ]
    },
    {
     "name": "stdout",
     "output_type": "stream",
     "text": [
      "2 + 3 + sin(2 + 3**(3**(sin(2 + sin(sqrt(3))**(2*2 + x0)/x0)/2 + sin(cos(5))/2)/2 + sin(2 + sin(sqrt(3))**(2 + 3 + sin(cos(sin(2 + 2/x0))))/x0)/2)/x0) + sin(2 + 3**(sin(2 + sin(sqrt(3))**(2 + log(sin(3))/x0)/x0)/2 + sin(cos(2 + 2/x0))/2)/x0) 5458.270910799098\n"
     ]
    },
    {
     "name": "stderr",
     "output_type": "stream",
     "text": [
      " 78%|███████▊  | 78/100 [02:40<01:38,  4.48s/it]"
     ]
    },
    {
     "name": "stdout",
     "output_type": "stream",
     "text": [
      "2 + 3 + sin(2 + 3**(3**(sin(2 + sin(sqrt(3))**(2*2 + x0)/x0)/2 + sin(cos(5))/2)/2 + sin(2 + sin(sqrt(3))**(2 + 3 + sin(cos(sin(2 + 2/x0))))/x0)/2)/x0) + sin(2 + 3**(sin(2 + sin(sqrt(3))**(2 + log(sin(3))/x0)/x0)/2 + sin(cos(2 + 2/x0))/2)/x0) 5458.270910799098\n"
     ]
    },
    {
     "name": "stderr",
     "output_type": "stream",
     "text": [
      " 79%|███████▉  | 79/100 [02:44<01:30,  4.31s/it]"
     ]
    },
    {
     "name": "stdout",
     "output_type": "stream",
     "text": [
      "2 + 3 + sin(2 + 2/x0) + sin(2 + 3**(3**(sin(2 + sin(sqrt(3))**(2 + log(3)/x0)/x0)/2 + sin(cos(5))/2)/2 + sin(2 + sin(sqrt(3))**(2*2 + 3)/x0)/2)/x0) 5424.734502454752\n"
     ]
    },
    {
     "name": "stderr",
     "output_type": "stream",
     "text": [
      " 80%|████████  | 80/100 [02:47<01:15,  3.78s/it]"
     ]
    },
    {
     "name": "stdout",
     "output_type": "stream",
     "text": [
      "2 + 3 + sin(2 + 2/x0) + sin(2 + 3**(3**(sin(2 + sin(sqrt(3))**(2 + log(3)/x0)/x0)/2 + sin(cos(5))/2)/2 + sin(2 + sin(sqrt(3))**(2*2 + 3)/x0)/2)/x0) 5424.734502454752\n"
     ]
    },
    {
     "name": "stderr",
     "output_type": "stream",
     "text": [
      " 81%|████████  | 81/100 [02:50<01:08,  3.60s/it]"
     ]
    },
    {
     "name": "stdout",
     "output_type": "stream",
     "text": [
      "2 + 3 + sin(2 + 2/x0) + sin(2 + 3**(3**(sin(2 + sin(sqrt(3))**(2 + log(3)/x0)/x0)/2 + sin(cos(5))/2)/2 + sin(2 + sin(sqrt(3))**(2*2 + 3)/x0)/2)/x0) 5424.734502454752\n"
     ]
    },
    {
     "name": "stderr",
     "output_type": "stream",
     "text": [
      " 82%|████████▏ | 82/100 [02:52<00:54,  3.05s/it]"
     ]
    },
    {
     "name": "stdout",
     "output_type": "stream",
     "text": [
      "2 + 3 + sin(2 + 2/x0) + sin(2 + 3**(3**(sin(2 + sin(sqrt(3))**(2 + log(3)/x0)/x0)/2 + sin(cos(5))/2)/2 + sin(2 + sin(sqrt(3))**(2*2 + 3)/x0)/2)/x0) 5424.734502454752\n"
     ]
    },
    {
     "name": "stderr",
     "output_type": "stream",
     "text": [
      " 83%|████████▎ | 83/100 [02:54<00:49,  2.92s/it]"
     ]
    },
    {
     "name": "stdout",
     "output_type": "stream",
     "text": [
      "2 + 3 + sin(2 + 2/x0) + sin(2 + 3**(3**(sin(2 + sin(sqrt(3))**(2 + log(3)/x0)/x0)/2 + sin(cos(5))/2)/2 + sin(2 + sin(sqrt(3))**(2*2 + 3)/x0)/2)/x0) 5424.734502454752\n"
     ]
    },
    {
     "name": "stderr",
     "output_type": "stream",
     "text": [
      " 84%|████████▍ | 84/100 [02:57<00:44,  2.77s/it]"
     ]
    },
    {
     "name": "stdout",
     "output_type": "stream",
     "text": [
      "2 + 3 + sin(2 + 2/x0) + sin(2 + 3**(3**(sin(2 + sin(sqrt(3))**(2 + log(3)/x0)/x0)/2 + sin(cos(5))/2)/2 + sin(2 + sin(sqrt(3))**(2*2 + 3)/x0)/2)/x0) 5424.734502454752\n"
     ]
    },
    {
     "name": "stderr",
     "output_type": "stream",
     "text": [
      " 85%|████████▌ | 85/100 [02:59<00:40,  2.69s/it]"
     ]
    },
    {
     "name": "stdout",
     "output_type": "stream",
     "text": [
      "2 + 3 + sin(2 + 2/x0) + sin(2 + 3**(3**(sin(2 + sin(sqrt(3))**(2 + log(3)/x0)/x0)/2 + sin(cos(5))/2)/2 + sin(2 + sin(sqrt(3))**(2*2 + 3)/x0)/2)/x0) 5424.734502454752\n"
     ]
    },
    {
     "name": "stderr",
     "output_type": "stream",
     "text": [
      " 86%|████████▌ | 86/100 [03:02<00:39,  2.82s/it]"
     ]
    },
    {
     "name": "stdout",
     "output_type": "stream",
     "text": [
      "2 + 3 + sin(2 + 2/x0) + sin(2 + 3**(3**(sin(2 + sin(sqrt(3))**(2 + log(3)/x0)/x0)/2 + sin(cos(5))/2)/2 + sin(2 + sin(sqrt(3))**(2*2 + 3)/x0)/2)/x0) 5424.734502454752\n"
     ]
    },
    {
     "name": "stderr",
     "output_type": "stream",
     "text": [
      " 87%|████████▋ | 87/100 [03:05<00:35,  2.74s/it]"
     ]
    },
    {
     "name": "stdout",
     "output_type": "stream",
     "text": [
      "2 + 3 + sin(2 + 2/x0) + sin(2 + 3**(3**(sin(2 + sin(sqrt(3))**(2 + log(3)/x0)/x0)/2 + sin(cos(5))/2)/2 + sin(2 + sin(sqrt(3))**(2*2 + 3)/x0)/2)/x0) 5424.734502454752\n"
     ]
    },
    {
     "name": "stderr",
     "output_type": "stream",
     "text": [
      " 88%|████████▊ | 88/100 [03:08<00:33,  2.83s/it]"
     ]
    },
    {
     "name": "stdout",
     "output_type": "stream",
     "text": [
      "2 + 3 + sin(2 + 2**(sin(2 + sin(sqrt(3))**(2 + log(sin(3))/x0)/x0)/2 + sin(cos(2 + 2/x0))/2)/x0) + sin(2 + 3**(3**(sin(2 + sin(sqrt(3))**2/x0)/2 + sin(cos(5))/2)/2 + sin(2 + sin(sqrt(3))**(2 + 3 + sin(cos(sin(2 + sqrt(3)))))/x0)/2)/x0) 5421.244170522251\n"
     ]
    },
    {
     "name": "stderr",
     "output_type": "stream",
     "text": [
      " 89%|████████▉ | 89/100 [03:15<00:47,  4.29s/it]"
     ]
    },
    {
     "name": "stdout",
     "output_type": "stream",
     "text": [
      "2 + 3 + sin(2 + 2**(sin(2 + sin(sqrt(3))**(2 + log(sin(3))/x0)/x0)/2 + sin(cos(2 + 2/x0))/2)/x0) + sin(sqrt(3) + 3**(3**(sin(2 + sin(sqrt(3))**2/x0)/2 + sin(cos(5))/2)/2 + sin(2 + sin(sqrt(3))**(2 + 3 + sin(cos(sin(2 + sqrt(3)))))/x0)/2)/x0) 5407.268015474025\n"
     ]
    },
    {
     "name": "stderr",
     "output_type": "stream",
     "text": [
      " 90%|█████████ | 90/100 [03:19<00:41,  4.11s/it]"
     ]
    },
    {
     "name": "stdout",
     "output_type": "stream",
     "text": [
      "2 + 3 + sin(2 + 2**(sin(2 + sin(sqrt(3))**(2 + log(sin(3))/x0)/x0)/2 + sin(cos(2 + 2/x0))/2)/x0) + sin(sqrt(3) + 3**(3**(sin(2 + sin(sqrt(3))**2/x0)/2 + sin(cos(5))/2)/2 + sin(2 + sin(sqrt(3))**(2 + 3 + sin(cos(sin(2 + sqrt(3)))))/x0)/2)/x0) 5407.268015474025\n"
     ]
    },
    {
     "name": "stderr",
     "output_type": "stream",
     "text": [
      " 91%|█████████ | 91/100 [03:22<00:34,  3.78s/it]"
     ]
    },
    {
     "name": "stdout",
     "output_type": "stream",
     "text": [
      "2 + 3 + sin(2 + 2**(sin(2 + sin(sqrt(3))**(2 + log(sin(3))/x0)/x0)/2 + sin(cos(2 + 2/x0))/2)/x0) + sin(sqrt(3) + 3**(3**(sin(2 + sin(sqrt(3))**2/x0)/2 + sin(cos(5))/2)/2 + sin(2 + sin(sqrt(3))**(2 + 3 + sin(cos(sin(2 + sqrt(3)))))/x0)/2)/x0) 5407.268015474025\n"
     ]
    },
    {
     "name": "stderr",
     "output_type": "stream",
     "text": [
      " 92%|█████████▏| 92/100 [03:28<00:35,  4.41s/it]"
     ]
    },
    {
     "name": "stdout",
     "output_type": "stream",
     "text": [
      "2 + 3 + sin(2 + 2**(sin(2 + sin(sqrt(3))**(2 + log(sin(3))/x0)/x0)/2 + sin(cos(2 + 2/x0))/2)/x0) + sin(sqrt(3) + 3**(3**(sin(2 + sin(sqrt(3))**2/x0)/2 + sin(cos(5))/2)/2 + sin(2 + sin(sqrt(3))**(2 + 3 + sin(cos(sin(2 + sqrt(3)))))/x0)/2)/x0) 5407.268015474025\n"
     ]
    },
    {
     "name": "stderr",
     "output_type": "stream",
     "text": [
      " 93%|█████████▎| 93/100 [03:39<00:45,  6.45s/it]"
     ]
    },
    {
     "name": "stdout",
     "output_type": "stream",
     "text": [
      "2 + 3 + sin(2 + 2**(sin(2 + sin(sqrt(3))**(2 + log(sin(3))/x0)/x0)/2 + sin(cos(2 + 2/x0))/2)/x0) + sin(sqrt(3) + 3**(3**(sin(2 + sin(sqrt(3))**2/x0)/2 + sin(cos(5))/2)/2 + sin(2 + sin(sqrt(3))**(2 + 3 + sin(cos(sin(2 + sqrt(3)))))/x0)/2)/x0) 5407.268015474025\n"
     ]
    },
    {
     "name": "stderr",
     "output_type": "stream",
     "text": [
      " 94%|█████████▍| 94/100 [03:47<00:40,  6.72s/it]"
     ]
    },
    {
     "name": "stdout",
     "output_type": "stream",
     "text": [
      "2 + 3 + sin(2 + 2**(sin(2 + sin(sqrt(3))**(2 + log(sin(3))/x0)/x0)/2 + sin(cos(2 + 2/x0))/2)/x0) + sin(sqrt(3) + 3**(3**(sin(2 + sin(sqrt(3))**2/x0)/2 + sin(cos(5))/2)/2 + sin(2 + 3**(2 + 3 + sin(cos(sin(2 + sqrt(3)))))/x0)/2)/x0) 5407.268015474025\n"
     ]
    },
    {
     "name": "stderr",
     "output_type": "stream",
     "text": [
      " 95%|█████████▌| 95/100 [03:52<00:31,  6.33s/it]"
     ]
    },
    {
     "name": "stdout",
     "output_type": "stream",
     "text": [
      "2 + 3 + sin(2 + 3**(3**(sin(2 + sin(sqrt(3))**(2*2 + x0)/x0)/2 + sin(2 + sin(sqrt(3))**(2 + 3 + sin(cos(5)))/x0)/2)/2 + sin(2 + sin(sqrt(3))**(2 + 3 + sin(cos(sin(2 + 2/5))))/x0)/2)/x0) + sin(2 + 3**(sin(2 + sin(2)**(2 + 2/x0)/x0)/2 + sin(cos(2 + 2/x0))/2)/x0) 5406.112886449342\n"
     ]
    },
    {
     "name": "stderr",
     "output_type": "stream",
     "text": [
      " 96%|█████████▌| 96/100 [03:57<00:23,  5.85s/it]"
     ]
    },
    {
     "name": "stdout",
     "output_type": "stream",
     "text": [
      "2 + 3 + sin(2 + 3**(3**(sin(2 + sin(sqrt(3))**(2*2 + x0)/x0)/2 + sin(2 + sin(sqrt(3))**(2 + 3 + sin(cos(5)))/x0)/2)/2 + sin(2 + sin(sqrt(3))**(2 + 3 + sin(cos(sin(2 + 2/5))))/x0)/2)/x0) + sin(2 + 3**(sin(2 + sin(2)**(2 + 2/(2*2 + 3))/x0)/2 + sin(cos(2 + 2/x0))/2)/x0) 5387.761260333275\n"
     ]
    },
    {
     "name": "stderr",
     "output_type": "stream",
     "text": [
      " 97%|█████████▋| 97/100 [04:03<00:18,  6.06s/it]"
     ]
    },
    {
     "name": "stdout",
     "output_type": "stream",
     "text": [
      "2 + 3 + sin(2 + 3**(3**(sin(2 + sin(sqrt(3))**(2*2 + x0)/x0)/2 + sin(2 + sin(sqrt(3))**(2 + 3 + sin(cos(5)))/x0)/2)/2 + sin(2 + sin(sqrt(3))**(2 + 3 + sin(cos(sin(2 + 2/5))))/x0)/2)/x0) + sin(2 + 3**(sin(2 + sin(2)**(2 + 2/(2*2 + 3))/x0)/2 + sin(cos(2 + 2/x0))/2)/x0) 5387.761260333275\n"
     ]
    },
    {
     "name": "stderr",
     "output_type": "stream",
     "text": [
      " 98%|█████████▊| 98/100 [04:16<00:16,  8.17s/it]"
     ]
    },
    {
     "name": "stdout",
     "output_type": "stream",
     "text": [
      "2 + 3 + sin(2 + 3**(3**(sin(2 + 2**(2*2 + 3**(3**(sin(2 + sin(sqrt(3))**(sqrt(3))/x0)/2 + sin(2 + sin(sqrt(3))**(2 + sin(cos(5)) + sin(sqrt(3))**(2 + 3 + sin(cos(sin(2 + 2/x0))))/x0)/x0)/2)/2 + sin(2 + sin(sqrt(3))**(3**(sin(sqrt(3))/2 + sin(2 + sin(sqrt(3))**(2 + log(sin(3))/sqrt(exp(sqrt(3))))/x0)/2)/x0)/x0)/2)/x0 + x0)/x0)/2 + sin(2 + sin(sqrt(3))**(2 + 3 + sin(cos(sin(2 + 2/x0))))/x0)/2)/2 + sin(2 + sin(sqrt(3))**(2 + 3 + sin(cos(sin(2 + 2/x0))))/x0)/2)/x0) + sin(2 + 3**(sin(2 + sin(sqrt(3))**(2*2 + sin(2 + 3**(3**(sin(2 + sin(sqrt(3))**(2*2 + x0)/x0)/2 + sin(2 + sin(sqrt(3))**(2 + 3 + sin(cos(5)))/x0)/2)/2 + sin(2 + sin(sqrt(3))**(2 + 3 + sin(cos(sin(2 + 2/x0))))/x0)/2)/x0))/x0)/2 + sin(cos(2 + 2/x0))/2)/x0) 5386.910248857201\n"
     ]
    },
    {
     "name": "stderr",
     "output_type": "stream",
     "text": [
      " 99%|█████████▉| 99/100 [04:26<00:08,  8.63s/it]"
     ]
    },
    {
     "name": "stdout",
     "output_type": "stream",
     "text": [
      "2 + 3 + sin(2 + 3**(3**(sin(2 + 2**(2*2 + 3**(3**(sin(2 + sin(sqrt(3))**(sqrt(3))/x0)/2 + sin(2 + sin(sqrt(3))**(2 + sin(cos(5)) + sin(sqrt(3))**(2 + 3 + sin(cos(sin(2 + 2/x0))))/x0)/x0)/2)/2 + sin(2 + sin(sqrt(3))**(3**(sin(sqrt(3))/2 + sin(2 + sin(sqrt(3))**(2 + log(sin(3))/sqrt(exp(sqrt(3))))/x0)/2)/x0)/x0)/2)/x0 + x0)/x0)/2 + sin(2 + sin(5**x3)**(2 + 3 + sin(cos(sin(2 + 2/x0))))/x0)/2)/2 + sin(2 + sin(sqrt(3))**(2 + 3 + sin(cos(sin(2 + 2/x0))))/x0)/2)/x0) + sin(2 + 3**(sin(2 + sin(sqrt(3))**(2*2 + sin(2 + 3**(3**(sin(2 + sin(sqrt(3))**(2*2 + x0)/x0)/2 + sin(2 + sin(sqrt(3))**(2 + 3 + sin(cos(5)))/x0)/2)/2 + sin(2 + sin(sqrt(3))**(2 + 3 + sin(cos(sin(2 + 2/x0))))/x0)/2)/x0))/x0)/2 + sin(cos(2 + 2/x0))/2)/x0) 5386.910248857201\n"
     ]
    },
    {
     "name": "stderr",
     "output_type": "stream",
     "text": [
      "100%|██████████| 100/100 [04:35<00:00,  2.76s/it]"
     ]
    },
    {
     "name": "stdout",
     "output_type": "stream",
     "text": [
      "2 + 3 + sin(2 + 3**(3**(sin(2 + 2**(2*2 + 3**(3**(sin(2 + sin(sqrt(3))**(sqrt(3))/x0)/2 + sin(2 + sin(sqrt(3))**(2 + sin(cos(5)) + sin(sqrt(3))**(2 + 3 + sin(cos(sin(2 + 2/x0))))/x0)/x0)/2)/2 + sin(2 + sin(sqrt(3))**(3**(sin(sqrt(3))/2 + sin(2 + sin(sqrt(3))**(2 + log(sin(3))/sqrt(exp(sqrt(3))))/x0)/2)/x0)/x0)/2)/x0 + x0)/x0)/2 + sin(2 + sin(5**x3)**(2 + 3 + sin(cos(sin(2 + 2/x0))))/x0)/2)/2 + sin(2 + sin(sqrt(3))**(2 + 3 + sin(cos(sin(2 + 2/x0))))/x0)/2)/x0) + sin(2 + 3**(sin(2 + sin(sqrt(3))**(2*2 + sin(2 + 3**(3**(sin(2 + sin(sqrt(3))**(2*2 + x0)/x0)/2 + sin(2 + sin(sqrt(3))**(2 + 3 + sin(cos(5)))/x0)/2)/2 + sin(2 + sin(sqrt(3))**(2 + 3 + sin(cos(sin(2 + 2/x0))))/x0)/2)/x0))/x0)/2 + sin(cos(2 + 2/x0))/2)/x0) 5386.910248857201\n"
     ]
    },
    {
     "name": "stderr",
     "output_type": "stream",
     "text": [
      "\n"
     ]
    },
    {
     "data": {
      "text/latex": [
       "$\\displaystyle 2 + 3 + \\sin{\\left(2 + \\frac{3^{\\frac{3^{\\frac{\\sin{\\left(2 + \\frac{2^{2 \\cdot 2 + \\frac{3^{\\frac{3^{\\frac{\\sin{\\left(2 + \\frac{\\sin^{\\sqrt{3}}{\\left(\\sqrt{3} \\right)}}{x_{0}} \\right)}}{2} + \\frac{\\sin{\\left(2 + \\frac{\\sin^{2 + \\sin{\\left(\\cos{\\left(5 \\right)} \\right)} + \\frac{\\sin^{2 + 3 + \\sin{\\left(\\cos{\\left(\\sin{\\left(2 + \\frac{2}{x_{0}} \\right)} \\right)} \\right)}}{\\left(\\sqrt{3} \\right)}}{x_{0}}}{\\left(\\sqrt{3} \\right)}}{x_{0}} \\right)}}{2}}}{2} + \\frac{\\sin{\\left(2 + \\frac{\\sin^{\\frac{3^{\\frac{\\sin{\\left(\\sqrt{3} \\right)}}{2} + \\frac{\\sin{\\left(2 + \\frac{\\sin^{2 + \\frac{\\log{\\left(\\sin{\\left(3 \\right)} \\right)}}{\\sqrt{e^{\\sqrt{3}}}}}{\\left(\\sqrt{3} \\right)}}{x_{0}} \\right)}}{2}}}{x_{0}}}{\\left(\\sqrt{3} \\right)}}{x_{0}} \\right)}}{2}}}{x_{0}} + x_{0}}}{x_{0}} \\right)}}{2} + \\frac{\\sin{\\left(2 + \\frac{\\sin^{2 + 3 + \\sin{\\left(\\cos{\\left(\\sin{\\left(2 + \\frac{2}{x_{0}} \\right)} \\right)} \\right)}}{\\left(5^{x_{3}} \\right)}}{x_{0}} \\right)}}{2}}}{2} + \\frac{\\sin{\\left(2 + \\frac{\\sin^{2 + 3 + \\sin{\\left(\\cos{\\left(\\sin{\\left(2 + \\frac{2}{x_{0}} \\right)} \\right)} \\right)}}{\\left(\\sqrt{3} \\right)}}{x_{0}} \\right)}}{2}}}{x_{0}} \\right)} + \\sin{\\left(2 + \\frac{3^{\\frac{\\sin{\\left(2 + \\frac{\\sin^{2 \\cdot 2 + \\sin{\\left(2 + \\frac{3^{\\frac{3^{\\frac{\\sin{\\left(2 + \\frac{\\sin^{2 \\cdot 2 + x_{0}}{\\left(\\sqrt{3} \\right)}}{x_{0}} \\right)}}{2} + \\frac{\\sin{\\left(2 + \\frac{\\sin^{2 + 3 + \\sin{\\left(\\cos{\\left(5 \\right)} \\right)}}{\\left(\\sqrt{3} \\right)}}{x_{0}} \\right)}}{2}}}{2} + \\frac{\\sin{\\left(2 + \\frac{\\sin^{2 + 3 + \\sin{\\left(\\cos{\\left(\\sin{\\left(2 + \\frac{2}{x_{0}} \\right)} \\right)} \\right)}}{\\left(\\sqrt{3} \\right)}}{x_{0}} \\right)}}{2}}}{x_{0}} \\right)}}{\\left(\\sqrt{3} \\right)}}{x_{0}} \\right)}}{2} + \\frac{\\sin{\\left(\\cos{\\left(2 + \\frac{2}{x_{0}} \\right)} \\right)}}{2}}}{x_{0}} \\right)}$"
      ],
      "text/plain": [
       "2 + 3 + sin(2 + 3**(3**(sin(2 + 2**(2*2 + 3**(3**(sin(2 + sin(sqrt(3))**(sqrt(3))/x0)/2 + sin(2 + sin(sqrt(3))**(2 + sin(cos(5)) + sin(sqrt(3))**(2 + 3 + sin(cos(sin(2 + 2/x0))))/x0)/x0)/2)/2 + sin(2 + sin(sqrt(3))**(3**(sin(sqrt(3))/2 + sin(2 + sin(sqrt(3))**(2 + log(sin(3))/sqrt(exp(sqrt(3))))/x0)/2)/x0)/x0)/2)/x0 + x0)/x0)/2 + sin(2 + sin(5**x3)**(2 + 3 + sin(cos(sin(2 + 2/x0))))/x0)/2)/2 + sin(2 + sin(sqrt(3))**(2 + 3 + sin(cos(sin(2 + 2/x0))))/x0)/2)/x0) + sin(2 + 3**(sin(2 + sin(sqrt(3))**(2*2 + sin(2 + 3**(3**(sin(2 + sin(sqrt(3))**(2*2 + x0)/x0)/2 + sin(2 + sin(sqrt(3))**(2 + 3 + sin(cos(5)))/x0)/2)/2 + sin(2 + sin(sqrt(3))**(2 + 3 + sin(cos(sin(2 + 2/x0))))/x0)/2)/x0))/x0)/2 + sin(cos(2 + 2/x0))/2)/x0)"
      ]
     },
     "execution_count": 120,
     "metadata": {},
     "output_type": "execute_result"
    }
   ],
   "source": [
    "#print(type(t[0]))\n",
    "#sympy.parse_expr('log(x1)/sin(pi)')\n",
    "#before adding depth regularization\n",
    "testing=SGA(100,100,0.95,0.3,100,np.array(['x0','x1','x2','x3']),arr,dummy=False)\n",
    "testing.initial_population()\n",
    "testing.fit()"
   ]
  },
  {
   "cell_type": "code",
   "execution_count": 123,
   "metadata": {},
   "outputs": [
    {
     "name": "stderr",
     "output_type": "stream",
     "text": [
      "  1%|          | 1/100 [00:14<23:52, 14.47s/it]"
     ]
    },
    {
     "name": "stdout",
     "output_type": "stream",
     "text": [
      "2 + 3 14805.311954711597\n"
     ]
    },
    {
     "name": "stderr",
     "output_type": "stream",
     "text": [
      "  2%|▏         | 2/100 [00:27<22:42, 13.91s/it]"
     ]
    },
    {
     "name": "stdout",
     "output_type": "stream",
     "text": [
      "5 + x3 14560.162709228785\n"
     ]
    },
    {
     "name": "stderr",
     "output_type": "stream",
     "text": [
      "  3%|▎         | 3/100 [00:31<14:40,  9.08s/it]"
     ]
    },
    {
     "name": "stdout",
     "output_type": "stream",
     "text": [
      "5 + x3 14560.162709228785\n"
     ]
    },
    {
     "name": "stderr",
     "output_type": "stream",
     "text": [
      "  5%|▌         | 5/100 [00:33<06:38,  4.19s/it]"
     ]
    },
    {
     "name": "stdout",
     "output_type": "stream",
     "text": [
      "5 + x3 14560.162709228785\n",
      "5 + cos(x3) 12111.630768373161\n"
     ]
    },
    {
     "name": "stderr",
     "output_type": "stream",
     "text": [
      "  7%|▋         | 7/100 [00:38<04:24,  2.84s/it]"
     ]
    },
    {
     "name": "stdout",
     "output_type": "stream",
     "text": [
      "5 + cos(x3) 12111.630768373161\n",
      "5 + cos(cos(x2)) 11689.708570270233\n"
     ]
    },
    {
     "name": "stderr",
     "output_type": "stream",
     "text": [
      "  8%|▊         | 8/100 [00:38<03:02,  1.98s/it]"
     ]
    },
    {
     "name": "stdout",
     "output_type": "stream",
     "text": [
      "5 + cos(cos(x2)) 11689.708570270233\n"
     ]
    },
    {
     "name": "stderr",
     "output_type": "stream",
     "text": [
      "  9%|▉         | 9/100 [00:39<02:33,  1.69s/it]"
     ]
    },
    {
     "name": "stdout",
     "output_type": "stream",
     "text": [
      "5 + cos(cos(x2)) 11689.708570270233\n"
     ]
    },
    {
     "name": "stderr",
     "output_type": "stream",
     "text": [
      " 10%|█         | 10/100 [00:40<02:14,  1.49s/it]"
     ]
    },
    {
     "name": "stdout",
     "output_type": "stream",
     "text": [
      "5 + cos(cos(x2)) 11689.708570270233\n"
     ]
    },
    {
     "name": "stderr",
     "output_type": "stream",
     "text": [
      " 11%|█         | 11/100 [00:43<03:07,  2.11s/it]"
     ]
    },
    {
     "name": "stdout",
     "output_type": "stream",
     "text": [
      "5 + cos(cos(x2)) 11689.708570270233\n"
     ]
    },
    {
     "name": "stderr",
     "output_type": "stream",
     "text": [
      " 13%|█▎        | 13/100 [00:49<03:14,  2.23s/it]"
     ]
    },
    {
     "name": "stdout",
     "output_type": "stream",
     "text": [
      "5 + cos(cos(x2)) 11689.708570270233\n",
      "4 + cos(cos(x3)) 11606.530281158572\n"
     ]
    },
    {
     "name": "stderr",
     "output_type": "stream",
     "text": [
      " 14%|█▍        | 14/100 [00:50<02:40,  1.87s/it]"
     ]
    },
    {
     "name": "stdout",
     "output_type": "stream",
     "text": [
      "4 + cos(cos(x3)) 11606.530281158572\n"
     ]
    },
    {
     "name": "stderr",
     "output_type": "stream",
     "text": [
      " 15%|█▌        | 15/100 [00:51<02:19,  1.64s/it]"
     ]
    },
    {
     "name": "stdout",
     "output_type": "stream",
     "text": [
      "4 + cos(cos(x3)) 11606.530281158572\n"
     ]
    },
    {
     "name": "stderr",
     "output_type": "stream",
     "text": [
      " 16%|█▌        | 16/100 [00:53<02:20,  1.68s/it]"
     ]
    },
    {
     "name": "stdout",
     "output_type": "stream",
     "text": [
      "5 + cos(2*cos(x3) + tan(4)) 11496.542909418728\n"
     ]
    },
    {
     "name": "stderr",
     "output_type": "stream",
     "text": [
      " 17%|█▋        | 17/100 [00:59<04:05,  2.96s/it]"
     ]
    },
    {
     "name": "stdout",
     "output_type": "stream",
     "text": [
      "5 + cos(2*cos(x3) + tan(4)) 11496.542909418728\n"
     ]
    },
    {
     "name": "stderr",
     "output_type": "stream",
     "text": [
      " 18%|█▊        | 18/100 [00:59<02:55,  2.13s/it]"
     ]
    },
    {
     "name": "stdout",
     "output_type": "stream",
     "text": [
      "5 + cos(2*cos(x3) + tan(4)) 11496.542909418728\n"
     ]
    },
    {
     "name": "stderr",
     "output_type": "stream",
     "text": [
      " 19%|█▉        | 19/100 [00:59<02:06,  1.56s/it]"
     ]
    },
    {
     "name": "stdout",
     "output_type": "stream",
     "text": [
      "5 + cos(2*cos(x3) + tan(4)) 11496.542909418728\n"
     ]
    },
    {
     "name": "stderr",
     "output_type": "stream",
     "text": [
      " 20%|██        | 20/100 [01:00<01:32,  1.16s/it]"
     ]
    },
    {
     "name": "stdout",
     "output_type": "stream",
     "text": [
      "5 + cos(sqrt(5) + cos(2*5 + cos(x3))) 11480.900366514783\n"
     ]
    },
    {
     "name": "stderr",
     "output_type": "stream",
     "text": [
      " 21%|██        | 21/100 [01:00<01:09,  1.13it/s]"
     ]
    },
    {
     "name": "stdout",
     "output_type": "stream",
     "text": [
      "5 + cos(sqrt(5) + cos(2*5 + cos(x3))) 11480.900366514783\n"
     ]
    },
    {
     "name": "stderr",
     "output_type": "stream",
     "text": [
      " 22%|██▏       | 22/100 [01:01<01:09,  1.12it/s]"
     ]
    },
    {
     "name": "stdout",
     "output_type": "stream",
     "text": [
      "5 + cos(sqrt(5) + cos(2*5 + cos(x3))) 11480.900366514783\n"
     ]
    },
    {
     "name": "stderr",
     "output_type": "stream",
     "text": [
      " 23%|██▎       | 23/100 [01:01<00:55,  1.39it/s]"
     ]
    },
    {
     "name": "stdout",
     "output_type": "stream",
     "text": [
      "5 + cos(cos(x3) + cos(cos(x3)) + tan(sqrt(cos(5)))) 11472.66473249502\n"
     ]
    },
    {
     "name": "stderr",
     "output_type": "stream",
     "text": [
      " 24%|██▍       | 24/100 [01:04<01:37,  1.28s/it]"
     ]
    },
    {
     "name": "stdout",
     "output_type": "stream",
     "text": [
      "5 + cos(cos(x3) + cos(cos(x3)) + tan(sqrt(cos(5)))) 11472.66473249502\n"
     ]
    },
    {
     "name": "stderr",
     "output_type": "stream",
     "text": [
      " 25%|██▌       | 25/100 [01:06<01:59,  1.59s/it]"
     ]
    },
    {
     "name": "stdout",
     "output_type": "stream",
     "text": [
      "5 + cos(cos(5) + cos(x3) + tan(4)) 11457.708121752348\n"
     ]
    },
    {
     "name": "stderr",
     "output_type": "stream",
     "text": [
      " 26%|██▌       | 26/100 [01:06<01:29,  1.21s/it]"
     ]
    },
    {
     "name": "stdout",
     "output_type": "stream",
     "text": [
      "5 + cos(cos(x3) + cos(cos(cos(x3) + cos(cos(x3))))) 11433.440859314558\n"
     ]
    },
    {
     "name": "stderr",
     "output_type": "stream",
     "text": [
      " 27%|██▋       | 27/100 [01:09<02:03,  1.69s/it]"
     ]
    },
    {
     "name": "stdout",
     "output_type": "stream",
     "text": [
      "5 + cos(exp(2) + cos(x3)) 11429.748078339107\n"
     ]
    },
    {
     "name": "stderr",
     "output_type": "stream",
     "text": [
      " 28%|██▊       | 28/100 [01:09<01:32,  1.29s/it]"
     ]
    },
    {
     "name": "stdout",
     "output_type": "stream",
     "text": [
      "5 + cos(exp(2) + cos(x3)) 11429.748078339107\n"
     ]
    },
    {
     "name": "stderr",
     "output_type": "stream",
     "text": [
      " 29%|██▉       | 29/100 [01:11<01:43,  1.45s/it]"
     ]
    },
    {
     "name": "stdout",
     "output_type": "stream",
     "text": [
      "5 + cos(exp(2 + x2)) 11362.878429879898\n"
     ]
    },
    {
     "name": "stderr",
     "output_type": "stream",
     "text": [
      " 30%|███       | 30/100 [01:12<01:17,  1.11s/it]"
     ]
    },
    {
     "name": "stdout",
     "output_type": "stream",
     "text": [
      "5 + cos(exp(2 + x2)) 11362.878429879898\n"
     ]
    },
    {
     "name": "stderr",
     "output_type": "stream",
     "text": [
      " 31%|███       | 31/100 [01:12<01:01,  1.13it/s]"
     ]
    },
    {
     "name": "stdout",
     "output_type": "stream",
     "text": [
      "5 + cos(exp(2 + x2)) 11362.878429879898\n"
     ]
    },
    {
     "name": "stderr",
     "output_type": "stream",
     "text": [
      " 32%|███▏      | 32/100 [01:12<00:49,  1.38it/s]"
     ]
    },
    {
     "name": "stdout",
     "output_type": "stream",
     "text": [
      "5 + cos(exp(2 + x2)) 11362.878429879898\n"
     ]
    },
    {
     "name": "stderr",
     "output_type": "stream",
     "text": [
      " 33%|███▎      | 33/100 [01:13<00:43,  1.55it/s]"
     ]
    },
    {
     "name": "stdout",
     "output_type": "stream",
     "text": [
      "5 + cos(exp(2 + x2)) 11362.878429879898\n"
     ]
    },
    {
     "name": "stderr",
     "output_type": "stream",
     "text": [
      " 34%|███▍      | 34/100 [01:13<00:39,  1.65it/s]"
     ]
    },
    {
     "name": "stdout",
     "output_type": "stream",
     "text": [
      "5 + cos(exp(2 + x2)) 11362.878429879898\n"
     ]
    },
    {
     "name": "stderr",
     "output_type": "stream",
     "text": [
      " 35%|███▌      | 35/100 [01:14<00:34,  1.89it/s]"
     ]
    },
    {
     "name": "stdout",
     "output_type": "stream",
     "text": [
      "5 + cos(exp(2 + x2)) 11362.878429879898\n"
     ]
    },
    {
     "name": "stderr",
     "output_type": "stream",
     "text": [
      " 36%|███▌      | 36/100 [01:14<00:30,  2.10it/s]"
     ]
    },
    {
     "name": "stdout",
     "output_type": "stream",
     "text": [
      "5 + cos(exp(2 + x2)) 11362.878429879898\n"
     ]
    },
    {
     "name": "stderr",
     "output_type": "stream",
     "text": [
      " 37%|███▋      | 37/100 [01:14<00:29,  2.15it/s]"
     ]
    },
    {
     "name": "stdout",
     "output_type": "stream",
     "text": [
      "5 + cos(exp(2 + x2)) 11362.878429879898\n"
     ]
    },
    {
     "name": "stderr",
     "output_type": "stream",
     "text": [
      " 38%|███▊      | 38/100 [01:17<01:06,  1.07s/it]"
     ]
    },
    {
     "name": "stdout",
     "output_type": "stream",
     "text": [
      "5 + cos(exp(2 + x2)) 11362.878429879898\n"
     ]
    },
    {
     "name": "stderr",
     "output_type": "stream",
     "text": [
      " 39%|███▉      | 39/100 [01:17<00:54,  1.12it/s]"
     ]
    },
    {
     "name": "stdout",
     "output_type": "stream",
     "text": [
      "5 + cos(exp(2 + x2)) 11362.878429879898\n"
     ]
    },
    {
     "name": "stderr",
     "output_type": "stream",
     "text": [
      " 40%|████      | 40/100 [01:18<00:47,  1.28it/s]"
     ]
    },
    {
     "name": "stdout",
     "output_type": "stream",
     "text": [
      "5 + cos(exp(2 + x2)) 11362.878429879898\n"
     ]
    },
    {
     "name": "stderr",
     "output_type": "stream",
     "text": [
      " 41%|████      | 41/100 [01:20<01:06,  1.12s/it]"
     ]
    },
    {
     "name": "stdout",
     "output_type": "stream",
     "text": [
      "5 + cos(exp(2 + x2)) 11362.878429879898\n"
     ]
    },
    {
     "name": "stderr",
     "output_type": "stream",
     "text": [
      " 42%|████▏     | 42/100 [01:22<01:19,  1.38s/it]"
     ]
    },
    {
     "name": "stdout",
     "output_type": "stream",
     "text": [
      "5 + cos(exp(2 + x2)) 11362.878429879898\n"
     ]
    },
    {
     "name": "stderr",
     "output_type": "stream",
     "text": [
      " 43%|████▎     | 43/100 [01:22<01:03,  1.11s/it]"
     ]
    },
    {
     "name": "stdout",
     "output_type": "stream",
     "text": [
      "5 + cos(exp(2 + x2)) 11362.878429879898\n"
     ]
    },
    {
     "name": "stderr",
     "output_type": "stream",
     "text": [
      " 44%|████▍     | 44/100 [01:23<00:50,  1.11it/s]"
     ]
    },
    {
     "name": "stdout",
     "output_type": "stream",
     "text": [
      "5 + cos(exp(2 + x2)) 11362.878429879898\n"
     ]
    },
    {
     "name": "stderr",
     "output_type": "stream",
     "text": [
      " 45%|████▌     | 45/100 [01:23<00:42,  1.29it/s]"
     ]
    },
    {
     "name": "stdout",
     "output_type": "stream",
     "text": [
      "5 + cos(exp(2 + x2)) 11362.878429879898\n"
     ]
    },
    {
     "name": "stderr",
     "output_type": "stream",
     "text": [
      " 46%|████▌     | 46/100 [01:24<00:39,  1.38it/s]"
     ]
    },
    {
     "name": "stdout",
     "output_type": "stream",
     "text": [
      "5 + cos(exp(2 + x2)) 11362.878429879898\n"
     ]
    },
    {
     "name": "stderr",
     "output_type": "stream",
     "text": [
      " 47%|████▋     | 47/100 [01:24<00:34,  1.54it/s]"
     ]
    },
    {
     "name": "stdout",
     "output_type": "stream",
     "text": [
      "5 + cos(exp(2 + x2)) 11362.878429879898\n"
     ]
    },
    {
     "name": "stderr",
     "output_type": "stream",
     "text": [
      " 48%|████▊     | 48/100 [01:25<00:30,  1.72it/s]"
     ]
    },
    {
     "name": "stdout",
     "output_type": "stream",
     "text": [
      "5 + cos(exp(2 + x2)) 11362.878429879898\n"
     ]
    },
    {
     "name": "stderr",
     "output_type": "stream",
     "text": [
      " 49%|████▉     | 49/100 [01:25<00:26,  1.90it/s]"
     ]
    },
    {
     "name": "stdout",
     "output_type": "stream",
     "text": [
      "5 + cos(exp(2 + x2)) 11362.878429879898\n"
     ]
    },
    {
     "name": "stderr",
     "output_type": "stream",
     "text": [
      " 50%|█████     | 50/100 [01:26<00:27,  1.80it/s]"
     ]
    },
    {
     "name": "stdout",
     "output_type": "stream",
     "text": [
      "5 + cos(exp(5 + 2*x2)) 11261.269647173507\n"
     ]
    },
    {
     "name": "stderr",
     "output_type": "stream",
     "text": [
      " 51%|█████     | 51/100 [01:26<00:25,  1.96it/s]"
     ]
    },
    {
     "name": "stdout",
     "output_type": "stream",
     "text": [
      "5 + cos(exp(5 + 2*x2)) 11261.269647173507\n"
     ]
    },
    {
     "name": "stderr",
     "output_type": "stream",
     "text": [
      " 52%|█████▏    | 52/100 [01:26<00:22,  2.12it/s]"
     ]
    },
    {
     "name": "stdout",
     "output_type": "stream",
     "text": [
      "5 + cos(exp(5 + 2*x2)) 11261.269647173507\n"
     ]
    },
    {
     "name": "stderr",
     "output_type": "stream",
     "text": [
      " 53%|█████▎    | 53/100 [01:27<00:23,  1.97it/s]"
     ]
    },
    {
     "name": "stdout",
     "output_type": "stream",
     "text": [
      "5 + cos(exp(5 + 2*x2)) 11261.269647173507\n"
     ]
    },
    {
     "name": "stderr",
     "output_type": "stream",
     "text": [
      " 54%|█████▍    | 54/100 [01:28<00:35,  1.30it/s]"
     ]
    },
    {
     "name": "stdout",
     "output_type": "stream",
     "text": [
      "5 + cos(exp(5 + 2*x2)) 11261.269647173507\n"
     ]
    },
    {
     "name": "stderr",
     "output_type": "stream",
     "text": [
      " 55%|█████▌    | 55/100 [01:29<00:29,  1.55it/s]"
     ]
    },
    {
     "name": "stdout",
     "output_type": "stream",
     "text": [
      "5 + cos(exp(5 + 2*x2)) 11261.269647173507\n"
     ]
    },
    {
     "name": "stderr",
     "output_type": "stream",
     "text": [
      " 56%|█████▌    | 56/100 [01:31<00:53,  1.22s/it]"
     ]
    },
    {
     "name": "stdout",
     "output_type": "stream",
     "text": [
      "5 + cos(2 - x3/3) 11259.331638918686\n"
     ]
    },
    {
     "name": "stderr",
     "output_type": "stream",
     "text": [
      " 57%|█████▋    | 57/100 [01:32<00:40,  1.07it/s]"
     ]
    },
    {
     "name": "stdout",
     "output_type": "stream",
     "text": [
      "5 + cos(2 - x3/3) 11259.331638918686\n"
     ]
    },
    {
     "name": "stderr",
     "output_type": "stream",
     "text": [
      " 58%|█████▊    | 58/100 [01:32<00:31,  1.32it/s]"
     ]
    },
    {
     "name": "stdout",
     "output_type": "stream",
     "text": [
      "5 + cos(2 - x3/3) 11259.331638918686\n"
     ]
    },
    {
     "name": "stderr",
     "output_type": "stream",
     "text": [
      " 59%|█████▉    | 59/100 [01:32<00:24,  1.67it/s]"
     ]
    },
    {
     "name": "stdout",
     "output_type": "stream",
     "text": [
      "5 + cos(2 - x3/3) 11259.331638918686\n"
     ]
    },
    {
     "name": "stderr",
     "output_type": "stream",
     "text": [
      " 60%|██████    | 60/100 [01:38<01:26,  2.17s/it]"
     ]
    },
    {
     "name": "stdout",
     "output_type": "stream",
     "text": [
      "5 + cos(2 - x3/3) 11259.331638918686\n"
     ]
    },
    {
     "name": "stderr",
     "output_type": "stream",
     "text": [
      " 61%|██████    | 61/100 [01:39<01:05,  1.69s/it]"
     ]
    },
    {
     "name": "stdout",
     "output_type": "stream",
     "text": [
      "5 + cos(2*5 + cos(exp(-2 + 4)) - x2/3) 11228.2897777898\n"
     ]
    },
    {
     "name": "stderr",
     "output_type": "stream",
     "text": [
      " 62%|██████▏   | 62/100 [01:39<00:47,  1.26s/it]"
     ]
    },
    {
     "name": "stdout",
     "output_type": "stream",
     "text": [
      "5 + cos(2*5 + cos(exp(-2 + 4)) - x2/3) 11228.2897777898\n"
     ]
    },
    {
     "name": "stderr",
     "output_type": "stream",
     "text": [
      " 63%|██████▎   | 63/100 [01:43<01:17,  2.10s/it]"
     ]
    },
    {
     "name": "stdout",
     "output_type": "stream",
     "text": [
      "5 + cos(2*5 + cos(exp(-2 + 4)) - x2/3) 11228.2897777898\n"
     ]
    },
    {
     "name": "stderr",
     "output_type": "stream",
     "text": [
      " 64%|██████▍   | 64/100 [01:43<00:56,  1.56s/it]"
     ]
    },
    {
     "name": "stdout",
     "output_type": "stream",
     "text": [
      "5 + cos(2*5 + cos(exp(-2 + 4)) - x2/3) 11228.2897777898\n"
     ]
    },
    {
     "name": "stderr",
     "output_type": "stream",
     "text": [
      " 66%|██████▌   | 66/100 [01:44<00:29,  1.14it/s]"
     ]
    },
    {
     "name": "stdout",
     "output_type": "stream",
     "text": [
      "5 + cos(2*5 + cos(exp(-2 + 4)) - x2/3) 11228.2897777898\n",
      "5 + cos(2*5 + cos(exp(-2 + 4)) - x2/3) 11228.2897777898\n"
     ]
    },
    {
     "name": "stderr",
     "output_type": "stream",
     "text": [
      " 67%|██████▋   | 67/100 [01:46<00:40,  1.22s/it]"
     ]
    },
    {
     "name": "stdout",
     "output_type": "stream",
     "text": [
      "5 + cos(2*5 + cos(exp(-2 + 4)) - x2/3) 11228.2897777898\n"
     ]
    },
    {
     "name": "stderr",
     "output_type": "stream",
     "text": [
      " 68%|██████▊   | 68/100 [01:46<00:30,  1.06it/s]"
     ]
    },
    {
     "name": "stdout",
     "output_type": "stream",
     "text": [
      "5 + cos(2*5 + cos(exp(-2 + 4)) - x2/3) 11228.2897777898\n"
     ]
    },
    {
     "name": "stderr",
     "output_type": "stream",
     "text": [
      " 69%|██████▉   | 69/100 [01:48<00:38,  1.23s/it]"
     ]
    },
    {
     "name": "stdout",
     "output_type": "stream",
     "text": [
      "5 + cos(2*5 + cos(exp(-2 + 4)) - x2/3) 11228.2897777898\n"
     ]
    },
    {
     "name": "stderr",
     "output_type": "stream",
     "text": [
      " 70%|███████   | 70/100 [01:49<00:37,  1.24s/it]"
     ]
    },
    {
     "name": "stdout",
     "output_type": "stream",
     "text": [
      "5 + cos(2*5 + cos(exp(-2 + 4)) - x2/3) 11228.2897777898\n"
     ]
    },
    {
     "name": "stderr",
     "output_type": "stream",
     "text": [
      " 71%|███████   | 71/100 [01:49<00:27,  1.04it/s]"
     ]
    },
    {
     "name": "stdout",
     "output_type": "stream",
     "text": [
      "5 + cos(4 + 5 + cos(exp(-2 + 4)) - x2/3) 10973.756870877733\n"
     ]
    },
    {
     "name": "stderr",
     "output_type": "stream",
     "text": [
      " 72%|███████▏  | 72/100 [01:51<00:28,  1.01s/it]"
     ]
    },
    {
     "name": "stdout",
     "output_type": "stream",
     "text": [
      "5 + cos(4 + 5 + cos(exp(-2 + 4)) - x2/3) 10973.756870877733\n"
     ]
    },
    {
     "name": "stderr",
     "output_type": "stream",
     "text": [
      " 73%|███████▎  | 73/100 [01:52<00:29,  1.08s/it]"
     ]
    },
    {
     "name": "stdout",
     "output_type": "stream",
     "text": [
      "5 + cos(4 + 5 + cos(exp(-2 + 4)) - x2/3) 10973.756870877733\n"
     ]
    },
    {
     "name": "stderr",
     "output_type": "stream",
     "text": [
      " 74%|███████▍  | 74/100 [01:52<00:23,  1.11it/s]"
     ]
    },
    {
     "name": "stdout",
     "output_type": "stream",
     "text": [
      "5 + cos(4 + 5 + cos(exp(-2 + 4)) - x2/3) 10973.756870877733\n"
     ]
    },
    {
     "name": "stderr",
     "output_type": "stream",
     "text": [
      " 75%|███████▌  | 75/100 [01:55<00:36,  1.45s/it]"
     ]
    },
    {
     "name": "stdout",
     "output_type": "stream",
     "text": [
      "5 + cos(4 + 5 + cos(exp(-2 + 4)) - x2/3) 10973.756870877733\n"
     ]
    },
    {
     "name": "stderr",
     "output_type": "stream",
     "text": [
      " 76%|███████▌  | 76/100 [01:57<00:34,  1.46s/it]"
     ]
    },
    {
     "name": "stdout",
     "output_type": "stream",
     "text": [
      "5 + cos(4 + 5 + cos(exp(-2 + 4)) - x2/3) 10973.756870877733\n"
     ]
    },
    {
     "name": "stderr",
     "output_type": "stream",
     "text": [
      " 77%|███████▋  | 77/100 [01:57<00:26,  1.14s/it]"
     ]
    },
    {
     "name": "stdout",
     "output_type": "stream",
     "text": [
      "5 + cos(4 + 5 + cos(exp(-2 + 4)) - x2/3) 10973.756870877733\n"
     ]
    },
    {
     "name": "stderr",
     "output_type": "stream",
     "text": [
      " 78%|███████▊  | 78/100 [01:57<00:19,  1.14it/s]"
     ]
    },
    {
     "name": "stdout",
     "output_type": "stream",
     "text": [
      "5 + cos(4 + 5 + cos(exp(-2 + 4)) - x2/3) 10973.756870877733\n"
     ]
    },
    {
     "name": "stderr",
     "output_type": "stream",
     "text": [
      " 79%|███████▉  | 79/100 [02:01<00:38,  1.82s/it]"
     ]
    },
    {
     "name": "stdout",
     "output_type": "stream",
     "text": [
      "5 + cos(3 - x3/3) 10929.868741073245\n"
     ]
    },
    {
     "name": "stderr",
     "output_type": "stream",
     "text": [
      " 80%|████████  | 80/100 [02:01<00:27,  1.36s/it]"
     ]
    },
    {
     "name": "stdout",
     "output_type": "stream",
     "text": [
      "5 + cos(3 - x3/3) 10929.868741073245\n"
     ]
    },
    {
     "name": "stderr",
     "output_type": "stream",
     "text": [
      " 81%|████████  | 81/100 [02:08<00:54,  2.85s/it]"
     ]
    },
    {
     "name": "stdout",
     "output_type": "stream",
     "text": [
      "5 + cos(3 - x3/3) 10929.868741073245\n"
     ]
    },
    {
     "name": "stderr",
     "output_type": "stream",
     "text": [
      " 82%|████████▏ | 82/100 [02:08<00:38,  2.13s/it]"
     ]
    },
    {
     "name": "stdout",
     "output_type": "stream",
     "text": [
      "5 + cos(3 - x3/3) 10929.868741073245\n"
     ]
    },
    {
     "name": "stderr",
     "output_type": "stream",
     "text": [
      " 83%|████████▎ | 83/100 [02:10<00:33,  1.96s/it]"
     ]
    },
    {
     "name": "stdout",
     "output_type": "stream",
     "text": [
      "5 + cos(3 - x3/3) 10929.868741073245\n"
     ]
    },
    {
     "name": "stderr",
     "output_type": "stream",
     "text": [
      " 84%|████████▍ | 84/100 [02:10<00:23,  1.48s/it]"
     ]
    },
    {
     "name": "stdout",
     "output_type": "stream",
     "text": [
      "5 + cos(2*5 + cos(2*5 + cos(4 + 5 + cos(5) - x2/3) + cos(exp(-2 + 4)) - x2/3) - x2/3) 10870.586934049377\n"
     ]
    },
    {
     "name": "stderr",
     "output_type": "stream",
     "text": [
      " 85%|████████▌ | 85/100 [02:11<00:20,  1.38s/it]"
     ]
    },
    {
     "name": "stdout",
     "output_type": "stream",
     "text": [
      "5 + cos(2*5 + cos(2*5 + cos(4 + 5 + cos(5) - x2/3) + cos(exp(-2 + 4)) - x2/3) - x2/3) 10870.586934049377\n"
     ]
    },
    {
     "name": "stderr",
     "output_type": "stream",
     "text": [
      " 86%|████████▌ | 86/100 [02:13<00:18,  1.34s/it]"
     ]
    },
    {
     "name": "stdout",
     "output_type": "stream",
     "text": [
      "5 + cos(2*5 + cos(2*5 + cos(4 + 5 + cos(5) - x2/3) + cos(exp(-2 + 4)) - x2/3) - x2/3) 10870.586934049377\n"
     ]
    },
    {
     "name": "stderr",
     "output_type": "stream",
     "text": [
      " 87%|████████▋ | 87/100 [02:13<00:14,  1.15s/it]"
     ]
    },
    {
     "name": "stdout",
     "output_type": "stream",
     "text": [
      "5 + cos(2*5 + cos(5 + cos(exp(4)) - x2/3) + cos(exp(4)) - x2/3) 10808.034451843094\n"
     ]
    },
    {
     "name": "stderr",
     "output_type": "stream",
     "text": [
      " 88%|████████▊ | 88/100 [02:14<00:11,  1.06it/s]"
     ]
    },
    {
     "name": "stdout",
     "output_type": "stream",
     "text": [
      "5 + cos(2*5 + cos(5 + cos(exp(4)) - x2/3) + cos(exp(4)) - x2/3) 10808.034451843094\n"
     ]
    },
    {
     "name": "stderr",
     "output_type": "stream",
     "text": [
      " 89%|████████▉ | 89/100 [02:15<00:11,  1.04s/it]"
     ]
    },
    {
     "name": "stdout",
     "output_type": "stream",
     "text": [
      "5 + cos(2*5 + cos(5 + cos(exp(4)) - x2/3) + cos(exp(4)) - x2/3) 10808.034451843094\n"
     ]
    },
    {
     "name": "stderr",
     "output_type": "stream",
     "text": [
      " 90%|█████████ | 90/100 [02:19<00:18,  1.81s/it]"
     ]
    },
    {
     "name": "stdout",
     "output_type": "stream",
     "text": [
      "5 + cos(2*5 + cos(5 + cos(exp(4)) - x2/3) + cos(exp(4)) - x2/3) 10808.034451843094\n"
     ]
    },
    {
     "name": "stderr",
     "output_type": "stream",
     "text": [
      " 91%|█████████ | 91/100 [02:19<00:13,  1.46s/it]"
     ]
    },
    {
     "name": "stdout",
     "output_type": "stream",
     "text": [
      "5 + cos(2*5 + cos(5 + cos(exp(4)) - x2/3) + cos(exp(4)) - x2/3) 10808.034451843094\n"
     ]
    },
    {
     "name": "stderr",
     "output_type": "stream",
     "text": [
      " 92%|█████████▏| 92/100 [02:20<00:09,  1.18s/it]"
     ]
    },
    {
     "name": "stdout",
     "output_type": "stream",
     "text": [
      "5 + cos(2*5 + cos(5 + cos(exp(4)) - x2/3) + cos(exp(4)) - x2/3) 10808.034451843094\n"
     ]
    },
    {
     "name": "stderr",
     "output_type": "stream",
     "text": [
      " 93%|█████████▎| 93/100 [02:20<00:06,  1.05it/s]"
     ]
    },
    {
     "name": "stdout",
     "output_type": "stream",
     "text": [
      "5 + cos(2*5 + cos(5 + cos(exp(4)) - x2/3) + cos(exp(4)) - x2/3) 10808.034451843094\n"
     ]
    },
    {
     "name": "stderr",
     "output_type": "stream",
     "text": [
      " 94%|█████████▍| 94/100 [02:21<00:04,  1.25it/s]"
     ]
    },
    {
     "name": "stdout",
     "output_type": "stream",
     "text": [
      "5 + cos(2*5 + cos(5 + cos(exp(4)) - x2/3) + cos(exp(4)) - x2/3) 10808.034451843094\n"
     ]
    },
    {
     "name": "stderr",
     "output_type": "stream",
     "text": [
      " 95%|█████████▌| 95/100 [02:21<00:03,  1.44it/s]"
     ]
    },
    {
     "name": "stdout",
     "output_type": "stream",
     "text": [
      "5 + cos(2*5 + cos(5 + cos(exp(4)) - x2/3) + cos(exp(4)) - x2/3) 10808.034451843094\n"
     ]
    },
    {
     "name": "stderr",
     "output_type": "stream",
     "text": [
      " 96%|█████████▌| 96/100 [02:22<00:03,  1.21it/s]"
     ]
    },
    {
     "name": "stdout",
     "output_type": "stream",
     "text": [
      "5 + cos(2*5 + cos(5 + cos(exp(4)) - x2/3) + cos(exp(4)) - x2/3) 10808.034451843094\n"
     ]
    },
    {
     "name": "stderr",
     "output_type": "stream",
     "text": [
      " 97%|█████████▋| 97/100 [02:23<00:02,  1.42it/s]"
     ]
    },
    {
     "name": "stdout",
     "output_type": "stream",
     "text": [
      "5 + cos(2*5 + cos(5 + cos(exp(4)) - x2/3) + cos(exp(4)) - x2/3) 10808.034451843094\n"
     ]
    },
    {
     "name": "stderr",
     "output_type": "stream",
     "text": [
      " 98%|█████████▊| 98/100 [02:27<00:03,  1.86s/it]"
     ]
    },
    {
     "name": "stdout",
     "output_type": "stream",
     "text": [
      "5 + cos(2*5 + cos(5 + cos(exp(4)) - x2/3) + cos(exp(4)) - x2/3) 10808.034451843094\n"
     ]
    },
    {
     "name": "stderr",
     "output_type": "stream",
     "text": [
      " 99%|█████████▉| 99/100 [02:28<00:01,  1.45s/it]"
     ]
    },
    {
     "name": "stdout",
     "output_type": "stream",
     "text": [
      "5 + cos(4 + 5 + cos(exp(-2 + 4)) - x2/3) + cos(exp(2)) 10806.040167396182\n"
     ]
    },
    {
     "name": "stderr",
     "output_type": "stream",
     "text": [
      "100%|██████████| 100/100 [02:28<00:00,  1.49s/it]"
     ]
    },
    {
     "name": "stdout",
     "output_type": "stream",
     "text": [
      "5 + cos(3 + 4) + cos(4 + 5 + cos(exp(2)) - x2/3) 10783.976434999158\n"
     ]
    },
    {
     "name": "stderr",
     "output_type": "stream",
     "text": [
      "\n"
     ]
    },
    {
     "data": {
      "text/latex": [
       "$\\displaystyle 5 + \\cos{\\left(3 + 4 \\right)} + \\cos{\\left(4 + 5 + \\cos{\\left(e^{2} \\right)} - \\frac{x_{2}}{3} \\right)}$"
      ],
      "text/plain": [
       "5 + cos(3 + 4) + cos(4 + 5 + cos(exp(2)) - x2/3)"
      ]
     },
     "execution_count": 123,
     "metadata": {},
     "output_type": "execute_result"
    }
   ],
   "source": [
    "testing=SGA(100,100,0.95,0.3,100,np.array(['x0','x1','x2','x3']),arr,dummy=False)\n",
    "testing.initial_population()\n",
    "testing.fit()"
   ]
  },
  {
   "cell_type": "code",
   "execution_count": 125,
   "metadata": {},
   "outputs": [
    {
     "name": "stderr",
     "output_type": "stream",
     "text": [
      "  1%|          | 1/100 [00:17<29:15, 17.73s/it]"
     ]
    },
    {
     "name": "stdout",
     "output_type": "stream",
     "text": [
      "3 + x1 15451.468827629196\n",
      "[3 + x1, 3 - x1, 2 + x0, (3 + x1)/sqrt(5), 2 - x3, cos(cos(x0)), cos(cos(x1)), cos(cos(x1)), cos(x0), x3]\n"
     ]
    },
    {
     "name": "stderr",
     "output_type": "stream",
     "text": [
      "  2%|▏         | 2/100 [00:30<24:30, 15.01s/it]"
     ]
    },
    {
     "name": "stdout",
     "output_type": "stream",
     "text": [
      "3 + x1 15451.468827629196\n",
      "[3 + x1, 3 - x1, 3 - x3, 2 + x0, (3 + x1)/sqrt(5), (3 + x1)/sqrt(5), 2 - x3, (2 + x1)/sqrt(5), cos(cos(cos(x0))), cos(cos(cos(cos(x1))))]\n"
     ]
    },
    {
     "name": "stderr",
     "output_type": "stream",
     "text": [
      "  3%|▎         | 3/100 [00:32<14:34,  9.02s/it]"
     ]
    },
    {
     "name": "stdout",
     "output_type": "stream",
     "text": [
      "2 + (3 + x1)/sqrt(5) 13204.083234641366\n",
      "[2 + (3 + x1)/sqrt(5), exp(cos(sin(x1))), 3 + x1, 3 + x0, 2 - x2/(2 - 4), 3 - x1, 3 - x3, exp(cos(x0)), 2 + x0, (3 + x1)/sqrt(5)]\n"
     ]
    },
    {
     "name": "stderr",
     "output_type": "stream",
     "text": [
      "  4%|▍         | 4/100 [00:37<11:48,  7.38s/it]"
     ]
    },
    {
     "name": "stdout",
     "output_type": "stream",
     "text": [
      "2 + (3 + cos(sin(x1)))/sqrt(5) 12352.350209078993\n",
      "[2 + (3 + cos(sin(x1)))/sqrt(5), 2 + (3 + x1)/sqrt(5), (3 + (3 + x1)/sqrt(5))/log(2), exp(cos(sin(x1))), exp(cos(sin(x1))), 4 - x1, 3 + x1, 3 - x0, 3 + x0, 2 - x2/(2 - 4)]\n"
     ]
    },
    {
     "name": "stderr",
     "output_type": "stream",
     "text": [
      "  5%|▌         | 5/100 [00:37<07:36,  4.80s/it]"
     ]
    },
    {
     "name": "stdout",
     "output_type": "stream",
     "text": [
      "2 + (3 + cos(sin(x1)))/sqrt(5) 12352.350209078993\n",
      "[2 + (3 + cos(sin(x1)))/sqrt(5), 2 + (3 + x1)/sqrt(5), (3 + (3 + x1)/sqrt(5))/log(2), 2 + (3/sqrt(5) + cos(sin(x1)))/sqrt(5), exp(cos(sin(x1))), exp(cos(sin(x1))), 4 - x1, 3 + x1, 3 - x0, 3 + x0]\n"
     ]
    },
    {
     "name": "stderr",
     "output_type": "stream",
     "text": [
      "  6%|▌         | 6/100 [00:39<05:44,  3.66s/it]"
     ]
    },
    {
     "name": "stdout",
     "output_type": "stream",
     "text": [
      "2*2 + (3 + x1)/sqrt(5) 12069.841410375864\n",
      "[2*2 + (3 + x1)/sqrt(5), 2 + (3 + cos(sin(x1)))/sqrt(5), 2 + (3 + x1)/sqrt(5), (3 + (3 + x1)/sqrt(5))/log(2), 2 + (3/sqrt(5) + cos(sin(x1)))/sqrt(5), 2 + (3/sqrt(5) + cos(exp(cos(sin(x1)))))/sqrt(5), exp(cos(sin(x1))), exp(cos(sin(x1))), exp(cos(sin(x1))), 4 - x1]\n"
     ]
    },
    {
     "name": "stderr",
     "output_type": "stream",
     "text": [
      "  8%|▊         | 8/100 [00:40<03:09,  2.05s/it]"
     ]
    },
    {
     "name": "stdout",
     "output_type": "stream",
     "text": [
      "2*2 + (3 + x1)/sqrt(5) 12069.841410375864\n",
      "[2*2 + (3 + x1)/sqrt(5), 3 + cos(sin(x1)), 2 + (3 + cos(sin(x1)))/sqrt(5), 2 + (3 + x1)/sqrt(5), (3 + (3 + x1)/sqrt(5))/log(2), 2 + (3/sqrt(5) + cos(sin(cos(exp(cos(sin(x1)))))))/sqrt(5), 2 + (3/sqrt(5) + cos(sin(x1)))/sqrt(5), 2 + 3 + x1, 2 + (3/sqrt(5) + cos(exp(cos(sin(x1)))))/sqrt(5), (3 + (5 + x1)/sqrt(5))/log(2)]\n",
      "2*2 + (3 + x1)/sqrt(5) 12069.841410375864\n",
      "[2*2 + (3 + x1)/sqrt(5), 3 + cos(sin(x1)), 2 + (3 + cos(sin(x1)))/sqrt(5), 2 + (3 + x1)/sqrt(5), 2 + (3 + x1)/sqrt(5), (3 + (3 + x1)/sqrt(5))/log(2), 2 + (3/sqrt(5) + cos(sin(cos(exp(cos(sin(x1)))))))/sqrt(5), 2 + (3/sqrt(5) + cos(sin(x1)))/sqrt(5), 2 + 3 + x1, 2 + (3/sqrt(5) + cos(exp(cos(sin(x1)))))/sqrt(5)]\n"
     ]
    },
    {
     "name": "stderr",
     "output_type": "stream",
     "text": [
      "  9%|▉         | 9/100 [00:41<02:14,  1.48s/it]"
     ]
    },
    {
     "name": "stdout",
     "output_type": "stream",
     "text": [
      "2*2 + (3 + x1)/sqrt(5) 12069.841410375864\n",
      "[2*2 + (3 + x1)/sqrt(5), 3 + cos(sin(x1)), 3 + cos(sin(x1)), 2 + (3 + cos(sin(x1)))/sqrt(5), 2 + (3 + x1)/sqrt(5), 2 + (3 + x1)/sqrt(5), (3 + (3 + x1)/sqrt(5))/log(2), (3 + (3 + x1)/sqrt(5))/log(2), 2 + (3/sqrt(5) + cos(sin(cos(exp(cos(sin(x1)))))))/sqrt(5), 2 + (3/sqrt(5) + cos(sin(x1)))/sqrt(5)]\n"
     ]
    },
    {
     "name": "stderr",
     "output_type": "stream",
     "text": [
      " 10%|█         | 10/100 [00:44<02:57,  1.97s/it]"
     ]
    },
    {
     "name": "stdout",
     "output_type": "stream",
     "text": [
      "2*2 + (3 + x1)/sqrt(5) 12069.841410375864\n",
      "[2*2 + (3 + x1)/sqrt(5), 3 + cos(sin(x1)), 3 + cos(sin(x1)), 2 + (3 + cos(sin(x1)))/sqrt(5), 2 + (3 + x1)/sqrt(5), 2 + (3 + x1)/sqrt(5), (3 + (3 + x1)/sqrt(5))/log(2), (3 + (3 + x1)/sqrt(5))/log(2), 2 + (3/sqrt(5) + cos(sin(cos(exp(cos(sin(x1)))))))/sqrt(5), 2 + (3/sqrt(5) + cos(sin(x1)))/sqrt(5)]\n"
     ]
    },
    {
     "name": "stderr",
     "output_type": "stream",
     "text": [
      " 12%|█▏        | 12/100 [00:46<02:08,  1.46s/it]"
     ]
    },
    {
     "name": "stdout",
     "output_type": "stream",
     "text": [
      "2*2 + (3 + x1)/sqrt(5) 12069.841410375864\n",
      "[2*2 + (3 + x1)/sqrt(5), 2*2 + sin(x1), 3 + cos(sin(x1)), 3 + cos(sin(x1)), 3 + cos(sin(x1)), 2 + (3 + cos(sin(x1)))/sqrt(5), (3 + (3 + x1)/sqrt(5))/cos(sin(cos(exp(cos(sin(x1)))))), (2 + 3)/log((3 + (3 + x1)/5)/log(2)), 2 + (3 + x1)/sqrt(5), 2 + (3 + x1)/sqrt(5)]\n",
      "2*2 + (3 + x1)/sqrt(5) 12069.841410375864\n",
      "[2*2 + (3 + x1)/sqrt(5), 2*2 + sin(x1), 3 + cos(sin(x1)), 3 + cos(sin(x1)), 3 + cos(sin(x1)), 3 + cos(sin(x1)), 2 + (3 + cos(sin(x1)))/sqrt(5), 2*2 + x2/3, (3 + (3 + x1)/sqrt(5))/cos(sin(cos(exp(cos(sin(x1)))))), (2 + 3)/log((3 + (3 + x1)/5)/log(2))]\n"
     ]
    },
    {
     "name": "stderr",
     "output_type": "stream",
     "text": [
      " 13%|█▎        | 13/100 [00:46<01:34,  1.09s/it]"
     ]
    },
    {
     "name": "stdout",
     "output_type": "stream",
     "text": [
      "2 + (3 + (5 + x1)/sqrt(5))/sqrt(5) 11879.663481341262\n",
      "[2 + (3 + (5 + x1)/sqrt(5))/sqrt(5), 2 + exp(cos(sin(x1))), 2 + 3/sqrt(5) + cos(sin(x1)), 5 + cos(x1), 2*2 + (3 + x1)/sqrt(5), 3 + cos(sin(2 + (3 + cos(sin(x1)))/sqrt(5))), 2*2 + sin(x1), 2*2 + sin(x1), 3 + cos(sin(x1)), 3 + cos(sin(x1))]\n"
     ]
    },
    {
     "name": "stderr",
     "output_type": "stream",
     "text": [
      " 14%|█▍        | 14/100 [00:46<01:10,  1.21it/s]"
     ]
    },
    {
     "name": "stdout",
     "output_type": "stream",
     "text": [
      "5 - cos(3 + sin(4*x0)) 11693.842791721838\n",
      "[5 - cos(3 + sin(4*x0)), 2 + (3 + exp(cos(sin(x1))))/sqrt(5), 2 + (3 + (5 + x1)/sqrt(5))/sqrt(5), 2 + exp(cos(sin(x1))), 2 + 3/sqrt(5) + cos(sin(x1)), 5 + cos(x1), 2*2 + (3 + x1)/sqrt(5), 2 + 3 + x2/3, 3 + cos(sin(2 + (3 + cos(sin(x1)))/sqrt(5))), 2*2 + sin(x1)]\n"
     ]
    },
    {
     "name": "stderr",
     "output_type": "stream",
     "text": [
      " 15%|█▌        | 15/100 [00:48<01:24,  1.00it/s]"
     ]
    },
    {
     "name": "stdout",
     "output_type": "stream",
     "text": [
      "2 + (3 + log((3 + (3 + x1)/5)/log(2)))/sqrt(3) 11683.52450829774\n",
      "[2 + (3 + log((3 + (3 + x1)/5)/log(2)))/sqrt(3), 5 - cos(3 + sin(4*x0)), 2 + 3 - cos(3 + sin(x1)), 2 + (3 + (5 + x1)/sqrt(log(exp(2))))/sqrt(5), 2 + (3 + (5 + x1)/sqrt(5))/sqrt(5), 2 + exp(cos(sin(x1))), 2/(sqrt(5)*cos(sin(cos(x1)))) + 3, 2 + 3/sqrt(5) + cos(sin(x1)), 5 + cos(x1), 2*2 - x2/3**2]\n"
     ]
    },
    {
     "name": "stderr",
     "output_type": "stream",
     "text": [
      " 16%|█▌        | 16/100 [00:48<01:08,  1.23it/s]"
     ]
    },
    {
     "name": "stdout",
     "output_type": "stream",
     "text": [
      "2 + (3 + log((3 + (3 + x1)/5)/log(2)))/sqrt(3) 11683.52450829774\n",
      "[2 + (3 + log((3 + (3 + x1)/5)/log(2)))/sqrt(3), 5 - cos(3 + sin(4*x0)), 2 + 3 - cos(3 + sin(x1)), 5 + cos(sin(x1)), 2*2 + (cos(sin(x1)) + cos(x1)/sqrt(4))/5**(1/4), 2 + (3 + (5 + x1)/sqrt(log(exp(2))))/sqrt(5), 2/(sqrt(5)*cos(cos(sin(x1)))) + 3, 2 + (3 + (5 + x1)/sqrt(5))/sqrt(5), 2 + exp(cos(sin(x1))), 2/(sqrt(5)*cos(sin(cos(x1)))) + 3]\n"
     ]
    },
    {
     "name": "stderr",
     "output_type": "stream",
     "text": [
      " 17%|█▋        | 17/100 [00:49<00:56,  1.47it/s]"
     ]
    },
    {
     "name": "stdout",
     "output_type": "stream",
     "text": [
      "5 + cos(exp(2 + x0)) 11601.954448690303\n",
      "[5 + cos(exp(2 + x0)), 2 + (3 + log((3 + (5 - cos(3 + sin(x0)))/5)/log(2)))/sqrt(3), (3 + cos(sin(x1)))/log(2), 2 + (3 + log((3 + (3 + x1)/5)/log(2)))/sqrt(3), 5 - cos(3 + sin(4*x0)), 3 + cos(sin(sqrt(5))) + cos(sin(x1)), 2 + 3 - cos(3 + sin(x1)), 5 + cos(sin(x1)), 2*2 + (cos(sin(x1)) + cos(x1)/sqrt(4))/5**(1/4), 2 + (5 + cos(tan(x3)))/sqrt(5)]\n"
     ]
    },
    {
     "name": "stderr",
     "output_type": "stream",
     "text": [
      " 18%|█▊        | 18/100 [00:50<01:19,  1.03it/s]"
     ]
    },
    {
     "name": "stdout",
     "output_type": "stream",
     "text": [
      "2 + (2*2 + 3 + sin(3 + (3 + x1)/sqrt(5)))/sqrt(5) 11309.6388846859\n",
      "[2 + (2*2 + 3 + sin(3 + (3 + x1)/sqrt(5)))/sqrt(5), 5 + cos(exp(3 + x0)), 5 + cos(exp(2 + x0)), 2*2 + (3 + cos(sin(2 + (3 + cos(sin(x1)))/sqrt(5))))/3, 2 + (3 + log((3 + (5 - cos(3 + sin(x0)))/5)/log(2)))/sqrt(3), 2 + (3 + log((3 + (3 + x1)/5)/log(2)))/sqrt(3), 5 - cos(3 + sin(4*x0)), 3 + cos(sin(sqrt(5))) + cos(sin(x1)), 3 - 2*cos(3 - cos(x1)), 2 + 3 - cos(3 + sin(x1))]\n"
     ]
    },
    {
     "name": "stderr",
     "output_type": "stream",
     "text": [
      " 19%|█▉        | 19/100 [00:51<01:02,  1.29it/s]"
     ]
    },
    {
     "name": "stdout",
     "output_type": "stream",
     "text": [
      "2 + (2*2 + 3 + sin(3 + (3 + x1)/sqrt(5)))/sqrt(5) 11309.6388846859\n",
      "[2 + (2*2 + 3 + sin(3 + (3 + x1)/sqrt(5)))/sqrt(5), 5 + cos(exp(3 + x0)), 5 + cos(exp(3 + x0)), 2 + (2*2 + 3 + sin(2*3/sqrt(5) + log(3) + cos(x0)))/sqrt(5), 5 + cos(exp(2 + x0)), 2*2 + (3 + cos(sin(2 + (3 + cos(sin(x1)))/sqrt(5))))/3, 2 + (3 + (3 + log((3 + (3 + x1)/5)/log(2)))/sqrt(3))/sqrt(3), 2 + (3 + log((3 + (5 - cos(3 + sin(x0)))/5)/log(2)))/sqrt(3), 2 + (5 + (5 + x1)/sqrt(5))/sqrt(5), 2 + (3 + log((3 + (3 + x1)/5)/log(2)))/sqrt(3)]\n"
     ]
    },
    {
     "name": "stderr",
     "output_type": "stream",
     "text": [
      " 20%|██        | 20/100 [00:52<01:09,  1.15it/s]"
     ]
    },
    {
     "name": "stdout",
     "output_type": "stream",
     "text": [
      "2 + (2*2 + 3 + sin(3 + (3 + x1)/sqrt(5)))/sqrt(5) 11309.6388846859\n",
      "[2 + (2*2 + 3 + sin(3 + (3 + x1)/sqrt(5)))/sqrt(5), 5 + cos(exp(3 + x0)), 5 + cos(exp(3 + x0)), 2 + (2*2 + 3 + sin(2*3/sqrt(5) + log(3) + cos(x0)))/sqrt(5), 5 + cos(exp(2 + x0)), 2*2 + (3 + cos(sin(2 + (3 + cos(sin(x1)))/sqrt(5))))/3, 2 + (2*2 + 3 + sin(3 + x0))/sqrt(5), 2 + (3 + (3 + log((3 + (3 + x1)/5)/log(2)))/sqrt(3))/sqrt(3), 2*2 + (3 + cos(sin(2 + (3 + x1)/sqrt(5))))/3, 3 - cos(3) - cos(3 - cos(x1))]\n"
     ]
    },
    {
     "name": "stderr",
     "output_type": "stream",
     "text": [
      " 21%|██        | 21/100 [00:54<01:41,  1.29s/it]"
     ]
    },
    {
     "name": "stdout",
     "output_type": "stream",
     "text": [
      "2 + (2*2 + 3 + sin(3 + (3 + x1)/sqrt(5)))/sqrt(5) 11309.6388846859\n",
      "[2 + (2*2 + 3 + sin(3 + (3 + x1)/sqrt(5)))/sqrt(5), 5 + cos(exp(3 + x0)), 5 + cos(exp(3 + x0)), 2 + (2*2 + 3 + sin(2*3/sqrt(5) + log(3) + cos(x0)))/sqrt(5), 5 + cos(exp(2 + x0)), 2*2 + (3 + cos(sin(2 + (3 + cos(sin(x1)))/sqrt(5))))/3, 2 + (2 + sqrt(3) + 3 + sin(3 + x0))/sqrt(5), 2 + (2*2 + 3 + sin(3 + x0))/sqrt(5), 2 + (3 + (3 + log((3 + (3 + x1)/5)/log(2)))/sqrt(3))/sqrt(3), 2*2 + (3 + cos(sin(2 + (3 + x1)/sqrt(5))))/3]\n"
     ]
    },
    {
     "name": "stderr",
     "output_type": "stream",
     "text": [
      " 22%|██▏       | 22/100 [00:54<01:18,  1.00s/it]"
     ]
    },
    {
     "name": "stdout",
     "output_type": "stream",
     "text": [
      "2 + (2*2 + 3 + sin(3 + (3 + x1)/sqrt(5)))/sqrt(5) 11309.6388846859\n",
      "[2 + (2*2 + 3 + sin(3 + (3 + x1)/sqrt(5)))/sqrt(5), 5 + cos(exp(3 + x0)), 5 + cos(exp(3 + x0)), 5 + cos(4 - x3), 5 + cos(4 - x3), 2 + (2*2 + 3 + sin(2*3/sqrt(5) + log(3) + cos(x0)))/sqrt(5), 5 + cos(exp(2 + x0)), 2*2 + (3 + cos(sin(2 + (3 + cos(sin(x1)))/sqrt(5))))/3, 2 + (2 + sqrt(3) + 3 + sin(3 + x0))/sqrt(5), 2 + (2*2 + 3 + sin(3 + x0))/sqrt(5)]\n"
     ]
    },
    {
     "name": "stderr",
     "output_type": "stream",
     "text": [
      " 23%|██▎       | 23/100 [00:55<01:01,  1.25it/s]"
     ]
    },
    {
     "name": "stdout",
     "output_type": "stream",
     "text": [
      "2 + (2*2 + 3 + sin(3 + (3 + x1)/sqrt(5)))/sqrt(5) 11309.6388846859\n",
      "[2 + (2*2 + 3 + sin(3 + (3 + x1)/sqrt(5)))/sqrt(5), 5 + cos(exp(3 + x0)), 5 + cos(exp(3 + x0)), 5 + cos(4 - x3), 5 + cos(4 - x3), 5 + cos(4 - x3), 2 + 3 - x2/3**2, 2 + (2*2 + 3 + sin(2*3/sqrt(5) + log(3) + cos(x0)))/sqrt(5), 5 + cos(exp(2 + x0)), 2*2 + (3 + cos(sin(2 + (3 + cos(sin(x1)))/sqrt(5))))/3]\n"
     ]
    },
    {
     "name": "stderr",
     "output_type": "stream",
     "text": [
      " 24%|██▍       | 24/100 [00:55<01:03,  1.20it/s]"
     ]
    },
    {
     "name": "stdout",
     "output_type": "stream",
     "text": [
      "2 + 3 - cos(5 + (3 + x1)/sqrt(5)) 11061.917093634089\n",
      "[2 + 3 - cos(5 + (3 + x1)/sqrt(5)), 2 + (2*2 + 3 + sin(3 + (3 + x1)/sqrt(5)))/sqrt(5), 5 + cos(exp(3 + x0)), 5 + cos(exp(3 + x0)), 5 + cos(4 - x3), 5 + cos(4 - x3), 5 + cos(4 - x3), 5 + cos(4 - x3), 2 + 3 - x2/3**2, sqrt(3) + (5 + (5 + cos(sin(x1)))/sqrt(5))/sqrt(5)]\n"
     ]
    },
    {
     "name": "stderr",
     "output_type": "stream",
     "text": [
      " 25%|██▌       | 25/100 [00:57<01:23,  1.11s/it]"
     ]
    },
    {
     "name": "stdout",
     "output_type": "stream",
     "text": [
      "2 + 3 - cos(5 + (3 + x1)/sqrt(5)) 11061.917093634089\n",
      "[2 + 3 - cos(5 + (3 + x1)/sqrt(5)), 2 + (2*2 + 3 + sin(3 + (3 + x1)/sqrt(5)))/sqrt(5), 5 + cos(exp(3 + x0)), 5 + cos(exp(3 + x0)), 5 + cos(4 - x3), 5 + cos(4 - x3), 5 + cos(4 - x3), 5 + cos(4 - x3), 2 + 3 - x2/3**2, 2 + 3 - cos(5 + cos(2/(sqrt(5)*cos(sin(x1))))) + cos(cos(exp(sin(x1))))]\n"
     ]
    },
    {
     "name": "stderr",
     "output_type": "stream",
     "text": [
      " 26%|██▌       | 26/100 [00:58<01:07,  1.10it/s]"
     ]
    },
    {
     "name": "stdout",
     "output_type": "stream",
     "text": [
      "2 + 3 - cos(5 + (3 + x1)/sqrt(5)) 11061.917093634089\n",
      "[2 + 3 - cos(5 + (3 + x1)/sqrt(5)), 2 + (2*2 + 3 + sin(3 + (3 + x1)/sqrt(5)))/sqrt(5), 5 + cos(3 + x3), 5 + cos(exp(3 + x0)), 5 + cos(exp(3 + x0)), 5 + cos(4 - x3), 5 + cos(4 - x3), 5 + cos(4 - x3), 5 + cos(4 - x3), 5 + cos(4 - x3)]\n"
     ]
    },
    {
     "name": "stderr",
     "output_type": "stream",
     "text": [
      " 27%|██▋       | 27/100 [01:02<02:19,  1.91s/it]"
     ]
    },
    {
     "name": "stdout",
     "output_type": "stream",
     "text": [
      "2 + 3 - cos(5 + (3 + x1)/sqrt(5)) 11061.917093634089\n",
      "[2 + 3 - cos(5 + (3 + x1)/sqrt(5)), 2 + (2*2 + 3 + sin(3 + (3 + x1)/sqrt(5)))/sqrt(5), 2 + 3 + sin(3 - cos(3) - cos(sin(x1)) + (3 + x1)/sqrt(5))/3, 5 + cos(3 + x3), 5 + cos(exp(3 + x0)), 5 + cos(exp(3 + x0)), 5 + cos(2/(cos(3 + sin(4*x0))*tan(cos(3)))), 5 + cos(4 - x3), 5 + cos(4 - x3), 5 + cos(4 - x3)]\n"
     ]
    },
    {
     "name": "stderr",
     "output_type": "stream",
     "text": [
      " 28%|██▊       | 28/100 [01:07<03:19,  2.77s/it]"
     ]
    },
    {
     "name": "stdout",
     "output_type": "stream",
     "text": [
      "2 + 3 - cos(5 + (3 + x1)/sqrt(5)) 11061.917093634089\n",
      "[2 + 3 - cos(5 + (3 + x1)/sqrt(5)), 2 + (2*2 + 3 + sin(3 + (3 + x1)/sqrt(5)))/sqrt(5), 2 + 3 + sin(3 - cos(3) - cos(sin(x1)) + (3 + x1)/sqrt(5))/3, 2 + 3 + sin(3 - cos(3) - cos(sin(x1)) + (3 + x1)/sqrt(5))/3, 5 + cos(3 + x3), 5 + cos(exp(3 + x0)), 5 + cos(exp(3 + x0)), 5 + cos(2/(cos(3 + sin(4*x0))*tan(cos(3)))), 5 + cos(4 - x3), 5 + cos(4 - x3)]\n"
     ]
    },
    {
     "name": "stderr",
     "output_type": "stream",
     "text": [
      " 29%|██▉       | 29/100 [01:07<02:28,  2.09s/it]"
     ]
    },
    {
     "name": "stdout",
     "output_type": "stream",
     "text": [
      "2 + 3 - cos(5 + (3 + x1)/sqrt(5)) 11061.917093634089\n",
      "[2 + 3 - cos(5 + (3 + x1)/sqrt(5)), 5 + cos(2/x3), 3 + (2*2 + 3 + sin(3 + (3 + x1)/sqrt(5)))/sqrt(5) + sin(3 - cos(3) - cos(sin(x1)) + (3 + x1)/sqrt(5))/3, 2 + (2*2 + 3 + sin(3 + (3 + x1)/sqrt(5)))/sqrt(5), 2 + 3 + sin(3 - cos(3) - cos(sin(x1)) + (3 + x1)/sqrt(5))/3, 2 + 3 + sin(3 - cos(3) - cos(sin(x1)) + (3 + x1)/sqrt(5))/3, 5 + cos(3 + x3), 5 + cos(exp(3 + x0 + cos(exp(2*3 + x0)))), 2 + 3 - cos(5 + cos(2/(sqrt(5)*cos(sin(cos(2/(sqrt(5)*x1))))))) + cos(cos(exp(sin(x1)))), 5 + cos(exp(3 + x0))]\n"
     ]
    },
    {
     "name": "stderr",
     "output_type": "stream",
     "text": [
      " 30%|███       | 30/100 [01:08<01:53,  1.63s/it]"
     ]
    },
    {
     "name": "stdout",
     "output_type": "stream",
     "text": [
      "2 + 3 - cos(5 + (3 + x1)/sqrt(5)) 11061.917093634089\n",
      "[2 + 3 - cos(5 + (3 + x1)/sqrt(5)), 5 + cos(2/x3), 3 + (2*2 + 3 + sin(3 + (3 + x1)/sqrt(5)))/sqrt(5) + sin(3 - cos(3) - cos(sin(x1)) + (3 + x1)/sqrt(5))/3, 2 + (2*2 + 3 + sin(3 + (3 + x1)/sqrt(5)))/sqrt(5), 2 + 3 + sin(3 - cos(3) - cos(sin(x1)) + (3 + x1)/sqrt(5))/3, 2 + 3 + sin(3 - cos(3) - cos(sin(x1)) + (3 + x1)/sqrt(5))/3, 5 + cos(exp(cos(x3))), 5 + cos(3 + x3), 5 + cos(exp(3 + x0 + cos(exp(2*3 + x0)))), 2 + 3 - cos(5 + cos(2/(sqrt(5)*cos(sin(cos(2/(sqrt(5)*x1))))))) + cos(cos(exp(sin(x1))))]\n"
     ]
    },
    {
     "name": "stderr",
     "output_type": "stream",
     "text": [
      " 31%|███       | 31/100 [01:08<01:30,  1.32s/it]"
     ]
    },
    {
     "name": "stdout",
     "output_type": "stream",
     "text": [
      "2 + 3 - cos(5 + (3 + x1)/sqrt(5)) 11061.917093634089\n",
      "[2 + 3 - cos(5 + (3 + x1)/sqrt(5)), 5 + cos(2/x3), 3 + (2*2 + 3 + sin(3 + (3 + x1)/sqrt(5)))/sqrt(5) + sin(3 - cos(3) - cos(sin(x1)) + (3 + x1)/sqrt(5))/3, 2 + 3 + sin(3 - cos(3) - cos(sin(x1)) + (3 + x1)/sqrt(5))/3, 2 + 3 + sin(3 - cos(3) - cos(sin(x1)) + (3 + x1)/sqrt(5))/3, 2 + 3 + sin(3 - cos(3 - cos(3)) - cos(sin(x1)) + (3 + x1)/sqrt(5))/3, 5 + cos(exp(cos(x3))), 5 - sin(2 - x2)/3, 5 + cos(3 + x3), 5 + cos(3 + x3)]\n"
     ]
    },
    {
     "name": "stderr",
     "output_type": "stream",
     "text": [
      " 32%|███▏      | 32/100 [01:09<01:11,  1.06s/it]"
     ]
    },
    {
     "name": "stdout",
     "output_type": "stream",
     "text": [
      "2 + 3 - cos(5 + (3 + x1)/sqrt(5)) 11061.917093634089\n",
      "[2 + 3 - cos(5 + (3 + x1)/sqrt(5)), 5 + cos(2/x3), 3 + (2*2 + 3 + sin(3 + (3 + x1)/sqrt(5)))/sqrt(5) + sin(3 - cos(3) - cos(sin(x1)) + (3 + x1)/sqrt(5))/3, 2 + 3 + sin(3 - cos(3) - cos(sin(x1)) + (3 + x1)/sqrt(5))/3, 2 + 3 + sin(3 - cos(3) - cos(sin(x1)) + (3 + x1)/sqrt(5))/3, 2 + 3 + sin(3 - cos(3 - cos(3)) - cos(sin(x1)) + (3 + x1)/sqrt(5))/3, 5 + cos(3 + (3 + x1)/sqrt(5)), 5 + cos(exp(cos(x3))), 5 - sin(2 - x2)/3, 5 + cos(3 + x3)]\n"
     ]
    },
    {
     "name": "stderr",
     "output_type": "stream",
     "text": [
      " 33%|███▎      | 33/100 [01:10<01:16,  1.14s/it]"
     ]
    },
    {
     "name": "stdout",
     "output_type": "stream",
     "text": [
      "2 + 3 - cos(5 + (3 + x1)/sqrt(5)) 11061.917093634089\n",
      "[2 + 3 - cos(5 + (3 + x1)/sqrt(5)), 5 + cos(2/x3), 5 + cos(3 + (3 + x3)/sqrt(5)), 3 + (2*2 + 3 + sin(3 + (3 + x1)/sqrt(5)))/sqrt(5) + sin(3 - cos(3) - cos(sin(x1)) + (3 + x1)/sqrt(5))/3, 2 + 3 + sin(3 - cos(3) - cos(sin(x1)) + (3 + x1)/sqrt(5))/3, 2 + 3 + sin(3 - cos(3) - cos(sin(x1)) + (3 + x1)/sqrt(5))/3, 2 + 3 + sin(3 - cos(3) - cos(sin(x1)) + (3 + x1)/sqrt(5))/3, 2 + 3 + sin(3 - cos(3 - cos(3)) - cos(sin(x1)) + (3 + x1)/sqrt(5))/3, 5 + cos(3 + (3 + x1)/sqrt(5)), 5 + cos(exp(cos(x3)))]\n"
     ]
    },
    {
     "name": "stderr",
     "output_type": "stream",
     "text": [
      " 34%|███▍      | 34/100 [01:11<01:02,  1.06it/s]"
     ]
    },
    {
     "name": "stdout",
     "output_type": "stream",
     "text": [
      "2 + 3 - cos(5 + (3 + x1)/sqrt(5)) 11061.917093634089\n",
      "[2 + 3 - cos(5 + (3 + x1)/sqrt(5)), 5 + cos(2/x3), 5 + cos(3 + (3 + x3)/sqrt(5)), 2 + 3 + sin(3 - cos(3) - cos(sin(x1)) + (3 + x1)/sqrt(5))/3, 2 + 3 + sin(3 - cos(3) - cos(sin(x1)) + (3 + x1)/sqrt(5))/3, 2 + 3 + sin(3 - cos(3) - cos(sin(x1)) + (3 + x1)/sqrt(5))/3, 2 + 3 + sin(3 - cos(3) - cos(sin(x1)) + (3 + x1)/sqrt(5))/3, 2 + 3 + sin(3 - cos(3 - cos(3)) - cos(sin(x1)) + (3 + x1)/sqrt(5))/3, 5 + cos(3 + (3 + x1)/sqrt(5)), 5 + cos(3 + (3 + x1)/sqrt(5))]\n"
     ]
    },
    {
     "name": "stderr",
     "output_type": "stream",
     "text": [
      " 35%|███▌      | 35/100 [01:11<00:52,  1.24it/s]"
     ]
    },
    {
     "name": "stdout",
     "output_type": "stream",
     "text": [
      "2 + 3 - cos(5 + (3 + x1)/sqrt(5)) 11061.917093634089\n",
      "[2 + 3 - cos(5 + (3 + x1)/sqrt(5)), 5 + cos(2/x3), 5 + cos(3 + (3 + x3)/sqrt(5)), 3 + (2*2 + 3 + sin(3 + 3/sqrt(5)))/3 + sin(3 - cos(3) - cos(sin(x1)) + (3 + x1)/sqrt(5))/3, 2 + 3 + sin(3 - cos(3) - cos(sin(x1)) + (3 + x1)/sqrt(5))/3, 2 + 3 + sin(3 - cos(3) - cos(sin(x1)) + (3 + x1)/sqrt(5))/3, 2 + 3 + sin(3 - cos(3) - cos(sin(x1)) + (3 + x1)/sqrt(5))/3, 2 + 3 + sin(3 - cos(3) - cos(sin(x1)) + (3 + x1)/sqrt(5))/3, 2 + 3 + sin(3 + (3 + x1)/sqrt(5))/3, 2 + 3 + sin(3 - cos(3 - cos(3)) - cos(sin(x1)) + (3 + x1)/sqrt(5))/3]\n"
     ]
    },
    {
     "name": "stderr",
     "output_type": "stream",
     "text": [
      " 36%|███▌      | 36/100 [01:12<00:50,  1.27it/s]"
     ]
    },
    {
     "name": "stdout",
     "output_type": "stream",
     "text": [
      "2 + 3 - cos(5 + (3 + x1)/sqrt(5)) 11061.917093634089\n",
      "[2 + 3 - cos(5 + (3 + x1)/sqrt(5)), 5 + cos(2/x3), 5 + cos(3 + (3 + x3)/sqrt(5)), 5 + cos(3 + (3 + x3)/sqrt(5)), 2 + 3 - cos(3 + 5 + sin(3 - cos(3) + cos(log(2)) - 2*cos(sin(x1)) + (3 + x1)/sqrt(5))/3), 3 + (2*2 + 3 + sin(3 + 3/sqrt(5)))/3 + sin(3 - cos(3) - cos(sin(x1)) + (3 + x1)/sqrt(5))/3, 2 + 3 + sin(3 - cos(3) - cos(sin(x1)) + (3 + x1)/sqrt(5))/3, 2 + 3 + sin(3 - cos(3) - cos(sin(x1)) + (3 + x1)/sqrt(5))/3, 2 + 3 + sin(3 - cos(3) - cos(sin(x1)) + (3 + x1)/sqrt(5))/3, 2 + 3 + sin(3 - cos(3) - cos(sin(x1)) + (3 + x1)/sqrt(5))/3]\n"
     ]
    },
    {
     "name": "stderr",
     "output_type": "stream",
     "text": [
      " 37%|███▋      | 37/100 [01:12<00:42,  1.48it/s]"
     ]
    },
    {
     "name": "stdout",
     "output_type": "stream",
     "text": [
      "5 + cos(3 + (x1 + cos(3 + (3 + x1)/sqrt(5)))/sqrt(5)) 11049.233576762896\n",
      "[5 + cos(3 + (x1 + cos(3 + (3 + x1)/sqrt(5)))/sqrt(5)), 5 + cos(2/x3), 5 + cos(3 + (3 + x3)/sqrt(5)), 5 + cos(3 + (3 + x3)/sqrt(5)), 2 + 3 - cos(3 + 5 + sin(3 - cos(3) + cos(log(2)) - 2*cos(sin(x1)) + (3 + x1)/sqrt(5))/3), 2 + 3 + sin(3 - cos(3) - cos(sin(sin(3 - cos(3) - cos(sin(x1)) + log(2*5)/sqrt(5)))) + (3 + x1)/sqrt(5))/3, 3 + (2*2 + 3 + sin(3 + 3/sqrt(5)))/3 + sin(3 - cos(3) - cos(sin(x1)) + (3 + x1)/sqrt(5))/3, 2 + 3 + sin(3 - cos(3) - cos(sin(x1)) + (3 + x1)/sqrt(5))/3, 2 + 3 + sin(3 - cos(3) - cos(sin(x1)) + (3 + x1)/sqrt(5))/3, 2 + 3 + sin(3 - cos(3) - cos(sin(x1)) + (3 + x1)/sqrt(5))/3]\n"
     ]
    },
    {
     "name": "stderr",
     "output_type": "stream",
     "text": [
      " 38%|███▊      | 38/100 [01:13<00:36,  1.68it/s]"
     ]
    },
    {
     "name": "stdout",
     "output_type": "stream",
     "text": [
      "5 + cos(3 + (x1 + cos(3 + (3 + x1)/sqrt(5)))/sqrt(5)) 11049.233576762896\n",
      "[5 + cos(3 + (x1 + cos(3 + (3 + x1)/sqrt(5)))/sqrt(5)), 5 + cos(2/x3), 5 + cos(3 + (3 + x3)/sqrt(5)), 5 + cos(3 + (3 + x3)/sqrt(5)), 2 + 3 - cos(3 + 5 + sin(3 - cos(3) + cos(log(2)) - 2*cos(sin(x1)) + (3 + x1)/sqrt(5))/3), 2 + 3 + sin(3 - cos(3) - cos(sin(sin(3 - cos(3) - cos(sin(x1)) + log(2*5)/sqrt(5)))) + (3 + x1)/sqrt(5))/3, 2 + 3 + sin(3 - cos(3) - cos(sin(sin(3 - cos(3) - cos(sin(x1)) + log(2*5)/sqrt(5)))) + (3 + x1)/sqrt(5))/3, 2 + 3 + sin(3 - cos(3) - cos(sin(x1)) + (3 + x1)/sqrt(5))/3, 2 + 3 + sin(3 - cos(3) - cos(sin(x1)) + (3 + x1)/sqrt(5))/3, 2 + 3 + sin(3 - cos(3) - cos(sin(x1)) + (3 + x1)/sqrt(5))/3]\n"
     ]
    },
    {
     "name": "stderr",
     "output_type": "stream",
     "text": [
      " 39%|███▉      | 39/100 [01:13<00:33,  1.82it/s]"
     ]
    },
    {
     "name": "stdout",
     "output_type": "stream",
     "text": [
      "5 + cos(3 + (x1 + cos(3 + (3 + x1)/sqrt(5)))/sqrt(5)) 11049.233576762896\n",
      "[5 + cos(3 + (x1 + cos(3 + (3 + x1)/sqrt(5)))/sqrt(5)), 2 + 3 - sin(3 - cos(3) - cos(sin(x1)) + (3 + x1)/sqrt(5))/cos(3), 5 + cos(2/x3), 5 + cos(3 + (3 + x3)/sqrt(5)), 5 + cos(3 + (3 + x3)/sqrt(5)), 2 + 3 + sin(3 - cos(3) - cos(log(2*5)/sqrt(5)) + (3 + x1)/sqrt(5))/3, 2 + 3 - cos(3 + 5 + sin(3 - cos(3) + cos(log(2)) - 2*cos(sin(x1)) + (3 + x1)/sqrt(5))/3), 2 + 3 + sin(3 - cos(3) - cos(sin(sin(3 - cos(3) - cos(sin(x1)) + log(2*5)/sqrt(5)))) + (3 + x1)/sqrt(5))/3, 2 + 3 + sin(3 - cos(3) - cos(sin(sin(3 - cos(3) - cos(sin(x1)) + log(2*5)/sqrt(5)))) + (3 + x1)/sqrt(5))/3, 2 + 3 + sin(3 - cos(3) - cos(sin(x1)) + (3 + x1)/sqrt(5))/3]\n"
     ]
    },
    {
     "name": "stderr",
     "output_type": "stream",
     "text": [
      " 40%|████      | 40/100 [01:14<00:37,  1.60it/s]"
     ]
    },
    {
     "name": "stdout",
     "output_type": "stream",
     "text": [
      "5 + cos(3 + (x1 + cos(3 + (3 + x1)/sqrt(5)))/sqrt(5)) 11049.233576762896\n",
      "[5 + cos(3 + (x1 + cos(3 + (3 + x1)/sqrt(5)))/sqrt(5)), 2 + 3 - sin(3 - cos(3) - cos(sin(x1)) + (3 + x1)/sqrt(5))/cos(3), 5 + cos(3 + (x1 + cos((3 + x1)/sqrt(5)))/sqrt(5)), 5 + cos(2/x3), 5 + cos(2/x3), 5 + cos(3 + (3 + x3)/sqrt(5)), 5 + cos(3 + (3 + x3)/sqrt(5)), 2 + 3 + sin(3 - cos(3) - cos(log(2*5)/sqrt(5)) + (3 + x1)/sqrt(5))/3, 2 + 3 - cos(3 + 5 + sin(3 - cos(3) + cos(log(2)) - 2*cos(sin(x1)) + (3 + x1)/sqrt(5))/3), 2 + 3 + sin(3 - cos(3) - cos(sin(sin(3 - cos(3) - cos(sin(x1)) + log(2*5)/sqrt(5)))) + (3 + x1)/sqrt(5))/3]\n"
     ]
    },
    {
     "name": "stderr",
     "output_type": "stream",
     "text": [
      " 41%|████      | 41/100 [01:19<02:04,  2.11s/it]"
     ]
    },
    {
     "name": "stdout",
     "output_type": "stream",
     "text": [
      "5 + cos(3 + (x1 + cos(sqrt(x2)))/sqrt(5)) 11049.233576762896\n",
      "[2 + 3 - sin(3 - cos(3) - cos(sin(x1)) + (3 + x1)/sqrt(5))/cos(3), 2 + 3 - sin(3 + (3 + x1)/sqrt(5))/cos(3), 5 + cos(3 + (x1 + cos((3 + x1)/sqrt(5)))/sqrt(5)), 5 + cos(2/x3), 5 + cos(2/x3), 5 + cos(2/x3), 5 + cos(3 + (3 + x3)/sqrt(5)), 5 + cos(3 + (3 + x3)/sqrt(5)), 2 + 3 + sin(3 - cos(3) - cos(log(2*5)/sqrt(5)) + (3 + x1)/sqrt(5))/3, 2 + 3 - cos(3 + 5 + sin(3 - cos(3) + cos(log(2)) - 2*cos(sin(x1)) + (3 + x1)/sqrt(5))/3)]\n"
     ]
    },
    {
     "name": "stderr",
     "output_type": "stream",
     "text": [
      " 42%|████▏     | 42/100 [01:20<01:35,  1.65s/it]"
     ]
    },
    {
     "name": "stdout",
     "output_type": "stream",
     "text": [
      "5 + cos(3 + (-x0 + cos(5))/sqrt(5)) 11030.812880492023\n",
      "[5 + cos(3 + (-x0 + cos(5))/sqrt(5)), 2 + 3 - sin(3 - cos(3) - cos(sin(x1)) + (3 + x1)/sqrt(5))/cos(3), 2 + 3 - sin(3 + (3 + x1)/sqrt(5))/cos(3), 5 + cos(3 + (x1 + cos((3 + x1)/sqrt(5)))/sqrt(5)), 5 + cos(2/x3), 5 + cos(2/x3), 5 + cos(2/x3), 5 + cos(3 + (3 + x3)/sqrt(5)), 5 + cos(3 + (3 + x3)/sqrt(5)), 2 + 3 + sin(3 - cos(3) - cos(log(2*5)/sqrt(5)) + (3 + x1)/sqrt(5))/3]\n"
     ]
    },
    {
     "name": "stderr",
     "output_type": "stream",
     "text": [
      " 43%|████▎     | 43/100 [01:22<01:30,  1.59s/it]"
     ]
    },
    {
     "name": "stdout",
     "output_type": "stream",
     "text": [
      "5 + cos(3 + (-x0 + cos(5))/sqrt(5)) 11030.812880492023\n",
      "[5 + cos(3 + (-x0 + cos(5))/sqrt(5)), 2 + 3 - sin(3 - cos(3) - cos(sin(x1)) + (3 + x1)/sqrt(5))/cos(3), 2 + 3 - sin(3 + (3 + x1)/sqrt(5))/cos(3), 5 + cos(3 + (x1 + cos((3 + x1)/sqrt(5)))/sqrt(5)), 5 + cos(2/x3), 5 + cos(2/x3), 5 + cos(2/x3**2), 5 + cos(3 + (3 + x3)/sqrt(5)), 5 + cos(3 + (3 + x3)/sqrt(5)), 5 + cos(3 + (3 + x3)/sqrt(5))]\n"
     ]
    },
    {
     "name": "stderr",
     "output_type": "stream",
     "text": [
      " 44%|████▍     | 44/100 [01:24<01:36,  1.73s/it]"
     ]
    },
    {
     "name": "stdout",
     "output_type": "stream",
     "text": [
      "5 + cos(3 + (-x0 + cos(5))/sqrt(5)) 11030.812880492023\n",
      "[5 + cos(3 + (-x0 + cos(5))/sqrt(5)), 2 + 3 - sin(3 - cos(3) - cos(sin(x1)) + (3 + x1)/sqrt(5))/cos(3), 2 + 3 - sin(3 + (3 + x1)/sqrt(5))/cos(3), 5 + cos(3 + (x1 + cos((3 + x1)/sqrt(5)))/sqrt(5)), 5 + cos(2/x3), 5 + cos(2/x3), 5 + cos(2/x3), 5 + cos(2/x3**2), 5 + cos(3 + (3 + x3)/sqrt(5)), 5 + cos(3 + (3 + x3)/sqrt(5))]\n"
     ]
    },
    {
     "name": "stderr",
     "output_type": "stream",
     "text": [
      " 45%|████▌     | 45/100 [01:25<01:29,  1.62s/it]"
     ]
    },
    {
     "name": "stdout",
     "output_type": "stream",
     "text": [
      "5 + cos(3 + (-x0 + cos(5))/sqrt(5)) 11030.812880492023\n",
      "[5 + cos(3 + (-x0 + cos(5))/sqrt(5)), 2 + 3 - sin(3 - cos(3) - cos(sin(x1)) + (3 + x1)/sqrt(5))/cos(3), 2 + 3 - sin(3 + (3 + x1)/sqrt(5))/cos(3), 5 + cos(3 + (x1 + cos((3 + x1)/sqrt(5)))/sqrt(5)), 5 + cos(2/x3), 5 + cos(2/x3), 5 + cos(2/x3), 5 + cos(2/x3), 5 + cos(2/x3), 5 + cos(2/x3**2)]\n"
     ]
    },
    {
     "name": "stderr",
     "output_type": "stream",
     "text": [
      " 46%|████▌     | 46/100 [01:30<02:23,  2.66s/it]"
     ]
    },
    {
     "name": "stdout",
     "output_type": "stream",
     "text": [
      "5 + cos(3 + x3/sqrt(5)) 10879.403495413439\n",
      "[5 + cos(3 + x3/sqrt(5)), 5 + cos(3 + (-x0 + cos(5))/sqrt(5)), 2 + 3 - sin(3 - cos(3) - cos(sin(x1)) + (3 + x1)/sqrt(5))/cos(3), 5 + cos(3 + x1/sqrt(5)), 2 + 3 - sin(3 + (3 + x1)/sqrt(5))/cos(3), 5 + cos(3 + (x1 + cos((3 + x1)/sqrt(5)))/sqrt(5)), 5 + cos(2/x3), 5 + cos(2/x3), 5 + cos(2/x3), 5 + cos(2/x3)]\n"
     ]
    },
    {
     "name": "stderr",
     "output_type": "stream",
     "text": [
      " 47%|████▋     | 47/100 [01:30<01:46,  2.01s/it]"
     ]
    },
    {
     "name": "stdout",
     "output_type": "stream",
     "text": [
      "5 + cos(3 + x3/sqrt(5)) 10879.403495413439\n",
      "[5 + cos(3 + x3/sqrt(5)), 5 + cos(3 + x3/sqrt(5)), 5 + cos(3 + (-x0 + cos(5))/sqrt(5)), 2 + 3 - sin(3 + (3 + (3 + x1)/sqrt(5) + (x1 + cos(5))/sqrt(5))/sqrt(5))/cos(3), 2 + 3 - sin(3 - cos(3) - cos(sin(x1)) + (3 + x1)/sqrt(5))/cos(3), 5 + cos(3 + x1/sqrt(5)), 5 + cos(sqrt(5) + (3 + x1)/sqrt(5)), 2 + 3 - sin(3 + (3 + x1)/sqrt(5))/cos(3), 2 + 3 - sin(3 + (3 + x1)/sqrt(5))/cos(3), 2 + 3 - sin(3 - cos(3 - cos(3)) - cos(sin(x1)) + (3 + x1)/sqrt(5))/sin(sin(3 - cos(3) + log(2*5)/5**(1/4)))]\n"
     ]
    },
    {
     "name": "stderr",
     "output_type": "stream",
     "text": [
      " 48%|████▊     | 48/100 [01:31<01:24,  1.62s/it]"
     ]
    },
    {
     "name": "stdout",
     "output_type": "stream",
     "text": [
      "5 + cos(3 + x3/sqrt(5)) 10879.403495413439\n",
      "[5 + cos(3 + x3/sqrt(5)), 5 + cos(3 + x3/sqrt(5)), 5 + cos(3 + (-x0 + cos(5))/sqrt(5)), 2 + 3 - sin(3 + (3 + (3 + x1)/sqrt(5) + (x1 + cos(5))/sqrt(5))/sqrt(5))/cos(3), 2 + 3 - sin(3 + (3 + (3 + x1)/sqrt(5) + (x1 + cos(5))/sqrt(5))/sqrt(5))/cos(3), 2 + 3 - sin(3 - cos(3) - cos(sin(x1)) + (3 + x1)/sqrt(5))/cos(3), 5 + cos(3 + x1/sqrt(5)), 5 + cos(sqrt(5) + (3 + x1)/sqrt(5)), 2 + 3 - sin(3 + (3 + x1)/sqrt(5))/cos(3), 2 + 3 - sin(3 + (3 + x1)/sqrt(5))/cos(3)]\n"
     ]
    },
    {
     "name": "stderr",
     "output_type": "stream",
     "text": [
      " 49%|████▉     | 49/100 [01:32<01:09,  1.36s/it]"
     ]
    },
    {
     "name": "stdout",
     "output_type": "stream",
     "text": [
      "5 + cos(3 + x3/sqrt(5)) 10879.403495413439\n",
      "[5 + cos(3 + x3/sqrt(5)), 5 + cos(3 + x3/sqrt(5)), 5 + cos(3 + (-x0 + cos(5))/sqrt(5)), 5 + cos(3 + (-x0 + cos(5))/sqrt(5)), 5 + cos(3 + (x1 + cos(cos(3 + (x1 + cos((3 + x1)/sqrt(5)))/sqrt(5))))/sqrt(5)), 2 + 3 - sin(3 + (3 + (3 + x1)/sqrt(5) + (x1 + cos(5))/sqrt(5))/sqrt(5))/cos(3), 2 + 3 - sin(3 + (3 + (3 + x1)/sqrt(5) + (x1 + cos(5))/sqrt(5))/sqrt(5))/cos(3), 2 + 3 - sin(3 - cos(3) - cos(sin(x1)) + (3 + x1)/sqrt(5))/cos(3), 5 + cos(3 + x1/sqrt(5)), 5 + cos(sqrt(5) + (3 + x1)/sqrt(5))]\n"
     ]
    },
    {
     "name": "stderr",
     "output_type": "stream",
     "text": [
      " 50%|█████     | 50/100 [01:34<01:22,  1.65s/it]"
     ]
    },
    {
     "name": "stdout",
     "output_type": "stream",
     "text": [
      "5 + cos(3 + x3/sqrt(5)) 10879.403495413439\n",
      "[5 + cos(3 + x3/sqrt(5)), 5 + cos(3 + x3/sqrt(5)), 3 + sqrt(5) - sin(3 + (3 + (3 + x1)/sqrt(5) + (x1 + cos(5))/sqrt(5))/sqrt(5))/cos(3), 5 + cos(3 + (-x0 + cos(5))/sqrt(5)), 5 + cos(3 + (-x0 + cos(5))/sqrt(5)), 5 + cos(3 + (-x0 + cos(5))/sqrt(5)), 5 + cos(3 + (x1 + cos(cos(5 + (x1 + cos((3 + x1)/sqrt(5)))/sqrt(5))))/sqrt(5)), 5 + cos(3 + (x1 + cos(cos(3 + (x1 + cos((3 + x1)/sqrt(5)))/sqrt(5))))/sqrt(5)), 2 + 3 - sin(3 + (3 + (3 + x1)/sqrt(5) + (x1 + cos(5))/sqrt(5))/sqrt(5))/cos(3), 2 + 3 - sin(3 + (3 + (3 + x1)/sqrt(5) + (x1 + cos(5))/sqrt(5))/sqrt(5))/cos(3)]\n"
     ]
    },
    {
     "name": "stderr",
     "output_type": "stream",
     "text": [
      " 51%|█████     | 51/100 [01:35<01:04,  1.31s/it]"
     ]
    },
    {
     "name": "stdout",
     "output_type": "stream",
     "text": [
      "5 + cos(3 + x3/sqrt(5)) 10879.403495413439\n",
      "[5 + cos(3 + x3/sqrt(5)), 5 + cos(3 + x3/sqrt(5)), 5 + cos(3 + x3/sqrt(5)), 3 + sqrt(5) - sin(3 + (3 + (3 + x1)/sqrt(5) + (x1 + cos(5))/sqrt(5))/sqrt(5))/cos(3), 5 + cos(2/x3) + cos(5 + cos(3 + (3 + x3)/sqrt(5))), 5 + cos(3 + (-x0 + cos(5))/sqrt(5)), 5 + cos(3 + (-x0 + cos(5))/sqrt(5)), 5 + cos(3 + (-x0 + cos(5))/sqrt(5)), 5 + cos(3 + (-x0 + cos(5))/sqrt(5)), 5 + cos(3 + (x1 + cos(cos(5 + (x1 + cos((3 + x1)/sqrt(5)))/sqrt(5))))/sqrt(5))]\n"
     ]
    },
    {
     "name": "stderr",
     "output_type": "stream",
     "text": [
      " 52%|█████▏    | 52/100 [01:36<00:59,  1.24s/it]"
     ]
    },
    {
     "name": "stdout",
     "output_type": "stream",
     "text": [
      "5 + cos(3 + x3/sqrt(5)) 10879.403495413439\n",
      "[5 + cos(3 + x3/sqrt(5)), 5 + cos(3 + x3/sqrt(5)), 5 + cos(3 + x3/sqrt(5)), 3 + sqrt(5) - sin(3 + (3 + (3 + x1)/sqrt(5) + (x1 + cos(5))/sqrt(5))/sqrt(5))/cos(3), 3 + sqrt(5) - sin(3 + (3 + (3 + x1)/sqrt(5) + (x1 + cos(5))/sqrt(5))/sqrt(5))/cos(3), 5 + cos(2/x3) + cos(5 + cos(3 + (3 + x3)/sqrt(5))), 5 + cos(3 + (-x0 + cos(5))/sqrt(5)), 5 + cos(3 + (-x0 + cos(5))/sqrt(5)), 5 + cos(3 + (-x0 + cos(5))/sqrt(5)), 5 + cos(3 + (-x0 + cos(5))/sqrt(5))]\n"
     ]
    },
    {
     "name": "stderr",
     "output_type": "stream",
     "text": [
      " 53%|█████▎    | 53/100 [01:38<01:11,  1.51s/it]"
     ]
    },
    {
     "name": "stdout",
     "output_type": "stream",
     "text": [
      "5 + cos(3 + x3/sqrt(5)) 10879.403495413439\n",
      "[5 + cos(3 + x3/sqrt(5)), 5 + cos(3 + x3/sqrt(5)), 5 + cos(3 + x3/sqrt(5)), 3 + sqrt(5) - sin(3 + (3 + (3 + x1)/sqrt(5) + (x1 + cos(5))/sqrt(5))/sqrt(5))/cos(3), 3 + sqrt(5) - sin(3 + (3 + (3 + x1)/sqrt(5) + (x1 + cos(5))/sqrt(5))/sqrt(5))/cos(3), 5 + cos(2/x3) + cos(5 + cos(3 + (3 + x3)/sqrt(5))), 5 + cos(3 + (-x0 + cos(5))/sqrt(5)), 5 + cos(3 + (-x0 + cos(5))/sqrt(5)), 5 + cos(3 + (-x0 + cos(5))/sqrt(5)), 5 + cos(3 + (-x0 + cos(5))/sqrt(5))]\n"
     ]
    },
    {
     "name": "stderr",
     "output_type": "stream",
     "text": [
      " 54%|█████▍    | 54/100 [01:39<01:04,  1.40s/it]"
     ]
    },
    {
     "name": "stdout",
     "output_type": "stream",
     "text": [
      "5 + cos(3 + x3/sqrt(5)) 10879.403495413439\n",
      "[5 + cos(3 + x3/sqrt(5)), 5 + cos(3 + x3/sqrt(5)), 5 + cos(3 + x3/sqrt(5)), 5 + cos(5) + cos(3 + (-x0 + cos(5))/sqrt(5)), 3 + sqrt(5) - sin(3 + (3 + (3 + x1)/sqrt(5) + (x1 + cos(5))/sqrt(5))/sqrt(5))/cos(3), 3 + sqrt(5) - sin(3 + (3 + (3 + x1)/sqrt(5) + (x1 + cos(5))/sqrt(5))/sqrt(5))/cos(3), 5 + cos(2/x3) + cos(5 + cos(3 + (3 + x3)/sqrt(5))), 5 + cos(3 + (-x0 + cos(5))/sqrt(5)), 5 + cos(3 + (-x0 + cos(5))/sqrt(5)), 5 + cos(3 + (-x0 + cos(5))/sqrt(5))]\n"
     ]
    },
    {
     "name": "stderr",
     "output_type": "stream",
     "text": [
      " 55%|█████▌    | 55/100 [01:40<00:52,  1.16s/it]"
     ]
    },
    {
     "name": "stdout",
     "output_type": "stream",
     "text": [
      "5 + cos(3 + x3/sqrt(5)) 10879.403495413439\n",
      "[5 + cos(3 + x3/sqrt(5)), 5 + cos(3 + x3/sqrt(5)), 5 + cos(3 + x3/sqrt(5)), 2 + 3 - sin(3 - cos(3) - cos(5 + cos(3 + x1/sqrt(5))) + (3 + x1)/sqrt(5))/cos(3) + cos(3 + (x1 + cos((5 + x1)/sqrt(5)))/sqrt(5)), 5 + cos(5) + cos(3 + (-x0 + cos(5))/sqrt(5)), 5 + cos(5) + cos(3 + (-x0 + cos(5))/sqrt(5)), 3 + sqrt(5) - sin(3 + (3 + (3 + x1)/sqrt(5) + (x1 + cos(5))/sqrt(5))/sqrt(5))/cos(3), 3 + sqrt(5) - sin(3 + (3 + (3 + x1)/sqrt(5) + (x1 + cos(5))/sqrt(5))/sqrt(5))/cos(3), 5 + cos(2/x3) + cos(5 + cos(3 + (3 + x3)/sqrt(5))), 5 + cos(3 + (-x0 + cos(5))/sqrt(5))]\n"
     ]
    },
    {
     "name": "stderr",
     "output_type": "stream",
     "text": [
      " 56%|█████▌    | 56/100 [01:40<00:44,  1.00s/it]"
     ]
    },
    {
     "name": "stdout",
     "output_type": "stream",
     "text": [
      "5 + cos(3 + x3/sqrt(5)) 10879.403495413439\n",
      "[5 + cos(3 + x3/sqrt(5)), 5 + cos(3 + x3/sqrt(5)), 5 + cos(3 + x3/sqrt(5)), 5 + cos(3 + x3/sqrt(5)), 2 + 3 - sin(3 - cos(3) - cos(5 + cos(3 + x1/sqrt(5))) + (3 + x1)/sqrt(5))/cos(3) + cos(3 + (x1 + cos((5 + x1)/sqrt(5)))/sqrt(5)), 5 + cos(5) + cos(3 + (-x0 + cos(5))/sqrt(5)), 5 + cos(5) + cos(3 + (-x0 + cos(5))/sqrt(5)), 3 + sqrt(5) - sin(3 + (3 + (3 + x1)/sqrt(5) + (x1 + cos(5))/sqrt(5))/sqrt(5))/cos(3), 3 + sqrt(5) - sin(3 + (3 + (3 + x1)/sqrt(5) + (x1 + cos(5))/sqrt(5))/sqrt(5))/cos(3), 5 + cos(2/x3) + cos(5 + cos(3 + (3 + x3)/sqrt(5)))]\n"
     ]
    },
    {
     "name": "stderr",
     "output_type": "stream",
     "text": [
      " 57%|█████▋    | 57/100 [01:42<00:55,  1.30s/it]"
     ]
    },
    {
     "name": "stdout",
     "output_type": "stream",
     "text": [
      "5 + cos(3 + x3/sqrt(5)) 10879.403495413439\n",
      "[5 + cos(3 + x3/sqrt(5)), 5 + cos(3 + x3/sqrt(5)), 5 + cos(3 + x3/sqrt(5)), 5 + cos(3 + x3/sqrt(5)), 2 + 3 - sin(3 - cos(3) - cos(5 + cos(3 + x1/sqrt(5))) + (3 + x1)/sqrt(5))/cos(3) + cos(3 + (x1 + cos((5 + x1)/sqrt(5)))/sqrt(5)), 5 + cos(5) + cos(3 + (-x0 + cos(5))/sqrt(5)), 5 + cos(5) + cos(3 + (-x0 + cos(5))/sqrt(5)), 3 + sqrt(5) - sin(3 + (3 + (3 + x1)/sqrt(5) + (x1 + cos(5))/sqrt(5))/sqrt(5))/cos(3), 3 + sqrt(5) - sin(3 + (3 + (3 + x1)/sqrt(5) + (x1 + cos(5))/sqrt(5))/sqrt(5))/cos(3), 5 + cos(2/x3) + cos(5 + cos(3 + (3 + x3)/sqrt(5)))]\n"
     ]
    },
    {
     "name": "stderr",
     "output_type": "stream",
     "text": [
      " 58%|█████▊    | 58/100 [01:43<00:46,  1.11s/it]"
     ]
    },
    {
     "name": "stdout",
     "output_type": "stream",
     "text": [
      "5 + cos(3 + x3/sqrt(5)) 10879.403495413439\n",
      "[5 + cos(3 + x3/sqrt(5)), 5 + cos(3 + x3/sqrt(5)), 5 + cos(3 + x3/sqrt(5)), 5 + cos(3 + x3/sqrt(5)), 2 + 3 - sin(3 - cos(3) - cos(5 + cos(3 + x1/sqrt(5))) + (3 + x1)/sqrt(5))/cos(3) + cos(3 + (x1 + cos((5 + x1)/sqrt(5)))/sqrt(5)), 5 + cos(5) + cos(3 + (-x0 + cos(5))/sqrt(5)), 5 + cos(5) + cos(3 + (-x0 + cos(5))/sqrt(5)), 3 + sqrt(5) - sin(3 + (3 + (3 + x1)/sqrt(5) + (x1 + cos(5))/sqrt(5))/sqrt(5))/cos(3), 3 + sqrt(5) - sin(3 + (3 + (3 + x1)/sqrt(5) + (x1 + cos(5))/sqrt(5))/sqrt(5))/cos(3), 5 + cos(2/x3) + cos(5 + cos(3 + (3 + x3)/sqrt(5)))]\n"
     ]
    },
    {
     "name": "stderr",
     "output_type": "stream",
     "text": [
      " 59%|█████▉    | 59/100 [01:46<01:07,  1.64s/it]"
     ]
    },
    {
     "name": "stdout",
     "output_type": "stream",
     "text": [
      "5 + cos(3 + x3/sqrt(5)) 10879.403495413439\n",
      "[5 + cos(3 + x3/sqrt(5)), 5 + cos(3 + x3/sqrt(5)), 5 + cos(3 + x3/sqrt(5)), 5 + cos(3 + x3/sqrt(5)), 2 + 3 - sin(3 - cos(3) - cos(5 + cos(3 + x1/sqrt(5))) + (3 + x1)/sqrt(5))/cos(3) + cos(3 + (x1 + cos((5 + x1)/sqrt(5)))/sqrt(5)), 5 + cos(5) + cos(3 + (-x0 + cos(5))/sqrt(5)), 5 + cos(5) + cos(3 + (-x0 + cos(5))/sqrt(5)), 5 + cos(5) + cos(3 - x0/sqrt(5)), 3 + sqrt(5) - sin(3 + (3 + (3 + x1)/sqrt(5) + (x1 + cos(5))/sqrt(5))/sqrt(5))/cos(3), 3 + sqrt(5) - sin(3 + (3 + (3 + x1)/sqrt(5) + (x1 + cos(5))/sqrt(5))/sqrt(5))/cos(3)]\n"
     ]
    },
    {
     "name": "stderr",
     "output_type": "stream",
     "text": [
      " 60%|██████    | 60/100 [01:46<00:52,  1.32s/it]"
     ]
    },
    {
     "name": "stdout",
     "output_type": "stream",
     "text": [
      "5 + cos(3 + x3/sqrt(5)) 10879.403495413439\n",
      "[5 + cos(3 + x3/sqrt(5)), 5 + cos(3 + x3/sqrt(5)), 5 + cos(3 + x3/sqrt(5)), 5 + cos(3 + x3/sqrt(5)), 5 + cos(3 + x3/sqrt(5)), 2 + 3 - sin(3 - cos(3) - cos(5 + cos(3 + x1/sqrt(5))) + (3 + x1)/sqrt(5))/cos(3) + cos(3 + (x1 + cos((5 + x1)/sqrt(5)))/sqrt(5)), 5 + cos(5) + cos(3 + (-x0 + cos(5))/sqrt(5)), 5 + cos(5) + cos(3 + (-x0 + cos(5))/sqrt(5)), 5 + cos(5) + cos(3 - x0/sqrt(5)), 3 + sqrt(5) - sin(3 + (3 + (3 + x1)/sqrt(5) + (x1 + cos(5))/sqrt(5))/sqrt(5))/cos(3)]\n"
     ]
    },
    {
     "name": "stderr",
     "output_type": "stream",
     "text": [
      " 61%|██████    | 61/100 [01:47<00:42,  1.09s/it]"
     ]
    },
    {
     "name": "stdout",
     "output_type": "stream",
     "text": [
      "5 + cos(3 + x3/sqrt(5)) 10879.403495413439\n",
      "[5 + cos(3 + x3/sqrt(5)), 5 + cos(3 + x3/sqrt(5)), 5 + cos(3 + x3/sqrt(5)), 5 + cos(3 + x3/sqrt(5)), 5 + cos(3 + x3/sqrt(5)), 5 + cos(3 + x3/sqrt(5)), 2 + 3 - sin(3 - cos(3) - cos(5 + cos(3 + x1/sqrt(5))) + (3 + x1)/sqrt(5))/cos(3) + cos(3 + (x1 + cos((5 + x1)/sqrt(5)))/sqrt(5)), 5 + cos(5) + cos(3 + (-x0 + cos(5))/sqrt(5)), 5 + cos(5) + cos(3 + (-x0 + cos(5))/sqrt(5)), 5 + cos(5) + cos(3 + (-x0 + cos(5))/sqrt(5))]\n"
     ]
    },
    {
     "name": "stderr",
     "output_type": "stream",
     "text": [
      " 62%|██████▏   | 62/100 [01:48<00:37,  1.01it/s]"
     ]
    },
    {
     "name": "stdout",
     "output_type": "stream",
     "text": [
      "5 + cos(3 + x3/sqrt(5)) 10879.403495413439\n",
      "[5 + cos(3 + x3/sqrt(5)), 5 + cos(3 + x3/sqrt(5)), 5 + cos(3 + x3/sqrt(5)), 5 + cos(3 + x3/sqrt(5)), 5 + cos(3 + x3/sqrt(5)), 5 + cos(3 + x3/sqrt(5)), 2 + 3 - sin(3 - cos(3) - cos(5 + cos(3 + x1/sqrt(5))) + (3 + x1)/sqrt(5))/cos(3) + cos(3 + (x1 + cos((5 + x1)/sqrt(5)))/sqrt(5)), 5 + cos(5) + cos(3 + (-x0 + cos(5))/sqrt(5)), 5 + cos(5) + cos(3 + (-x0 + cos(5))/sqrt(5)), 5 + cos(5) + cos(3 + (-x0 + cos(5))/sqrt(5))]\n"
     ]
    },
    {
     "name": "stderr",
     "output_type": "stream",
     "text": [
      " 63%|██████▎   | 63/100 [01:50<00:52,  1.42s/it]"
     ]
    },
    {
     "name": "stdout",
     "output_type": "stream",
     "text": [
      "5 + cos(3 + x3/sqrt(5)) 10879.403495413439\n",
      "[5 + cos(3 + x3/sqrt(5)), 5 + cos(3 + x3/sqrt(5)), 5 + cos(3 + x3/sqrt(5)), 5 + cos(3 + x3/sqrt(5)), 5 + cos(3 + x3/sqrt(5)), 2 + 3 - sin(3 - cos(3) - cos(5 + cos(3 + x1/sqrt(5))) + (3 + x1)/sqrt(5))/cos(3) + cos(3 + (x1 + cos((5 + x1)/sqrt(5)))/sqrt(5)), 5 + cos(5) + cos(3 + (-x0 + cos(5))/sqrt(5)), 5 + cos(5) + cos(3 + (-x0 + cos(5))/sqrt(5)), 5 + cos(5) + cos(3 + (-x0 + cos(5))/sqrt(5)), 5 + cos(5) + cos(3 + (-x0 + cos(5))/sqrt(5))]\n"
     ]
    },
    {
     "name": "stderr",
     "output_type": "stream",
     "text": [
      " 64%|██████▍   | 64/100 [01:52<00:53,  1.48s/it]"
     ]
    },
    {
     "name": "stdout",
     "output_type": "stream",
     "text": [
      "5 + cos(3 + x3/sqrt(5)) 10879.403495413439\n",
      "[5 + cos(3 + x3/sqrt(5)), 5 + cos(3 + x3/sqrt(5)), 5 + cos(3 + x3/sqrt(5)), 5 + cos(3 + x3/sqrt(5)), 5 + cos(3 + x3/sqrt(5)), 2 + 3 - sin(3 - cos(3) - cos(5 + cos(3 + x1/sqrt(5))) + (3 + x1)/sqrt(5))/cos(3) + cos(3 + (x1 + cos((5 + x1)/sqrt(5)))/sqrt(5)), 5 + cos(5) + cos(3 + (-x0 + cos(5))/sqrt(5)), 5 + cos(5) + cos(3 + (-x0 + cos(5))/sqrt(5)), 5 + cos(5) + cos(3 + (-x0 + cos(5))/sqrt(5)), 5 + cos(5) + cos(3 + (-x0 + cos(5))/sqrt(5))]\n"
     ]
    },
    {
     "name": "stderr",
     "output_type": "stream",
     "text": [
      " 65%|██████▌   | 65/100 [01:53<00:50,  1.43s/it]"
     ]
    },
    {
     "name": "stdout",
     "output_type": "stream",
     "text": [
      "5 + cos(3 + x3/sqrt(5)) 10879.403495413439\n",
      "[5 + cos(3 + x3/sqrt(5)), 5 + cos(3 + x3/sqrt(5)), 5 + cos(3 + x3/sqrt(5)), 5 + cos(3 + x3/sqrt(5)), 5 + cos(3 + x3/sqrt(5)), 2 + 3 - sin(3 - cos(3) - cos(5 + cos(3 + x1/sqrt(5))) + (3 + x1)/sqrt(5))/cos(3) + cos(3 + (x1 + cos((5 + x1)/sqrt(5)))/sqrt(5)), 5 + cos(5) + cos(3 + (-x0 + cos(5))/sqrt(5)), 5 + cos(5) + cos(3 + (-x0 + cos(5))/sqrt(5)), 5 + cos(5) + cos(3 + (-x0 + cos(5))/sqrt(5)), 5 + cos(5) + cos(3 + (-x0 + cos(5))/sqrt(5))]\n"
     ]
    },
    {
     "name": "stderr",
     "output_type": "stream",
     "text": [
      " 66%|██████▌   | 66/100 [01:54<00:41,  1.23s/it]"
     ]
    },
    {
     "name": "stdout",
     "output_type": "stream",
     "text": [
      "5 + 2*cos(5) + 2*cos(3 + (-x0 + cos(5))/sqrt(5)) 10686.556694138875\n",
      "[5 + 2*cos(5) + 2*cos(3 + (-x0 + cos(5))/sqrt(5)), 5 + 2*cos(3 + x3/sqrt(5)), 5 + cos(3 + x3/sqrt(5)), 5 + cos(3 + x3/sqrt(5)), 5 + cos(3 + x3/sqrt(5)), 5 + cos(3 + x3/sqrt(5)), 5 + cos(3 + x3/sqrt(5)), 2 + 3 - sin(3 - cos(3) - cos(5 + cos(3 + x1/sqrt(5))) + (3 + x1)/sqrt(5))/cos(3) + cos(3 + (x1 + cos((5 + x1)/sqrt(5)))/sqrt(5)), 5 + cos(5) + cos(3 + (-x0 + cos(5))/sqrt(5)), 5 + cos(5) + cos(3 + (-x0 + cos(5))/sqrt(5))]\n"
     ]
    },
    {
     "name": "stderr",
     "output_type": "stream",
     "text": [
      " 67%|██████▋   | 67/100 [01:55<00:35,  1.06s/it]"
     ]
    },
    {
     "name": "stdout",
     "output_type": "stream",
     "text": [
      "5 + 2*cos(5) + 2*cos(3 + (-x0 + cos(5))/sqrt(5)) 10686.556694138875\n",
      "[5 + 2*cos(5) + 2*cos(3 + (-x0 + cos(5))/sqrt(5)), 5 + cos(2/x3) + cos(5 + cos(3 + (3 + x3)/3)), 5 + 2*cos(3 + x3/sqrt(5)), 5 + cos(3 + x3/sqrt(5)), 5 + cos(3 + x3/sqrt(5)), 5 + cos(3 + x3/sqrt(5)), 5 + cos(3 + x3/sqrt(5)), 5 + cos(3 + x3/sqrt(5)), 5 + cos(3 + x3/sqrt(5)), 2 + 3 - sin(3 - cos(3) - cos(5 + cos(3 + x1/sqrt(5))) + (3 + x1)/sqrt(5))/cos(3) + cos(3 + (x1 + cos((5 + x1)/sqrt(5)))/sqrt(5))]\n"
     ]
    },
    {
     "name": "stderr",
     "output_type": "stream",
     "text": [
      " 68%|██████▊   | 68/100 [01:55<00:27,  1.16it/s]"
     ]
    },
    {
     "name": "stdout",
     "output_type": "stream",
     "text": [
      "5 + 2*cos(5) + 2*cos(3 + (-x0 + cos(5))/sqrt(5)) 10686.556694138875\n",
      "[5 + 2*cos(5) + 2*cos(3 + (-x0 + cos(5))/sqrt(5)), 5 + cos(3 + (-x0 + cos(5))/sqrt(5)) + cos(5 + cos(5) + cos(3 + (-x0 + cos(5))/sqrt(5))), 5 + cos(2/x3) + cos(5 + cos(3 + (3 + x3)/3)), 5 + 2*cos(5) + cos(3 + (3 - x0)/sqrt(5)) + cos(3 + (-x0 + cos(5))/sqrt(5)), 5 + 2*cos(3 + x3/sqrt(5)), 5 + cos(3 + x3/sqrt(5)), 5 + cos(3 + x3/sqrt(5)), 5 + cos(3 + x3/sqrt(5)), 5 + cos(3 + x3/sqrt(5)), 5 + cos(3 + x3/sqrt(5))]\n"
     ]
    },
    {
     "name": "stderr",
     "output_type": "stream",
     "text": [
      " 69%|██████▉   | 69/100 [01:57<00:41,  1.34s/it]"
     ]
    },
    {
     "name": "stdout",
     "output_type": "stream",
     "text": [
      "5 + 2*cos(5) + 2*cos(3 + (-x0 + cos(5))/sqrt(5)) 10686.556694138875\n",
      "[5 + 2*cos(5) + 2*cos(3 + (-x0 + cos(5))/sqrt(5)), 5 + 2*cos(5) + 2*cos(3 + (-x0 + cos(5))/sqrt(5)), 5 + cos(3 + (-x0 + cos(5))/sqrt(5)) + cos(5 + cos(5) + cos(3 + (-x0 + cos(5))/sqrt(5))), 5 + cos(2/x3) + cos(5 + cos(3 + (3 + x3)/3)), 5 + 2*cos(5) + cos(3 + (3 - x0)/sqrt(5)) + cos(3 + (-x0 + cos(5))/sqrt(5)), 5 + cos(5) + 2*cos(3 + (-x0 + cos(5))/sqrt(5)), 5 + 2*cos(3 + x3/sqrt(5)), 5 + cos(3 + x3/sqrt(5)), 5 + cos(3 + x3/sqrt(5)), 5 + cos(3 + x3/sqrt(5))]\n"
     ]
    },
    {
     "name": "stderr",
     "output_type": "stream",
     "text": [
      " 70%|███████   | 70/100 [01:58<00:32,  1.10s/it]"
     ]
    },
    {
     "name": "stdout",
     "output_type": "stream",
     "text": [
      "5 + 2*cos(5) + 2*cos(3 + (-x0 + cos(5))/sqrt(5)) 10686.556694138875\n",
      "[5 + 2*cos(5) + 2*cos(3 + (-x0 + cos(5))/sqrt(5)), 5 + 2*cos(5) + 2*cos(3 + (-x0 + cos(5))/sqrt(5)), 5 + cos(3 + (-x0 + cos(5))/sqrt(5)) + cos(5 + cos(5) + cos(3 + (-x0 + cos(5))/sqrt(5))), 5 + cos(2/x3) + cos(5 + cos(3 + (3 + x3)/3)), 5 + 2*cos(5) + cos(3 + (3 - x0)/sqrt(5)) + cos(3 + (-x0 + cos(5))/sqrt(5)), 5 + cos(5) + 2*cos(3 + (-x0 + cos(5))/sqrt(5)), 5 + cos(5) + cos(3 + (-x0 + cos(5))/3) + cos(3 + (-x0 + cos(5))/sqrt(5)), 5 + 2*cos(3 + x3/sqrt(5)), 5 + cos(3 + x3/sqrt(5)), 5 + cos(3 + x3/sqrt(5))]\n"
     ]
    },
    {
     "name": "stderr",
     "output_type": "stream",
     "text": [
      " 71%|███████   | 71/100 [01:59<00:26,  1.08it/s]"
     ]
    },
    {
     "name": "stdout",
     "output_type": "stream",
     "text": [
      "5 + 2*cos(5) + 2*cos(3 + (-x0 + cos(5))/sqrt(5)) 10686.556694138875\n",
      "[5 + 2*cos(5) + 2*cos(3 + (-x0 + cos(5))/sqrt(5)), 5 + 2*cos(5) + 2*cos(3 + (-x0 + cos(5))/sqrt(5)), 5 + cos(3 + (-x0 + cos(5))/sqrt(5)) + cos(5 + cos(5) + cos(3 + (-x0 + cos(5))/sqrt(5))), 5 + cos(2/x3) + cos(5 + cos(3 + (3 + x3)/3)), 5 + cos(2/x3) + cos(5 + cos(3 + (3 + x3)/3)), 5 + 2*cos(5) + cos(3 + (3 - x0)/sqrt(5)) + cos(3 + (-x0 + cos(5))/sqrt(5)), 5 + cos(5) + 2*cos(3 + (-x0 + cos(5))/sqrt(5)), 5 + cos(5) + cos(3 + (-x0 + cos(5))/3) + cos(3 + (-x0 + cos(5))/sqrt(5)), 5 + 2*cos(3 + x3/sqrt(5)), 5 + cos(3 + x3/sqrt(5))]\n"
     ]
    },
    {
     "name": "stderr",
     "output_type": "stream",
     "text": [
      " 72%|███████▏  | 72/100 [01:59<00:21,  1.32it/s]"
     ]
    },
    {
     "name": "stdout",
     "output_type": "stream",
     "text": [
      "5 + cos(5) + 2*cos(3 + (-x0 + cos(5))/sqrt(5)) + cos(tan(3)) 10608.674616533448\n",
      "[5 + cos(5) + 2*cos(3 + (-x0 + cos(5))/sqrt(5)) + cos(tan(3)), 5 + 2*cos(5) + 2*cos(3 + (-x0 + cos(5))/sqrt(5)), 5 + 2*cos(5) + 2*cos(3 + (-x0 + cos(5))/sqrt(5)), 5 + cos(3 + (-x0 + cos(5))/sqrt(5)) + cos(5 + cos(5) + cos(3 + (-x0 + cos(5))/sqrt(5))), 5 + cos(2/x3) + cos(5 + cos(3 + (3 + x3)/3)), 5 + cos(2/x3) + cos(5 + cos(3 + (3 + x3)/3)), 5 + cos(2/x3) + cos(5 + cos(3 + (3 + x3)/3)), 5 + 2*cos(5) + cos(3 + (3 - x0)/sqrt(5)) + cos(3 + (-x0 + cos(5))/sqrt(5)), 5 + 2*cos(5) + cos(3 + (3 - x0)/sqrt(5)) + cos(3 + (-x0 + cos(5))/sqrt(5)), 5 + cos(5) + 2*cos(3 + (-x0 + cos(5))/sqrt(5))]\n"
     ]
    },
    {
     "name": "stderr",
     "output_type": "stream",
     "text": [
      " 73%|███████▎  | 73/100 [01:59<00:17,  1.54it/s]"
     ]
    },
    {
     "name": "stdout",
     "output_type": "stream",
     "text": [
      "5 + cos(5) + 2*cos(3 + (-x0 + cos(5))/sqrt(5)) + cos(tan(3)) 10608.674616533448\n",
      "[5 + cos(5) + 2*cos(3 + (-x0 + cos(5))/sqrt(5)) + cos(tan(3)), 5 + 2*cos(5) + 2*cos(3 + (-x0 + cos(5))/sqrt(5)), 5 + 2*cos(5) + 2*cos(3 + (-x0 + cos(5))/sqrt(5)), 5 + cos(3 + (-x0 + cos(5))/sqrt(5)) + cos(5 + cos(5) + cos(3 + (-x0 + cos(5))/sqrt(5))), 5 + cos(3 + (-x0 + cos(5))/sqrt(5)) + cos(5 + cos(5) + cos(3 + (-x0 + cos(5))/sqrt(5))), 5 + cos(2/x3) + cos(5 + cos(3 + (3 + x3)/3)), 5 + cos(2/x3) + cos(5 + cos(3 + (3 + x3)/3)), 5 + cos(2/x3) + cos(5 + cos(3 + (3 + x3)/3)), 5 + cos(2/x3) + cos(5 + cos(3 + (3 + x3)/(5 + cos(2)))), 5 + 2*cos(5 + cos(3 + (3 + x3)/3))]\n"
     ]
    },
    {
     "name": "stderr",
     "output_type": "stream",
     "text": [
      " 74%|███████▍  | 74/100 [02:00<00:15,  1.67it/s]"
     ]
    },
    {
     "name": "stdout",
     "output_type": "stream",
     "text": [
      "5 + cos(5) + 2*cos(3 + (-x0 + cos(5))/sqrt(5)) + cos(tan(3)) 10608.674616533448\n",
      "[5 + cos(5) + 2*cos(3 + (-x0 + cos(5))/sqrt(5)) + cos(tan(3)), 5 + 2*cos(5) + 2*cos(3 + (-x0 + cos(5))/sqrt(5)), 5 + 2*cos(5) + 2*cos(3 + (-x0 + cos(5))/sqrt(5)), 5 + cos(3 + (-x0 + cos(5))/sqrt(5)) + cos(5 + cos(5) + cos(3 + (-x0 + cos(5))/sqrt(5))), 5 + cos(3 + (-x0 + cos(5))/sqrt(5)) + cos(5 + cos(5) + cos(3 + (-x0 + cos(5))/sqrt(5))), 5 + cos(2/x3) + cos(5 + cos(3 + (3 + x3)/3)), 5 + cos(2/x3) + cos(5 + cos(3 + (3 + x3)/3)), 5 + cos(2/x3) + cos(5 + cos(3 + (3 + x3)/3)), 5 + 2*cos(5 + cos(3 + (3 + x3)/3)), 5 + 2*cos(5 + cos(3 + (3 + x3)/3))]\n"
     ]
    },
    {
     "name": "stderr",
     "output_type": "stream",
     "text": [
      " 75%|███████▌  | 75/100 [02:01<00:21,  1.18it/s]"
     ]
    },
    {
     "name": "stdout",
     "output_type": "stream",
     "text": [
      "5 + cos(5) + 2*cos(3 + (-x0 + cos(5))/sqrt(5)) + cos(tan(3)) 10608.674616533448\n",
      "[5 + cos(5) + 2*cos(3 + (-x0 + cos(5))/sqrt(5)) + cos(tan(3)), 5 + cos(3 + (-x0 + cos(5))/sqrt(5)) + cos(5 + cos(5) + cos(3 + (-x0 + cos(5))/sqrt(5))), 5 + cos(3 + (-x0 + cos(5))/sqrt(5)) + cos(5 + cos(5) + cos(3 + (-x0 + cos(5))/sqrt(5))), 5 + cos(2/x3) + cos(5 + cos(3 + (3 + x3)/3)), 5 + cos(2/x3) + cos(5 + cos(3 + (3 + x3)/3)), 5 + cos(2/x3) + cos(5 + cos(3 + (3 + x3)/3)), 5 + 2*cos(5 + cos(3 + (3 + x3)/3)), 5 + 2*cos(5 + cos(3 + (3 + x3)/3)), 5 + 2*cos(5) + cos(3 + (3 - x0)/sqrt(5)) + cos(3 + (-x0 + cos(5))/sqrt(5)), 5 + 2*cos(5) + cos(3 + (3 - x0)/sqrt(5)) + cos(3 + (-x0 + cos(5))/sqrt(5))]\n"
     ]
    },
    {
     "name": "stderr",
     "output_type": "stream",
     "text": [
      " 76%|███████▌  | 76/100 [02:03<00:30,  1.27s/it]"
     ]
    },
    {
     "name": "stdout",
     "output_type": "stream",
     "text": [
      "5 + cos(5) + 2*cos(3 + (-x0 + cos(5))/sqrt(5)) + cos(tan(3)) 10608.674616533448\n",
      "[5 + cos(5) + 2*cos(3 + (-x0 + cos(5))/sqrt(5)) + cos(tan(3)), 5 + cos(3 + (-x0 + cos(5))/sqrt(5)) + cos(5 + cos(5) + cos(3 + (-x0 + cos(5))/sqrt(5))), 5 + cos(3 + (-x0 + cos(5))/sqrt(5)) + cos(5 + cos(5) + cos(3 + (-x0 + cos(5))/sqrt(5))), 5 + cos(2/x3) + cos(5 + cos(3 + (3 + x3)/3)), 5 + cos(2/x3) + cos(5 + cos(3 + (3 + x3)/3)), 5 + cos(2/x3) + cos(5 + cos(3 + (3 + x3)/3)), 5 + cos(2/x3) + cos(5 + cos(3 + (3 + x3)/3)), 5 + 2*cos(5 + cos(3 + (3 + x3)/3)), 5 + 2*cos(5 + cos(3 + (3 + x3)/3)), 5 + 2*cos(5) + cos(3 + (3 - x0)/sqrt(5)) + cos(3 + (-x0 + cos(5))/sqrt(5))]\n"
     ]
    },
    {
     "name": "stderr",
     "output_type": "stream",
     "text": [
      " 77%|███████▋  | 77/100 [02:05<00:29,  1.29s/it]"
     ]
    },
    {
     "name": "stdout",
     "output_type": "stream",
     "text": [
      "5 + cos(5) + 2*cos(3 + (-x0 + cos(5))/sqrt(5)) + cos(tan(3)) 10608.674616533448\n",
      "[5 + cos(5) + 2*cos(3 + (-x0 + cos(5))/sqrt(5)) + cos(tan(3)), 5 + 2*cos(3 + (-x0 + cos(5))/sqrt(5)) + cos(5 + cos(5) + cos(3 + (-x0 + cos(5))/sqrt(5))) + cos(tan(3)), 5 + cos(3 + (-x0 + cos(5))/sqrt(5)) + cos(5 + cos(5) + cos(3 + (-x0 + cos(5))/sqrt(5))), 5 + cos(3 + (-x0 + cos(5))/sqrt(5)) + cos(5 + cos(5) + cos(3 + (-x0 + cos(5))/sqrt(5))), 5 + cos(3 + (-x0 + cos(5))/sqrt(5)) + cos(5 + cos(5) + cos(3 + (-x0 + cos(5))/sqrt(5))), 5 + cos(2/x3) + cos(5 + cos(3 + (3 + x3)/3)), 5 + cos(2/x3) + cos(5 + cos(3 + (3 + x3)/3)), 5 + cos(2/x3) + cos(5 + cos(3 + (3 + x3)/3)), 5 + cos(2/x3) + cos(5 + cos(3 + (3 + x3)/3)), 5 + 2*cos(5 + cos(3 + (3 + x3)/3))]\n"
     ]
    },
    {
     "name": "stderr",
     "output_type": "stream",
     "text": [
      " 78%|███████▊  | 78/100 [02:05<00:24,  1.11s/it]"
     ]
    },
    {
     "name": "stdout",
     "output_type": "stream",
     "text": [
      "5 + 2*cos(3 + (-x0 + cos(5))/sqrt(5)) + cos(cos(4/sqrt(5))) 10575.441871804444\n",
      "[5 + 2*cos(3 + (-x0 + cos(5))/sqrt(5)) + cos(cos(4/sqrt(5))), 5 + cos(5) + 2*cos(3 + (-x0 + cos(5))/sqrt(5)) + cos(tan(3)), 5 + 2*cos(3 + (-x0 + cos(5))/sqrt(5)) + cos(5 + cos(5) + cos(3 + (-x0 + cos(5))/sqrt(5))) + cos(tan(3)), 5 + cos(3 + (-x0 + cos(5))/sqrt(5)) + cos(5 + cos(5) + cos(3 + (-x0 + cos(5))/sqrt(5))), 5 + cos(3 + (-x0 + cos(5))/sqrt(5)) + cos(5 + cos(5) + cos(3 + (-x0 + cos(5))/sqrt(5))), 5 + cos(3 + (-x0 + cos(5))/sqrt(5)) + cos(5 + cos(5) + cos(3 + (-x0 + cos(5))/sqrt(5))), 5 + cos(2/x3) + cos(5 + cos(3 + (3 + x3)/3)), 5 + cos(2/x3) + cos(5 + cos(3 + (3 + x3)/3)), 5 + cos(2/x3) + cos(5 + cos(3 + (3 + x3)/3)), 5 + cos(2/x3) + cos(5 + cos(3 + (3 + x3)/3))]\n"
     ]
    },
    {
     "name": "stderr",
     "output_type": "stream",
     "text": [
      " 79%|███████▉  | 79/100 [02:06<00:19,  1.07it/s]"
     ]
    },
    {
     "name": "stdout",
     "output_type": "stream",
     "text": [
      "5 + 2*cos(3 + (-x0 + cos(5))/sqrt(5)) + cos(cos(4/sqrt(5))) 10575.441871804444\n",
      "[5 + 2*cos(3 + (-x0 + cos(5))/sqrt(5)) + cos(cos(4/sqrt(5))), 5 + cos(5) + 2*cos(3 + (-x0 + cos(5))/sqrt(5)) + cos(tan(3)), 5 + cos(5) + 2*cos(3 + (-x0 + cos(5))/sqrt(5)) + cos(tan(3)), 5 + cos(2/x3) + cos(3 + 5 + (3 + x3)/sqrt(5)), 5 + 2*cos(3 + (-x0 + cos(5))/sqrt(5)) + cos(5 + cos(5) + cos(3 + (-x0 + cos(5))/sqrt(5))) + cos(tan(3)), 5 + cos(3 + (-x0 + cos(5))/sqrt(5)) + cos(5 + cos(5) + cos(3 + (-x0 + cos(5))/sqrt(5))), 5 + cos(3 + (-x0 + cos(5))/sqrt(5)) + cos(5 + cos(5) + cos(3 + (-x0 + cos(5))/sqrt(5))), 5 + cos(3 + (-x0 + cos(5))/sqrt(5)) + cos(5 + cos(5) + cos(3 + (-x0 + cos(5))/sqrt(5))), 5 + cos(3 + (-x0 + cos(5))/sqrt(5)) + cos(5 + cos(5) + cos(3 + (-x0 + cos(5))/sqrt(5))), 5 + cos(2/x3) + cos(5 + cos(3 + (3 + x3)/3))]\n"
     ]
    },
    {
     "name": "stderr",
     "output_type": "stream",
     "text": [
      " 80%|████████  | 80/100 [02:08<00:24,  1.23s/it]"
     ]
    },
    {
     "name": "stdout",
     "output_type": "stream",
     "text": [
      "5 + 2*cos(3 + (-x0 + cos(5))/sqrt(5)) + cos(cos(4/sqrt(5))) 10575.441871804444\n",
      "[5 + 2*cos(3 + (-x0 + cos(5))/sqrt(5)) + cos(cos(4/sqrt(5))), 5 + cos(5) + 2*cos(3 + (-x0 + cos(5))/sqrt(5)) + cos(tan(3)), 5 + cos(5) + 2*cos(3 + (-x0 + cos(5))/sqrt(5)) + cos(tan(3)), 5 + cos(2/x3) + cos(3 + 5 + (3 + x3)/sqrt(5)), 5 + 2*cos(3 + (-x0 + cos(5))/sqrt(5)) + cos(5 + cos(5) + cos(3 + (-x0 + cos(5))/sqrt(5))) + cos(tan(3)), 5 + cos(2/x3) + cos(5 + 2*cos(3 + (3 + x3)/3)), 5 + cos(5) + cos(3 + (-log(exp(x3)) + cos(5))/sqrt(5)), 5 + cos(3 + (-x0 + cos(5))/sqrt(5)) + cos(5 + cos(5) + cos(3 + (-x0 + cos(5))/sqrt(5))), 5 + cos(3 + (-x0 + cos(5))/sqrt(5)) + cos(5 + cos(5) + cos(3 + (-x0 + cos(5))/sqrt(5))), 5 + cos(3 + (-x0 + cos(5))/sqrt(5)) + cos(5 + cos(5) + cos(3 + (-x0 + cos(5))/sqrt(5)))]\n"
     ]
    },
    {
     "name": "stderr",
     "output_type": "stream",
     "text": [
      " 81%|████████  | 81/100 [02:08<00:19,  1.00s/it]"
     ]
    },
    {
     "name": "stdout",
     "output_type": "stream",
     "text": [
      "5 + 2*cos(3 + (-x0 + cos(5))/sqrt(5)) + cos(cos(4/sqrt(5))) 10575.441871804444\n",
      "[5 + 2*cos(3 + (-x0 + cos(5))/sqrt(5)) + cos(cos(4/sqrt(5))), 5 + cos(5) + 2*cos(3 + (-x0 + cos(5))/sqrt(5)) + cos(tan(3)), 5 + cos(5) + 2*cos(3 + (-x0 + cos(5))/sqrt(5)) + cos(tan(3)), 5 + cos(2/x3) + cos(3 + 5 + (3 + x3)/sqrt(5)), 5 + 2*cos(3 + (-x0 + cos(5))/sqrt(5)) + cos(5 + cos(5) + cos(3 + (-x0 + cos(5))/sqrt(5))) + cos(tan(3)), 5 + cos(3 + (-x0 + cos(5))/sqrt(5 + cos(5) + cos(3 + (-x0 + cos(5))/sqrt(5)))) + cos(exp(sqrt(3)) + cos(5) + cos(3 + (-x0 + cos(5))/sqrt(5))), 5 + cos(2/x3) + cos(5 + 2*cos(3 + (3 + x3)/3)), 5 + cos(2/x3) + cos(5 + cos(3 + (3 + x3)/3) + cos(3 + (3 + x3)/5)), 5 + cos(5) + cos(3 + (-log(exp(x3)) + cos(5))/sqrt(5)), 5 + cos(3 + (-x0 + cos(5))/sqrt(5)) + cos(5 + cos(5) + cos(3 + (-x0 + cos(5))/sqrt(5)))]\n"
     ]
    },
    {
     "name": "stderr",
     "output_type": "stream",
     "text": [
      " 82%|████████▏ | 82/100 [02:09<00:15,  1.18it/s]"
     ]
    },
    {
     "name": "stdout",
     "output_type": "stream",
     "text": [
      "5 + 2*cos(3 + (-x0 + cos(5))/sqrt(5)) + cos(cos(4/sqrt(5))) 10575.441871804444\n",
      "[5 + 2*cos(3 + (-x0 + cos(5))/sqrt(5)) + cos(cos(4/sqrt(5))), 5 + cos(5) + 2*cos(3 + (-x0 + cos(5))/sqrt(5)) + cos(tan(3)), 5 + cos(5) + 2*cos(3 + (-x0 + cos(5))/sqrt(5)) + cos(tan(3)), 5 + cos(5) + cos(3 + (-x0 + cos(5))/sqrt(5)) + cos(3 + (-x0 + cos(x0 - cos(5)))/sqrt(5)) + cos(tan(3)), 5 + cos(2/x3) + cos(5 + cos(3 + (3 + x3)/3) + cos(3 + x3/5)), 5 + cos(2/x3) + cos(3 + 5 + (3 + x3)/sqrt(5)), 5 + 2*cos(3 + (-x0 + cos(5))/sqrt(5)) + cos(5 + cos(5) + cos(3 + (-x0 + cos(5))/sqrt(5))) + cos(tan(3)), 5 + cos(3 + (-x0 + cos(5))/sqrt(5 + cos(5) + cos(3 + (-x0 + cos(5))/sqrt(5)))) + cos(exp(sqrt(3)) + cos(5) + cos(3 + (-x0 + cos(5))/sqrt(5))), 5 + cos(2/x3) + cos(5 + 2*cos(3 + (3 + x3)/3)), 5 + cos(2/x3) + cos(5 + cos(3 + (3 + x3)/3) + cos(3 + (3 + x3)/5))]\n"
     ]
    },
    {
     "name": "stderr",
     "output_type": "stream",
     "text": [
      " 83%|████████▎ | 83/100 [02:09<00:12,  1.35it/s]"
     ]
    },
    {
     "name": "stdout",
     "output_type": "stream",
     "text": [
      "5 + cos(5) + cos(3 + (-x0 + cos(5))/sqrt(5)) + cos(3 + (cos(5) + (-x0 + cos(5))/sqrt(3 + (cos(5) + (-x0 + cos(5))/sqrt(5))/sqrt(5)))/sqrt(5)) + cos(log(2)) 10557.155733054078\n",
      "[5 + cos(5) + cos(3 + (-x0 + cos(5))/sqrt(5)) + cos(3 + (cos(5) + (-x0 + cos(5))/sqrt(3 + (cos(5) + (-x0 + cos(5))/sqrt(5))/sqrt(5)))/sqrt(5)) + cos(log(2)), 5 + 2*cos(3 + (-x0 + cos(5))/sqrt(5)) + cos(cos(4/sqrt(5))), 5 + 2*cos(3 + (-x0 + cos(5))/sqrt(5)) + cos(cos(4/sqrt(5))), 5 + cos(5) + 2*cos(3 + (-x0 + cos(5))/sqrt(5)) + cos(tan(3)), 5 + cos(5) + 2*cos(3 + (-x0 + cos(5))/sqrt(5)) + cos(tan(3)), 5 + cos(5) + cos(3 + (-x0 + cos(5))/sqrt(5)) + cos(3 + (-x0 + cos(x0 - cos(5)))/sqrt(5)) + cos(tan(3)), 5 + cos(5 + cos(3 + (3 + x3)/3)) + cos(5 + cos(3 + (3 + x3)/3) + cos(3 + x3/sqrt(5 + cos(3 + x3)))), 5 + cos(2/x3) + cos(5 + cos(3 + (3 + x3)/3) + cos(3 + x3/5)), 5 + cos(2/x3) + cos(3 + 5 + (3 + x3)/sqrt(5)), 5 + cos(5) + 2*cos(3 + (-x0 + cos(5))/sqrt(5)) + cos(tan(sqrt(5)))]\n"
     ]
    },
    {
     "name": "stderr",
     "output_type": "stream",
     "text": [
      " 84%|████████▍ | 84/100 [02:10<00:10,  1.53it/s]"
     ]
    },
    {
     "name": "stdout",
     "output_type": "stream",
     "text": [
      "5 + cos(5) + cos(3 + (-x0 + cos(5))/sqrt(5)) + cos(3 + (cos(5) + (-x0 + cos(5))/sqrt(3 + (cos(5) + (-x0 + cos(5))/sqrt(5))/sqrt(5)))/sqrt(5)) + cos(log(2)) 10557.155733054078\n",
      "[5 + cos(5) + cos(3 + (-x0 + cos(5))/sqrt(5)) + cos(3 + (cos(5) + (-x0 + cos(5))/sqrt(3 + (cos(5) + (-x0 + cos(5))/sqrt(5))/sqrt(5)))/sqrt(5)) + cos(log(2)), 5 + 2*cos(3 + (-x0 + cos(5))/sqrt(5)) + cos(cos(4/sqrt(5))), 5 + 2*cos(3 + (-x0 + cos(5))/sqrt(5)) + cos(cos(4/sqrt(5))), 5 + cos(5) + cos(3 + (-x0 + cos(5))/sqrt(5)) + cos(3 + (cos(x0) + (-x0 + cos(5))/sqrt(3 + (cos(5) + (-x0 + cos(5))/sqrt(5))/sqrt(5)))/sqrt(5)) + cos(log(2)), 5 + cos(5) + 2*cos(3 + (-x0 + cos(5))/sqrt(5)) + cos(tan(3)), 5 + cos(5) + 2*cos(3 + (-x0 + cos(5))/sqrt(5)) + cos(tan(3)), 5 + cos(5) + cos(3 + (-x0 + cos(5))/sqrt(5)) + cos(3 + (-x0 + cos(x0 - cos(5)))/sqrt(5)) + cos(tan(3)), 5 + cos(5 + cos(3 + (3 + x3)/3)) + cos(5 + cos(3 + (3 + x3)/3) + cos(3 + x3/sqrt(5 + cos(3 + x3)))), 5 + cos(2/x3) + cos(5 + cos(3 + (3 + x3)/3) + cos(3 + x3/5)), 5 + cos(2/x3) + cos(3 + 5 + (3 + x3)/sqrt(5))]\n"
     ]
    },
    {
     "name": "stderr",
     "output_type": "stream",
     "text": [
      " 85%|████████▌ | 85/100 [02:12<00:18,  1.21s/it]"
     ]
    },
    {
     "name": "stdout",
     "output_type": "stream",
     "text": [
      "5 + cos(5) + cos(3 + (-x0 + cos(5))/sqrt(5)) + cos(3 + (cos(5) + (-x0 + cos(5))/sqrt(3 + (cos(5) + (-x0 + cos(5))/sqrt(5))/sqrt(5)))/sqrt(5)) + cos(log(2)) 10557.155733054078\n",
      "[5 + cos(5) + cos(3 + (-x0 + cos(5))/sqrt(5)) + cos(3 + (cos(5) + (-x0 + cos(5))/sqrt(3 + (cos(5) + (-x0 + cos(5))/sqrt(5))/sqrt(5)))/sqrt(5)) + cos(log(2)), 5 + 2*cos(3 + (-x0 + cos(5))/sqrt(5)) + cos(cos(4/sqrt(5))), 5 + 2*cos(3 + (-x0 + cos(5))/sqrt(5)) + cos(cos(4/sqrt(5))), 5 + cos(5) + 2*cos(3 + (-x0 + cos(5))/sqrt(5)) + cos(tan(sqrt(cos(5)))), 5 + cos(5) + cos(3 + (-x0 + cos(5))/sqrt(5)) + cos(3 + (cos(x0) + (-x0 + cos(5))/sqrt(3 + (cos(5) + (-x0 + cos(5))/sqrt(5))/sqrt(5)))/sqrt(5)) + cos(log(2)), 5 + cos(5) + 2*cos(3 + (-x0 + cos(5))/sqrt(5)) + cos(tan(3)), 5 + cos(5) + 2*cos(3 + (-x0 + cos(5))/sqrt(5)) + cos(tan(3)), 5 + cos(5) + cos(3 + (-x0 + cos(5))/sqrt(5)) + cos(3 + (-x0 + cos(x0 - cos(5)))/sqrt(5)) + cos(tan(3)), 5 + cos(5 + cos(3 + (3 + x3)/3)) + cos(5 + cos(3 + (3 + x3)/3) + cos(3 + x3/sqrt(5 + cos(3 + x3)))), 5 + cos(2/x3) + cos(3 + 5 + (3 + x3)/sqrt(5))]\n"
     ]
    },
    {
     "name": "stderr",
     "output_type": "stream",
     "text": [
      " 86%|████████▌ | 86/100 [02:14<00:17,  1.26s/it]"
     ]
    },
    {
     "name": "stdout",
     "output_type": "stream",
     "text": [
      "5 + cos(5) + cos(3 + (-x0 + cos(5))/sqrt(5)) + cos(3 + (cos(5) + (-x0 + cos(5))/sqrt(3 + (cos(5) + (-x0 + cos(5))/sqrt(5))/sqrt(5)))/sqrt(5)) + cos(log(2)) 10557.155733054078\n",
      "[5 + cos(5) + cos(3 + (-x0 + cos(5))/sqrt(5)) + cos(3 + (cos(5) + (-x0 + cos(5))/sqrt(3 + (cos(5) + (-x0 + cos(5))/sqrt(5))/sqrt(5)))/sqrt(5)) + cos(log(2)), 5 + 2*cos(3 + (-x0 + cos(5))/sqrt(5)) + cos(cos(4/sqrt(5))), 5 + 2*cos(3 + (-x0 + cos(5))/sqrt(5)) + cos(cos(4/sqrt(5))), 5 + 2*cos(3 + (-x0 + cos(5))/sqrt(5)) + cos(cos(4/sqrt(5))), 5 + cos(5) + 2*cos(3 + (-x0 + cos(5))/sqrt(5)) + cos(tan(sqrt(cos(5)))), 5 + cos(3 + (-x0 + cos(5))/sqrt(5)) + cos(3 + (-x0 + cos(5))/sqrt(3 + (5 + (-x0 + cos(5))/sqrt(5))/sqrt(5))) + cos(cos(4/sqrt(5))), 5 + cos(3 + x3/sqrt(5 + cos(3 + x3/3))) + 2*cos(5 + cos(3 + (3 + x3)/3)), 5 + cos(5) + cos(3 + (-x0 + cos(5))/sqrt(5)) + cos(3 + (cos(x0) + (-x0 + cos(5))/sqrt(3 + (cos(5) + (-x0 + cos(5))/sqrt(5))/sqrt(5)))/sqrt(5)) + cos(log(2)), 5 + cos(5) + cos(3 + (-x0 + cos(5))/sqrt(5)) + cos(3 + (cos(x0) + (-x0 + cos(5))/sqrt(3 + (cos(5) + (-x0 + cos(5))/sqrt(5))/sqrt(5)))/sqrt(5)) + cos(log(2)), 5 + cos(5) + 2*cos(3 + (-x0 + cos(5))/sqrt(5)) + cos(tan(3))]\n"
     ]
    },
    {
     "name": "stderr",
     "output_type": "stream",
     "text": [
      " 87%|████████▋ | 87/100 [02:14<00:13,  1.06s/it]"
     ]
    },
    {
     "name": "stdout",
     "output_type": "stream",
     "text": [
      "5 + cos(5) + cos(3 + (-x0 + cos(5))/sqrt(5)) + cos(3 + (cos(5) + (-x0 + cos(5))/sqrt(3 + (cos(5) + (-x0 + cos(5))/sqrt(5))/sqrt(5)))/sqrt(5)) + cos(log(2)) 10557.155733054078\n",
      "[5 + cos(5) + cos(3 + (-x0 + cos(5))/sqrt(5)) + cos(3 + (cos(5) + (-x0 + cos(5))/sqrt(3 + (cos(5) + (-x0 + cos(5))/sqrt(5))/sqrt(5)))/sqrt(5)) + cos(log(2)), 5 + cos(5) + cos(3 + (-x0 + cos(5))/sqrt(5)) + cos(3 + (cos(5) + (-x0 + cos(5))/sqrt(3 + (cos(5) + (-x0 + cos(5))/sqrt(5))/sqrt(5)))/sqrt(5)) + cos(log(2)), 5 + 2*cos(3 + (-x0 + cos(5))/sqrt(5)) + cos(cos(4/sqrt(5))), 5 + 2*cos(3 + (-x0 + cos(5))/sqrt(5)) + cos(cos(4/sqrt(5))), 5 + 2*cos(3 + (-x0 + cos(5))/sqrt(5)) + cos(cos(4/sqrt(5))), 5 + cos(5) + 2*cos(3 + (-x0 + cos(5))/sqrt(5)) + cos(tan(sqrt(cos(5)))), 5 + cos(3 + (-x0 + cos(5))/sqrt(5)) + cos(3 + (-x0 + cos(5))/sqrt(3 + (5 + (-x0 + cos(5))/sqrt(5))/sqrt(5))) + cos(cos(4/sqrt(5))), 5 + cos(3 + x3/sqrt(5 + cos(3 + x3/3))) + 2*cos(5 + cos(3 + (3 + x3)/3)), 5 + cos(5) + cos(3 + (-x0 + cos(5))/sqrt(5)) + cos(3 + (cos(x0) + (-x0 + cos(5))/sqrt(3 + (cos(5) + (-x0 + cos(5))/sqrt(5))/sqrt(5)))/sqrt(5)) + cos(log(2)), 5 + cos(5) + cos(3 + (-x0 + cos(5))/sqrt(5)) + cos(3 + (cos(x0) + (-x0 + cos(5))/sqrt(3 + (cos(5) + (-x0 + cos(5))/sqrt(5))/sqrt(5)))/sqrt(5)) + cos(log(2))]\n"
     ]
    },
    {
     "name": "stderr",
     "output_type": "stream",
     "text": [
      " 88%|████████▊ | 88/100 [02:17<00:17,  1.45s/it]"
     ]
    },
    {
     "name": "stdout",
     "output_type": "stream",
     "text": [
      "5 + cos(5) + cos(3 + (-x0 + cos(5))/sqrt(5)) + cos(3 + (cos(5) + (-x0 + cos(5))/sqrt(3 + (cos(5) + (-x0 + cos(5))/sqrt(5))/sqrt(5)))/sqrt(5)) + cos(log(2)) 10557.155733054078\n",
      "[5 + cos(5) + cos(3 + (-x0 + cos(5))/sqrt(5)) + cos(3 + (cos(5) + (-x0 + cos(5))/sqrt(3 + (cos(5) + (-x0 + cos(5))/sqrt(5))/sqrt(5)))/sqrt(5)) + cos(log(2)), 5 + cos(5) + cos(3 + (-x0 + cos(5))/sqrt(5)) + cos(3 + (cos(5) + (-x0 + cos(5))/sqrt(3 + (cos(5) + (-x0 + cos(5))/sqrt(5))/sqrt(5)))/sqrt(5)) + cos(log(2)), 5 + 2*cos(3 + (-x0 + cos(5))/sqrt(5)) + cos(cos(4/sqrt(5))), 5 + 2*cos(3 + (-x0 + cos(5))/sqrt(5)) + cos(cos(4/sqrt(5))), 5 + 2*cos(3 + (-x0 + cos(5))/sqrt(5)) + cos(cos(4/sqrt(5))), 5 + cos(3 + (-x0 + cos(5))/4) + cos(3 + (-x0 + cos(5))/sqrt(5)) + cos(cos(4/sqrt(5))), 5 + cos(5) + 2*cos(3 + (-x0 + cos(5))/sqrt(5)) + cos(tan(sqrt(cos(5)))), 5 + cos(3 + (-x0 + cos(5))/sqrt(5)) + cos(3 + (-x0 + cos(5))/sqrt(3 + (5 + (-x0 + cos(5))/sqrt(5))/sqrt(5))) + cos(cos(4/sqrt(5))), 5 + cos(3 + x3/sqrt(5 + cos(3 + x3/3))) + 2*cos(5 + cos(3 + (3 + x3)/3)), 5 + cos(5) + cos(3 + (-x0 + cos(5))/sqrt(5)) + cos(3 + (cos(x0) + (-x0 + cos(5))/sqrt(3 + (cos(5) + (-x0 + cos(5))/sqrt(5))/sqrt(5)))/sqrt(5)) + cos(log(2))]\n"
     ]
    },
    {
     "name": "stderr",
     "output_type": "stream",
     "text": [
      " 89%|████████▉ | 89/100 [02:17<00:13,  1.23s/it]"
     ]
    },
    {
     "name": "stdout",
     "output_type": "stream",
     "text": [
      "5 + cos(5) + cos(3 + (-x0 + cos(5))/sqrt(5)) + cos(3 + (cos(5) + (-x0 + cos(5))/sqrt(3 + (cos(5) + (-x0 + cos(5))/sqrt(5))/sqrt(5)))/sqrt(5)) + cos(log(2)) 10557.155733054078\n",
      "[5 + cos(5) + cos(3 + (-x0 + cos(5))/sqrt(5)) + cos(3 + (cos(5) + (-x0 + cos(5))/sqrt(3 + (cos(5) + (-x0 + cos(5))/sqrt(5))/sqrt(5)))/sqrt(5)) + cos(log(2)), 5 + cos(5) + cos(3 + (-x0 + cos(5))/sqrt(5)) + cos(3 + (cos(5) + (-x0 + cos(5))/sqrt(3 + (cos(5) + (-x0 + cos(5))/sqrt(5))/sqrt(5)))/sqrt(5)) + cos(log(2)), 5 + cos(5) + cos(3 + (-x0 + cos(5))/sqrt(5)) + cos(3 + (cos(5) + (-x0 + cos((cos(5) + (-x0 + cos(5))/sqrt(5))/sqrt(5)))/sqrt(3 + (cos(2*x0) + (-x0 + cos(5))/sqrt(5))/sqrt(5)))/sqrt(5)) + cos(log(2)), 5 + 2*cos(3 + (-x0 + cos(5))/sqrt(5)) + cos(cos(4/sqrt(5))), 5 + 2*cos(3 + (-x0 + cos(5))/sqrt(5)) + cos(cos(4/sqrt(5))), 5 + 2*cos(3 + (-x0 + cos(5))/sqrt(5)) + cos(cos(4/sqrt(5))), 5 + cos(3 + (-x0 + cos(5))/4) + cos(3 + (-x0 + cos(5))/sqrt(5)) + cos(cos(4/sqrt(5))), 5 + cos(5) + 2*cos(3 + (-x0 + cos(5))/sqrt(5)) + cos(tan(sqrt(cos(5)))), 5 + cos(3 + (-x0 + cos(5))/sqrt(5)) + cos(3 + (cos(x0) + (-x0 + cos(5))/sqrt(3 + (cos(5) + (-x0 + cos(5))/sqrt(5))/sqrt(5)))/sqrt(5)) + cos(5 + cos(5)) + cos(log(2)), 5 + cos(3 + (-x0 + cos(5))/sqrt(5)) + cos(3 + (-x0 + cos(5))/sqrt(3 + (5 + (-x0 + cos(5))/sqrt(5))/sqrt(5))) + cos(cos(4/sqrt(5)))]\n"
     ]
    },
    {
     "name": "stderr",
     "output_type": "stream",
     "text": [
      " 90%|█████████ | 90/100 [02:19<00:13,  1.33s/it]"
     ]
    },
    {
     "name": "stdout",
     "output_type": "stream",
     "text": [
      "5 + cos(5) + cos(3 + (-x0 + cos(5))/sqrt(5)) + cos(3 + (cos(5) + (-x0 + cos(5))/sqrt(3 + (cos(5) + (-x0 + cos(5))/sqrt(5))/sqrt(5)))/sqrt(5)) + cos(log(2)) 10557.155733054078\n",
      "[5 + cos(5) + cos(3 + (-x0 + cos(5))/sqrt(5)) + cos(3 + (cos(5) + (-x0 + cos(5))/sqrt(3 + (cos(5) + (-x0 + cos(5))/sqrt(5))/sqrt(5)))/sqrt(5)) + cos(log(2)), 5 + cos(5) + cos(3 + (-x0 + cos(5))/sqrt(5)) + cos(3 + (cos(5) + (-x0 + cos(5))/sqrt(3 + (cos(5) + (-x0 + cos(5))/sqrt(5))/sqrt(5)))/sqrt(5)) + cos(log(2)), 5 + cos(5) + cos(3 + (-x0 + cos(x0 - cos(5)))/sqrt(5)) + cos(3 + (cos(5) + (-x0 + cos(5))/sqrt(3 + (cos(5) + (-x0 + cos(5))/sqrt(5))/sqrt(5)))/sqrt(5)) + cos(log(2)), 5 + cos(5) + cos(3 + (-x0 + cos(5))/sqrt(5)) + cos(3 + (cos(5) + (-x0 + cos((cos(5) + (-x0 + cos(5))/sqrt(5))/sqrt(5)))/sqrt(3 + (cos(2*x0) + (-x0 + cos(5))/sqrt(5))/sqrt(5)))/sqrt(5)) + cos(log(2)), 5 + 2*cos(3 + (-x0 + cos(5))/sqrt(5)) + cos(cos(4/sqrt(5))), 5 + 2*cos(3 + (-x0 + cos(5))/sqrt(5)) + cos(cos(4/sqrt(5))), 5 + 2*cos(3 + (-x0 + cos(5))/sqrt(5)) + cos(cos(4/sqrt(5))), 5 + cos(3 + x0/sqrt(5)) + cos(3 + (-x0 + cos(5))/sqrt(5)) + cos(cos(4/sqrt(5))), 5 + cos(3 + (-x0 + cos(5))/4) + cos(3 + (-x0 + cos(5))/sqrt(5)) + cos(cos(4/sqrt(5))), 5 + cos(5) + 2*cos(3 + (-x0 + cos(5))/sqrt(5)) + cos(tan(sqrt(cos(5))))]\n"
     ]
    },
    {
     "name": "stderr",
     "output_type": "stream",
     "text": [
      " 91%|█████████ | 91/100 [02:21<00:13,  1.47s/it]"
     ]
    },
    {
     "name": "stdout",
     "output_type": "stream",
     "text": [
      "5 + cos(5) + cos(3 + (-x0 + cos(5))/sqrt(5)) + cos(3 + (cos(5) + (-x0 + cos(5))/sqrt(3 + (cos(5) + (-x0 + cos(5))/sqrt(5))/sqrt(5)))/sqrt(5)) + cos(log(2)) 10557.155733054078\n",
      "[5 + cos(5) + cos(3 + (-x0 + cos(5))/sqrt(5)) + cos(3 + (cos(5) + (-x0 + cos(5))/sqrt(3 + (cos(5) + (-x0 + cos(5))/sqrt(5))/sqrt(5)))/sqrt(5)) + cos(log(2)), 5 + cos(5) + cos(3 + (-x0 + cos(5))/sqrt(5)) + cos(3 + (cos(5) + (-x0 + cos(5))/sqrt(3 + (cos(5) + (-x0 + cos(5))/sqrt(5))/sqrt(5)))/sqrt(5)) + cos(log(2)), 5 + cos(5) + cos(3 + (-x0 + cos(5))/sqrt(5)) + cos(3 + (cos(5) + (-x0 + cos(5))/sqrt(3 + (cos(5) + (-x0 + cos(5))/sqrt(5))/sqrt(5)))/sqrt(5)) + cos(log(2)), 5 + cos(5) + cos(3 + (-x0 + cos(x0 - cos(5)))/sqrt(5)) + cos(3 + (cos(5) + (-x0 + cos(5))/sqrt(3 + (cos(5) + (-x0 + cos(5))/sqrt(5))/sqrt(5)))/sqrt(5)) + cos(log(2)), 5 + cos(5) + cos(3 + (-x0 + cos(5))/sqrt(5)) + cos(3 + (cos(5) + (-x0 + cos((cos(5) + (-x0 + cos(5))/sqrt(5))/sqrt(5)))/sqrt(3 + (cos(2*x0) + (-x0 + cos(5))/sqrt(5))/sqrt(5)))/sqrt(5)) + cos(log(2)), 5 + cos(5) + cos(3 + (-x0 + cos(5))/sqrt(5)) + cos(3 + (cos(x0) + (-x0 + cos(5))/sqrt(3 + (cos(5) + (-x0 + cos(5))/sqrt(5))/5))/sqrt(5)) + cos(log(2)), 5 + 2*cos(3 + (-x0 + cos(5))/sqrt(5)) + cos(cos(4/sqrt(5))), 5 + 2*cos(3 + (-x0 + cos(5))/sqrt(5)) + cos(cos(4/sqrt(5))), 5 + 2*cos(3 + (-x0 + cos(5))/sqrt(5)) + cos(cos(4/sqrt(5))), 5 + 2*cos(3 + (-x0 + cos(5))/sqrt(5)) + cos(cos(4/sqrt(5)))]\n"
     ]
    },
    {
     "name": "stderr",
     "output_type": "stream",
     "text": [
      " 92%|█████████▏| 92/100 [02:21<00:10,  1.26s/it]"
     ]
    },
    {
     "name": "stdout",
     "output_type": "stream",
     "text": [
      "5 + cos(5) + cos(3 + (-x0 + cos(5))/sqrt(5)) + cos(3 + (cos(5) + (-x0 + cos(5))/sqrt(3 + (cos(5) + (-x0 + cos(5))/sqrt(5))/sqrt(5)))/sqrt(5)) + cos(log(2)) 10557.155733054078\n",
      "[5 + cos(5) + cos(3 + (-x0 + cos(5))/sqrt(5)) + cos(3 + (cos(5) + (-x0 + cos(5))/sqrt(3 + (cos(5) + (-x0 + cos(5))/sqrt(5))/sqrt(5)))/sqrt(5)) + cos(log(2)), 5 + cos(5) + cos(3 + (-x0 + cos(5))/sqrt(5)) + cos(3 + (cos(5) + (-x0 + cos(5))/sqrt(3 + (cos(5) + (-x0 + cos(5))/sqrt(5))/sqrt(5)))/sqrt(5)) + cos(log(2)), 5 + cos(5) + cos(3 + (-x0 + cos(5))/sqrt(5)) + cos(3 + (cos(5) + (-x0 + cos(5))/sqrt(3 + (cos(5) + (-x0 + cos(5))/sqrt(5))/sqrt(5)))/sqrt(5)) + cos(log(2)), 5 + cos(5) + cos(3 + (-x0 + cos(5))/sqrt(5)) + cos(3 + (cos(5) + (-x0 + cos(5))/sqrt(3 + (cos(5) + (-x0 + cos(5))/sqrt(5))/sqrt(5)))/sqrt(5)) + cos(log(2)), 5 + cos(5) + cos(3 + (-x0 + cos(x0 - cos(5)))/sqrt(5)) + cos(3 + (cos(5) + (-x0 + cos(5))/sqrt(3 + (cos(5) + (-x0 + cos(5))/sqrt(5))/sqrt(5)))/sqrt(5)) + cos(log(2)), 5 + cos(5) + cos(3 + (-x0 + cos(5))/sqrt(5)) + cos(3 + (cos(5) + (-x0 + cos((cos(5) + (-x0 + cos(5))/sqrt(5))/sqrt(5)))/sqrt(3 + (cos(2*x0) + (-x0 + cos(5))/sqrt(5))/sqrt(5)))/sqrt(5)) + cos(log(2)), 5 + cos(5) + cos(3 + (-x0 + cos(5))/sqrt(5)) + cos(3 + (cos(x0) + (-x0 + cos(5))/sqrt(3 + (cos(5) + (-x0 + cos(5))/sqrt(5))/5))/sqrt(5)) + cos(log(2)), 5 + 2*cos(3 + (-x0 + cos(5))/sqrt(5)) + cos(cos(4/sqrt(5))), 5 + 2*cos(3 + (-x0 + cos(5))/sqrt(5)) + cos(cos(4/sqrt(5))), 5 + cos(3 + x0/sqrt(5)) + cos(3 + (-x0 + cos(5))/sqrt(5)) + cos(cos(4/sqrt(5)))]\n"
     ]
    },
    {
     "name": "stderr",
     "output_type": "stream",
     "text": [
      " 93%|█████████▎| 93/100 [02:22<00:07,  1.10s/it]"
     ]
    },
    {
     "name": "stdout",
     "output_type": "stream",
     "text": [
      "5 + cos(3 + (-x0 + cos(5))/sqrt(5)) + cos(3 + (-x0 + cos((5 + (-x0 + cos(5))/sqrt(5))/5))/sqrt(5)) + cos(cos(4/sqrt(5))) 10532.246756972689\n",
      "[5 + cos(3 + (-x0 + cos(5))/sqrt(5)) + cos(3 + (-x0 + cos((5 + (-x0 + cos(5))/sqrt(5))/5))/sqrt(5)) + cos(cos(4/sqrt(5))), 5 + cos(5) + cos(3 + (-x0 + cos(5))/sqrt(5)) + cos(3 + (cos(5) + (-x0 + cos(5))/sqrt(3 + (cos(5) + (-x0 + cos(5))/sqrt(5))/sqrt(5)))/sqrt(5)) + cos(log(2)), 5 + cos(5) + cos(3 + (-x0 + cos(5))/sqrt(5)) + cos(3 + (cos(5) + (-x0 + cos(5))/sqrt(3 + (cos(5) + (-x0 + cos(5))/sqrt(5))/sqrt(5)))/sqrt(5)) + cos(log(2)), 5 + cos(5) + cos(3 + (-x0 + cos(5))/sqrt(5)) + cos(3 + (cos(5) + (-x0 + cos(5))/sqrt(3 + (cos(5) + (-x0 + cos(5))/sqrt(5))/sqrt(5)))/sqrt(5)) + cos(log(2)), 5 + cos(5) + cos(3 + (-x0 + cos(5))/sqrt(5)) + cos(3 + (cos(5) + (-x0 + cos(5))/sqrt(3 + (cos(5) + (-x0 + cos(5))/sqrt(5))/sqrt(5)))/sqrt(5)) + cos(log(2)), 5 + cos(5) + cos(3 + (-x0 + cos(5))/sqrt(5)) + cos(3 + (cos(5) + (-x0 + cos(5))/sqrt(3 + (cos(5) + (-x0 + cos(5))/sqrt(5))/sqrt(5)))/sqrt(5)) + cos(log(2)), 5 + cos(5) + cos(3 + (-x0 + cos(x0 - cos(5)))/sqrt(5)) + cos(3 + (cos(5) + (-x0 + cos(5))/sqrt(3 + (cos(5) + (-x0 + cos(5))/sqrt(5))/sqrt(5)))/sqrt(5)) + cos(log(2)), 5 + cos(5) + cos(3 + (-x0 + cos(x0 - cos(5)))/sqrt(5)) + cos(3 + (cos(5) + (-x0 + cos(5))/sqrt(3 + (cos(5) + (-x0 + cos(5))/sqrt(5))/sqrt(5)))/sqrt(5)) + cos(log(2)), 5 + cos(5) + cos(3 + (-x0 + cos(5))/sqrt(5)) + cos(3 + (cos(5) + (-x0 + cos(5))/sqrt(3 + (cos(5) + (-x0 + log(2))/sqrt(5))/sqrt(5)))/sqrt(5)) + cos(log(2)), 5 + cos(5) + cos(3 + (-x0 + cos(5))/sqrt(5)) + cos(3 + (cos(5) + (-x0 + cos((cos(5) + (-x0 + cos(5))/sqrt(5))/sqrt(5)))/sqrt(3 + (cos(2*x0) + (-x0 + cos(5))/sqrt(5))/sqrt(5)))/sqrt(5)) + cos(log(2))]\n"
     ]
    },
    {
     "name": "stderr",
     "output_type": "stream",
     "text": [
      " 94%|█████████▍| 94/100 [02:24<00:07,  1.32s/it]"
     ]
    },
    {
     "name": "stdout",
     "output_type": "stream",
     "text": [
      "5 + cos(3 + (-x0 + cos(5))/sqrt(5)) + cos(3 + (-x0 + cos((5 + (-x0 + cos(5))/sqrt(5))/5))/sqrt(5)) + cos(cos(4/sqrt(5))) 10532.246756972689\n",
      "[5 + cos(3 + (-x0 + cos(5))/sqrt(5)) + cos(3 + (-x0 + cos((5 + (-x0 + cos(5))/sqrt(5))/5))/sqrt(5)) + cos(cos(4/sqrt(5))), 5 + cos(3 + x0/5) + cos(3 + (-x0 + cos(5))/sqrt(5)) + cos(5 + cos(3 + (-x0 + cos(log(2)*cos(3)))/sqrt(5)) + cos(cos(5))) + cos(tan(3)), 5 + cos(5) + cos(3 + (-x0 + cos(5))/sqrt(5)) + cos(3 + (cos(5) + (-x0 + cos(5))/sqrt(3 + (cos(5) + (-x0 + cos(5))/sqrt(5))/sqrt(5)))/sqrt(5)) + cos(log(2)), 5 + cos(5) + cos(3 + (-x0 + cos(5))/sqrt(5)) + cos(3 + (cos(5) + (-x0 + cos(5))/sqrt(3 + (cos(5) + (-x0 + cos(5))/sqrt(5))/sqrt(5)))/sqrt(5)) + cos(log(2)), 5 + cos(5) + cos(3 + (-x0 + cos(5))/sqrt(5)) + cos(3 + (cos(5) + (-x0 + cos(5))/sqrt(3 + (cos(5) + (-x0 + cos(5))/sqrt(5))/sqrt(5)))/sqrt(5)) + cos(log(2)), 5 + cos(5) + cos(3 + (-x0 + cos(5))/sqrt(5)) + cos(3 + (cos(5) + (-x0 + cos(5))/sqrt(3 + (cos(5) + (-x0 + cos(5))/sqrt(5))/sqrt(5)))/sqrt(5)) + cos(log(2)), 5 + cos(5) + cos(3 + (-x0 + cos(5))/sqrt(5)) + cos(3 + (cos(5) + (-x0 + cos(5))/sqrt(3 + (cos(5) + (-x0 + cos(5))/sqrt(5))/sqrt(5)))/sqrt(5)) + cos(log(2)), 5 + cos(5) + cos(3 + (-x0 + cos(x0 - cos(5)))/sqrt(5)) + cos(3 + (cos(5) + (-x0 + cos(5))/sqrt(3 + (cos(5) + (-x0 + cos(5))/sqrt(5))/sqrt(5)))/sqrt(5)) + cos(log(2)), 5 + cos(5) + cos(3 + (-x0 + cos(x0 - cos(5)))/sqrt(5)) + cos(3 + (cos(5) + (-x0 + cos(5))/sqrt(3 + (cos(5) + (-x0 + cos(5))/sqrt(5))/sqrt(5)))/sqrt(5)) + cos(log(2)), 5 + cos(5) + cos(3 + (-x0 + cos(5))/sqrt(5)) + cos(3 + (cos(5) + (-x0 + cos(5))/sqrt(3 + (cos(5) + (-x0 + log(2))/sqrt(5))/sqrt(5)))/sqrt(5)) + cos(log(2))]\n"
     ]
    },
    {
     "name": "stderr",
     "output_type": "stream",
     "text": [
      " 95%|█████████▌| 95/100 [02:26<00:07,  1.57s/it]"
     ]
    },
    {
     "name": "stdout",
     "output_type": "stream",
     "text": [
      "5 + cos(3 + (-x0 + cos(5))/sqrt(5)) + cos(3 + (-x0 + cos((5 + (-x0 + cos(5))/sqrt(5))/5))/sqrt(5)) + cos(cos(4/sqrt(5))) 10532.246756972689\n",
      "[5 + cos(3 + (-x0 + cos(5))/sqrt(5)) + cos(3 + (-x0 + cos((5 + (-x0 + cos(5))/sqrt(5))/5))/sqrt(5)) + cos(cos(4/sqrt(5))), 5 + cos(3 + x0/5) + cos(3 + (-x0 + cos(5))/sqrt(5)) + cos(5 + cos(3 + (-x0 + cos(log(2)*cos(3)))/sqrt(5)) + cos(cos(5))) + cos(tan(3)), 5 + cos(5) + cos(3 + (-x0 + cos(5))/sqrt(5)) + cos(3 + (cos(5) + (-x0 + cos(5))/sqrt(3 + (cos(5) + (-x0 + cos(5))/sqrt(5))/sqrt(5)))/sqrt(5)) + cos(log(2)), 5 + cos(5) + cos(3 + (-x0 + cos(5))/sqrt(5)) + cos(3 + (cos(5) + (-x0 + cos(5))/sqrt(3 + (cos(5) + (-x0 + cos(5))/sqrt(5))/sqrt(5)))/sqrt(5)) + cos(log(2)), 5 + cos(5) + cos(3 + (-x0 + cos(5))/sqrt(5)) + cos(3 + (cos(5) + (-x0 + cos(5))/sqrt(3 + (cos(5) + (-x0 + cos(5))/sqrt(5))/sqrt(5)))/sqrt(5)) + cos(log(2)), 5 + cos(5) + cos(3 + (-x0 + cos(5))/sqrt(5)) + cos(3 + (cos(5) + (-x0 + cos(5))/sqrt(3 + (cos(5) + (-x0 + cos(5))/sqrt(5))/sqrt(5)))/sqrt(5)) + cos(log(2)), 5 + cos(5) + cos(3 + (-x0 + cos(5))/sqrt(5)) + cos(3 + (cos(5) + (-x0 + cos(5))/sqrt(3 + (cos(5) + (-x0 + cos(5))/sqrt(5))/sqrt(5)))/sqrt(5)) + cos(log(2)), 5 + cos(5) + cos(3 + (-x0 + cos(x0 - cos(5)))/sqrt(5)) + cos(3 + (cos(5) + (-x0 + cos(5))/sqrt(3 + (cos(5) + (-x0 + cos(5))/sqrt(5))/sqrt(5)))/sqrt(5)) + cos(log(2)), 5 + cos(5) + cos(3 + (-x0 + cos(x0 - cos(5)))/sqrt(5)) + cos(3 + (cos(5) + (-x0 + cos(5))/sqrt(3 + (cos(5) + (-x0 + cos(5))/sqrt(5))/sqrt(5)))/sqrt(5)) + cos(log(2)), 5 + cos(5) + cos(3 + (-x0 + cos(5))/sqrt(5)) + cos(3 + (cos(5) + (-x0 + cos(5))/sqrt(3 + (cos(5) + (-x0 + log(2))/sqrt(5))/sqrt(5)))/sqrt(5)) + cos(log(2))]\n"
     ]
    },
    {
     "name": "stderr",
     "output_type": "stream",
     "text": [
      " 96%|█████████▌| 96/100 [02:27<00:05,  1.34s/it]"
     ]
    },
    {
     "name": "stdout",
     "output_type": "stream",
     "text": [
      "5 + cos(3 + (-x0 + cos((5 + (-x0 + cos(5))/sqrt(5))/5))/sqrt(5)) + cos(3 + (-x0 + cos(5))/sqrt(5 + cos(cos(5)))) + cos(cos(4/sqrt(5))) 10490.981798177903\n",
      "[5 + cos(3 + (-x0 + cos((5 + (-x0 + cos(5))/sqrt(5))/5))/sqrt(5)) + cos(3 + (-x0 + cos(5))/sqrt(5 + cos(cos(5)))) + cos(cos(4/sqrt(5))), 5 + cos(3 + (-x0 + cos(5))/sqrt(5)) + cos(3 + (-x0 + cos((5 + (-x0 + cos(5))/sqrt(5))/5))/sqrt(5)) + cos(cos(4/sqrt(5))), 5 + cos(5 + cos(3 + (3 + x3)/3)) + cos(5 + cos(3 + 2) + cos(3 + x3/sqrt(5 + cos(3 + x3)))), 5 + cos(5) + cos(3 + (-x0 + cos(5))/sqrt(5)) + cos(3 + (cos(5) + (-x0 + cos(5))/sqrt(3))/sqrt(5)) + cos(log(2)), 5 + cos(3 + x0/5) + cos(3 + (-x0 + cos(5))/sqrt(5)) + cos(5 + cos(3 + (-x0 + cos(log(2)*cos(3)))/sqrt(5)) + cos(cos(5))) + cos(tan(3)), 5 + cos(5) + cos(3 + (-x0 + cos(5))/sqrt(5)) + cos(3 + (cos(5) + (-x0 + cos(5))/sqrt(3 + (cos(5) + (-x0 + cos(5))/sqrt(5))/sqrt(5)))/sqrt(5)) + cos(log(2)), 5 + cos(5) + cos(3 + (-x0 + cos(5))/sqrt(5)) + cos(3 + (cos(5) + (-x0 + cos(5))/sqrt(3 + (cos(5) + (-x0 + cos(5))/sqrt(5))/sqrt(5)))/sqrt(5)) + cos(log(2)), 5 + cos(5) + cos(3 + (-x0 + cos(5))/sqrt(5)) + cos(3 + (cos(5) + (-x0 + cos(5))/sqrt(3 + (cos(5) + (-x0 + cos(5))/sqrt(5))/sqrt(5)))/sqrt(5)) + cos(log(2)), 5 + cos(5) + cos(3 + (-x0 + cos(5))/sqrt(5)) + cos(3 + (cos(5) + (-x0 + cos(5))/sqrt(3 + (cos(5) + (-x0 + cos(5))/sqrt(5))/sqrt(5)))/sqrt(5)) + cos(log(2)), 5 + cos(5) + cos(3 + (-x0 + cos(5))/sqrt(5)) + cos(3 + (cos(5) + (-x0 + cos(5))/sqrt(3 + (cos(5) + (-x0 + cos(5))/sqrt(5))/sqrt(5)))/sqrt(5)) + cos(log(2))]\n"
     ]
    },
    {
     "name": "stderr",
     "output_type": "stream",
     "text": [
      " 97%|█████████▋| 97/100 [02:29<00:04,  1.55s/it]"
     ]
    },
    {
     "name": "stdout",
     "output_type": "stream",
     "text": [
      "5 + cos(3 + (-x0 + cos((5 + (-x0 + cos(5))/sqrt(5))/5))/sqrt(5)) + cos(3 + (-x0 + cos(5))/sqrt(5 + cos(cos(5)))) + cos(cos(4/sqrt(5))) 10490.981798177903\n",
      "[5 + cos(3 + (-x0 + cos((5 + (-x0 + cos(5))/sqrt(5))/5))/sqrt(5)) + cos(3 + (-x0 + cos(5))/sqrt(5 + cos(cos(5)))) + cos(cos(4/sqrt(5))), 5 + cos(3 + (-x0 + cos(5))/sqrt(5)) + cos(3 + (-x0 + cos((5 + (-x0 + cos(5))/sqrt(5))/5))/sqrt(5)) + cos(cos(4/sqrt(5))), 5 + cos(5 + cos(3 + (3 + x3)/3)) + cos(5 + cos(3 + 2) + cos(3 + x3/sqrt(5 + cos(3 + x3)))), 5 + cos(5) + cos(3 + (-x0 + cos(5))/sqrt(5)) + cos(3 + (cos(5) + (-x0 + cos(5))/sqrt(3))/sqrt(5)) + cos(log(2)), 5 + cos(3 + x0/5) + cos(3 + (-x0 + cos(5))/sqrt(5)) + cos(5 + cos(3 + (-x0 + cos(log(2)*cos(3)))/sqrt(5)) + cos(cos(5))) + cos(tan(3)), 5 + cos(5) + cos(3 + (-x0 + cos(5))/sqrt(5)) + cos(3 + (cos(5) + (-x0 + cos(5))/sqrt(3 + cos(5)/sqrt(5)))/sqrt(5)) + cos(log(2)), 5 + cos(5) + cos(3 + (-x0 + cos(5))/sqrt(5)) + cos(3 + (cos(5) + (-x0 + cos(5))/sqrt(3 + (cos(5) + (-x0 + cos(5))/sqrt(2 + 4))/sqrt(5)))/sqrt(5)) + cos(log(2)), 5 + cos(5) + cos(3 + (-x0 + cos(5))/sqrt(5)) + cos(3 + (cos(5) + (-x0 + cos(5))/sqrt(3 + (cos(5) + (-x0 + cos(5))/sqrt(5))/sqrt(5)))/sqrt(5)) + cos(log(2)), 5 + cos(5) + cos(3 + (-x0 + cos(5))/sqrt(5)) + cos(3 + (cos(5) + (-x0 + cos(5))/sqrt(3 + (cos(5) + (-x0 + cos(5))/sqrt(5))/sqrt(5)))/sqrt(5)) + cos(log(2)), 5 + cos(5) + cos(3 + (-x0 + cos(5))/sqrt(5)) + cos(3 + (cos(5) + (-x0 + cos(5))/sqrt(3 + (cos(5) + (-x0 + cos(5))/sqrt(5))/sqrt(5)))/sqrt(5)) + cos(log(2))]\n"
     ]
    },
    {
     "name": "stderr",
     "output_type": "stream",
     "text": [
      " 98%|█████████▊| 98/100 [02:31<00:03,  1.76s/it]"
     ]
    },
    {
     "name": "stdout",
     "output_type": "stream",
     "text": [
      "5 + cos(3 + (-x0 + cos((5 + (-x0 + cos(5))/sqrt(5))/5))/sqrt(5)) + cos(3 + (-x0 + cos(5))/sqrt(5 + cos(cos(5)))) + cos(cos(4/sqrt(5))) 10490.981798177903\n",
      "[5 + cos(3 + (-x0 + cos((5 + (-x0 + cos(5))/sqrt(5))/5))/sqrt(5)) + cos(3 + (-x0 + cos(5))/sqrt(5 + cos(cos(5)))) + cos(cos(4/sqrt(5))), 5 + cos(3 + (-x0 + cos(5))/sqrt(5)) + cos(3 + (-x0 + cos((5 + (-x0 + cos(5))/sqrt(5))/5))/sqrt(5)) + cos(cos(4/sqrt(5))), 5 + cos(5 + cos(3 + (3 + x3)/3)) + cos(5 + cos(3 + 2) + cos(3 + x3/sqrt(5 + cos(3 + x3)))), 5 + cos(3 + (-x0 + cos(5))/sqrt(5)) + cos(3 + (cos(5) + (-x0 + cos(5))/sqrt(3 + (cos(5) + (-x0 + cos(5))/sqrt(5))/sqrt(5)))/sqrt(5)) + cos(5 + cos(5)) + cos(log(2)), 5 + cos(5) + cos(3 + (-x0 + cos(5))/sqrt(5)) + cos(3 + (cos(5) + (-x0 + cos(5))/sqrt(3))/sqrt(5)) + cos(log(2)), 5 + cos(3 + x0/3) + cos(3 + (-x0 + cos(5))/sqrt(5)) + cos(cos(4)), 5 + cos(3 + x0/5) + cos(3 + (-x0 + cos(5))/sqrt(5)) + cos(5 + cos(3 + (-x0 + cos(log(2)*cos(3)))/sqrt(5)) + cos(cos(5))) + cos(tan(3)), 5 + cos(5) + cos(3 + (-x0 + cos(5))/sqrt(5)) + cos(3 + (cos(5) + (-x0 + cos(5))/sqrt(3 + cos(5)/sqrt(5)))/sqrt(5)) + cos(log(2)), 5 + cos(5) + cos(3 + (-x0 + cos(5))/sqrt(5)) + cos(3 + (cos(5) + (-x0 + cos(5))/sqrt(3 + cos(5)/sqrt(5)))/sqrt(5)) + cos(log(2)), 5 + cos(5) + cos(3 + (-x0 + cos(5))/sqrt(5)) + cos(3 + (cos(5) + (-x0 + cos(5))/sqrt(3 + (cos(5) + (-x0 + cos(5))/sqrt(2 + 4))/sqrt(5)))/sqrt(5)) + cos(log(2))]\n"
     ]
    },
    {
     "name": "stderr",
     "output_type": "stream",
     "text": [
      " 99%|█████████▉| 99/100 [02:33<00:01,  1.78s/it]"
     ]
    },
    {
     "name": "stdout",
     "output_type": "stream",
     "text": [
      "5 + cos(3 + (-x0 + cos((5 + (-x0 + cos(5))/sqrt(5))/5))/sqrt(5)) + cos(3 + (-x0 + cos(5))/sqrt(5 + cos(cos(5)))) + cos(cos(4/sqrt(5))) 10490.981798177903\n",
      "[5 + cos(3 + (-x0 + cos((5 + (-x0 + cos(5))/sqrt(5))/5))/sqrt(5)) + cos(3 + (-x0 + cos(5))/sqrt(5 + cos(cos(5)))) + cos(cos(4/sqrt(5))), 5 + cos(5) + cos(3 + (-x0 + cos(5))/sqrt(5)) + cos(3 + (cos(x0) + (-x0 + cos(5))/5**(1/4))/sqrt(5)) + cos(log(2)), 5 + cos(3 + (-x0 + cos(5))/sqrt(5)) + cos(3 + (-x0 + cos((5 + (-x0 + cos(5))/sqrt(5))/5))/sqrt(5)) + cos(cos(4/sqrt(5))), 5 + cos(5 + cos(3 + (3 + x3)/3)) + cos(5 + cos(3 + 2) + cos(3 + x3/sqrt(5 + cos(3 + x3)))), 5 + cos(3 + (-x0 + cos(5))/sqrt(5)) + cos(3 + (cos(5) + (-x0 + cos(5))/sqrt(3 + (cos(5) + (-x0 + cos(5))/sqrt(5))/sqrt(5)))/sqrt(5)) + cos(5 + cos(5)) + cos(log(2)), 5 + cos(5) + cos(3 + (-x0 + cos(5))/sqrt(5)) + cos(3 + (cos(5) + (-x0 + cos(5))/sqrt(3))/sqrt(5)) + cos(log(2)), 5 + cos(5) + cos(3 + (-x0 + cos(5))/sqrt(5)) + cos(3 + (cos(cos(x0)) + (-x0 + cos(5))/sqrt(3 + (cos(5) + (-x0 + cos(5))/sqrt(5))/5))/sqrt(5)) + cos(log(2)), 5 + cos(3 + x0/3) + cos(3 + (-x0 + cos(5))/sqrt(5)) + cos(cos(4)), 5 + cos(3 + x0/5) + cos(3 + (-x0 + cos(5))/sqrt(5)) + cos(5 + cos(3 + (-x0 + cos(log(2)*cos(3)))/sqrt(5)) + cos(cos(5))) + cos(tan(3)), 5 + cos(5) + cos(3 + (-x0 + cos(5))/sqrt(5)) + cos(3 + (cos(5) + (-x0 + cos(5))/sqrt(3 + cos(5)/sqrt(5)))/sqrt(5)) + cos(log(2))]\n"
     ]
    },
    {
     "name": "stderr",
     "output_type": "stream",
     "text": [
      "100%|██████████| 100/100 [02:34<00:00,  1.55s/it]"
     ]
    },
    {
     "name": "stdout",
     "output_type": "stream",
     "text": [
      "5 + cos(5) + cos(3 + (-x0 + cos((5 + (-x0 + cos(5))/sqrt(5))/5))/sqrt(5)) + cos(3 + (cos(x0) + (-x0 + cos(5))/5**(1/4))/sqrt(5)) + cos(log(2)) 10486.466698475215\n",
      "[5 + cos(5) + cos(3 + (-x0 + cos((5 + (-x0 + cos(5))/sqrt(5))/5))/sqrt(5)) + cos(3 + (cos(x0) + (-x0 + cos(5))/5**(1/4))/sqrt(5)) + cos(log(2)), 5 + cos(3 + (-x0 + cos((5 + (-x0 + cos(5))/sqrt(5))/5))/sqrt(5)) + cos(3 + (-x0 + cos(5))/sqrt(5 + cos(cos(5)))) + cos(cos(4/sqrt(5))), 5 + cos(5) + cos(3 + (-x0 + cos(5))/sqrt(5)) + cos(3 + (cos(5) + (-x0 + cos((5 + (-x0 + cos(5))/sqrt(5))/sqrt(5)))/sqrt(3 + (cos(2*x0) + (-5 + cos(5))/sqrt(5))/sqrt(5)))/sqrt(5)) + cos(log(2)), 5 + cos(5) + cos(3 + (-x0 + cos(5))/sqrt(5)) + cos(3 + (cos(x0) + (-x0 + cos(5))/5**(1/4))/sqrt(5)) + cos(log(2)), 5 + cos(3 + (-x0 + cos(5))/sqrt(5)) + cos(3 + (-x0 + cos((5 + (-x0 + cos(5))/sqrt(5))/5))/sqrt(5)) + cos(cos(4/sqrt(5))), 5 + cos(5 + cos(3 + (3 + x3)/3)) + cos(5 + cos(3 + 2) + cos(3 + x3/sqrt(5 + cos(3 + x3)))), 5 + cos(3 + (-x0 + cos(5))/sqrt(5)) + cos(3 + (cos(5) + (-x0 + cos(5))/sqrt(3 + (cos(5) + (-x0 + cos(5))/sqrt(5))/sqrt(5)))/sqrt(5)) + cos(5 + cos(5)) + cos(log(2)), 5 + cos(5) + cos(3 + (-x0 + cos(5))/sqrt(5)) + cos(3 + (cos(5) + (-x0 + cos(5))/sqrt(3))/sqrt(5)) + cos(log(2)), 5 + cos(5) + cos(3 + (-x0 + cos(5))/sqrt(5)) + cos(3 + (cos(cos(x0)) + (-x0 + cos(5))/sqrt(3 + (cos(5) + (-x0 + cos(5))/sqrt(5))/5))/sqrt(5)) + cos(log(2)), 5 + cos(3 + x0/3) + cos(3 + (-x0 + cos(5))/sqrt(5)) + cos(cos(4))]\n"
     ]
    },
    {
     "name": "stderr",
     "output_type": "stream",
     "text": [
      "\n"
     ]
    },
    {
     "data": {
      "text/latex": [
       "$\\displaystyle 5 + \\cos{\\left(5 \\right)} + \\cos{\\left(3 + \\frac{- x_{0} + \\cos{\\left(\\frac{5 + \\frac{- x_{0} + \\cos{\\left(5 \\right)}}{\\sqrt{5}}}{5} \\right)}}{\\sqrt{5}} \\right)} + \\cos{\\left(3 + \\frac{\\cos{\\left(x_{0} \\right)} + \\frac{- x_{0} + \\cos{\\left(5 \\right)}}{\\sqrt[4]{5}}}{\\sqrt{5}} \\right)} + \\cos{\\left(\\log{\\left(2 \\right)} \\right)}$"
      ],
      "text/plain": [
       "5 + cos(5) + cos(3 + (-x0 + cos((5 + (-x0 + cos(5))/sqrt(5))/5))/sqrt(5)) + cos(3 + (cos(x0) + (-x0 + cos(5))/5**(1/4))/sqrt(5)) + cos(log(2))"
      ]
     },
     "execution_count": 125,
     "metadata": {},
     "output_type": "execute_result"
    }
   ],
   "source": [
    "testing=SGA(100,100,0.95,0.3,100,np.array(['x0','x1','x2','x3']),arr,dummy=False)\n",
    "testing.initial_population()\n",
    "testing.fit()"
   ]
  },
  {
   "cell_type": "code",
   "execution_count": 130,
   "metadata": {},
   "outputs": [
    {
     "name": "stderr",
     "output_type": "stream",
     "text": [
      "  2%|▏         | 2/100 [00:00<00:10,  9.07it/s]"
     ]
    },
    {
     "name": "stdout",
     "output_type": "stream",
     "text": [
      "x1**2 18351.009661017008\n",
      "[exp(sin(x3)), exp(sin(x3)), cos(cos(x1)), cos(cos(x1)), 1 - cos(x2), sin(cos(cos(x3))), sin(sqrt(exp(x0))), cos(exp(-x1)), sin(exp(x0)), cos(x0)]\n",
      "exp(cos(x1)) 17140.733225310243\n",
      "[exp(cos(x1)), exp(sin(x3)), exp(sin(x3)), cos(cos(cos(cos(x1)))), cos(cos(x3)), cos(cos(x1)), cos(cos(x1)), 1 - cos(x2), sin(cos(cos(x3))), sin(cos(cos(x0)))]\n",
      "exp(cos(x1)) 17140.733225310243\n",
      "[exp(cos(x1)), exp(cos(x1)), exp(sin(x3)), exp(sin(x3)), exp(sin(x3)), cos(exp(-x1**2)), cos(cos(cos(x3))), cos(cos(cos(cos(x1)))), cos(cos(cos(cos(x1)))), cos(cos(x3))]\n"
     ]
    },
    {
     "name": "stderr",
     "output_type": "stream",
     "text": [
      "  6%|▌         | 6/100 [00:00<00:09,  9.89it/s]"
     ]
    },
    {
     "name": "stdout",
     "output_type": "stream",
     "text": [
      "exp(cos(x1)) 17140.733225310243\n",
      "[exp(cos(x1)), exp(cos(x1)), exp(sin(x3)), exp(sin(x3)), exp(sin(x3)), cos(exp(-x1**2)), cos(cos(cos(x3))), cos(cos(cos(x3))), cos(cos(cos(cos(x1)))), cos(cos(cos(cos(x1))))]\n",
      "exp(sin(exp(sin(x3)))) 15699.47099184717\n",
      "[exp(sin(exp(sin(x3)))), exp(cos(x1)), exp(cos(x1)), exp(sin(x3)), exp(sin(x3)), exp(sin(x3)), cos(exp(-x1**2)), cos(exp(-x0**2)), cos(sin(tan(x1))), cos(cos(cos(sin(x2))))]\n",
      "exp(cos(exp(-x1**2))) 14564.788887425857\n",
      "[exp(cos(exp(-x1**2))), exp(sin(exp(sin(x1)))), exp(sin(exp(sin(x3)))), exp(exp(sin(x3))), exp(sin(exp(x0))), exp(cos(x1)), exp(cos(x1)), exp(sin(x3)), exp(sin(x3)), exp(sin(x3))]\n"
     ]
    },
    {
     "name": "stderr",
     "output_type": "stream",
     "text": [
      "  8%|▊         | 8/100 [00:00<00:10,  8.81it/s]"
     ]
    },
    {
     "name": "stdout",
     "output_type": "stream",
     "text": [
      "exp(cos(exp(-x1**2))) 14564.788887425857\n",
      "[exp(cos(exp(-x1**2))), exp(sin(exp(sin(x1)))), exp(sin(exp(sin(x3)))), exp(sin(exp(sin(x3)))), exp(cos(exp(-x1))), exp(exp(sin(x3))), exp(cos(x0)), exp(sin(exp(x0))), exp(cos(x1)), exp(cos(x1))]\n",
      "exp(cos(exp(-x1**2))) 14564.788887425857\n",
      "[exp(cos(exp(-x1**2))), exp(sin(exp(sin(x1)))), exp(sin(exp(sin(x3)))), exp(sin(exp(sin(x3)))), exp(sin(exp(exp(cos(x1))))), exp(cos(exp(-x1))), exp(exp(sin(x3))), exp(cos(x0)), exp(sin(exp(x0))), exp(cos(x1))]\n"
     ]
    },
    {
     "name": "stderr",
     "output_type": "stream",
     "text": [
      " 10%|█         | 10/100 [00:01<00:10,  8.41it/s]"
     ]
    },
    {
     "name": "stdout",
     "output_type": "stream",
     "text": [
      "exp(cos(exp(-cos(sin(tan(x1)))))) 14489.568539667085\n",
      "[exp(cos(exp(-cos(sin(tan(x1)))))), exp(cos(exp(-x1**2))), exp(exp(sin(sin(x0)))), exp(sin(exp(sin(x1)))), exp(sin(exp(sin(x3)))), exp(sin(exp(sin(x3)))), exp(sin(exp(exp(cos(x1))))), exp(cos(exp(-x1))), exp(cos(exp(-x1))), exp(exp(sin(x2)))]\n",
      "exp(exp(sin(cos(cos(sin(sin(exp(sin(exp(x2)))))))))) 12707.647340672245\n",
      "[exp(exp(sin(cos(cos(sin(sin(exp(sin(exp(x2)))))))))), exp(cos(exp(-cos(sin(tan(x1)))))), exp(cos(exp(-x1**2))), exp(cos(sin(exp(-x1)))), exp(exp(sin(sin(x3)))), exp(exp(sin(sin(x0)))), exp(sin(exp(sin(sin(sin(x3)))))), exp(sin(exp(sin(cos(x1))))), exp(sin(exp(sin(sin(x3))))), exp(exp(sin(sin(cos(x3)))))]\n"
     ]
    },
    {
     "name": "stderr",
     "output_type": "stream",
     "text": [
      " 12%|█▏        | 12/100 [00:01<00:11,  7.98it/s]"
     ]
    },
    {
     "name": "stdout",
     "output_type": "stream",
     "text": [
      "exp(exp(sin(cos(cos(sin(sin(exp(sin(exp(x2)))))))))) 12707.647340672245\n",
      "[exp(exp(sin(cos(cos(sin(sin(exp(sin(exp(x2)))))))))), exp(sin(exp(sin(sin(exp(sin(x3))))))), exp(cos(exp(-cos(sin(tan(x1)))))), exp(cos(exp(-x1**2))), exp(cos(sin(exp(-x1)))), exp(sin(exp(sin(exp(-sin(x2)))))), exp(exp(sin(sin(x3)))), exp(exp(sin(sin(x3)))), exp(exp(sin(sin(x3)))), exp(exp(sin(sin(x0))))]\n",
      "exp(exp(sin(cos(cos(sin(sin(exp(sin(exp(x2)))))))))) 12707.647340672245\n",
      "[exp(exp(sin(cos(cos(sin(sin(exp(sin(exp(x2)))))))))), exp(sin(exp(sin(sin(exp(sin(x3))))))), exp(sin(exp(sin(sin(exp(sin(x3))))))), exp(cos(exp(-cos(sin(tan(x1)))))), exp(cos(exp(-x1**2))), exp(cos(exp(-x1**2))), exp(cos(sin(exp(-x1)))), exp(cos(sin(exp(-x1)))), exp(sin(exp(sin(exp(-sin(x2)))))), exp(exp(sin(sin(x3))))]\n"
     ]
    },
    {
     "name": "stderr",
     "output_type": "stream",
     "text": [
      " 14%|█▍        | 14/100 [00:01<00:11,  7.41it/s]"
     ]
    },
    {
     "name": "stdout",
     "output_type": "stream",
     "text": [
      "exp(exp(sin(cos(cos(sin(sin(exp(sin(exp(x2)))))))))) 12707.647340672245\n",
      "[exp(exp(sin(cos(cos(sin(sin(exp(sin(exp(x2)))))))))), exp(exp(sin(cos(cos(tan(x0)))))), exp(exp(sin(sin(sin(x3))))), exp(sin(exp(sin(sin(exp(sin(x3))))))), exp(sin(exp(sin(sin(exp(sin(x3))))))), exp(cos(exp(-cos(sin(tan(x1)))))), exp(cos(exp(-x1**2))), exp(cos(exp(-x1**2))), exp(cos(exp(-x1**2))), exp(cos(sin(sin(x1))))]\n",
      "exp(exp(sin(cos(cos(sin(x0)))))) 12431.211068772482\n",
      "[exp(exp(sin(cos(cos(sin(x0)))))), exp(exp(sin(cos(cos(sin(sin(exp(sin(exp(x2)))))))))), exp(exp(sin(cos(cos(tan(x0)))))), exp(sin(exp(sin(sin(exp(sin(exp(sin(sin(exp(sin(x3)))))))))))), exp(exp(sin(sin(sin(x3))))), exp(cos(exp(-cos(sin(exp(-x1**2)))))), exp(sin(exp(sin(sin(exp(sin(x3))))))), exp(sin(exp(sin(sin(exp(sin(x3))))))), exp(sin(exp(sin(sin(exp(sin(x1))))))), exp(cos(exp(-cos(sin(tan(x1))))))]\n"
     ]
    },
    {
     "name": "stderr",
     "output_type": "stream",
     "text": [
      " 16%|█▌        | 16/100 [00:02<00:13,  6.01it/s]"
     ]
    },
    {
     "name": "stdout",
     "output_type": "stream",
     "text": [
      "exp(exp(sin(cos(cos(sin(x0)))))) 12431.211068772482\n",
      "[exp(exp(sin(cos(cos(sin(x0)))))), exp(exp(sin(cos(cos(sin(sin(exp(sin(exp(x2)))))))))), exp(exp(sin(cos(cos(tan(x0)))))), exp(exp(sin(cos(exp(sin(sin(sin(x3)))))))), exp(sin(exp(sin(sin(exp(sin(exp(sin(sin(exp(sin(x3)))))))))))), exp(cos(exp(-exp(cos(exp(-x1)))))), exp(sin(exp(sin(sin(exp(sin(exp(sin(sin(exp(sin(sin(sin(x3)))))))))))))), exp(exp(sin(sin(sin(x3))))), exp(cos(exp(-cos(sin(exp(-x1**2)))))), exp(sin(exp(sin(sin(exp(sin(x3)))))))]\n",
      "exp(exp(sin(cos(cos(sin(x0)))))) 12431.211068772482\n",
      "[exp(exp(sin(cos(cos(sin(x0)))))), exp(exp(sin(cos(cos(sin(x0)))))), exp(exp(sin(cos(cos(sin(sin(exp(sin(exp(x2)))))))))), exp(exp(sin(cos(cos(tan(x0)))))), exp(exp(sin(cos(sin(exp(sin(exp(x2)))))))), exp(exp(sin(cos(cos(x1))))), exp(exp(sin(cos(exp(sin(sin(sin(x3)))))))), exp(cos(exp(-exp(sin(exp(sin(sin(sin(x1))))))))), exp(sin(exp(sin(sin(exp(sin(exp(sin(sin(exp(sin(x3)))))))))))), exp(sin(exp(sin(sin(exp(sin(exp(sin(sin(exp(sin(x3))))))))))))]\n"
     ]
    },
    {
     "name": "stderr",
     "output_type": "stream",
     "text": [
      " 17%|█▋        | 17/100 [00:02<00:15,  5.53it/s]"
     ]
    },
    {
     "name": "stdout",
     "output_type": "stream",
     "text": [
      "exp(exp(sin(cos(cos(sin(sin(tan(x0)))))))) 12154.642786153412\n",
      "[exp(exp(sin(cos(cos(sin(sin(tan(x0)))))))), exp(exp(sin(cos(cos(sin(x0)))))), exp(exp(sin(cos(cos(sin(sin(exp(sin(exp(x2)))))))))), exp(exp(sin(cos(cos(tan(x0)))))), exp(exp(sin(cos(sin(exp(sin(exp(x2)))))))), exp(exp(sin(cos(cos(x1))))), exp(exp(sin(cos(exp(sin(sin(sin(x3)))))))), exp(cos(exp(-exp(sin(exp(sin(sin(sin(x1))))))))), exp(exp(sin(sin(sin(x1))))), exp(exp(sin(cos(cos(exp(exp(sin(cos(cos(sin(x0)))))))))))]\n"
     ]
    },
    {
     "name": "stderr",
     "output_type": "stream",
     "text": [
      " 18%|█▊        | 18/100 [00:02<00:15,  5.33it/s]"
     ]
    },
    {
     "name": "stdout",
     "output_type": "stream",
     "text": [
      "exp(exp(sin(cos(cos(sin(sin(tan(x0)))))))) 12154.642786153412\n",
      "[exp(exp(sin(cos(cos(sin(sin(tan(x0)))))))), exp(exp(sin(cos(cos(sin(sin(cos(cos(sin(x0)))))))))), exp(exp(sin(cos(cos(sin(x0)))))), exp(exp(sin(cos(cos(sin(sin(exp(sin(exp(x2)))))))))), exp(exp(sin(cos(cos(tan(x0)))))), exp(exp(sin(cos(sin(exp(sin(exp(x2)))))))), exp(exp(sin(cos(sin(exp(sin(exp(x2)))))))), exp(exp(sin(cos(cos(x1))))), exp(exp(sin(cos(exp(sin(sin(sin(x3)))))))), exp(exp(sin(cos(exp(sin(sin(sin(x3))))))))]\n"
     ]
    },
    {
     "name": "stderr",
     "output_type": "stream",
     "text": [
      " 19%|█▉        | 19/100 [00:02<00:15,  5.08it/s]"
     ]
    },
    {
     "name": "stdout",
     "output_type": "stream",
     "text": [
      "exp(exp(sin(cos(cos(sin(sin(sin(cos(cos(sin(x0))))))))))) 12081.945649833813\n",
      "[exp(exp(sin(cos(cos(sin(sin(sin(cos(cos(sin(x0))))))))))), exp(exp(sin(cos(cos(sin(sin(tan(x0)))))))), exp(exp(sin(cos(cos(sin(sin(cos(cos(sin(x0)))))))))), exp(exp(sin(cos(cos(sin(x0)))))), exp(exp(sin(cos(cos(sin(sin(exp(sin(exp(x2)))))))))), exp(exp(sin(cos(cos(tan(x0)))))), exp(exp(sin(cos(sin(exp(sin(exp(x2)))))))), exp(exp(sin(cos(sin(exp(sin(exp(x2)))))))), exp(exp(sin(cos(cos(x1))))), exp(exp(sin(cos(exp(sin(sin(sin(x3))))))))]\n"
     ]
    },
    {
     "name": "stderr",
     "output_type": "stream",
     "text": [
      " 20%|██        | 20/100 [00:02<00:17,  4.54it/s]"
     ]
    },
    {
     "name": "stdout",
     "output_type": "stream",
     "text": [
      "exp(exp(sin(cos(cos(sin(sin(sin(cos(cos(sin(x0))))))))))) 12081.945649833813\n",
      "[exp(exp(sin(cos(cos(sin(sin(sin(cos(cos(sin(x0))))))))))), exp(exp(sin(cos(cos(sin(sin(sin(cos(cos(sin(x0))))))))))), exp(exp(sin(cos(cos(sin(sin(tan(x0)))))))), exp(exp(sin(cos(cos(sin(sin(cos(cos(sin(x0)))))))))), exp(exp(sin(cos(cos(sin(x0)))))), exp(exp(sin(cos(cos(sin(sin(exp(sin(exp(x2)))))))))), exp(exp(sin(cos(cos(cos(cos(sin(sin(exp(sin(exp(-x3)))))))))))), exp(exp(sin(cos(cos(tan(x0)))))), exp(exp(sin(cos(sin(exp(sin(exp(x2)))))))), exp(exp(sin(cos(sin(exp(sin(exp(x2))))))))]\n"
     ]
    },
    {
     "name": "stderr",
     "output_type": "stream",
     "text": [
      " 21%|██        | 21/100 [00:03<00:18,  4.38it/s]"
     ]
    },
    {
     "name": "stdout",
     "output_type": "stream",
     "text": [
      "exp(exp(sin(exp(cos(exp(-exp(exp(sin(sin(exp(sin(sin(sin(x1)))))))))))))) 11718.059094287077\n",
      "[exp(exp(sin(exp(cos(exp(-exp(exp(sin(sin(exp(sin(sin(sin(x1)))))))))))))), exp(exp(sin(cos(cos(sin(sin(sin(cos(cos(sin(x0))))))))))), exp(exp(sin(cos(cos(sin(sin(sin(cos(cos(sin(x0))))))))))), exp(exp(sin(cos(cos(sin(sin(tan(x0)))))))), exp(exp(sin(cos(cos(sin(sin(cos(cos(sin(x0)))))))))), exp(exp(sin(cos(cos(sin(x0)))))), exp(exp(sin(cos(cos(sin(x0)))))), exp(exp(sin(cos(cos(sin(sin(exp(sin(exp(x2)))))))))), exp(exp(sin(cos(cos(cos(cos(sin(sin(exp(sin(exp(-x3)))))))))))), exp(exp(sin(cos(cos(exp(exp(sin(cos(cos(sin(sin(sin(x3)))))))))))))]\n"
     ]
    },
    {
     "name": "stderr",
     "output_type": "stream",
     "text": [
      " 22%|██▏       | 22/100 [00:03<00:18,  4.15it/s]"
     ]
    },
    {
     "name": "stdout",
     "output_type": "stream",
     "text": [
      "exp(exp(sin(exp(cos(exp(-exp(exp(sin(sin(exp(sin(sin(sin(x1)))))))))))))) 11718.059094287077\n",
      "[exp(exp(sin(exp(cos(exp(-exp(exp(sin(sin(exp(sin(sin(sin(x1)))))))))))))), exp(exp(sin(cos(cos(sin(sin(sin(cos(cos(sin(x0))))))))))), exp(exp(sin(cos(cos(sin(sin(sin(cos(cos(sin(x0))))))))))), exp(exp(sin(cos(cos(sin(sin(tan(x0)))))))), exp(exp(sin(cos(cos(sin(sin(cos(cos(sin(x0)))))))))), exp(exp(sin(cos(cos(sin(sin(sin(cos(cos(cos(sin(x0)))))))))))), exp(exp(sin(cos(cos(sin(x0)))))), exp(exp(sin(cos(cos(sin(x0)))))), exp(exp(sin(cos(cos(sin(x2)))))), exp(exp(sin(cos(cos(sin(sin(exp(sin(exp(x2))))))))))]\n"
     ]
    },
    {
     "name": "stderr",
     "output_type": "stream",
     "text": [
      " 23%|██▎       | 23/100 [00:03<00:23,  3.27it/s]"
     ]
    },
    {
     "name": "stdout",
     "output_type": "stream",
     "text": [
      "exp(exp(sin(sin(sin(sin(tan(exp(-sin(exp(sin(x3))))))))))) 11590.410241244572\n",
      "[exp(exp(sin(sin(sin(sin(tan(exp(-sin(exp(sin(x3))))))))))), exp(exp(sin(exp(cos(exp(-exp(exp(sin(sin(exp(sin(sin(sin(x1)))))))))))))), exp(exp(sin(cos(cos(sin(sin(sin(tan(x0))))))))), exp(exp(sin(cos(cos(sin(sin(sin(cos(cos(sin(x0))))))))))), exp(exp(sin(cos(cos(sin(sin(sin(cos(cos(sin(x0))))))))))), exp(exp(sin(cos(cos(sin(sin(sin(cos(cos(sin(x0))))))))))), exp(exp(sin(cos(cos(sin(sin(tan(x0)))))))), exp(exp(sin(cos(cos(sin(sin(cos(cos(sin(x0)))))))))), exp(exp(sin(cos(cos(sin(sin(sin(cos(cos(cos(sin(x0)))))))))))), exp(exp(sin(cos(cos(cos(cos(sin(sin(sin(x3))))))))))]\n"
     ]
    },
    {
     "name": "stderr",
     "output_type": "stream",
     "text": [
      " 24%|██▍       | 24/100 [00:04<00:22,  3.31it/s]"
     ]
    },
    {
     "name": "stdout",
     "output_type": "stream",
     "text": [
      "exp(exp(sin(sin(sin(sin(tan(exp(-sin(exp(sin(x3))))))))))) 11590.410241244572\n",
      "[exp(exp(sin(sin(sin(sin(tan(exp(-sin(exp(sin(x3))))))))))), exp(exp(sin(sin(sin(sin(tan(exp(-sin(exp(sin(x3))))))))))), exp(exp(sin(exp(cos(exp(-exp(exp(sin(tan(x0)))))))))), exp(exp(sin(exp(cos(exp(-exp(exp(sin(sin(exp(sin(sin(sin(x1)))))))))))))), exp(exp(sin(cos(cos(sin(sin(sin(tan(x0))))))))), exp(exp(sin(cos(cos(sin(sin(sin(cos(cos(sin(x0))))))))))), exp(exp(sin(cos(cos(sin(sin(sin(cos(cos(sin(x0))))))))))), exp(exp(sin(cos(cos(sin(sin(sin(cos(cos(sin(x0))))))))))), exp(exp(sin(cos(cos(sin(sin(sin(cos(cos(tan(x1))))))))))), exp(exp(sin(cos(cos(sin(sin(cos(cos(sin(x0))))))))))]\n"
     ]
    },
    {
     "name": "stderr",
     "output_type": "stream",
     "text": [
      " 25%|██▌       | 25/100 [00:04<00:22,  3.33it/s]"
     ]
    },
    {
     "name": "stdout",
     "output_type": "stream",
     "text": [
      "exp(exp(sin(sin(sin(sin(tan(exp(-sin(exp(sin(x3))))))))))) 11590.410241244572\n",
      "[exp(exp(sin(sin(sin(sin(tan(exp(-sin(exp(sin(x3))))))))))), exp(exp(sin(sin(sin(sin(tan(exp(-sin(exp(sin(x3))))))))))), exp(exp(sin(exp(cos(exp(-exp(exp(sin(tan(x0)))))))))), exp(exp(sin(exp(cos(exp(-exp(exp(sin(sin(exp(sin(sin(sin(x1)))))))))))))), exp(exp(sin(sin(sin(exp(-cos(sin(tan(x1))))))))), exp(exp(sin(sin(sin(sin(cos(cos(tan(x1))))))))), exp(exp(sin(cos(cos(sin(sin(sin(sin(sin(sin(cos(cos(sin(x0)))))))))))))), exp(exp(sin(tan(exp(-sin(exp(sin(x3)))))))), exp(exp(sin(cos(cos(sin(sin(sin(cos(cos(sin(x0))))))))))), exp(exp(sin(cos(cos(sin(sin(sin(cos(cos(sin(x0)))))))))))]\n"
     ]
    },
    {
     "name": "stderr",
     "output_type": "stream",
     "text": [
      " 26%|██▌       | 26/100 [00:04<00:22,  3.31it/s]"
     ]
    },
    {
     "name": "stdout",
     "output_type": "stream",
     "text": [
      "exp(exp(sin(sin(sin(sin(tan(exp(-sin(exp(sin(x3))))))))))) 11590.410241244572\n",
      "[exp(exp(sin(sin(sin(sin(tan(exp(-sin(exp(sin(x3))))))))))), exp(exp(sin(sin(sin(sin(tan(exp(-sin(exp(sin(x3))))))))))), exp(exp(sin(sin(sin(sin(tan(exp(-sin(exp(sin(x3))))))))))), exp(exp(sin(sin(sin(sin(cos(cos(x0)))))))), exp(exp(sin(exp(cos(exp(-exp(exp(sin(tan(x0)))))))))), exp(exp(sin(exp(cos(exp(-exp(exp(sin(tan(sin(sin(exp(cos(x2)))))))))))))), exp(exp(sin(exp(cos(exp(-exp(exp(sin(sin(exp(sin(sin(sin(x1)))))))))))))), exp(exp(sin(sin(sin(exp(-cos(sin(tan(x1))))))))), exp(exp(sin(sin(sin(sin(cos(cos(tan(x1))))))))), exp(exp(sin(cos(cos(sin(sin(sin(sin(sin(sin(cos(cos(sin(x0))))))))))))))]\n"
     ]
    },
    {
     "name": "stderr",
     "output_type": "stream",
     "text": [
      " 27%|██▋       | 27/100 [00:05<00:21,  3.36it/s]"
     ]
    },
    {
     "name": "stdout",
     "output_type": "stream",
     "text": [
      "exp(exp(sin(sin(sin(sin(tan(exp(-sin(exp(sin(x3))))))))))) 11590.410241244572\n",
      "[exp(exp(sin(sin(sin(sin(tan(exp(-sin(exp(sin(x3))))))))))), exp(exp(sin(sin(sin(sin(tan(exp(-sin(exp(sin(x3))))))))))), exp(exp(sin(sin(sin(sin(tan(exp(-sin(exp(sin(x3))))))))))), exp(exp(sin(sin(sin(sin(tan(exp(-sin(exp(sin(x3))))))))))), exp(exp(sin(sin(sin(sin(cos(cos(x0)))))))), exp(exp(sin(exp(cos(exp(-exp(exp(sin(tan(x0)))))))))), exp(exp(sin(exp(cos(exp(-exp(exp(sin(tan(sin(sin(exp(cos(x2)))))))))))))), exp(exp(sin(exp(cos(exp(-exp(exp(sin(sin(exp(sin(sin(sin(x1)))))))))))))), exp(exp(sin(sin(sin(exp(-cos(sin(tan(x1))))))))), exp(exp(sin(sin(sin(sin(cos(cos(tan(x1)))))))))]\n"
     ]
    },
    {
     "name": "stderr",
     "output_type": "stream",
     "text": [
      " 28%|██▊       | 28/100 [00:05<00:22,  3.15it/s]"
     ]
    },
    {
     "name": "stdout",
     "output_type": "stream",
     "text": [
      "exp(exp(sin(sin(sin(sin(sin(sin(sin(sin(cos(cos(x0)))))))))))) 11583.285728248542\n",
      "[exp(exp(sin(sin(sin(sin(sin(sin(sin(sin(cos(cos(x0)))))))))))), exp(exp(sin(sin(sin(sin(tan(exp(-sin(exp(sin(x3))))))))))), exp(exp(sin(sin(sin(sin(tan(exp(-sin(exp(sin(x3))))))))))), exp(exp(sin(sin(sin(sin(tan(exp(-sin(exp(sin(x3))))))))))), exp(exp(sin(sin(sin(sin(tan(exp(-sin(exp(sin(x3))))))))))), exp(exp(sin(sin(sin(sin(cos(cos(x0)))))))), exp(exp(sin(exp(cos(exp(-exp(exp(sin(tan(x0)))))))))), exp(exp(sin(exp(cos(exp(-exp(exp(sin(tan(x0)))))))))), exp(exp(sin(exp(cos(exp(-exp(exp(sin(tan(sin(sin(exp(cos(x1)))))))))))))), exp(exp(sin(exp(cos(exp(-exp(exp(sin(tan(sin(sin(exp(cos(x2))))))))))))))]\n"
     ]
    },
    {
     "name": "stderr",
     "output_type": "stream",
     "text": [
      " 29%|██▉       | 29/100 [00:05<00:21,  3.23it/s]"
     ]
    },
    {
     "name": "stdout",
     "output_type": "stream",
     "text": [
      "exp(exp(sin(sin(sin(sin(sin(sin(sin(sin(cos(cos(x0)))))))))))) 11583.285728248542\n",
      "[exp(exp(sin(sin(sin(sin(sin(sin(sin(sin(cos(cos(x0)))))))))))), exp(exp(sin(sin(sin(sin(tan(exp(-sin(exp(sin(x3))))))))))), exp(exp(sin(sin(sin(sin(tan(exp(-sin(exp(sin(x3))))))))))), exp(exp(sin(sin(sin(sin(tan(exp(-sin(exp(sin(x3))))))))))), exp(exp(sin(sin(sin(sin(tan(exp(-sin(exp(sin(x3))))))))))), exp(exp(sin(sin(sin(sin(tan(exp(-sin(exp(sin(x3))))))))))), exp(exp(sin(sin(sin(sin(cos(cos(x0)))))))), exp(exp(sin(exp(cos(exp(-exp(exp(sin(tan(x0)))))))))), exp(exp(sin(exp(cos(exp(-exp(exp(sin(tan(x0)))))))))), exp(exp(sin(exp(cos(exp(-exp(exp(sin(x1)))))))))]\n"
     ]
    },
    {
     "name": "stderr",
     "output_type": "stream",
     "text": [
      " 30%|███       | 30/100 [00:06<00:21,  3.31it/s]"
     ]
    },
    {
     "name": "stdout",
     "output_type": "stream",
     "text": [
      "exp(exp(sin(sin(sin(sin(sin(sin(sin(sin(cos(cos(x0)))))))))))) 11583.285728248542\n",
      "[exp(exp(sin(sin(sin(sin(sin(sin(sin(sin(cos(cos(x0)))))))))))), exp(exp(sin(sin(sin(sin(sin(sin(sin(sin(cos(cos(x0)))))))))))), exp(exp(sin(sin(sin(sin(tan(exp(-sin(exp(sin(x3))))))))))), exp(exp(sin(sin(sin(sin(tan(exp(-sin(exp(sin(x3))))))))))), exp(exp(sin(sin(sin(sin(tan(exp(-sin(exp(sin(x3))))))))))), exp(exp(sin(sin(sin(sin(tan(exp(-sin(exp(sin(x3))))))))))), exp(exp(sin(sin(sin(sin(tan(exp(-sin(exp(sin(x3))))))))))), exp(exp(sin(sin(sin(sin(cos(cos(x0)))))))), exp(exp(sin(exp(cos(exp(-exp(exp(sin(x2))))))))), exp(exp(sin(exp(-cos(cos(cos(tan(x1))))))))]\n"
     ]
    },
    {
     "name": "stderr",
     "output_type": "stream",
     "text": [
      " 31%|███       | 31/100 [00:06<00:20,  3.32it/s]"
     ]
    },
    {
     "name": "stdout",
     "output_type": "stream",
     "text": [
      "exp(exp(sin(sin(sin(sin(sin(sin(sin(sin(cos(cos(x0)))))))))))) 11583.285728248542\n",
      "[exp(exp(sin(sin(sin(sin(sin(sin(sin(sin(cos(cos(x0)))))))))))), exp(exp(sin(sin(sin(sin(sin(sin(sin(sin(cos(cos(x0)))))))))))), exp(exp(sin(sin(sin(sin(sin(sin(sin(sin(cos(cos(x0)))))))))))), exp(exp(sin(sin(sin(sin(tan(exp(-sin(exp(sin(x3))))))))))), exp(exp(sin(sin(sin(sin(tan(exp(-sin(exp(sin(x3))))))))))), exp(exp(sin(sin(sin(sin(tan(exp(-sin(exp(sin(x3))))))))))), exp(exp(sin(sin(sin(sin(tan(exp(-sin(exp(sin(x3))))))))))), exp(exp(sin(sin(sin(sin(tan(exp(-sin(exp(sin(x3))))))))))), exp(exp(sin(sin(sin(sin(cos(cos(x0)))))))), exp(exp(sin(sin(sin(sin(sin(sin(sin(sin(sin(cos(cos(sin(x0))))))))))))))]\n"
     ]
    },
    {
     "name": "stderr",
     "output_type": "stream",
     "text": [
      " 32%|███▏      | 32/100 [00:06<00:19,  3.45it/s]"
     ]
    },
    {
     "name": "stdout",
     "output_type": "stream",
     "text": [
      "exp(exp(sin(sin(sin(sin(sin(sin(sin(sin(cos(cos(x0)))))))))))) 11583.285728248542\n",
      "[exp(exp(sin(sin(sin(sin(sin(sin(sin(sin(cos(cos(x0)))))))))))), exp(exp(sin(sin(sin(sin(sin(sin(sin(sin(cos(cos(x0)))))))))))), exp(exp(sin(sin(sin(sin(sin(sin(sin(sin(cos(cos(x0)))))))))))), exp(exp(sin(sin(sin(sin(tan(exp(-sin(exp(sin(x3))))))))))), exp(exp(sin(sin(sin(sin(tan(exp(-sin(exp(sin(x3))))))))))), exp(exp(sin(sin(sin(sin(tan(exp(-sin(exp(sin(x3))))))))))), exp(exp(sin(sin(sin(sin(tan(exp(-sin(exp(sin(x3))))))))))), exp(exp(sin(sin(sin(sin(tan(exp(-sin(exp(sin(x3))))))))))), exp(exp(sin(sin(sin(sin(sin(sin(sin(sin(sin(cos(cos(x0))))))))))))), exp(exp(sin(sin(sin(sin(cos(cos(x0))))))))]\n"
     ]
    },
    {
     "name": "stderr",
     "output_type": "stream",
     "text": [
      " 33%|███▎      | 33/100 [00:06<00:18,  3.54it/s]"
     ]
    },
    {
     "name": "stdout",
     "output_type": "stream",
     "text": [
      "exp(exp(sin(sin(sin(sin(sin(sin(cos(cos(sin(x0))))))))))) 11555.365577951823\n",
      "[exp(exp(sin(sin(sin(sin(sin(sin(cos(cos(sin(x0))))))))))), exp(exp(sin(sin(sin(sin(sin(cos(cos(x0))))))))), exp(exp(sin(sin(sin(sin(sin(sin(sin(sin(cos(cos(x0)))))))))))), exp(exp(sin(sin(sin(sin(sin(sin(sin(sin(cos(cos(x0)))))))))))), exp(exp(sin(sin(sin(sin(sin(sin(sin(sin(cos(cos(x0)))))))))))), exp(exp(sin(sin(sin(sin(tan(exp(-sin(exp(sin(x3))))))))))), exp(exp(sin(sin(sin(sin(tan(exp(-sin(exp(sin(x3))))))))))), exp(exp(sin(sin(sin(sin(tan(exp(-sin(exp(sin(x3))))))))))), exp(exp(sin(sin(sin(sin(tan(exp(-sin(exp(sin(x3))))))))))), exp(exp(sin(sin(sin(sin(tan(exp(-sin(exp(sin(x3)))))))))))]\n"
     ]
    },
    {
     "name": "stderr",
     "output_type": "stream",
     "text": [
      " 34%|███▍      | 34/100 [00:07<00:19,  3.42it/s]"
     ]
    },
    {
     "name": "stdout",
     "output_type": "stream",
     "text": [
      "exp(exp(sin(sin(sin(sin(sin(sin(cos(cos(x0)))))))))) 11548.201215473891\n",
      "[exp(exp(sin(sin(sin(sin(sin(sin(cos(cos(x0)))))))))), exp(exp(sin(sin(sin(sin(sin(sin(cos(cos(x0)))))))))), exp(exp(sin(sin(sin(sin(sin(sin(cos(cos(sin(x0))))))))))), exp(exp(sin(sin(sin(sin(sin(cos(cos(x0))))))))), exp(exp(sin(sin(sin(sin(sin(sin(sin(sin(cos(cos(x0)))))))))))), exp(exp(sin(sin(sin(sin(sin(sin(sin(sin(cos(cos(x0)))))))))))), exp(exp(sin(sin(sin(sin(sin(sin(sin(sin(cos(cos(x0)))))))))))), exp(exp(sin(sin(sin(sin(tan(exp(-sin(exp(sin(x3))))))))))), exp(exp(sin(sin(sin(sin(tan(exp(-sin(exp(sin(x3))))))))))), exp(exp(sin(sin(sin(sin(tan(exp(-sin(exp(sin(x3)))))))))))]\n"
     ]
    },
    {
     "name": "stderr",
     "output_type": "stream",
     "text": [
      " 35%|███▌      | 35/100 [00:07<00:19,  3.33it/s]"
     ]
    },
    {
     "name": "stdout",
     "output_type": "stream",
     "text": [
      "exp(exp(sin(exp(-cos(cos(tan(exp(x1)))))))) 11507.468343515104\n",
      "[exp(exp(sin(exp(-cos(cos(tan(exp(x1)))))))), exp(exp(sin(sin(sin(sin(sin(sin(cos(cos(x0)))))))))), exp(exp(sin(sin(sin(sin(sin(sin(cos(cos(x0)))))))))), exp(exp(sin(sin(sin(sin(sin(sin(cos(cos(sin(x0))))))))))), exp(exp(sin(sin(sin(sin(sin(cos(cos(x0))))))))), exp(exp(sin(sin(sin(sin(sin(sin(sin(sin(cos(cos(x0)))))))))))), exp(exp(sin(sin(sin(sin(sin(sin(sin(sin(cos(cos(x0)))))))))))), exp(exp(sin(sin(sin(sin(sin(sin(sin(sin(cos(cos(x0)))))))))))), exp(exp(sin(sin(sin(sin(sin(sin(sin(sin(cos(cos(x0)))))))))))), exp(exp(sin(sin(sin(sin(tan(exp(-sin(exp(sin(x3)))))))))))]\n"
     ]
    },
    {
     "name": "stderr",
     "output_type": "stream",
     "text": [
      " 36%|███▌      | 36/100 [00:07<00:22,  2.88it/s]"
     ]
    },
    {
     "name": "stdout",
     "output_type": "stream",
     "text": [
      "exp(exp(sin(exp(-cos(cos(tan(exp(x1)))))))) 11507.468343515104\n",
      "[exp(exp(sin(exp(-cos(cos(tan(exp(x1)))))))), exp(exp(sin(sin(sin(sin(sin(sin(cos(cos(x0)))))))))), exp(exp(sin(sin(sin(sin(sin(sin(cos(cos(x0)))))))))), exp(exp(exp(-tan(exp(-sin(exp(-sin(exp(sin(x3)))))))))), exp(exp(sin(sin(sin(sin(sin(sin(cos(cos(sin(x0))))))))))), exp(exp(sin(sin(sin(sin(sin(cos(cos(x0))))))))), exp(exp(sin(sin(sin(sin(sin(sin(sin(cos(cos(sin(x0)))))))))))), exp(exp(sin(sin(sin(sin(cos(cos(sin(x0))))))))), exp(exp(sin(sin(sin(sin(sin(sin(sin(sin(cos(cos(x0)))))))))))), exp(exp(sin(sin(sin(sin(sin(sin(sin(sin(cos(cos(x0))))))))))))]\n"
     ]
    },
    {
     "name": "stderr",
     "output_type": "stream",
     "text": [
      " 37%|███▋      | 37/100 [00:08<00:21,  3.00it/s]"
     ]
    },
    {
     "name": "stdout",
     "output_type": "stream",
     "text": [
      "exp(exp(sin(exp(-cos(cos(tan(exp(x1)))))))) 11507.468343515104\n",
      "[exp(exp(sin(exp(-cos(cos(tan(exp(x1)))))))), exp(exp(sin(sin(sin(sin(sin(sin(cos(cos(x0)))))))))), exp(exp(sin(sin(sin(sin(sin(sin(cos(cos(x0)))))))))), exp(exp(sin(sin(sin(sin(sin(cos(cos(sin(x0)))))))))), exp(exp(exp(-tan(exp(-sin(exp(-sin(exp(sin(x3)))))))))), exp(exp(sin(sin(sin(sin(sin(sin(cos(cos(sin(x0))))))))))), exp(exp(sin(sin(sin(sin(sin(sin(cos(cos(sin(sin(sin(x3))))))))))))), exp(exp(sin(sin(sin(sin(sin(cos(cos(x0))))))))), exp(exp(sin(sin(sin(sin(sin(cos(cos(sin(cos(cos(sin(x0))))))))))))), exp(exp(sin(sin(sin(sin(sin(sin(sin(cos(cos(sin(x0))))))))))))]\n"
     ]
    },
    {
     "name": "stderr",
     "output_type": "stream",
     "text": [
      " 38%|███▊      | 38/100 [00:08<00:21,  2.93it/s]"
     ]
    },
    {
     "name": "stdout",
     "output_type": "stream",
     "text": [
      "exp(exp(sin(exp(-cos(cos(tan(exp(x1)))))))) 11507.468343515104\n",
      "[exp(exp(sin(exp(-cos(cos(tan(exp(x1)))))))), exp(exp(sin(sin(sin(sin(cos(cos(sin(sin(sin(sin(x2)))))))))))), exp(exp(sin(sin(sin(sin(sin(sin(cos(cos(x0)))))))))), exp(exp(sin(sin(sin(sin(sin(sin(cos(cos(x0)))))))))), exp(exp(sin(sin(sin(sin(sin(cos(cos(sin(x0)))))))))), exp(exp(exp(-tan(exp(-sin(exp(-sin(exp(sin(x3)))))))))), exp(exp(sin(sin(sin(sin(sin(sin(cos(cos(sin(x0))))))))))), exp(exp(sin(sin(sin(sin(sin(sin(cos(cos(sin(sin(sin(x3))))))))))))), exp(exp(sin(sin(sin(sin(sin(sin(sin(cos(cos(x0))))))))))), exp(exp(sin(sin(sin(sin(sin(cos(cos(x0)))))))))]\n"
     ]
    },
    {
     "name": "stderr",
     "output_type": "stream",
     "text": [
      " 39%|███▉      | 39/100 [00:09<00:21,  2.86it/s]"
     ]
    },
    {
     "name": "stdout",
     "output_type": "stream",
     "text": [
      "exp(exp(sin(exp(-cos(cos(tan(exp(x1)))))))) 11507.468343515104\n",
      "[exp(exp(sin(exp(-cos(cos(tan(exp(x1)))))))), exp(exp(sin(sin(sin(sin(cos(cos(sin(sin(sin(sin(x2)))))))))))), exp(exp(sin(sin(sin(sin(sin(sin(cos(cos(x0)))))))))), exp(exp(sin(sin(sin(sin(sin(sin(cos(cos(x0)))))))))), exp(exp(sin(sin(sin(sin(sin(sin(cos(cos(x0)))))))))), exp(exp(sin(sin(sin(sin(sin(cos(cos(sin(x0)))))))))), exp(exp(exp(-tan(exp(-sin(exp(-sin(exp(sin(x3)))))))))), exp(exp(sin(sin(sin(sin(sin(sin(sin(sin(cos(cos(x2)))))))))))), exp(exp(sin(sin(sin(sin(sin(sin(cos(cos(sin(x0))))))))))), exp(exp(sin(sin(sin(sin(sin(sin(cos(cos(sin(x0)))))))))))]\n"
     ]
    },
    {
     "name": "stderr",
     "output_type": "stream",
     "text": [
      " 40%|████      | 40/100 [00:09<00:20,  2.95it/s]"
     ]
    },
    {
     "name": "stdout",
     "output_type": "stream",
     "text": [
      "exp(exp(sin(exp(-cos(cos(tan(exp(x1)))))))) 11507.468343515104\n",
      "[exp(exp(sin(exp(-cos(cos(tan(exp(x1)))))))), exp(exp(sin(sin(sin(sin(cos(cos(sin(sin(sin(sin(x2)))))))))))), exp(exp(sin(sin(sin(sin(cos(cos(sin(sin(sin(sin(x2)))))))))))), exp(exp(sin(sin(sin(exp(-sin(exp(x3)))))))), exp(exp(sin(sin(sin(sin(sin(sin(cos(cos(x0)))))))))), exp(exp(sin(sin(sin(sin(sin(sin(cos(cos(x0)))))))))), exp(exp(sin(sin(sin(sin(sin(sin(cos(cos(x0)))))))))), exp(exp(sin(sin(sin(sin(sin(cos(cos(sin(x0)))))))))), exp(exp(exp(-tan(exp(-sin(exp(-sin(exp(sin(x3)))))))))), exp(exp(sin(sin(sin(sin(sin(sin(sin(sin(cos(cos(x2))))))))))))]\n"
     ]
    },
    {
     "name": "stderr",
     "output_type": "stream",
     "text": [
      " 41%|████      | 41/100 [00:09<00:19,  3.05it/s]"
     ]
    },
    {
     "name": "stdout",
     "output_type": "stream",
     "text": [
      "exp(exp(sin(exp(-cos(cos(tan(exp(x1)))))))) 11507.468343515104\n",
      "[exp(exp(sin(exp(-cos(cos(tan(exp(x1)))))))), exp(exp(sin(sin(sin(sin(cos(cos(sin(sin(sin(sin(x2)))))))))))), exp(exp(sin(sin(sin(sin(cos(cos(sin(sin(sin(sin(x2)))))))))))), exp(exp(sin(sin(sin(exp(-sin(exp(x3)))))))), exp(exp(sin(sin(sin(sin(sin(sin(cos(cos(x0)))))))))), exp(exp(sin(sin(sin(sin(sin(sin(cos(cos(x0)))))))))), exp(exp(sin(sin(sin(sin(sin(sin(cos(cos(x0)))))))))), exp(exp(sin(sin(sin(sin(sin(cos(cos(sin(x0)))))))))), exp(exp(exp(-tan(exp(-sin(exp(-sin(exp(sin(x3)))))))))), exp(exp(sin(sin(sin(sin(sin(sin(sin(sin(cos(cos(x2))))))))))))]\n"
     ]
    },
    {
     "name": "stderr",
     "output_type": "stream",
     "text": [
      " 42%|████▏     | 42/100 [00:09<00:19,  3.05it/s]"
     ]
    },
    {
     "name": "stdout",
     "output_type": "stream",
     "text": [
      "exp(exp(sin(exp(-cos(cos(tan(exp(x1)))))))) 11507.468343515104\n",
      "[exp(exp(sin(exp(-cos(cos(tan(exp(x1)))))))), exp(exp(sin(sin(sin(sin(cos(cos(sin(sin(sin(sin(x2)))))))))))), exp(exp(sin(sin(sin(sin(cos(cos(sin(sin(sin(sin(x2)))))))))))), exp(exp(sin(sin(sin(exp(-sin(exp(x3)))))))), exp(exp(sin(sin(sin(sin(sin(sin(cos(cos(x0)))))))))), exp(exp(sin(sin(sin(sin(sin(sin(cos(cos(x0)))))))))), exp(exp(sin(sin(sin(sin(sin(sin(cos(cos(x0)))))))))), exp(exp(sin(sin(sin(sin(sin(sin(cos(cos(x0)))))))))), exp(exp(sin(sin(sin(sin(sin(cos(cos(sin(x0)))))))))), exp(exp(exp(-tan(exp(-sin(exp(-sin(exp(sin(x3))))))))))]\n"
     ]
    },
    {
     "name": "stderr",
     "output_type": "stream",
     "text": [
      " 43%|████▎     | 43/100 [00:10<00:18,  3.12it/s]"
     ]
    },
    {
     "name": "stdout",
     "output_type": "stream",
     "text": [
      "exp(exp(sin(exp(-cos(cos(tan(exp(x1)))))))) 11507.468343515104\n",
      "[exp(exp(sin(exp(-cos(cos(tan(exp(x1)))))))), exp(exp(sin(sin(sin(sin(cos(cos(sin(sin(sin(sin(x2)))))))))))), exp(exp(sin(sin(sin(sin(cos(cos(sin(sin(sin(sin(x2)))))))))))), exp(exp(sin(sin(sin(exp(-sin(exp(x3)))))))), exp(exp(sin(sin(sin(sin(sin(sin(cos(cos(x0)))))))))), exp(exp(sin(sin(sin(sin(sin(sin(cos(cos(x0)))))))))), exp(exp(sin(sin(sin(sin(sin(sin(cos(cos(x0)))))))))), exp(exp(sin(sin(sin(sin(sin(sin(cos(cos(x0)))))))))), exp(exp(sin(sin(sin(sin(sin(cos(cos(sin(x0)))))))))), exp(exp(exp(-tan(exp(-sin(exp(-sin(exp(sin(x3))))))))))]\n"
     ]
    },
    {
     "name": "stderr",
     "output_type": "stream",
     "text": [
      " 44%|████▍     | 44/100 [00:10<00:17,  3.18it/s]"
     ]
    },
    {
     "name": "stdout",
     "output_type": "stream",
     "text": [
      "exp(exp(sin(exp(-cos(cos(tan(exp(x1)))))))) 11507.468343515104\n",
      "[exp(exp(sin(exp(-cos(cos(tan(exp(x1)))))))), exp(exp(sin(sin(sin(sin(cos(cos(sin(sin(sin(sin(x2)))))))))))), exp(exp(sin(sin(sin(sin(cos(cos(sin(sin(sin(sin(x2)))))))))))), exp(exp(sin(sin(sin(exp(-sin(exp(x3)))))))), exp(exp(sin(sin(sin(sin(sin(sin(cos(cos(x0)))))))))), exp(exp(sin(sin(sin(sin(sin(sin(cos(cos(x0)))))))))), exp(exp(sin(sin(sin(sin(sin(sin(cos(cos(x0)))))))))), exp(exp(sin(sin(sin(sin(sin(sin(cos(cos(x0)))))))))), exp(exp(sin(sin(sin(sin(sin(sin(cos(cos(x0)))))))))), exp(exp(sin(sin(sin(sin(sin(cos(cos(sin(x0))))))))))]\n"
     ]
    },
    {
     "name": "stderr",
     "output_type": "stream",
     "text": [
      " 45%|████▌     | 45/100 [00:10<00:17,  3.21it/s]"
     ]
    },
    {
     "name": "stdout",
     "output_type": "stream",
     "text": [
      "exp(exp(exp(-tan(exp(-sin(exp(-cos(x2)))))))) 11376.958981987826\n",
      "[exp(exp(exp(-tan(exp(-sin(exp(-cos(x2)))))))), exp(exp(sin(exp(-cos(cos(tan(exp(x1)))))))), exp(exp(sin(sin(sin(sin(cos(cos(sin(sin(sin(sin(x2)))))))))))), exp(exp(sin(sin(sin(sin(cos(cos(sin(sin(sin(sin(x2)))))))))))), exp(exp(sin(sin(sin(exp(-sin(exp(x3)))))))), exp(exp(sin(sin(sin(sin(sin(sin(cos(cos(x0)))))))))), exp(exp(sin(sin(sin(sin(sin(sin(cos(cos(x0)))))))))), exp(exp(sin(sin(sin(sin(sin(sin(cos(cos(x0)))))))))), exp(exp(sin(sin(sin(sin(sin(sin(cos(cos(x0)))))))))), exp(exp(sin(sin(sin(sin(sin(sin(cos(cos(x0))))))))))]\n"
     ]
    },
    {
     "name": "stderr",
     "output_type": "stream",
     "text": [
      " 46%|████▌     | 46/100 [00:11<00:16,  3.33it/s]"
     ]
    },
    {
     "name": "stdout",
     "output_type": "stream",
     "text": [
      "exp(exp(exp(-tan(exp(-sin(exp(-cos(x2)))))))) 11376.958981987826\n",
      "[exp(exp(exp(-tan(exp(-sin(exp(-cos(x2)))))))), exp(exp(sin(exp(-cos(cos(tan(exp(x2)))))))), exp(exp(sin(exp(-cos(cos(tan(exp(x1)))))))), exp(exp(sin(sin(sin(sin(cos(cos(sin(sin(sin(sin(x2)))))))))))), exp(exp(sin(sin(sin(sin(cos(cos(sin(sin(sin(sin(x2)))))))))))), exp(exp(sin(sin(sin(exp(-sin(exp(x3)))))))), exp(exp(sin(sin(sin(sin(sin(sin(cos(cos(x0)))))))))), exp(exp(sin(sin(sin(sin(sin(sin(cos(cos(x0)))))))))), exp(exp(sin(sin(sin(sin(sin(sin(cos(cos(x0)))))))))), exp(exp(sin(sin(sin(sin(sin(sin(cos(cos(x0))))))))))]\n"
     ]
    },
    {
     "name": "stderr",
     "output_type": "stream",
     "text": [
      " 47%|████▋     | 47/100 [00:11<00:15,  3.46it/s]"
     ]
    },
    {
     "name": "stdout",
     "output_type": "stream",
     "text": [
      "exp(exp(exp(-tan(exp(-sin(exp(-cos(x2)))))))) 11376.958981987826\n",
      "[exp(exp(exp(-tan(exp(-sin(exp(-cos(x2)))))))), exp(exp(sin(exp(-cos(cos(tan(exp(x2)))))))), exp(exp(sin(exp(-cos(cos(tan(exp(x1)))))))), exp(exp(sin(sin(sin(sin(cos(cos(sin(sin(sin(sin(x2)))))))))))), exp(exp(sin(sin(sin(sin(cos(cos(sin(sin(sin(sin(x2)))))))))))), exp(exp(sin(sin(sin(exp(-sin(exp(x3)))))))), exp(exp(sin(sin(sin(sin(sin(sin(cos(cos(x0)))))))))), exp(exp(sin(sin(sin(sin(sin(sin(cos(cos(x0)))))))))), exp(exp(sin(sin(sin(sin(sin(sin(cos(cos(x0)))))))))), exp(exp(sin(sin(sin(sin(sin(sin(cos(cos(x0))))))))))]\n"
     ]
    },
    {
     "name": "stderr",
     "output_type": "stream",
     "text": [
      " 48%|████▊     | 48/100 [00:11<00:17,  2.97it/s]"
     ]
    },
    {
     "name": "stdout",
     "output_type": "stream",
     "text": [
      "exp(exp(exp(-tan(exp(-sin(exp(-cos(x2)))))))) 11376.958981987826\n",
      "[exp(exp(exp(-tan(exp(-sin(exp(-cos(x2)))))))), exp(exp(sin(exp(-cos(cos(tan(exp(x2)))))))), exp(exp(sin(exp(-cos(cos(tan(exp(x1)))))))), exp(exp(sin(sin(sin(sin(cos(cos(sin(sin(sin(sin(x2)))))))))))), exp(exp(sin(sin(sin(sin(cos(cos(sin(sin(sin(sin(x2)))))))))))), exp(exp(sin(sin(sin(exp(-sin(exp(x3)))))))), exp(exp(sin(sin(sin(sin(sin(sin(cos(cos(x0)))))))))), exp(exp(sin(sin(sin(sin(sin(sin(cos(cos(x0)))))))))), exp(exp(sin(sin(sin(sin(sin(sin(cos(cos(x0)))))))))), exp(exp(sin(sin(sin(sin(sin(sin(cos(cos(x0))))))))))]\n"
     ]
    },
    {
     "name": "stderr",
     "output_type": "stream",
     "text": [
      " 49%|████▉     | 49/100 [00:12<00:15,  3.23it/s]"
     ]
    },
    {
     "name": "stdout",
     "output_type": "stream",
     "text": [
      "exp(exp(exp(-tan(exp(-sin(exp(-cos(x2)))))))) 11376.958981987826\n",
      "[exp(exp(exp(-tan(exp(-sin(exp(-cos(x2)))))))), exp(exp(sin(exp(-cos(cos(tan(exp(x2)))))))), exp(exp(sin(exp(-cos(cos(tan(exp(x1)))))))), exp(exp(sin(sin(sin(sin(cos(cos(sin(sin(sin(sin(x2)))))))))))), exp(exp(sin(sin(sin(sin(cos(cos(sin(sin(sin(sin(x2)))))))))))), exp(exp(sin(sin(sin(sin(cos(cos(sin(sin(sin(sin(x2)))))))))))), exp(exp(sin(sin(sin(exp(-sin(exp(x3)))))))), exp(exp(sin(sin(sin(sin(sin(sin(cos(cos(x0)))))))))), exp(exp(sin(sin(sin(sin(sin(sin(cos(cos(x0)))))))))), exp(exp(sin(sin(sin(sin(sin(sin(cos(cos(x0))))))))))]\n"
     ]
    },
    {
     "name": "stderr",
     "output_type": "stream",
     "text": [
      " 50%|█████     | 50/100 [00:12<00:14,  3.41it/s]"
     ]
    },
    {
     "name": "stdout",
     "output_type": "stream",
     "text": [
      "exp(exp(exp(-tan(exp(-sin(exp(-cos(x2)))))))) 11376.958981987826\n",
      "[exp(exp(exp(-tan(exp(-sin(exp(-cos(x2)))))))), exp(exp(sin(exp(-cos(cos(tan(exp(x2)))))))), exp(exp(sin(sin(sin(sin(cos(cos(sin(sin(exp(-sin(exp(x3))))))))))))), exp(exp(sin(exp(-cos(cos(tan(exp(x1)))))))), exp(exp(sin(sin(sin(sin(cos(cos(sin(sin(sin(sin(x2)))))))))))), exp(exp(sin(sin(sin(sin(cos(cos(sin(sin(sin(sin(x2)))))))))))), exp(exp(sin(sin(sin(sin(cos(cos(sin(sin(sin(sin(x2)))))))))))), exp(exp(sin(sin(sin(exp(-sin(exp(x3)))))))), exp(exp(sin(sin(sin(sin(sin(sin(cos(cos(x0)))))))))), exp(exp(sin(sin(sin(sin(sin(sin(cos(cos(x0))))))))))]\n"
     ]
    },
    {
     "name": "stderr",
     "output_type": "stream",
     "text": [
      " 51%|█████     | 51/100 [00:12<00:13,  3.61it/s]"
     ]
    },
    {
     "name": "stdout",
     "output_type": "stream",
     "text": [
      "exp(exp(sin(sin(sin(exp(-sin(exp(-x0)))))))) 11173.942582830648\n",
      "[exp(exp(sin(sin(sin(exp(-sin(exp(-x0)))))))), exp(exp(exp(-tan(exp(-sin(exp(-cos(x2)))))))), exp(exp(sin(exp(-cos(cos(tan(exp(x2)))))))), exp(exp(sin(sin(sin(sin(cos(cos(sin(sin(exp(-sin(exp(x3))))))))))))), exp(exp(sin(exp(-cos(cos(tan(exp(x1)))))))), exp(exp(sin(sin(sin(sin(cos(cos(sin(sin(sin(sin(x2)))))))))))), exp(exp(sin(sin(sin(sin(cos(cos(sin(sin(sin(sin(x2)))))))))))), exp(exp(sin(sin(sin(sin(cos(cos(sin(sin(sin(sin(x2)))))))))))), exp(exp(sin(sin(sin(exp(-sin(exp(x3)))))))), exp(exp(sin(sin(sin(exp(-cos(cos(tan(exp(x1))))))))))]\n"
     ]
    },
    {
     "name": "stderr",
     "output_type": "stream",
     "text": [
      " 52%|█████▏    | 52/100 [00:12<00:12,  3.73it/s]"
     ]
    },
    {
     "name": "stdout",
     "output_type": "stream",
     "text": [
      "exp(exp(sin(sin(sin(exp(-sin(exp(-x0)))))))) 11173.942582830648\n",
      "[exp(exp(sin(sin(sin(exp(-sin(exp(-x0)))))))), exp(exp(exp(-tan(exp(-sin(exp(-cos(x2)))))))), exp(exp(sin(exp(-cos(cos(tan(exp(x2)))))))), exp(exp(sin(sin(sin(sin(sin(cos(cos(sin(sin(exp(-sin(exp(x3)))))))))))))), exp(exp(sin(sin(sin(sin(cos(cos(sin(sin(exp(-sin(exp(x3))))))))))))), exp(exp(sin(exp(-cos(cos(tan(exp(x1)))))))), exp(exp(sin(sin(sin(sin(cos(cos(sin(sin(sin(x2))))))))))), exp(exp(sin(sin(sin(sin(cos(cos(sin(sin(sin(sin(x2)))))))))))), exp(exp(sin(sin(sin(sin(cos(cos(sin(sin(sin(sin(x2)))))))))))), exp(exp(sin(sin(sin(exp(-sin(exp(x3))))))))]\n"
     ]
    },
    {
     "name": "stderr",
     "output_type": "stream",
     "text": [
      " 53%|█████▎    | 53/100 [00:13<00:11,  3.93it/s]"
     ]
    },
    {
     "name": "stdout",
     "output_type": "stream",
     "text": [
      "exp(exp(sin(sin(sin(exp(-sin(exp(-x0)))))))) 11173.942582830648\n",
      "[exp(exp(sin(sin(sin(exp(-sin(exp(-x0)))))))), exp(exp(exp(-tan(exp(-sin(exp(-cos(x2)))))))), exp(exp(sin(exp(-cos(cos(tan(exp(x2)))))))), exp(exp(sin(sin(sin(sin(sin(cos(cos(sin(sin(exp(-sin(exp(x3)))))))))))))), exp(exp(sin(sin(sin(sin(cos(cos(sin(sin(exp(-sin(exp(x3))))))))))))), exp(exp(sin(exp(-cos(cos(tan(exp(x1)))))))), exp(exp(sin(sin(sin(sin(cos(cos(sin(sin(sin(x2))))))))))), exp(exp(sin(sin(sin(sin(cos(cos(sin(sin(sin(sin(x2)))))))))))), exp(exp(sin(sin(sin(sin(cos(cos(sin(sin(sin(sin(x2)))))))))))), exp(exp(sin(sin(sin(sin(sin(cos(cos(sin(sin(sin(x3))))))))))))]\n"
     ]
    },
    {
     "name": "stderr",
     "output_type": "stream",
     "text": [
      " 54%|█████▍    | 54/100 [00:13<00:11,  4.09it/s]"
     ]
    },
    {
     "name": "stdout",
     "output_type": "stream",
     "text": [
      "exp(exp(sin(sin(sin(exp(-sin(exp(-x0)))))))) 11173.942582830648\n",
      "[exp(exp(sin(sin(sin(exp(-sin(exp(-x0)))))))), exp(exp(exp(-tan(exp(-sin(exp(-cos(x2)))))))), exp(exp(sin(exp(-cos(cos(tan(exp(x2)))))))), exp(exp(sin(sin(sin(sin(sin(cos(cos(sin(sin(exp(-sin(exp(x3)))))))))))))), exp(exp(sin(sin(sin(sin(cos(cos(sin(sin(exp(-sin(exp(x3))))))))))))), exp(exp(sin(sin(sin(sin(cos(cos(sin(sin(exp(-sin(exp(x3))))))))))))), exp(exp(exp(-tan(cos(cos(tan(exp(x2)))))))), exp(exp(sin(exp(-cos(cos(tan(exp(x1)))))))), exp(exp(sin(sin(sin(sin(cos(cos(sin(sin(sin(x2))))))))))), exp(exp(sin(sin(sin(sin(cos(cos(sin(sin(sin(sin(x2))))))))))))]\n"
     ]
    },
    {
     "name": "stderr",
     "output_type": "stream",
     "text": [
      " 55%|█████▌    | 55/100 [00:13<00:11,  4.09it/s]"
     ]
    },
    {
     "name": "stdout",
     "output_type": "stream",
     "text": [
      "exp(exp(sin(sin(sin(exp(-sin(exp(-x0)))))))) 11173.942582830648\n",
      "[exp(exp(sin(sin(sin(exp(-sin(exp(-x0)))))))), exp(exp(exp(-tan(exp(-sin(exp(-cos(x2)))))))), exp(exp(sin(exp(-cos(cos(tan(exp(x2)))))))), exp(exp(sin(sin(sin(sin(sin(cos(cos(sin(sin(exp(-sin(exp(x3)))))))))))))), exp(exp(sin(sin(sin(sin(cos(cos(sin(sin(exp(-sin(exp(x3))))))))))))), exp(exp(sin(sin(sin(sin(cos(cos(sin(sin(exp(-sin(exp(x3))))))))))))), exp(exp(exp(-tan(cos(cos(tan(exp(x2)))))))), exp(exp(sin(exp(-cos(cos(tan(exp(x1)))))))), exp(exp(sin(sin(sin(sin(cos(cos(sin(sin(sin(x2))))))))))), exp(exp(sin(sin(sin(sin(cos(cos(sin(sin(sin(sin(x2))))))))))))]\n"
     ]
    },
    {
     "name": "stderr",
     "output_type": "stream",
     "text": [
      " 56%|█████▌    | 56/100 [00:13<00:11,  3.99it/s]"
     ]
    },
    {
     "name": "stdout",
     "output_type": "stream",
     "text": [
      "exp(exp(sin(sin(sin(exp(-sin(exp(-x0)))))))) 11173.942582830648\n",
      "[exp(exp(sin(sin(sin(exp(-sin(exp(-x0)))))))), exp(exp(sin(sin(sin(sin(sin(exp(-sin(exp(x3)))))))))), exp(exp(exp(-tan(exp(-sin(exp(-cos(x2)))))))), exp(exp(sin(exp(-cos(cos(tan(exp(x2)))))))), exp(exp(sin(sin(sin(sin(sin(cos(cos(sin(sin(exp(-sin(exp(x3)))))))))))))), exp(exp(sin(sin(sin(sin(cos(cos(sin(sin(exp(-sin(exp(x3))))))))))))), exp(exp(sin(sin(sin(sin(cos(cos(sin(sin(exp(-sin(exp(x3))))))))))))), exp(exp(exp(-tan(cos(cos(tan(exp(x2)))))))), exp(exp(sin(exp(-cos(cos(tan(exp(x1)))))))), exp(exp(sin(sin(sin(sin(cos(cos(sin(sin(sin(x2)))))))))))]\n"
     ]
    },
    {
     "name": "stderr",
     "output_type": "stream",
     "text": [
      " 57%|█████▋    | 57/100 [00:14<00:10,  4.10it/s]"
     ]
    },
    {
     "name": "stdout",
     "output_type": "stream",
     "text": [
      "exp(exp(sin(sin(sin(exp(-sin(exp(-x0)))))))) 11173.942582830648\n",
      "[exp(exp(sin(sin(sin(exp(-sin(exp(-x0)))))))), exp(exp(sin(sin(sin(sin(sin(exp(-sin(exp(x3)))))))))), exp(exp(exp(-tan(exp(-sin(exp(-cos(x2)))))))), exp(exp(sin(exp(-cos(cos(tan(exp(x2)))))))), exp(exp(sin(sin(sin(sin(sin(cos(cos(sin(sin(exp(-sin(exp(x3)))))))))))))), exp(exp(sin(sin(sin(sin(cos(cos(sin(sin(exp(-sin(exp(x3))))))))))))), exp(exp(sin(sin(sin(sin(cos(cos(sin(sin(exp(-sin(exp(x3))))))))))))), exp(exp(exp(-tan(cos(cos(tan(exp(x2)))))))), exp(exp(sin(exp(-cos(cos(tan(exp(x1)))))))), exp(exp(sin(sin(sin(sin(sin(sin(cos(cos(x2))))))))))]\n"
     ]
    },
    {
     "name": "stderr",
     "output_type": "stream",
     "text": [
      " 58%|█████▊    | 58/100 [00:14<00:10,  4.06it/s]"
     ]
    },
    {
     "name": "stdout",
     "output_type": "stream",
     "text": [
      "exp(exp(sin(sin(sin(exp(-sin(exp(-x0)))))))) 11173.942582830648\n",
      "[exp(exp(sin(sin(sin(exp(-sin(exp(-x0)))))))), exp(exp(sin(sin(sin(sin(sin(exp(-sin(exp(x3)))))))))), exp(exp(exp(-tan(exp(-sin(exp(-cos(x2)))))))), exp(exp(sin(exp(-cos(cos(tan(exp(x2)))))))), exp(exp(sin(sin(sin(sin(sin(cos(cos(sin(sin(exp(-sin(exp(x3)))))))))))))), exp(exp(sin(sin(sin(sin(cos(cos(sin(sin(exp(-sin(exp(x3))))))))))))), exp(exp(sin(sin(sin(sin(cos(cos(sin(sin(exp(-sin(exp(x3))))))))))))), exp(exp(exp(-tan(cos(cos(tan(exp(x2)))))))), exp(exp(sin(exp(-cos(cos(tan(exp(x1)))))))), exp(exp(sin(sin(sin(sin(sin(sin(cos(cos(x2))))))))))]\n"
     ]
    },
    {
     "name": "stderr",
     "output_type": "stream",
     "text": [
      " 59%|█████▉    | 59/100 [00:14<00:10,  4.09it/s]"
     ]
    },
    {
     "name": "stdout",
     "output_type": "stream",
     "text": [
      "exp(exp(sin(sin(sin(exp(-sin(exp(-x0)))))))) 11173.942582830648\n",
      "[exp(exp(sin(sin(sin(exp(-sin(exp(-x0)))))))), exp(exp(sin(sin(sin(sin(sin(exp(-sin(exp(x3)))))))))), exp(exp(exp(-tan(exp(-sin(exp(-cos(x2)))))))), exp(exp(sin(exp(-cos(cos(tan(exp(x2)))))))), exp(exp(sin(sin(sin(sin(sin(cos(cos(sin(sin(exp(-sin(exp(x3)))))))))))))), exp(exp(sin(sin(sin(sin(cos(cos(sin(sin(exp(-sin(exp(x3))))))))))))), exp(exp(sin(sin(sin(sin(cos(cos(sin(sin(exp(-sin(exp(x3))))))))))))), exp(exp(exp(-tan(cos(cos(tan(exp(x2)))))))), exp(exp(sin(exp(-cos(cos(tan(exp(x1)))))))), exp(exp(sin(sin(sin(sin(sin(sin(cos(cos(x2))))))))))]\n"
     ]
    },
    {
     "name": "stderr",
     "output_type": "stream",
     "text": [
      " 60%|██████    | 60/100 [00:14<00:09,  4.21it/s]"
     ]
    },
    {
     "name": "stdout",
     "output_type": "stream",
     "text": [
      "exp(exp(sin(sin(sin(exp(-sin(exp(-x0)))))))) 11173.942582830648\n",
      "[exp(exp(sin(sin(sin(exp(-sin(exp(-x0)))))))), exp(exp(sin(sin(sin(sin(sin(exp(-sin(exp(x3)))))))))), exp(exp(exp(-tan(exp(-sin(exp(-cos(x2)))))))), exp(exp(exp(-tan(exp(-sin(exp(-cos(x2)))))))), exp(exp(sin(exp(-cos(cos(tan(exp(x2)))))))), exp(exp(sin(sin(sin(sin(sin(cos(cos(sin(sin(exp(-sin(exp(x3)))))))))))))), exp(exp(sin(sin(sin(sin(cos(cos(sin(sin(exp(-sin(exp(x3))))))))))))), exp(exp(sin(sin(sin(sin(cos(cos(sin(sin(exp(-sin(exp(x3))))))))))))), exp(exp(sin(sin(sin(sin(cos(cos(sin(sin(exp(-sin(exp(x3))))))))))))), exp(exp(exp(-tan(cos(cos(tan(exp(x2))))))))]\n"
     ]
    },
    {
     "name": "stderr",
     "output_type": "stream",
     "text": [
      " 61%|██████    | 61/100 [00:14<00:09,  4.21it/s]"
     ]
    },
    {
     "name": "stdout",
     "output_type": "stream",
     "text": [
      "exp(exp(sin(sin(sin(exp(-sin(exp(-x0)))))))) 11173.942582830648\n",
      "[exp(exp(sin(sin(sin(exp(-sin(exp(-x0)))))))), exp(exp(sin(sin(sin(sin(sin(exp(-sin(exp(x3)))))))))), exp(exp(exp(-tan(exp(-sin(exp(-cos(x2)))))))), exp(exp(exp(-tan(exp(-sin(exp(-cos(x2)))))))), exp(exp(sin(exp(-cos(cos(tan(exp(x2)))))))), exp(exp(sin(sin(sin(sin(sin(cos(cos(sin(sin(exp(-sin(exp(x3)))))))))))))), exp(exp(sin(sin(sin(sin(sin(cos(cos(sin(sin(exp(-sin(exp(x3)))))))))))))), exp(exp(sin(sin(sin(sin(cos(cos(sin(sin(exp(-sin(exp(x3))))))))))))), exp(exp(sin(sin(sin(sin(cos(cos(sin(sin(exp(-sin(exp(x3))))))))))))), exp(exp(sin(sin(sin(sin(cos(cos(sin(sin(exp(-sin(exp(x3)))))))))))))]\n"
     ]
    },
    {
     "name": "stderr",
     "output_type": "stream",
     "text": [
      " 62%|██████▏   | 62/100 [00:15<00:09,  4.14it/s]"
     ]
    },
    {
     "name": "stdout",
     "output_type": "stream",
     "text": [
      "exp(exp(sin(sin(sin(exp(-sin(exp(-x0)))))))) 11173.942582830648\n",
      "[exp(exp(sin(sin(sin(exp(-sin(exp(-x0)))))))), exp(exp(sin(sin(sin(sin(sin(exp(-sin(exp(x3)))))))))), exp(exp(exp(-tan(exp(-sin(exp(-cos(x2)))))))), exp(exp(exp(-tan(exp(-sin(exp(-cos(x2)))))))), exp(exp(exp(-tan(exp(-sin(exp(-cos(x2)))))))), exp(exp(sin(exp(-cos(cos(tan(exp(x2)))))))), exp(exp(sin(sin(sin(sin(sin(cos(cos(sin(sin(exp(-sin(exp(x3)))))))))))))), exp(exp(sin(sin(sin(sin(sin(cos(cos(sin(sin(exp(-sin(exp(x3)))))))))))))), exp(exp(sin(sin(sin(sin(sin(cos(cos(sin(sin(exp(-sin(exp(x3)))))))))))))), exp(exp(sin(sin(sin(sin(cos(cos(sin(sin(exp(-sin(exp(x3)))))))))))))]\n"
     ]
    },
    {
     "name": "stderr",
     "output_type": "stream",
     "text": [
      " 63%|██████▎   | 63/100 [00:15<00:09,  3.99it/s]"
     ]
    },
    {
     "name": "stdout",
     "output_type": "stream",
     "text": [
      "exp(exp(sin(sin(sin(exp(-sin(exp(-x0)))))))) 11173.942582830648\n",
      "[exp(exp(sin(sin(sin(exp(-sin(exp(-x0)))))))), exp(exp(sin(sin(sin(sin(sin(exp(-sin(exp(x3)))))))))), exp(exp(sin(exp(-cos(cos(tan(exp(x2)))))))), exp(exp(sin(sin(sin(sin(sin(cos(cos(sin(sin(exp(-sin(exp(x3)))))))))))))), exp(exp(sin(sin(sin(sin(sin(cos(cos(sin(sin(exp(-sin(exp(x3)))))))))))))), exp(exp(sin(sin(sin(sin(sin(cos(cos(sin(sin(exp(-sin(exp(x3)))))))))))))), exp(exp(sin(sin(sin(sin(cos(cos(sin(sin(exp(-sin(exp(x3))))))))))))), exp(exp(sin(sin(sin(sin(cos(cos(sin(sin(exp(-sin(exp(x3))))))))))))), exp(exp(sin(sin(sin(sin(cos(cos(sin(sin(exp(-sin(exp(x3))))))))))))), exp(exp(exp(-tan(cos(cos(tan(exp(x2))))))))]\n"
     ]
    },
    {
     "name": "stderr",
     "output_type": "stream",
     "text": [
      " 64%|██████▍   | 64/100 [00:15<00:09,  3.99it/s]"
     ]
    },
    {
     "name": "stdout",
     "output_type": "stream",
     "text": [
      "exp(exp(sin(sin(sin(exp(-sin(exp(-x0)))))))) 11173.942582830648\n",
      "[exp(exp(sin(sin(sin(exp(-sin(exp(-x0)))))))), exp(exp(sin(sin(sin(sin(sin(exp(-sin(exp(x3)))))))))), exp(exp(sin(exp(-cos(cos(tan(exp(x2)))))))), exp(exp(sin(sin(sin(sin(sin(cos(cos(sin(sin(exp(-sin(exp(x3)))))))))))))), exp(exp(sin(sin(sin(sin(sin(cos(cos(sin(sin(exp(-sin(exp(x3)))))))))))))), exp(exp(sin(sin(sin(sin(sin(cos(cos(sin(sin(exp(-sin(exp(x3)))))))))))))), exp(exp(sin(sin(sin(sin(cos(cos(sin(sin(exp(-sin(exp(x3))))))))))))), exp(exp(sin(sin(sin(sin(cos(cos(sin(sin(exp(-sin(exp(x3))))))))))))), exp(exp(sin(sin(sin(sin(cos(cos(sin(sin(exp(-sin(exp(x3))))))))))))), exp(exp(sin(sin(sin(sin(cos(cos(sin(sin(exp(-sin(exp(x3)))))))))))))]\n"
     ]
    },
    {
     "name": "stderr",
     "output_type": "stream",
     "text": [
      " 65%|██████▌   | 65/100 [00:16<00:10,  3.36it/s]"
     ]
    },
    {
     "name": "stdout",
     "output_type": "stream",
     "text": [
      "exp(exp(sin(sin(sin(exp(-sin(exp(-x0)))))))) 11173.942582830648\n",
      "[exp(exp(sin(sin(sin(exp(-sin(exp(-x0)))))))), exp(exp(sin(sin(sin(sin(sin(exp(-sin(exp(x3)))))))))), exp(exp(sin(exp(-cos(cos(tan(exp(x2)))))))), exp(exp(sin(exp(-cos(cos(tan(exp(x2)))))))), exp(exp(sin(sin(sin(sin(sin(cos(cos(sin(sin(exp(-sin(exp(x3)))))))))))))), exp(exp(sin(sin(sin(sin(sin(cos(cos(sin(sin(exp(-sin(exp(x3)))))))))))))), exp(exp(sin(sin(sin(sin(sin(cos(cos(sin(sin(exp(-sin(exp(x3)))))))))))))), exp(exp(sin(sin(sin(sin(cos(cos(sin(sin(exp(-sin(exp(x3))))))))))))), exp(exp(sin(sin(sin(sin(cos(cos(sin(sin(exp(-sin(exp(x3))))))))))))), exp(exp(sin(sin(sin(sin(cos(cos(sin(sin(exp(-sin(exp(x3)))))))))))))]\n"
     ]
    },
    {
     "name": "stderr",
     "output_type": "stream",
     "text": [
      " 66%|██████▌   | 66/100 [00:16<00:09,  3.57it/s]"
     ]
    },
    {
     "name": "stdout",
     "output_type": "stream",
     "text": [
      "exp(exp(sin(sin(sin(exp(-sin(exp(-x0)))))))) 11173.942582830648\n",
      "[exp(exp(sin(sin(sin(exp(-sin(exp(-x0)))))))), exp(exp(sin(sin(sin(sin(sin(exp(-sin(exp(x3)))))))))), exp(exp(sin(exp(-cos(cos(tan(exp(x2)))))))), exp(exp(sin(exp(-cos(cos(tan(exp(x2)))))))), exp(exp(sin(sin(sin(sin(sin(cos(cos(sin(sin(exp(-sin(exp(x3)))))))))))))), exp(exp(sin(sin(sin(sin(sin(cos(cos(sin(sin(exp(-sin(exp(x3)))))))))))))), exp(exp(sin(sin(sin(sin(sin(cos(cos(sin(sin(exp(-sin(exp(x3)))))))))))))), exp(exp(sin(sin(sin(sin(cos(cos(sin(sin(exp(-sin(exp(x3))))))))))))), exp(exp(sin(sin(sin(sin(cos(cos(sin(sin(exp(-sin(exp(x3))))))))))))), exp(exp(sin(sin(sin(sin(cos(cos(sin(sin(exp(-sin(exp(x3)))))))))))))]\n"
     ]
    },
    {
     "name": "stderr",
     "output_type": "stream",
     "text": [
      " 67%|██████▋   | 67/100 [00:16<00:08,  3.76it/s]"
     ]
    },
    {
     "name": "stdout",
     "output_type": "stream",
     "text": [
      "exp(exp(sin(sin(sin(exp(-sin(exp(-x0)))))))) 11173.942582830648\n",
      "[exp(exp(sin(sin(sin(exp(-sin(exp(-x0)))))))), exp(exp(sin(sin(sin(sin(sin(exp(-sin(exp(x3)))))))))), exp(exp(sin(exp(-cos(cos(tan(exp(x2)))))))), exp(exp(sin(exp(-cos(cos(tan(exp(x2)))))))), exp(exp(sin(sin(sin(sin(sin(cos(cos(sin(sin(exp(-sin(exp(x3)))))))))))))), exp(exp(sin(sin(sin(sin(sin(cos(cos(sin(sin(exp(-sin(exp(x3)))))))))))))), exp(exp(sin(sin(sin(sin(sin(cos(cos(sin(sin(exp(-sin(exp(x3)))))))))))))), exp(exp(sin(sin(sin(sin(cos(cos(sin(sin(exp(-sin(exp(x3))))))))))))), exp(exp(sin(sin(sin(sin(cos(cos(sin(sin(exp(-sin(exp(x3))))))))))))), exp(exp(sin(sin(sin(sin(cos(cos(sin(sin(exp(-sin(exp(x3)))))))))))))]\n"
     ]
    },
    {
     "name": "stderr",
     "output_type": "stream",
     "text": [
      " 68%|██████▊   | 68/100 [00:16<00:08,  3.81it/s]"
     ]
    },
    {
     "name": "stdout",
     "output_type": "stream",
     "text": [
      "exp(exp(sin(sin(sin(exp(-sin(exp(-x0)))))))) 11173.942582830648\n",
      "[exp(exp(sin(sin(sin(exp(-sin(exp(-x0)))))))), exp(exp(sin(sin(sin(sin(sin(exp(-sin(exp(x3)))))))))), exp(exp(sin(exp(-cos(cos(tan(exp(x2)))))))), exp(exp(sin(exp(-cos(cos(tan(exp(x2)))))))), exp(exp(sin(sin(sin(sin(sin(cos(cos(sin(sin(exp(-sin(exp(x3)))))))))))))), exp(exp(sin(sin(sin(sin(sin(cos(cos(sin(sin(exp(-sin(exp(x3)))))))))))))), exp(exp(sin(sin(sin(sin(sin(cos(cos(sin(sin(exp(-sin(exp(x3)))))))))))))), exp(exp(sin(sin(sin(sin(cos(cos(sin(sin(exp(-sin(exp(x3))))))))))))), exp(exp(sin(sin(sin(sin(cos(cos(sin(sin(exp(-sin(exp(x3))))))))))))), exp(exp(sin(sin(sin(sin(cos(cos(sin(sin(exp(-sin(exp(x3)))))))))))))]\n"
     ]
    },
    {
     "name": "stderr",
     "output_type": "stream",
     "text": [
      " 69%|██████▉   | 69/100 [00:17<00:07,  3.94it/s]"
     ]
    },
    {
     "name": "stdout",
     "output_type": "stream",
     "text": [
      "exp(exp(sin(sin(sin(exp(-sin(exp(-x0)))))))) 11173.942582830648\n",
      "[exp(exp(sin(sin(sin(exp(-sin(exp(-x0)))))))), exp(exp(sin(sin(sin(sin(sin(exp(-sin(exp(x3)))))))))), exp(exp(sin(sin(sin(sin(sin(exp(-sin(exp(x3)))))))))), exp(exp(sin(exp(-cos(cos(tan(exp(x2)))))))), exp(exp(sin(exp(-cos(cos(tan(exp(x2)))))))), exp(exp(sin(sin(sin(sin(sin(cos(cos(sin(sin(exp(-sin(exp(x3)))))))))))))), exp(exp(sin(sin(sin(sin(sin(cos(cos(sin(sin(exp(-sin(exp(x3)))))))))))))), exp(exp(sin(sin(sin(sin(sin(cos(cos(sin(sin(exp(-sin(exp(x3)))))))))))))), exp(exp(sin(sin(sin(sin(cos(cos(sin(sin(exp(-sin(exp(x3))))))))))))), exp(exp(sin(sin(sin(sin(cos(cos(sin(sin(exp(-sin(exp(x3)))))))))))))]\n"
     ]
    },
    {
     "name": "stderr",
     "output_type": "stream",
     "text": [
      " 70%|███████   | 70/100 [00:17<00:07,  3.98it/s]"
     ]
    },
    {
     "name": "stdout",
     "output_type": "stream",
     "text": [
      "exp(exp(sin(sin(sin(exp(-sin(exp(-x0)))))))) 11173.942582830648\n",
      "[exp(exp(sin(sin(sin(exp(-sin(exp(-x0)))))))), exp(exp(sin(sin(sin(sin(sin(exp(-sin(exp(x3)))))))))), exp(exp(sin(sin(sin(sin(sin(exp(-sin(exp(x3)))))))))), exp(exp(sin(exp(-cos(cos(tan(exp(x2)))))))), exp(exp(sin(exp(-cos(cos(tan(exp(x2)))))))), exp(exp(sin(exp(-cos(cos(tan(exp(x2)))))))), exp(exp(sin(sin(sin(sin(sin(cos(cos(sin(sin(exp(-sin(exp(x3)))))))))))))), exp(exp(sin(sin(sin(sin(sin(cos(cos(sin(sin(exp(-sin(exp(x3)))))))))))))), exp(exp(sin(sin(sin(sin(sin(cos(cos(sin(sin(exp(-sin(exp(x3)))))))))))))), exp(exp(sin(sin(sin(sin(cos(cos(sin(sin(exp(-sin(exp(x3)))))))))))))]\n"
     ]
    },
    {
     "name": "stderr",
     "output_type": "stream",
     "text": [
      " 71%|███████   | 71/100 [00:17<00:07,  4.00it/s]"
     ]
    },
    {
     "name": "stdout",
     "output_type": "stream",
     "text": [
      "exp(exp(sin(sin(sin(exp(-sin(exp(-x0)))))))) 11173.942582830648\n",
      "[exp(exp(sin(sin(sin(exp(-sin(exp(-x0)))))))), exp(exp(sin(sin(sin(sin(sin(exp(-sin(exp(x3)))))))))), exp(exp(sin(sin(sin(sin(sin(exp(-sin(exp(x3)))))))))), exp(exp(sin(exp(-cos(cos(tan(exp(x2)))))))), exp(exp(sin(exp(-cos(cos(tan(exp(x2)))))))), exp(exp(sin(exp(-cos(cos(tan(exp(x2)))))))), exp(exp(sin(sin(sin(sin(sin(cos(cos(sin(sin(exp(-sin(exp(x3)))))))))))))), exp(exp(sin(sin(sin(sin(sin(cos(cos(sin(sin(exp(-sin(exp(x3)))))))))))))), exp(exp(sin(sin(sin(sin(sin(cos(cos(sin(sin(exp(-sin(exp(x3)))))))))))))), exp(exp(sin(sin(sin(sin(cos(cos(sin(sin(exp(-sin(exp(x3)))))))))))))]\n"
     ]
    },
    {
     "name": "stderr",
     "output_type": "stream",
     "text": [
      " 72%|███████▏  | 72/100 [00:17<00:07,  3.93it/s]"
     ]
    },
    {
     "name": "stdout",
     "output_type": "stream",
     "text": [
      "exp(exp(sin(sin(sin(exp(-sin(exp(-x0)))))))) 11173.942582830648\n",
      "[exp(exp(sin(sin(sin(exp(-sin(exp(-x0)))))))), exp(exp(sin(sin(sin(sin(sin(exp(-sin(exp(x3)))))))))), exp(exp(sin(sin(sin(sin(sin(exp(-sin(exp(x3)))))))))), exp(exp(sin(sin(sin(sin(sin(exp(-sin(exp(x3)))))))))), exp(exp(sin(exp(-cos(cos(tan(exp(x2)))))))), exp(exp(sin(exp(-cos(cos(tan(exp(x2)))))))), exp(exp(sin(exp(-cos(cos(tan(exp(x2)))))))), exp(exp(sin(sin(sin(sin(sin(cos(cos(sin(sin(exp(-sin(exp(x3)))))))))))))), exp(exp(sin(sin(sin(sin(sin(cos(cos(sin(sin(exp(-sin(exp(x3)))))))))))))), exp(exp(sin(sin(sin(sin(sin(cos(cos(sin(sin(exp(-sin(exp(x3))))))))))))))]\n"
     ]
    },
    {
     "name": "stderr",
     "output_type": "stream",
     "text": [
      " 73%|███████▎  | 73/100 [00:18<00:07,  3.83it/s]"
     ]
    },
    {
     "name": "stdout",
     "output_type": "stream",
     "text": [
      "exp(exp(sin(sin(sin(exp(-sin(exp(-x0)))))))) 11173.942582830648\n",
      "[exp(exp(sin(sin(sin(exp(-sin(exp(-x0)))))))), exp(exp(sin(sin(sin(sin(sin(exp(-sin(exp(x3)))))))))), exp(exp(sin(sin(sin(sin(sin(exp(-sin(exp(x3)))))))))), exp(exp(sin(sin(sin(sin(sin(exp(-sin(exp(x3)))))))))), exp(exp(sin(exp(-cos(cos(tan(exp(x2)))))))), exp(exp(sin(exp(-cos(cos(tan(exp(x2)))))))), exp(exp(sin(exp(-cos(cos(tan(exp(x2)))))))), exp(exp(sin(sin(sin(sin(sin(cos(cos(sin(sin(exp(-sin(exp(x3)))))))))))))), exp(exp(sin(sin(sin(sin(sin(cos(cos(sin(sin(exp(-sin(exp(x3)))))))))))))), exp(exp(sin(sin(sin(sin(sin(cos(cos(sin(sin(exp(-sin(exp(x3))))))))))))))]\n"
     ]
    },
    {
     "name": "stderr",
     "output_type": "stream",
     "text": [
      " 74%|███████▍  | 74/100 [00:18<00:06,  4.00it/s]"
     ]
    },
    {
     "name": "stdout",
     "output_type": "stream",
     "text": [
      "exp(exp(sin(sin(sin(exp(-sin(exp(-x0)))))))) 11173.942582830648\n",
      "[exp(exp(sin(sin(sin(exp(-sin(exp(-x0)))))))), exp(exp(sin(sin(sin(sin(sin(exp(-sin(exp(x3)))))))))), exp(exp(sin(sin(sin(sin(sin(exp(-sin(exp(x3)))))))))), exp(exp(sin(sin(sin(sin(sin(exp(-sin(exp(x3)))))))))), exp(exp(sin(sin(sin(sin(sin(exp(-sin(exp(x3)))))))))), exp(exp(sin(exp(-cos(cos(tan(exp(x2)))))))), exp(exp(sin(exp(-cos(cos(tan(exp(x2)))))))), exp(exp(sin(exp(-cos(cos(tan(exp(x2)))))))), exp(exp(sin(exp(-cos(cos(tan(exp(x2)))))))), exp(exp(sin(sin(sin(sin(sin(cos(cos(sin(sin(exp(-sin(exp(x3))))))))))))))]\n"
     ]
    },
    {
     "name": "stderr",
     "output_type": "stream",
     "text": [
      " 75%|███████▌  | 75/100 [00:18<00:06,  3.99it/s]"
     ]
    },
    {
     "name": "stdout",
     "output_type": "stream",
     "text": [
      "exp(exp(sin(sin(sin(exp(-sin(exp(-x0)))))))) 11173.942582830648\n",
      "[exp(exp(sin(sin(sin(exp(-sin(exp(-x0)))))))), exp(exp(sin(sin(sin(sin(sin(exp(-sin(exp(x3)))))))))), exp(exp(sin(sin(sin(sin(sin(exp(-sin(exp(x3)))))))))), exp(exp(sin(sin(sin(sin(sin(exp(-sin(exp(x3)))))))))), exp(exp(sin(sin(sin(sin(sin(exp(-sin(exp(x3)))))))))), exp(exp(sin(sin(sin(sin(exp(-sin(exp(x3))))))))), exp(exp(sin(exp(-cos(cos(tan(exp(x2)))))))), exp(exp(sin(exp(-cos(cos(tan(exp(x2)))))))), exp(exp(sin(exp(-cos(cos(tan(exp(x2)))))))), exp(exp(sin(exp(-cos(cos(tan(exp(x2))))))))]\n"
     ]
    },
    {
     "name": "stderr",
     "output_type": "stream",
     "text": [
      " 76%|███████▌  | 76/100 [00:18<00:06,  3.94it/s]"
     ]
    },
    {
     "name": "stdout",
     "output_type": "stream",
     "text": [
      "exp(exp(sin(sin(sin(exp(-sin(exp(-x0)))))))) 11173.942582830648\n",
      "[exp(exp(sin(sin(sin(exp(-sin(exp(-x0)))))))), exp(exp(sin(sin(sin(sin(sin(exp(-sin(exp(x3)))))))))), exp(exp(sin(sin(sin(sin(sin(exp(-sin(exp(x3)))))))))), exp(exp(sin(sin(sin(sin(sin(exp(-sin(exp(x3)))))))))), exp(exp(sin(sin(sin(sin(sin(exp(-sin(exp(x3)))))))))), exp(exp(sin(sin(sin(sin(sin(sin(exp(-sin(exp(x3))))))))))), exp(exp(sin(sin(sin(sin(exp(-sin(exp(x3))))))))), exp(exp(sin(exp(-cos(cos(tan(exp(x2)))))))), exp(exp(sin(exp(-cos(cos(tan(exp(x2)))))))), exp(exp(sin(exp(-cos(cos(tan(exp(x2))))))))]\n"
     ]
    },
    {
     "name": "stderr",
     "output_type": "stream",
     "text": [
      " 77%|███████▋  | 77/100 [00:19<00:05,  3.85it/s]"
     ]
    },
    {
     "name": "stdout",
     "output_type": "stream",
     "text": [
      "exp(exp(sin(sin(sin(exp(-sin(exp(-x0)))))))) 11173.942582830648\n",
      "[exp(exp(sin(sin(sin(exp(-sin(exp(-x0)))))))), exp(exp(sin(sin(sin(sin(sin(exp(-sin(exp(x3)))))))))), exp(exp(sin(sin(sin(sin(sin(exp(-sin(exp(x3)))))))))), exp(exp(sin(sin(sin(sin(sin(exp(-sin(exp(x3)))))))))), exp(exp(sin(sin(sin(sin(sin(exp(-sin(exp(x3)))))))))), exp(exp(sin(sin(sin(sin(sin(exp(-sin(exp(x3)))))))))), exp(exp(sin(sin(sin(sin(sin(sin(exp(-sin(exp(x3))))))))))), exp(exp(sin(sin(sin(sin(exp(-sin(exp(x3))))))))), exp(exp(sin(sin(sin(sin(sin(sin(sin(exp(-sin(exp(x3)))))))))))), exp(exp(sin(exp(-cos(cos(tan(exp(x2))))))))]\n"
     ]
    },
    {
     "name": "stderr",
     "output_type": "stream",
     "text": [
      " 78%|███████▊  | 78/100 [00:19<00:05,  3.73it/s]"
     ]
    },
    {
     "name": "stdout",
     "output_type": "stream",
     "text": [
      "exp(exp(sin(sin(sin(exp(-sin(exp(-x0)))))))) 11173.942582830648\n",
      "[exp(exp(sin(sin(sin(exp(-sin(exp(-x0)))))))), exp(exp(sin(sin(sin(sin(sin(sin(exp(-sin(sin(exp(x3)))))))))))), exp(exp(sin(sin(sin(sin(sin(exp(-sin(exp(x3)))))))))), exp(exp(sin(sin(sin(sin(sin(exp(-sin(exp(x3)))))))))), exp(exp(sin(sin(sin(sin(sin(exp(-sin(exp(x3)))))))))), exp(exp(sin(sin(sin(sin(sin(exp(-sin(exp(x3)))))))))), exp(exp(sin(sin(sin(sin(sin(exp(-sin(exp(x3)))))))))), exp(exp(sin(sin(sin(sin(sin(exp(-sin(exp(x3)))))))))), exp(exp(sin(sin(sin(sin(sin(sin(exp(-sin(exp(x3))))))))))), exp(exp(sin(sin(sin(sin(exp(-sin(exp(x3)))))))))]\n"
     ]
    },
    {
     "name": "stderr",
     "output_type": "stream",
     "text": [
      " 79%|███████▉  | 79/100 [00:19<00:05,  3.77it/s]"
     ]
    },
    {
     "name": "stdout",
     "output_type": "stream",
     "text": [
      "exp(x0 - x3) 11173.942582830648\n",
      "[exp(exp(sin(sin(sin(sin(sin(sin(exp(-sin(sin(exp(x3)))))))))))), exp(exp(sin(sin(sin(sin(sin(exp(-sin(exp(x3)))))))))), exp(exp(sin(sin(sin(sin(sin(exp(-sin(exp(x3)))))))))), exp(exp(sin(sin(sin(sin(sin(exp(-sin(exp(x3)))))))))), exp(exp(sin(sin(sin(sin(sin(exp(-sin(exp(x3)))))))))), exp(exp(sin(sin(sin(sin(sin(exp(-sin(exp(x3)))))))))), exp(exp(sin(sin(sin(sin(sin(exp(-sin(exp(x3)))))))))), exp(exp(sin(sin(sin(sin(sin(sin(exp(-sin(exp(x3))))))))))), exp(exp(sin(sin(sin(sin(exp(-sin(exp(x3))))))))), exp(exp(sin(sin(sin(sin(sin(sin(sin(exp(-sin(exp(x3))))))))))))]\n"
     ]
    },
    {
     "name": "stderr",
     "output_type": "stream",
     "text": [
      " 80%|████████  | 80/100 [00:19<00:05,  3.81it/s]"
     ]
    },
    {
     "name": "stdout",
     "output_type": "stream",
     "text": [
      "exp(x0 - x3) 11173.942582830648\n",
      "[exp(exp(sin(sin(sin(sin(sin(sin(exp(-sin(sin(exp(x3)))))))))))), exp(exp(sin(sin(sin(sin(sin(exp(-sin(exp(x3)))))))))), exp(exp(sin(sin(sin(sin(sin(exp(-sin(exp(x3)))))))))), exp(exp(sin(sin(sin(sin(sin(exp(-sin(exp(x3)))))))))), exp(exp(sin(sin(sin(sin(sin(exp(-sin(exp(x3)))))))))), exp(exp(sin(sin(sin(sin(sin(exp(-sin(exp(x3)))))))))), exp(exp(sin(sin(sin(sin(sin(sin(exp(-sin(exp(x3))))))))))), exp(exp(sin(sin(sin(sin(exp(-sin(exp(x3))))))))), exp(exp(sin(sin(sin(sin(exp(-sin(exp(x3))))))))), exp(exp(sin(sin(sin(sin(sin(sin(sin(exp(-sin(exp(x3))))))))))))]\n"
     ]
    },
    {
     "name": "stderr",
     "output_type": "stream",
     "text": [
      " 81%|████████  | 81/100 [00:20<00:06,  3.15it/s]"
     ]
    },
    {
     "name": "stdout",
     "output_type": "stream",
     "text": [
      "exp(x0 - x3) 11173.942582830648\n",
      "[exp(exp(sin(sin(sin(sin(sin(sin(exp(-sin(sin(exp(x3)))))))))))), exp(exp(sin(sin(sin(sin(sin(exp(-sin(exp(x3)))))))))), exp(exp(sin(sin(sin(sin(sin(exp(-sin(exp(x3)))))))))), exp(exp(sin(sin(sin(sin(sin(exp(-sin(exp(x3)))))))))), exp(exp(sin(sin(sin(sin(sin(exp(-sin(exp(x3)))))))))), exp(exp(sin(sin(sin(sin(sin(exp(-sin(exp(x3)))))))))), exp(exp(sin(sin(sin(sin(sin(sin(exp(-sin(exp(x3))))))))))), exp(exp(sin(sin(sin(sin(sin(sin(exp(-sin(exp(x3))))))))))), exp(exp(sin(sin(sin(sin(sin(sin(exp(-sin(exp(x3))))))))))), exp(exp(sin(sin(sin(sin(exp(-sin(exp(x3)))))))))]\n"
     ]
    },
    {
     "name": "stderr",
     "output_type": "stream",
     "text": [
      " 82%|████████▏ | 82/100 [00:20<00:05,  3.29it/s]"
     ]
    },
    {
     "name": "stdout",
     "output_type": "stream",
     "text": [
      "exp(x0 - x3) 11173.942582830648\n",
      "[exp(exp(sin(sin(sin(sin(sin(sin(exp(-sin(sin(exp(x3)))))))))))), exp(exp(sin(sin(sin(sin(sin(exp(-sin(exp(x3)))))))))), exp(exp(sin(sin(sin(sin(sin(exp(-sin(exp(x3)))))))))), exp(exp(sin(sin(sin(sin(sin(exp(-sin(exp(x3)))))))))), exp(exp(sin(sin(sin(sin(sin(exp(-sin(exp(x3)))))))))), exp(exp(sin(sin(sin(sin(sin(exp(-sin(exp(x3)))))))))), exp(exp(sin(sin(sin(sin(sin(sin(exp(-sin(exp(x3))))))))))), exp(exp(sin(sin(sin(sin(sin(sin(exp(-sin(exp(x3))))))))))), exp(exp(sin(sin(sin(sin(sin(sin(exp(-sin(exp(x3))))))))))), exp(exp(sin(sin(sin(sin(sin(sin(exp(-sin(exp(x3)))))))))))]\n"
     ]
    },
    {
     "name": "stderr",
     "output_type": "stream",
     "text": [
      " 83%|████████▎ | 83/100 [00:20<00:04,  3.43it/s]"
     ]
    },
    {
     "name": "stdout",
     "output_type": "stream",
     "text": [
      "exp(x0 - x3) 11173.942582830648\n",
      "[exp(exp(sin(sin(sin(sin(sin(sin(exp(-sin(sin(exp(x3)))))))))))), exp(exp(sin(sin(sin(sin(sin(exp(-sin(exp(x3)))))))))), exp(exp(sin(sin(sin(sin(sin(exp(-sin(exp(x3)))))))))), exp(exp(sin(sin(sin(sin(sin(exp(-sin(exp(x3)))))))))), exp(exp(sin(sin(sin(sin(sin(exp(-sin(exp(x3)))))))))), exp(exp(sin(sin(sin(sin(sin(exp(-sin(exp(x3)))))))))), exp(exp(sin(sin(sin(sin(sin(sin(exp(-sin(exp(x3))))))))))), exp(exp(sin(sin(sin(sin(sin(sin(exp(-sin(exp(x3))))))))))), exp(exp(sin(sin(sin(sin(sin(sin(exp(-sin(exp(x3))))))))))), exp(exp(sin(sin(sin(sin(sin(sin(exp(-sin(exp(x3)))))))))))]\n"
     ]
    },
    {
     "name": "stderr",
     "output_type": "stream",
     "text": [
      " 84%|████████▍ | 84/100 [00:21<00:04,  3.44it/s]"
     ]
    },
    {
     "name": "stdout",
     "output_type": "stream",
     "text": [
      "exp(x0 - x3) 11173.942582830648\n",
      "[exp(exp(sin(sin(sin(sin(sin(sin(exp(-sin(sin(exp(x3)))))))))))), exp(exp(sin(sin(sin(sin(sin(exp(-sin(exp(x3)))))))))), exp(exp(sin(sin(sin(sin(sin(exp(-sin(exp(x3)))))))))), exp(exp(sin(sin(sin(sin(sin(exp(-sin(exp(x3)))))))))), exp(exp(sin(sin(sin(sin(sin(exp(-sin(exp(x3)))))))))), exp(exp(sin(sin(sin(sin(sin(exp(-sin(exp(x3)))))))))), exp(exp(sin(sin(sin(sin(sin(sin(exp(-sin(exp(x3))))))))))), exp(exp(sin(sin(sin(sin(sin(sin(exp(-sin(exp(x3))))))))))), exp(exp(sin(sin(sin(sin(exp(-sin(exp(x3))))))))), exp(exp(sin(sin(sin(sin(exp(-sin(exp(x3)))))))))]\n"
     ]
    },
    {
     "name": "stderr",
     "output_type": "stream",
     "text": [
      " 85%|████████▌ | 85/100 [00:21<00:04,  3.44it/s]"
     ]
    },
    {
     "name": "stdout",
     "output_type": "stream",
     "text": [
      "exp(x0 - x3) 11173.942582830648\n",
      "[exp(exp(sin(sin(sin(sin(sin(sin(exp(-sin(sin(exp(x3)))))))))))), exp(exp(sin(sin(sin(sin(sin(exp(-sin(exp(x3)))))))))), exp(exp(sin(sin(sin(sin(sin(exp(-sin(exp(x3)))))))))), exp(exp(sin(sin(sin(sin(sin(exp(-sin(exp(x3)))))))))), exp(exp(sin(sin(sin(sin(sin(exp(-sin(exp(x3)))))))))), exp(exp(sin(sin(sin(sin(sin(exp(-sin(exp(x3)))))))))), exp(exp(sin(sin(sin(sin(sin(sin(exp(-sin(exp(x3))))))))))), exp(exp(sin(sin(sin(sin(sin(sin(exp(-sin(exp(x3))))))))))), exp(exp(sin(sin(sin(sin(exp(-sin(exp(x3))))))))), exp(exp(sin(sin(sin(sin(exp(-sin(exp(x3)))))))))]\n"
     ]
    },
    {
     "name": "stderr",
     "output_type": "stream",
     "text": [
      " 86%|████████▌ | 86/100 [00:21<00:03,  3.63it/s]"
     ]
    },
    {
     "name": "stdout",
     "output_type": "stream",
     "text": [
      "exp(x0 - x3) 11173.942582830648\n",
      "[exp(exp(sin(sin(sin(sin(sin(exp(-sin(sin(exp(x3))))))))))), exp(exp(sin(sin(sin(sin(sin(sin(exp(-sin(sin(exp(x3)))))))))))), exp(exp(sin(sin(sin(sin(sin(exp(-sin(exp(x3)))))))))), exp(exp(sin(sin(sin(sin(sin(exp(-sin(exp(x3)))))))))), exp(exp(sin(sin(sin(sin(sin(exp(-sin(exp(x3)))))))))), exp(exp(sin(sin(sin(sin(sin(exp(-sin(exp(x3)))))))))), exp(exp(sin(sin(sin(sin(sin(exp(-sin(exp(x3)))))))))), exp(exp(sin(sin(sin(sin(sin(exp(-sin(exp(x3)))))))))), exp(exp(sin(sin(sin(sin(sin(sin(exp(-sin(exp(x3))))))))))), exp(exp(sin(sin(sin(sin(sin(sin(exp(-sin(exp(x3)))))))))))]\n"
     ]
    },
    {
     "name": "stderr",
     "output_type": "stream",
     "text": [
      " 87%|████████▋ | 87/100 [00:22<00:03,  3.60it/s]"
     ]
    },
    {
     "name": "stdout",
     "output_type": "stream",
     "text": [
      "exp(x0 - x3) 11173.942582830648\n",
      "[exp(exp(sin(sin(sin(sin(sin(exp(-sin(sin(exp(x3))))))))))), exp(exp(sin(sin(sin(sin(sin(sin(exp(-sin(sin(exp(x3)))))))))))), exp(exp(sin(sin(sin(sin(sin(exp(-sin(exp(x3)))))))))), exp(exp(sin(sin(sin(sin(sin(exp(-sin(exp(x3)))))))))), exp(exp(sin(sin(sin(sin(sin(exp(-sin(exp(x3)))))))))), exp(exp(sin(sin(sin(sin(sin(exp(-sin(exp(x3)))))))))), exp(exp(sin(sin(sin(sin(sin(exp(-sin(exp(x3)))))))))), exp(exp(sin(sin(sin(sin(sin(exp(-sin(exp(x3)))))))))), exp(exp(sin(sin(sin(sin(sin(exp(-sin(exp(x3)))))))))), exp(exp(sin(sin(sin(sin(sin(sin(exp(-sin(exp(x3)))))))))))]\n"
     ]
    },
    {
     "name": "stderr",
     "output_type": "stream",
     "text": [
      " 88%|████████▊ | 88/100 [00:22<00:03,  3.67it/s]"
     ]
    },
    {
     "name": "stdout",
     "output_type": "stream",
     "text": [
      "exp(x0 - x3) 11173.942582830648\n",
      "[exp(exp(sin(sin(sin(sin(sin(exp(-sin(sin(exp(x3))))))))))), exp(exp(sin(sin(sin(sin(sin(exp(-sin(sin(exp(x3))))))))))), exp(exp(sin(sin(sin(sin(sin(sin(exp(-sin(sin(exp(x3)))))))))))), exp(exp(sin(sin(sin(sin(sin(sin(exp(-sin(sin(exp(x3)))))))))))), exp(exp(sin(sin(sin(sin(sin(exp(-sin(exp(x3)))))))))), exp(exp(sin(sin(sin(sin(sin(exp(-sin(exp(x3)))))))))), exp(exp(sin(sin(sin(sin(sin(exp(-sin(exp(x3)))))))))), exp(exp(sin(sin(sin(sin(sin(exp(-sin(exp(x3)))))))))), exp(exp(sin(sin(sin(sin(sin(exp(-sin(exp(x3)))))))))), exp(exp(sin(sin(sin(sin(sin(exp(-sin(exp(x3))))))))))]\n"
     ]
    },
    {
     "name": "stderr",
     "output_type": "stream",
     "text": [
      " 89%|████████▉ | 89/100 [00:22<00:02,  3.72it/s]"
     ]
    },
    {
     "name": "stdout",
     "output_type": "stream",
     "text": [
      "exp(x0 - x3) 11173.942582830648\n",
      "[exp(exp(sin(sin(sin(sin(sin(exp(-sin(sin(exp(x3))))))))))), exp(exp(sin(sin(sin(sin(sin(exp(-sin(sin(exp(x3))))))))))), exp(exp(sin(sin(sin(sin(sin(sin(exp(-sin(sin(exp(x3)))))))))))), exp(exp(sin(sin(sin(sin(sin(sin(exp(-sin(sin(exp(x3)))))))))))), exp(exp(sin(sin(sin(sin(sin(sin(exp(-sin(sin(exp(x3)))))))))))), exp(exp(sin(sin(sin(sin(sin(exp(-sin(exp(x3)))))))))), exp(exp(sin(sin(sin(sin(sin(exp(-sin(exp(x3)))))))))), exp(exp(sin(sin(sin(sin(sin(exp(-sin(exp(x3)))))))))), exp(exp(sin(sin(sin(sin(sin(exp(-sin(exp(x3)))))))))), exp(exp(sin(sin(sin(sin(sin(exp(-sin(exp(x3))))))))))]\n"
     ]
    },
    {
     "name": "stderr",
     "output_type": "stream",
     "text": [
      " 90%|█████████ | 90/100 [00:22<00:02,  3.63it/s]"
     ]
    },
    {
     "name": "stdout",
     "output_type": "stream",
     "text": [
      "exp(x0 - x3) 11173.942582830648\n",
      "[exp(exp(sin(sin(sin(sin(sin(exp(-sin(sin(exp(x3))))))))))), exp(exp(sin(sin(sin(sin(sin(sin(exp(-sin(sin(exp(x3)))))))))))), exp(exp(sin(sin(sin(sin(sin(sin(exp(-sin(sin(exp(x3)))))))))))), exp(exp(sin(sin(sin(sin(sin(sin(exp(-sin(sin(exp(x3)))))))))))), exp(exp(sin(sin(sin(sin(sin(sin(sin(exp(-sin(sin(exp(x3))))))))))))), exp(exp(sin(sin(sin(sin(sin(exp(-sin(exp(x3)))))))))), exp(exp(sin(sin(sin(sin(sin(exp(-sin(exp(x3)))))))))), exp(exp(sin(sin(sin(sin(sin(exp(-sin(exp(x3)))))))))), exp(exp(sin(sin(sin(sin(sin(exp(-sin(exp(x3)))))))))), exp(exp(sin(sin(sin(sin(sin(exp(-sin(exp(x3))))))))))]\n"
     ]
    },
    {
     "name": "stderr",
     "output_type": "stream",
     "text": [
      " 91%|█████████ | 91/100 [00:23<00:02,  3.57it/s]"
     ]
    },
    {
     "name": "stdout",
     "output_type": "stream",
     "text": [
      "exp(x0 - x3) 11173.942582830648\n",
      "[exp(exp(sin(sin(sin(sin(sin(exp(-sin(sin(exp(x3))))))))))), exp(exp(sin(sin(sin(sin(sin(exp(-sin(sin(exp(x3))))))))))), exp(exp(sin(sin(sin(sin(sin(sin(exp(-sin(sin(exp(x3)))))))))))), exp(exp(sin(sin(sin(sin(sin(sin(exp(-sin(sin(exp(x3)))))))))))), exp(exp(sin(sin(sin(sin(sin(sin(exp(-sin(sin(exp(x3)))))))))))), exp(exp(sin(sin(sin(sin(exp(-sin(sin(exp(x3)))))))))), exp(exp(sin(sin(sin(sin(sin(sin(sin(exp(-sin(sin(exp(x3))))))))))))), exp(exp(sin(sin(sin(sin(sin(exp(-sin(exp(x3)))))))))), exp(exp(sin(sin(sin(sin(sin(exp(-sin(exp(x3)))))))))), exp(exp(sin(sin(sin(sin(sin(exp(-sin(exp(x3))))))))))]\n"
     ]
    },
    {
     "name": "stderr",
     "output_type": "stream",
     "text": [
      " 92%|█████████▏| 92/100 [00:23<00:02,  3.49it/s]"
     ]
    },
    {
     "name": "stdout",
     "output_type": "stream",
     "text": [
      "exp(x0 - x3) 11173.942582830648\n",
      "[exp(exp(sin(sin(sin(sin(sin(exp(-sin(sin(exp(x3))))))))))), exp(exp(sin(sin(sin(sin(sin(exp(-sin(sin(exp(x3))))))))))), exp(exp(sin(sin(sin(sin(sin(sin(exp(-sin(sin(exp(x3)))))))))))), exp(exp(sin(sin(sin(sin(sin(sin(exp(-sin(sin(exp(x3)))))))))))), exp(exp(sin(sin(sin(sin(sin(sin(exp(-sin(sin(exp(x3)))))))))))), exp(exp(sin(sin(sin(sin(sin(sin(exp(-sin(sin(exp(x3)))))))))))), exp(exp(sin(sin(sin(sin(exp(-sin(sin(exp(x3)))))))))), exp(exp(sin(sin(sin(sin(sin(sin(sin(exp(-sin(sin(exp(x3))))))))))))), exp(exp(sin(sin(sin(sin(sin(exp(-sin(exp(x3)))))))))), exp(exp(sin(sin(sin(sin(sin(exp(-sin(exp(x3))))))))))]\n"
     ]
    },
    {
     "name": "stderr",
     "output_type": "stream",
     "text": [
      " 93%|█████████▎| 93/100 [00:23<00:02,  3.45it/s]"
     ]
    },
    {
     "name": "stdout",
     "output_type": "stream",
     "text": [
      "exp(x0 - x3) 11173.942582830648\n",
      "[exp(exp(sin(sin(sin(sin(sin(exp(-sin(sin(exp(x3))))))))))), exp(exp(sin(sin(sin(sin(sin(exp(-sin(sin(exp(x3))))))))))), exp(exp(sin(sin(sin(sin(sin(sin(exp(-sin(sin(exp(x3)))))))))))), exp(exp(sin(sin(sin(sin(sin(sin(exp(-sin(sin(exp(x3)))))))))))), exp(exp(sin(sin(sin(sin(sin(sin(exp(-sin(sin(exp(x3)))))))))))), exp(exp(sin(sin(sin(sin(sin(sin(exp(-sin(sin(exp(x3)))))))))))), exp(exp(sin(sin(sin(sin(exp(-sin(sin(exp(x3)))))))))), exp(exp(sin(sin(sin(sin(sin(sin(sin(exp(-sin(sin(exp(x3))))))))))))), exp(exp(sin(sin(sin(sin(sin(exp(-sin(exp(x3)))))))))), exp(exp(sin(sin(sin(sin(sin(exp(-sin(exp(x3))))))))))]\n"
     ]
    },
    {
     "name": "stderr",
     "output_type": "stream",
     "text": [
      " 94%|█████████▍| 94/100 [00:24<00:01,  3.47it/s]"
     ]
    },
    {
     "name": "stdout",
     "output_type": "stream",
     "text": [
      "exp(x0 - x3) 11173.942582830648\n",
      "[exp(exp(sin(sin(sin(sin(sin(exp(-sin(sin(exp(x3))))))))))), exp(exp(sin(sin(sin(sin(sin(exp(-sin(sin(exp(x3))))))))))), exp(exp(sin(sin(sin(sin(sin(sin(exp(-sin(sin(exp(x3)))))))))))), exp(exp(sin(sin(sin(sin(sin(sin(exp(-sin(sin(exp(x3)))))))))))), exp(exp(sin(sin(sin(sin(sin(sin(exp(-sin(sin(exp(x3)))))))))))), exp(exp(sin(sin(sin(sin(sin(sin(exp(-sin(sin(exp(x3)))))))))))), exp(exp(sin(sin(sin(sin(sin(sin(exp(-sin(sin(exp(x3)))))))))))), exp(exp(sin(sin(sin(sin(exp(-sin(sin(exp(x3)))))))))), exp(exp(sin(sin(sin(sin(sin(sin(sin(exp(-sin(sin(exp(x3))))))))))))), exp(exp(sin(sin(sin(sin(sin(exp(-sin(exp(x3))))))))))]\n"
     ]
    },
    {
     "name": "stderr",
     "output_type": "stream",
     "text": [
      " 95%|█████████▌| 95/100 [00:24<00:01,  3.44it/s]"
     ]
    },
    {
     "name": "stdout",
     "output_type": "stream",
     "text": [
      "exp(x0 - x3) 11173.942582830648\n",
      "[exp(exp(sin(sin(sin(sin(sin(exp(-sin(sin(exp(x3))))))))))), exp(exp(sin(sin(sin(sin(sin(exp(-sin(sin(exp(x3))))))))))), exp(exp(sin(sin(sin(sin(sin(sin(exp(-sin(sin(exp(x3)))))))))))), exp(exp(sin(sin(sin(sin(sin(sin(exp(-sin(sin(exp(x3)))))))))))), exp(exp(sin(sin(sin(sin(sin(sin(exp(-sin(sin(exp(x3)))))))))))), exp(exp(sin(sin(sin(sin(sin(sin(exp(-sin(sin(exp(x3)))))))))))), exp(exp(sin(sin(sin(sin(sin(sin(exp(-sin(sin(exp(x3)))))))))))), exp(exp(sin(sin(sin(sin(exp(-sin(sin(exp(x3)))))))))), exp(exp(sin(sin(sin(sin(sin(sin(sin(exp(-sin(sin(exp(x3))))))))))))), exp(exp(sin(sin(sin(sin(sin(sin(sin(exp(-sin(sin(exp(x3)))))))))))))]\n"
     ]
    },
    {
     "name": "stderr",
     "output_type": "stream",
     "text": [
      " 96%|█████████▌| 96/100 [00:24<00:01,  2.90it/s]"
     ]
    },
    {
     "name": "stdout",
     "output_type": "stream",
     "text": [
      "exp(x0 - x3) 11173.942582830648\n",
      "[exp(exp(sin(sin(sin(sin(sin(exp(-sin(sin(exp(x3))))))))))), exp(exp(sin(sin(sin(sin(sin(sin(exp(-sin(sin(exp(x3)))))))))))), exp(exp(sin(sin(sin(sin(sin(sin(exp(-sin(sin(exp(x3)))))))))))), exp(exp(sin(sin(sin(sin(sin(sin(exp(-sin(sin(exp(x3)))))))))))), exp(exp(sin(sin(sin(sin(sin(sin(exp(-sin(sin(exp(x3)))))))))))), exp(exp(sin(sin(sin(sin(sin(sin(exp(-sin(sin(exp(x3)))))))))))), exp(exp(sin(sin(sin(sin(exp(-sin(sin(exp(x3)))))))))), exp(exp(sin(sin(sin(sin(sin(sin(sin(exp(-sin(sin(exp(x3))))))))))))), exp(exp(sin(sin(sin(sin(sin(sin(sin(exp(-sin(sin(exp(x3))))))))))))), exp(exp(sin(sin(sin(sin(sin(exp(-sin(exp(x3))))))))))]\n"
     ]
    },
    {
     "name": "stderr",
     "output_type": "stream",
     "text": [
      " 97%|█████████▋| 97/100 [00:25<00:00,  3.06it/s]"
     ]
    },
    {
     "name": "stdout",
     "output_type": "stream",
     "text": [
      "exp(x0 - x3) 11173.942582830648\n",
      "[exp(exp(sin(sin(sin(sin(sin(exp(-sin(sin(exp(x3))))))))))), exp(exp(sin(sin(sin(sin(sin(sin(exp(-sin(sin(exp(x3)))))))))))), exp(exp(sin(sin(sin(sin(sin(sin(exp(-sin(sin(exp(x3)))))))))))), exp(exp(sin(sin(sin(sin(sin(sin(exp(-sin(sin(exp(x3)))))))))))), exp(exp(sin(sin(sin(sin(sin(sin(exp(-sin(sin(exp(x3)))))))))))), exp(exp(sin(sin(sin(sin(sin(sin(exp(-sin(sin(exp(x3)))))))))))), exp(exp(sin(sin(sin(sin(sin(sin(exp(-sin(sin(exp(x3)))))))))))), exp(exp(sin(sin(sin(sin(exp(-sin(sin(exp(x3)))))))))), exp(exp(sin(sin(sin(sin(sin(sin(sin(exp(-sin(sin(exp(x3))))))))))))), exp(exp(sin(sin(sin(sin(sin(sin(sin(exp(-sin(sin(exp(x3)))))))))))))]\n"
     ]
    },
    {
     "name": "stderr",
     "output_type": "stream",
     "text": [
      " 98%|█████████▊| 98/100 [00:25<00:00,  3.10it/s]"
     ]
    },
    {
     "name": "stdout",
     "output_type": "stream",
     "text": [
      "exp(x0 - x3) 11173.942582830648\n",
      "[exp(exp(sin(sin(sin(sin(sin(exp(-sin(sin(exp(x3))))))))))), exp(exp(sin(sin(sin(sin(sin(sin(exp(-sin(sin(exp(x3)))))))))))), exp(exp(sin(sin(sin(sin(sin(sin(exp(-sin(sin(exp(x3)))))))))))), exp(exp(sin(sin(sin(sin(sin(sin(exp(-sin(sin(exp(x3)))))))))))), exp(exp(sin(sin(sin(sin(sin(sin(exp(-sin(sin(exp(x3)))))))))))), exp(exp(sin(sin(sin(sin(sin(sin(exp(-sin(sin(exp(x3)))))))))))), exp(exp(sin(sin(sin(sin(sin(sin(exp(-sin(sin(exp(x3)))))))))))), exp(exp(sin(sin(sin(sin(exp(-sin(sin(exp(x3)))))))))), exp(exp(sin(sin(sin(sin(exp(-sin(sin(exp(x3)))))))))), exp(exp(sin(sin(sin(sin(sin(sin(sin(exp(-sin(sin(exp(x3)))))))))))))]\n"
     ]
    },
    {
     "name": "stderr",
     "output_type": "stream",
     "text": [
      " 99%|█████████▉| 99/100 [00:25<00:00,  3.21it/s]"
     ]
    },
    {
     "name": "stdout",
     "output_type": "stream",
     "text": [
      "exp(x0 - x3) 11173.942582830648\n",
      "[exp(exp(sin(sin(sin(sin(sin(exp(-sin(sin(exp(x3))))))))))), exp(exp(sin(sin(sin(sin(sin(sin(exp(-sin(sin(exp(x3)))))))))))), exp(exp(sin(sin(sin(sin(sin(sin(exp(-sin(sin(exp(x3)))))))))))), exp(exp(sin(sin(sin(sin(sin(sin(exp(-sin(sin(exp(x3)))))))))))), exp(exp(sin(sin(sin(sin(sin(sin(exp(-sin(sin(exp(x3)))))))))))), exp(exp(sin(sin(sin(sin(sin(sin(exp(-sin(sin(exp(x3)))))))))))), exp(exp(sin(sin(sin(sin(sin(sin(exp(-sin(sin(exp(x3)))))))))))), exp(exp(sin(sin(sin(sin(exp(-sin(sin(exp(x3)))))))))), exp(exp(sin(sin(sin(sin(exp(-sin(sin(exp(x3)))))))))), exp(exp(sin(sin(sin(sin(exp(-sin(sin(exp(x3))))))))))]\n"
     ]
    },
    {
     "name": "stderr",
     "output_type": "stream",
     "text": [
      "100%|██████████| 100/100 [00:25<00:00,  3.85it/s]"
     ]
    },
    {
     "name": "stdout",
     "output_type": "stream",
     "text": [
      "exp(x0 - x3) 11173.942582830648\n",
      "[exp(exp(sin(sin(sin(sin(sin(exp(-sin(sin(exp(x3))))))))))), exp(exp(sin(sin(sin(sin(sin(exp(-sin(sin(exp(x3))))))))))), exp(exp(sin(sin(sin(sin(sin(sin(exp(-sin(sin(exp(x3)))))))))))), exp(exp(sin(sin(sin(sin(sin(sin(exp(-sin(sin(exp(x3)))))))))))), exp(exp(sin(sin(sin(sin(sin(sin(exp(-sin(sin(exp(x3)))))))))))), exp(exp(sin(sin(sin(sin(sin(sin(exp(-sin(sin(exp(x3)))))))))))), exp(exp(sin(sin(sin(sin(sin(sin(exp(-sin(sin(exp(x3)))))))))))), exp(exp(sin(sin(sin(sin(sin(sin(exp(-sin(sin(exp(x3)))))))))))), exp(exp(sin(sin(sin(sin(exp(-sin(sin(exp(x3)))))))))), exp(exp(sin(sin(sin(sin(exp(-sin(sin(exp(x3))))))))))]\n"
     ]
    },
    {
     "name": "stderr",
     "output_type": "stream",
     "text": [
      "\n"
     ]
    },
    {
     "data": {
      "text/latex": [
       "$\\displaystyle e^{x_{0} - x_{3}}$"
      ],
      "text/plain": [
       "exp(x0 - x3)"
      ]
     },
     "execution_count": 130,
     "metadata": {},
     "output_type": "execute_result"
    }
   ],
   "source": [
    "testing=SGA(100,100,0.95,0.3,100,np.array(['x0','x1','x2','x3']),arr,dummy=False,simplified=True)\n",
    "testing.initial_population()\n",
    "testing.fit()"
   ]
  }
 ],
 "metadata": {
  "kernelspec": {
   "display_name": ".venv",
   "language": "python",
   "name": "python3"
  },
  "language_info": {
   "codemirror_mode": {
    "name": "ipython",
    "version": 3
   },
   "file_extension": ".py",
   "mimetype": "text/x-python",
   "name": "python",
   "nbconvert_exporter": "python",
   "pygments_lexer": "ipython3",
   "version": "3.10.12"
  }
 },
 "nbformat": 4,
 "nbformat_minor": 2
}
