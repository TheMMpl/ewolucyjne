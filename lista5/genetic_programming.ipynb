{
 "cells": [
  {
   "cell_type": "code",
   "execution_count": 2,
   "metadata": {},
   "outputs": [
    {
     "name": "stderr",
     "output_type": "stream",
     "text": [
      "/home/mm/projects/ewolucyjne/ewolucyjne/.venv/lib/python3.10/site-packages/tqdm/auto.py:21: TqdmWarning: IProgress not found. Please update jupyter and ipywidgets. See https://ipywidgets.readthedocs.io/en/stable/user_install.html\n",
      "  from .autonotebook import tqdm as notebook_tqdm\n",
      "Downloading data: 100%|██████████| 30/30 [00:03<00:00,  8.35files/s]\n",
      "Downloading data: 100%|██████████| 30/30 [00:01<00:00, 27.69files/s]\n",
      "Downloading data: 100%|██████████| 30/30 [00:00<00:00, 32.74files/s]\n",
      "Generating train split: 100%|██████████| 240000/240000 [00:00<00:00, 1580405.50 examples/s]\n",
      "Generating validation split: 100%|██████████| 30000/30000 [00:00<00:00, 1740856.67 examples/s]\n",
      "Generating test split: 100%|██████████| 30000/30000 [00:00<00:00, 1798021.21 examples/s]\n"
     ]
    }
   ],
   "source": [
    "from datasets import load_dataset\n",
    "\n",
    "ds = load_dataset(\"yoshitomo-matsubara/srsd-feynman_easy_dummy\")"
   ]
  },
  {
   "cell_type": "code",
   "execution_count": 20,
   "metadata": {},
   "outputs": [
    {
     "name": "stdout",
     "output_type": "stream",
     "text": [
      "{'text': '7.619981169700622559e-01 1.818842291831970215e+00 8.440561314972055977e-27 2.070210048000000000e+09'}\n",
      "{'text': '1.567521318793296814e-02 5.028885602951049805e-02 7.032883034485124934e-22 7.882885402068495750e-04'}\n",
      "{'text': '3.148483825500160000e+14 1.329973754882812500e+03 -1.503542065620422363e-02 2.484383209680647575e-14 1.463717937323370766e+31 1.503295153379440308e-01'}\n"
     ]
    }
   ],
   "source": [
    "print(ds['train'][8001])\n",
    "print(ds['train'][0])\n",
    "print(ds['train'][32001])"
   ]
  },
  {
   "cell_type": "code",
   "execution_count": 11,
   "metadata": {},
   "outputs": [
    {
     "ename": "ConnectionError",
     "evalue": "Couldn't reach 'yoshitomo-matsubara/srsd-feynman_medium' on the Hub (LocalEntryNotFoundError)",
     "output_type": "error",
     "traceback": [
      "\u001b[0;31m---------------------------------------------------------------------------\u001b[0m",
      "\u001b[0;31mConnectionError\u001b[0m                           Traceback (most recent call last)",
      "Cell \u001b[0;32mIn[11], line 3\u001b[0m\n\u001b[1;32m      1\u001b[0m \u001b[38;5;28;01mfrom\u001b[39;00m \u001b[38;5;21;01mdatasets\u001b[39;00m \u001b[38;5;28;01mimport\u001b[39;00m load_dataset\n\u001b[0;32m----> 3\u001b[0m ds_medium \u001b[38;5;241m=\u001b[39m \u001b[43mload_dataset\u001b[49m\u001b[43m(\u001b[49m\u001b[38;5;124;43m\"\u001b[39;49m\u001b[38;5;124;43myoshitomo-matsubara/srsd-feynman_medium\u001b[39;49m\u001b[38;5;124;43m\"\u001b[39;49m\u001b[43m)\u001b[49m\n\u001b[1;32m      4\u001b[0m \u001b[38;5;28mprint\u001b[39m(ds_medium[\u001b[38;5;124m'\u001b[39m\u001b[38;5;124mtrain\u001b[39m\u001b[38;5;124m'\u001b[39m][\u001b[38;5;241m0\u001b[39m])\n",
      "File \u001b[0;32m~/projects/ewolucyjne/ewolucyjne/.venv/lib/python3.10/site-packages/datasets/load.py:2129\u001b[0m, in \u001b[0;36mload_dataset\u001b[0;34m(path, name, data_dir, data_files, split, cache_dir, features, download_config, download_mode, verification_mode, keep_in_memory, save_infos, revision, token, streaming, num_proc, storage_options, trust_remote_code, **config_kwargs)\u001b[0m\n\u001b[1;32m   2124\u001b[0m verification_mode \u001b[38;5;241m=\u001b[39m VerificationMode(\n\u001b[1;32m   2125\u001b[0m     (verification_mode \u001b[38;5;129;01mor\u001b[39;00m VerificationMode\u001b[38;5;241m.\u001b[39mBASIC_CHECKS) \u001b[38;5;28;01mif\u001b[39;00m \u001b[38;5;129;01mnot\u001b[39;00m save_infos \u001b[38;5;28;01melse\u001b[39;00m VerificationMode\u001b[38;5;241m.\u001b[39mALL_CHECKS\n\u001b[1;32m   2126\u001b[0m )\n\u001b[1;32m   2128\u001b[0m \u001b[38;5;66;03m# Create a dataset builder\u001b[39;00m\n\u001b[0;32m-> 2129\u001b[0m builder_instance \u001b[38;5;241m=\u001b[39m \u001b[43mload_dataset_builder\u001b[49m\u001b[43m(\u001b[49m\n\u001b[1;32m   2130\u001b[0m \u001b[43m    \u001b[49m\u001b[43mpath\u001b[49m\u001b[38;5;241;43m=\u001b[39;49m\u001b[43mpath\u001b[49m\u001b[43m,\u001b[49m\n\u001b[1;32m   2131\u001b[0m \u001b[43m    \u001b[49m\u001b[43mname\u001b[49m\u001b[38;5;241;43m=\u001b[39;49m\u001b[43mname\u001b[49m\u001b[43m,\u001b[49m\n\u001b[1;32m   2132\u001b[0m \u001b[43m    \u001b[49m\u001b[43mdata_dir\u001b[49m\u001b[38;5;241;43m=\u001b[39;49m\u001b[43mdata_dir\u001b[49m\u001b[43m,\u001b[49m\n\u001b[1;32m   2133\u001b[0m \u001b[43m    \u001b[49m\u001b[43mdata_files\u001b[49m\u001b[38;5;241;43m=\u001b[39;49m\u001b[43mdata_files\u001b[49m\u001b[43m,\u001b[49m\n\u001b[1;32m   2134\u001b[0m \u001b[43m    \u001b[49m\u001b[43mcache_dir\u001b[49m\u001b[38;5;241;43m=\u001b[39;49m\u001b[43mcache_dir\u001b[49m\u001b[43m,\u001b[49m\n\u001b[1;32m   2135\u001b[0m \u001b[43m    \u001b[49m\u001b[43mfeatures\u001b[49m\u001b[38;5;241;43m=\u001b[39;49m\u001b[43mfeatures\u001b[49m\u001b[43m,\u001b[49m\n\u001b[1;32m   2136\u001b[0m \u001b[43m    \u001b[49m\u001b[43mdownload_config\u001b[49m\u001b[38;5;241;43m=\u001b[39;49m\u001b[43mdownload_config\u001b[49m\u001b[43m,\u001b[49m\n\u001b[1;32m   2137\u001b[0m \u001b[43m    \u001b[49m\u001b[43mdownload_mode\u001b[49m\u001b[38;5;241;43m=\u001b[39;49m\u001b[43mdownload_mode\u001b[49m\u001b[43m,\u001b[49m\n\u001b[1;32m   2138\u001b[0m \u001b[43m    \u001b[49m\u001b[43mrevision\u001b[49m\u001b[38;5;241;43m=\u001b[39;49m\u001b[43mrevision\u001b[49m\u001b[43m,\u001b[49m\n\u001b[1;32m   2139\u001b[0m \u001b[43m    \u001b[49m\u001b[43mtoken\u001b[49m\u001b[38;5;241;43m=\u001b[39;49m\u001b[43mtoken\u001b[49m\u001b[43m,\u001b[49m\n\u001b[1;32m   2140\u001b[0m \u001b[43m    \u001b[49m\u001b[43mstorage_options\u001b[49m\u001b[38;5;241;43m=\u001b[39;49m\u001b[43mstorage_options\u001b[49m\u001b[43m,\u001b[49m\n\u001b[1;32m   2141\u001b[0m \u001b[43m    \u001b[49m\u001b[43mtrust_remote_code\u001b[49m\u001b[38;5;241;43m=\u001b[39;49m\u001b[43mtrust_remote_code\u001b[49m\u001b[43m,\u001b[49m\n\u001b[1;32m   2142\u001b[0m \u001b[43m    \u001b[49m\u001b[43m_require_default_config_name\u001b[49m\u001b[38;5;241;43m=\u001b[39;49m\u001b[43mname\u001b[49m\u001b[43m \u001b[49m\u001b[38;5;129;43;01mis\u001b[39;49;00m\u001b[43m \u001b[49m\u001b[38;5;28;43;01mNone\u001b[39;49;00m\u001b[43m,\u001b[49m\n\u001b[1;32m   2143\u001b[0m \u001b[43m    \u001b[49m\u001b[38;5;241;43m*\u001b[39;49m\u001b[38;5;241;43m*\u001b[39;49m\u001b[43mconfig_kwargs\u001b[49m\u001b[43m,\u001b[49m\n\u001b[1;32m   2144\u001b[0m \u001b[43m\u001b[49m\u001b[43m)\u001b[49m\n\u001b[1;32m   2146\u001b[0m \u001b[38;5;66;03m# Return iterable dataset in case of streaming\u001b[39;00m\n\u001b[1;32m   2147\u001b[0m \u001b[38;5;28;01mif\u001b[39;00m streaming:\n",
      "File \u001b[0;32m~/projects/ewolucyjne/ewolucyjne/.venv/lib/python3.10/site-packages/datasets/load.py:1849\u001b[0m, in \u001b[0;36mload_dataset_builder\u001b[0;34m(path, name, data_dir, data_files, cache_dir, features, download_config, download_mode, revision, token, storage_options, trust_remote_code, _require_default_config_name, **config_kwargs)\u001b[0m\n\u001b[1;32m   1847\u001b[0m     download_config \u001b[38;5;241m=\u001b[39m download_config\u001b[38;5;241m.\u001b[39mcopy() \u001b[38;5;28;01mif\u001b[39;00m download_config \u001b[38;5;28;01melse\u001b[39;00m DownloadConfig()\n\u001b[1;32m   1848\u001b[0m     download_config\u001b[38;5;241m.\u001b[39mstorage_options\u001b[38;5;241m.\u001b[39mupdate(storage_options)\n\u001b[0;32m-> 1849\u001b[0m dataset_module \u001b[38;5;241m=\u001b[39m \u001b[43mdataset_module_factory\u001b[49m\u001b[43m(\u001b[49m\n\u001b[1;32m   1850\u001b[0m \u001b[43m    \u001b[49m\u001b[43mpath\u001b[49m\u001b[43m,\u001b[49m\n\u001b[1;32m   1851\u001b[0m \u001b[43m    \u001b[49m\u001b[43mrevision\u001b[49m\u001b[38;5;241;43m=\u001b[39;49m\u001b[43mrevision\u001b[49m\u001b[43m,\u001b[49m\n\u001b[1;32m   1852\u001b[0m \u001b[43m    \u001b[49m\u001b[43mdownload_config\u001b[49m\u001b[38;5;241;43m=\u001b[39;49m\u001b[43mdownload_config\u001b[49m\u001b[43m,\u001b[49m\n\u001b[1;32m   1853\u001b[0m \u001b[43m    \u001b[49m\u001b[43mdownload_mode\u001b[49m\u001b[38;5;241;43m=\u001b[39;49m\u001b[43mdownload_mode\u001b[49m\u001b[43m,\u001b[49m\n\u001b[1;32m   1854\u001b[0m \u001b[43m    \u001b[49m\u001b[43mdata_dir\u001b[49m\u001b[38;5;241;43m=\u001b[39;49m\u001b[43mdata_dir\u001b[49m\u001b[43m,\u001b[49m\n\u001b[1;32m   1855\u001b[0m \u001b[43m    \u001b[49m\u001b[43mdata_files\u001b[49m\u001b[38;5;241;43m=\u001b[39;49m\u001b[43mdata_files\u001b[49m\u001b[43m,\u001b[49m\n\u001b[1;32m   1856\u001b[0m \u001b[43m    \u001b[49m\u001b[43mcache_dir\u001b[49m\u001b[38;5;241;43m=\u001b[39;49m\u001b[43mcache_dir\u001b[49m\u001b[43m,\u001b[49m\n\u001b[1;32m   1857\u001b[0m \u001b[43m    \u001b[49m\u001b[43mtrust_remote_code\u001b[49m\u001b[38;5;241;43m=\u001b[39;49m\u001b[43mtrust_remote_code\u001b[49m\u001b[43m,\u001b[49m\n\u001b[1;32m   1858\u001b[0m \u001b[43m    \u001b[49m\u001b[43m_require_default_config_name\u001b[49m\u001b[38;5;241;43m=\u001b[39;49m\u001b[43m_require_default_config_name\u001b[49m\u001b[43m,\u001b[49m\n\u001b[1;32m   1859\u001b[0m \u001b[43m    \u001b[49m\u001b[43m_require_custom_configs\u001b[49m\u001b[38;5;241;43m=\u001b[39;49m\u001b[38;5;28;43mbool\u001b[39;49m\u001b[43m(\u001b[49m\u001b[43mconfig_kwargs\u001b[49m\u001b[43m)\u001b[49m\u001b[43m,\u001b[49m\n\u001b[1;32m   1860\u001b[0m \u001b[43m\u001b[49m\u001b[43m)\u001b[49m\n\u001b[1;32m   1861\u001b[0m \u001b[38;5;66;03m# Get dataset builder class from the processing script\u001b[39;00m\n\u001b[1;32m   1862\u001b[0m builder_kwargs \u001b[38;5;241m=\u001b[39m dataset_module\u001b[38;5;241m.\u001b[39mbuilder_kwargs\n",
      "File \u001b[0;32m~/projects/ewolucyjne/ewolucyjne/.venv/lib/python3.10/site-packages/datasets/load.py:1731\u001b[0m, in \u001b[0;36mdataset_module_factory\u001b[0;34m(path, revision, download_config, download_mode, dynamic_modules_path, data_dir, data_files, cache_dir, trust_remote_code, _require_default_config_name, _require_custom_configs, **download_kwargs)\u001b[0m\n\u001b[1;32m   1726\u001b[0m                 \u001b[38;5;28;01melse\u001b[39;00m:\n\u001b[1;32m   1727\u001b[0m                     \u001b[38;5;28;01mraise\u001b[39;00m \u001b[38;5;167;01mFileNotFoundError\u001b[39;00m(\n\u001b[1;32m   1728\u001b[0m                         \u001b[38;5;124mf\u001b[39m\u001b[38;5;124m\"\u001b[39m\u001b[38;5;124mCouldn\u001b[39m\u001b[38;5;124m'\u001b[39m\u001b[38;5;124mt find any data file at \u001b[39m\u001b[38;5;132;01m{\u001b[39;00mrelative_to_absolute_path(path)\u001b[38;5;132;01m}\u001b[39;00m\u001b[38;5;124m. \u001b[39m\u001b[38;5;124m\"\u001b[39m\n\u001b[1;32m   1729\u001b[0m                         \u001b[38;5;124mf\u001b[39m\u001b[38;5;124m\"\u001b[39m\u001b[38;5;124mCouldn\u001b[39m\u001b[38;5;124m'\u001b[39m\u001b[38;5;124mt find \u001b[39m\u001b[38;5;124m'\u001b[39m\u001b[38;5;132;01m{\u001b[39;00mpath\u001b[38;5;132;01m}\u001b[39;00m\u001b[38;5;124m'\u001b[39m\u001b[38;5;124m on the Hugging Face Hub either: \u001b[39m\u001b[38;5;132;01m{\u001b[39;00m\u001b[38;5;28mtype\u001b[39m(e1)\u001b[38;5;241m.\u001b[39m\u001b[38;5;18m__name__\u001b[39m\u001b[38;5;132;01m}\u001b[39;00m\u001b[38;5;124m: \u001b[39m\u001b[38;5;132;01m{\u001b[39;00me1\u001b[38;5;132;01m}\u001b[39;00m\u001b[38;5;124m\"\u001b[39m\n\u001b[1;32m   1730\u001b[0m                     ) \u001b[38;5;28;01mfrom\u001b[39;00m \u001b[38;5;28;01mNone\u001b[39;00m\n\u001b[0;32m-> 1731\u001b[0m             \u001b[38;5;28;01mraise\u001b[39;00m e1 \u001b[38;5;28;01mfrom\u001b[39;00m \u001b[38;5;28;01mNone\u001b[39;00m\n\u001b[1;32m   1732\u001b[0m \u001b[38;5;28;01melif\u001b[39;00m trust_remote_code:\n\u001b[1;32m   1733\u001b[0m     \u001b[38;5;28;01mraise\u001b[39;00m \u001b[38;5;167;01mFileNotFoundError\u001b[39;00m(\n\u001b[1;32m   1734\u001b[0m         \u001b[38;5;124mf\u001b[39m\u001b[38;5;124m\"\u001b[39m\u001b[38;5;124mCouldn\u001b[39m\u001b[38;5;124m'\u001b[39m\u001b[38;5;124mt find a dataset script at \u001b[39m\u001b[38;5;132;01m{\u001b[39;00mrelative_to_absolute_path(combined_path)\u001b[38;5;132;01m}\u001b[39;00m\u001b[38;5;124m or any data file in the same directory.\u001b[39m\u001b[38;5;124m\"\u001b[39m\n\u001b[1;32m   1735\u001b[0m     )\n",
      "File \u001b[0;32m~/projects/ewolucyjne/ewolucyjne/.venv/lib/python3.10/site-packages/datasets/load.py:1618\u001b[0m, in \u001b[0;36mdataset_module_factory\u001b[0;34m(path, revision, download_config, download_mode, dynamic_modules_path, data_dir, data_files, cache_dir, trust_remote_code, _require_default_config_name, _require_custom_configs, **download_kwargs)\u001b[0m\n\u001b[1;32m   1609\u001b[0m \u001b[38;5;28;01mexcept\u001b[39;00m LocalEntryNotFoundError \u001b[38;5;28;01mas\u001b[39;00m e:\n\u001b[1;32m   1610\u001b[0m     \u001b[38;5;28;01mif\u001b[39;00m \u001b[38;5;28misinstance\u001b[39m(\n\u001b[1;32m   1611\u001b[0m         e\u001b[38;5;241m.\u001b[39m__cause__,\n\u001b[1;32m   1612\u001b[0m         (\n\u001b[0;32m   (...)\u001b[0m\n\u001b[1;32m   1616\u001b[0m         ),\n\u001b[1;32m   1617\u001b[0m     ):\n\u001b[0;32m-> 1618\u001b[0m         \u001b[38;5;28;01mraise\u001b[39;00m \u001b[38;5;167;01mConnectionError\u001b[39;00m(\u001b[38;5;124mf\u001b[39m\u001b[38;5;124m\"\u001b[39m\u001b[38;5;124mCouldn\u001b[39m\u001b[38;5;124m'\u001b[39m\u001b[38;5;124mt reach \u001b[39m\u001b[38;5;124m'\u001b[39m\u001b[38;5;132;01m{\u001b[39;00mpath\u001b[38;5;132;01m}\u001b[39;00m\u001b[38;5;124m'\u001b[39m\u001b[38;5;124m on the Hub (\u001b[39m\u001b[38;5;132;01m{\u001b[39;00me\u001b[38;5;241m.\u001b[39m\u001b[38;5;18m__class__\u001b[39m\u001b[38;5;241m.\u001b[39m\u001b[38;5;18m__name__\u001b[39m\u001b[38;5;132;01m}\u001b[39;00m\u001b[38;5;124m)\u001b[39m\u001b[38;5;124m\"\u001b[39m) \u001b[38;5;28;01mfrom\u001b[39;00m \u001b[38;5;21;01me\u001b[39;00m\n\u001b[1;32m   1619\u001b[0m     \u001b[38;5;28;01melse\u001b[39;00m:\n\u001b[1;32m   1620\u001b[0m         \u001b[38;5;28;01mraise\u001b[39;00m\n",
      "\u001b[0;31mConnectionError\u001b[0m: Couldn't reach 'yoshitomo-matsubara/srsd-feynman_medium' on the Hub (LocalEntryNotFoundError)"
     ]
    }
   ],
   "source": [
    "from datasets import load_dataset\n",
    "\n",
    "ds_medium = load_dataset(\"yoshitomo-matsubara/srsd-feynman_medium\")\n",
    "print(ds_medium['train'][0])"
   ]
  },
  {
   "cell_type": "code",
   "execution_count": 15,
   "metadata": {},
   "outputs": [
    {
     "name": "stderr",
     "output_type": "stream",
     "text": [
      "Downloading data: 100%|██████████| 40/40 [00:03<00:00, 11.11files/s]\n",
      "Downloading data: 100%|██████████| 40/40 [00:01<00:00, 32.81files/s]\n",
      "Downloading data: 100%|██████████| 40/40 [00:01<00:00, 36.90files/s]\n",
      "Generating train split: 100%|██████████| 320000/320000 [00:00<00:00, 1912426.54 examples/s]\n",
      "Generating validation split: 100%|██████████| 40000/40000 [00:00<00:00, 2122167.04 examples/s]\n",
      "Generating test split: 100%|██████████| 40000/40000 [00:00<00:00, 2072182.20 examples/s]\n"
     ]
    }
   ],
   "source": [
    "\n",
    "ds_medium = load_dataset(\"yoshitomo-matsubara/srsd-feynman_medium\")"
   ]
  },
  {
   "cell_type": "code",
   "execution_count": 17,
   "metadata": {},
   "outputs": [
    {
     "name": "stdout",
     "output_type": "stream",
     "text": [
      "{'text': '2.660175152830161591e-23 -1.411560747911434488e+00 2.660175152102865016e-23'}\n",
      "{'text': '-4.068378094392997468e+01 3.073896779351707101e+08 -3.521918534736374085e+01 2.149162971293337402e+12'}\n"
     ]
    }
   ],
   "source": [
    "print(ds_medium['train'][8001])\n",
    "print(ds_medium['train'][0])"
   ]
  },
  {
   "cell_type": "code",
   "execution_count": 21,
   "metadata": {},
   "outputs": [
    {
     "name": "stdout",
     "output_type": "stream",
     "text": [
      "DatasetDict({\n",
      "    train: Dataset({\n",
      "        features: ['text'],\n",
      "        num_rows: 320000\n",
      "    })\n",
      "    validation: Dataset({\n",
      "        features: ['text'],\n",
      "        num_rows: 40000\n",
      "    })\n",
      "    test: Dataset({\n",
      "        features: ['text'],\n",
      "        num_rows: 40000\n",
      "    })\n",
      "})\n"
     ]
    }
   ],
   "source": [
    "print(ds_medium)"
   ]
  },
  {
   "cell_type": "code",
   "execution_count": 212,
   "metadata": {},
   "outputs": [],
   "source": [
    "from dataclasses import dataclass\n",
    "import sympy\n",
    "import numpy as np\n",
    "import pickle\n",
    "from collections import deque\n",
    "\n",
    "examples_size=8000\n",
    "rng = np.random.default_rng()\n",
    "\n",
    "# EXTRA_FUNC_DICT = {\n",
    "#     'exp': make_function(np.exp, 'exp', 1),\n",
    "#     'pow': make_function(np.power, 'pow', 2)\n",
    "# }\n",
    "\n",
    "STR2SYMPY = {\n",
    "    'neg': lambda x: -x,\n",
    "    'abs': sympy.Abs,\n",
    "    'sqrt': sympy.sqrt,\n",
    "    'exp': sympy.exp,\n",
    "    'log': sympy.log,\n",
    "    'sin': sympy.sin,\n",
    "    'cos': sympy.cos,\n",
    "    'tan': sympy.tan,\n",
    "    'add': lambda x, y : x + y,\n",
    "    'sub': lambda x, y : x - y,\n",
    "    'mul': lambda x, y : x * y,\n",
    "    'div': lambda x, y : x / y,\n",
    "    'pow': lambda x, y : x ** y\n",
    "}\n",
    "\n",
    "binary_functions=np.array(['add','sub','mul','div','pow'])\n",
    "unary_functions=np.array(['neg','sqrt','exp','log','sin','cos','tan'])\n",
    "extra_constants=np.array(['2','3','4','5','pi'])\n",
    "\n",
    "@dataclass\n",
    "class ExpNode:\n",
    "    kind: str\n",
    "    num_children: int\n",
    "    children: list\n",
    "    parent: 'ExpNode' = None\n",
    "    #\n",
    "\n",
    "# @dataclass\n",
    "# class Expression:\n",
    "#     root: ExpNode\n",
    "#     variables: np.ndarray\n",
    "#     depth:int\n",
    "def find_variables(root: ExpNode):\n",
    "    if isinstance(root, np.ndarray):\n",
    "        return root\n",
    "    dir=rng.uniform(0,1)\n",
    "    if dir<1/2 or root.num_children==1:\n",
    "        return find_variables(root.children[0])\n",
    "    elif dir>1/2 and root.num_children>1:\n",
    "        return find_variables(root.children[1])\n",
    "    \n",
    "# def cut_and_regenerate(formula: ExpNode,depth,variables):\n",
    "#     d=0\n",
    "#     visiting=formula\n",
    "#     while d<depth:\n",
    "#         dir=rng.uniform(0,1)\n",
    "#         if dir<1/2 or visiting.num_children==1:\n",
    "#             visiting=visiting.children[0]\n",
    "#         elif dir>1/2 and visiting.num_children>1:\n",
    "#             visiting=visiting.children[1]\n",
    "#         d+=1\n",
    "#     if d==depth:\n",
    "#         dir=rng.uniform(0,1)\n",
    "#         if dir<1/2 or visiting.num_children==1:\n",
    "#             visiting.children[0]=generate_Expression(variables)\n",
    "#             visiting.children[0].parent=visiting\n",
    "#         elif dir>1/2 and visiting.num_children>1:\n",
    "#             visiting.children[1]=generate_Expression(variables)\n",
    "#             visiting.children[1].parent=visiting\n",
    "\n",
    "# def cut_and_shorten(formula: ExpNode,depth):\n",
    "#     d=0\n",
    "#     visiting=formula\n",
    "#     while d<depth:\n",
    "#         dir=rng.uniform(0,1)\n",
    "#         if dir<1/2 or visiting.num_children==1:\n",
    "#             visiting=visiting.children[0]\n",
    "#         elif dir>1/2 and visiting.num_children>1:\n",
    "#             visiting=visiting.children[1]\n",
    "#         d+=1\n",
    "#     if d==depth:\n",
    "#         dir=rng.uniform(0,1)\n",
    "#         if dir<1/2 or visiting.num_children==1:\n",
    "#             visiting.children[0]=find_variables(visiting)\n",
    "#         elif dir>1/2 and visiting.num_children>1:\n",
    "#             visiting.children[1]=find_variables(visiting)\n",
    "\n",
    "def visit(formula: ExpNode):\n",
    "    tovisit=deque()\n",
    "    tovisit.append((formula,None,0))\n",
    "    count=0\n",
    "    while tovisit:\n",
    "        node,parent,j=tovisit.popleft()\n",
    "        if not isinstance(node, np.ndarray):\n",
    "            for i,child in enumerate(node.children):\n",
    "                tovisit.append((child,node,i))\n",
    "        count+=1\n",
    "        if rng.integers(1,count+1)==count:\n",
    "            item=node\n",
    "            itemparent=parent\n",
    "            itemid=j\n",
    "    return item,itemparent,itemid\n",
    "\n",
    "def cut_and_shorten(formula: ExpNode,depth):\n",
    "    cutpoint,cutparent,cutid=visit(formula)\n",
    "    if cutparent is not None:\n",
    "        cutparent.children[cutid]=find_variables(cutpoint)\n",
    "    return formula\n",
    "\n",
    "def cut_and_regenerate(formula: ExpNode, variables):\n",
    "    cutpoint,cutparent,cutid=visit(formula)\n",
    "    if cutparent is not None:\n",
    "        cutparent.children[cutid]=generate_Expression(variables)\n",
    "        cutparent.children[cutid].parent=cutparent\n",
    "    else:\n",
    "        formula=generate_Expression(variables)\n",
    "    return formula\n",
    "\n",
    "def crossover(formula1: ExpNode,formula2: ExpNode):\n",
    "    cxpoint1,parent1,id1=visit(formula1)\n",
    "    cxpoint2,parent2,id2=visit(formula2)\n",
    "    if parent1 is None:\n",
    "        return cxpoint2\n",
    "    else:\n",
    "        cxpoint2.parent=parent1\n",
    "        parent1.children[id1]=cxpoint2\n",
    "        return parent1\n",
    "\n",
    "\n",
    "def choose_function():\n",
    "    fn_choice=rng.uniform(0,1)\n",
    "    children=0\n",
    "    if fn_choice>7/12:\n",
    "        kind=rng.choice(binary_functions,1)\n",
    "        children=2\n",
    "    else:\n",
    "        kind=rng.choice(unary_functions,1)\n",
    "        children=1\n",
    "    return kind[0],children\n",
    "\n",
    "def generate_subtree(root,depth,max_depth,variables):\n",
    "    if depth==max_depth:\n",
    "        for n in range(root.num_children):\n",
    "            var=rng.choice(variables,1)\n",
    "            # if var[0]=='const':\n",
    "            root.children.append(var)\n",
    "    else:\n",
    "        for n in range(root.num_children):\n",
    "            fn,children=choose_function()\n",
    "            child=ExpNode(fn,children,[],root)\n",
    "            generate_subtree(child,depth+1,max_depth,variables)\n",
    "            root.children.append(child)\n",
    "\n",
    "\n",
    "def generate_Expression(variables: np.ndarray):\n",
    "    depth=rng.integers(1,3)\n",
    "    num_variables=rng.integers(1,variables.shape[0]+1)\n",
    "    #check if replacement mayu be usefull (the same variable is used twice in different fragments of the expression)\n",
    "    # we may choose just one variable then\n",
    "    used_variables=rng.choice(variables,num_variables,replace=False)\n",
    "    print(num_variables,used_variables)\n",
    "    #using uniform generation\n",
    "    d=0\n",
    "    curr_fn,kids=choose_function()\n",
    "    root=ExpNode(curr_fn,kids,[])\n",
    "    generate_subtree(root,1,depth,np.concatenate([used_variables,extra_constants]))\n",
    "    return root\n",
    "\n",
    "        \n",
    "# def parse_Expression(expr: ExpNode):\n",
    "#     if type(expr)==np.ndarray:\n",
    "#         return sympy.symbols(expr[0])\n",
    "#     else:\n",
    "#         print(expr.kind)\n",
    "#         print((parse_Expression(expr.children[i]) for i in range(expr.num_children)))\n",
    "#         return STR2SYMPY[expr.kind](parse_Expression(expr.children[i]) for i in range(expr.num_children))\n",
    "\n",
    "def parse_Expression(expr: ExpNode):\n",
    "    if isinstance(expr, np.ndarray):\n",
    "        return sympy.symbols(expr[0])\n",
    "    elif expr.kind in STR2SYMPY:\n",
    "        # Parse children recursively\n",
    "        parsed_children = [parse_Expression(child) for child in expr.children]\n",
    "        # Apply the corresponding sympy function/operator\n",
    "        return STR2SYMPY[expr.kind](*parsed_children)\n",
    "    else:\n",
    "        raise ValueError(f\"Unsupported expression kind: {expr.kind}\")\n"
   ]
  },
  {
   "cell_type": "code",
   "execution_count": 210,
   "metadata": {},
   "outputs": [
    {
     "name": "stdout",
     "output_type": "stream",
     "text": [
      "1 ['z']\n",
      "ExpNode(kind=np.str_('neg'), num_children=1, children=[array(['2'], dtype='<U2')], parent=None)\n"
     ]
    }
   ],
   "source": [
    "t=np.array(['x','y','z'],dtype=str)\n",
    "res=generate_Expression(t)\n",
    "print(res)"
   ]
  },
  {
   "cell_type": "code",
   "execution_count": 217,
   "metadata": {},
   "outputs": [
    {
     "name": "stdout",
     "output_type": "stream",
     "text": [
      "(array(['2'], dtype='<U2'), ExpNode(kind=np.str_('neg'), num_children=1, children=[array(['2'], dtype='<U2')], parent=None), 0)\n"
     ]
    }
   ],
   "source": [
    "print(visit(res))"
   ]
  },
  {
   "cell_type": "code",
   "execution_count": 143,
   "metadata": {},
   "outputs": [
    {
     "name": "stdout",
     "output_type": "stream",
     "text": [
      "x**x\n"
     ]
    }
   ],
   "source": [
    "print(parse_Expression(res))"
   ]
  },
  {
   "cell_type": "code",
   "execution_count": 4,
   "metadata": {},
   "outputs": [
    {
     "name": "stdout",
     "output_type": "stream",
     "text": [
      "sqrt((x0 - x1)**2 + (x2 - x3)**2) <class 'sympy.core.power.Pow'>\n",
      "[[ 2.00293401  0.76615789 -1.16301986 -2.29924894  1.67947364]\n",
      " [-0.1516021  -0.315528    4.28046425 -0.16175568  4.44524347]\n",
      " [ 7.22516759 -0.60686739  5.98877255 -2.48898992 11.54180351]\n",
      " ...\n",
      " [-0.38752721 -3.80981155 -4.00705763 -9.805081    6.73268929]\n",
      " [ 0.15153997  1.39060106 -0.13542526 -5.74073294  5.74062249]\n",
      " [-3.96895032 -3.69390316  2.53040955 -1.05597386  3.59691491]]\n",
      "[[-7.80518190e-10 -1.96520295e+05 -1.75401610e+02  9.08206278e+09\n",
      "  -2.96237144e-12]\n",
      " [ 2.97627266e-10  1.02646499e+06 -4.60135510e+02 -3.14479787e+09\n",
      "   4.47002418e-11]\n",
      " [-6.97188338e-11  3.59188320e+05  5.93024628e+02 -4.42789509e+09\n",
      "   3.35388160e-12]\n",
      " ...\n",
      " [ 9.81457051e-11  4.97903653e+06 -1.21105673e+01  6.71299609e+10\n",
      "  -8.81586042e-14]\n",
      " [ 1.24657280e-10  2.96818907e+06 -1.39143860e+02  1.25997876e+10\n",
      "  -4.08610979e-12]\n",
      " [-1.91575990e-11  7.69971207e+06  4.29408749e+01 -9.05855451e+10\n",
      "   6.99242071e-14]]\n"
     ]
    }
   ],
   "source": [
    "with open('srsd/medium_set/true_eq/feynman-i.8.14.pkl','rb') as eq:\n",
    "    equaion=pickle.load(eq)\n",
    "    print(equaion,type(equaion))\n",
    "\n",
    "arr=np.loadtxt('srsd/medium_set/test/feynman-i.8.14.txt')\n",
    "print(arr)\n",
    "arr1=np.loadtxt('srsd/medium_set/test/feynman-i.34.8.txt')\n",
    "print(arr1)"
   ]
  },
  {
   "cell_type": "code",
   "execution_count": 208,
   "metadata": {},
   "outputs": [
    {
     "name": "stdout",
     "output_type": "stream",
     "text": [
      "1\n",
      "deque(['a', 17])\n"
     ]
    }
   ],
   "source": [
    "print(rng.integers(1,2))\n",
    "w=deque()\n",
    "w.append('a')\n",
    "w.append(17)\n",
    "print(w)"
   ]
  },
  {
   "cell_type": "code",
   "execution_count": 8,
   "metadata": {},
   "outputs": [
    {
     "name": "stdout",
     "output_type": "stream",
     "text": [
      "<class 'numpy.str_'>\n"
     ]
    }
   ],
   "source": [
    "print(type(t[0]))"
   ]
  }
 ],
 "metadata": {
  "kernelspec": {
   "display_name": ".venv",
   "language": "python",
   "name": "python3"
  },
  "language_info": {
   "codemirror_mode": {
    "name": "ipython",
    "version": 3
   },
   "file_extension": ".py",
   "mimetype": "text/x-python",
   "name": "python",
   "nbconvert_exporter": "python",
   "pygments_lexer": "ipython3",
   "version": "3.10.12"
  }
 },
 "nbformat": 4,
 "nbformat_minor": 2
}
