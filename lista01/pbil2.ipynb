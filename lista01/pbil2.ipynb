{
 "cells": [
  {
   "cell_type": "code",
   "execution_count": 16,
   "metadata": {},
   "outputs": [],
   "source": [
    "import numpy as np\n",
    "from scipy import stats\n",
    "\n",
    "def onemax(v):\n",
    "    return np.sum(v)\n",
    "\n",
    "rng = np.random.default_rng()\n",
    "\n",
    "class PBIL:\n",
    "    def __init__(self, length, pop_size, learning_rate, mutation_prob, mutation_shift, max_generations, fitness_function):\n",
    "        self.length = length\n",
    "        self.pop_size = pop_size  \n",
    "        self.learning_rate = learning_rate  \n",
    "        self.mutation_prob = mutation_prob  \n",
    "        self.mutation_shift = mutation_shift  \n",
    "        self.max_generations = max_generations  \n",
    "        self.prob_vector = np.full(length,0.5)\n",
    "        self.fitness_function = fitness_function\n",
    "        #self.fitness_function = np.vectorize(fitness_function)\n",
    "    \n",
    "    def generate_population(self):\n",
    "        return rng.uniform(0,1,(self.pop_size, self.length)) < self.prob_vector\n",
    "    \n",
    "    def update_probability_vector(self, best_individual):\n",
    "        self.prob_vector = (1 - self.learning_rate) * self.prob_vector + self.learning_rate * best_individual\n",
    "\n",
    "    def mutate_probability_vector(self):\n",
    "        mutation_mask = rng.uniform(0,1,self.length) < self.mutation_prob\n",
    "        random_mutation = rng.uniform(0,1,self.length) < 0.5\n",
    "        self.prob_vector = (1 - self.mutation_shift) * self.prob_vector * mutation_mask + self.mutation_shift * random_mutation * mutation_mask + self.prob_vector * (1 - mutation_mask)\n",
    "    \n",
    "    def learn(self):\n",
    "        for generation in range(self.max_generations):\n",
    "            population = self.generate_population().astype(int)\n",
    "            fitness_values = np.array([self.fitness_function(ind) for ind in population])\n",
    "            #fitness_values=self.fitness_function(population)\n",
    "\n",
    "            best_index = np.argmax(fitness_values)\n",
    "            best_individual = population[best_index]\n",
    "            best_fitness = fitness_values[best_index]\n",
    "\n",
    "            self.update_probability_vector(best_individual)\n",
    "            self.mutate_probability_vector()\n",
    "\n",
    "            print(f\"Generation {generation}: Best Fitness = {best_fitness}\")\n",
    "\n",
    "        return self.prob_vector, best_fitness\n"
   ]
  },
  {
   "cell_type": "code",
   "execution_count": 18,
   "metadata": {},
   "outputs": [
    {
     "name": "stdout",
     "output_type": "stream",
     "text": [
      "(266, 9350)\n",
      "(9350,)\n",
      "[1. 1. 1. ... 3. 3. 3.]\n",
      "ModeResult(mode=array([0., 0., 0., ..., 0., 0., 0.]), count=array([265., 265., 265., ..., 265., 265., 265.]))\n",
      "[[False False False ... False False False]\n",
      " [False False False ... False False False]]\n"
     ]
    },
    {
     "data": {
      "text/plain": [
       "0"
      ]
     },
     "execution_count": 18,
     "metadata": {},
     "output_type": "execute_result"
    }
   ],
   "source": [
    "ground_truth=np.loadtxt(\"ImageExpertReduced.txt\")\n",
    "classifiers=np.loadtxt(\"ClassificationRules.txt\")\n",
    "print(classifiers.shape)\n",
    "print(ground_truth.shape)\n",
    "print(ground_truth)\n",
    "def evaluation(v):\n",
    "    votes=v.reshape(-1,1)*classifiers\n",
    "    results=stats.mode(votes,axis=0)\n",
    "    print(results)\n",
    "    print(ground_truth==results)\n",
    "    score=np.sum(ground_truth==results)\n",
    "    return score\n",
    "\n",
    "test=np.zeros(266)\n",
    "test[0]=1\n",
    "#print(test)\n",
    "evaluation(test)    "
   ]
  },
  {
   "cell_type": "code",
   "execution_count": 11,
   "metadata": {},
   "outputs": [
    {
     "name": "stdout",
     "output_type": "stream",
     "text": [
      "[[0. 0.]\n",
      " [0. 0.]\n",
      " [0. 0.]\n",
      " [0. 0.]\n",
      " [0. 0.]\n",
      " [0. 0.]\n",
      " [0. 0.]\n",
      " [0. 0.]\n",
      " [0. 0.]\n",
      " [0. 0.]]\n"
     ]
    }
   ],
   "source": [
    "t2=np.zeros((10,2))\n",
    "print(t2)"
   ]
  }
 ],
 "metadata": {
  "kernelspec": {
   "display_name": "Python 3",
   "language": "python",
   "name": "python3"
  },
  "language_info": {
   "codemirror_mode": {
    "name": "ipython",
    "version": 3
   },
   "file_extension": ".py",
   "mimetype": "text/x-python",
   "name": "python",
   "nbconvert_exporter": "python",
   "pygments_lexer": "ipython3",
   "version": "3.10.12"
  }
 },
 "nbformat": 4,
 "nbformat_minor": 2
}
