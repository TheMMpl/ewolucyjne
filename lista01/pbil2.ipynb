{
 "cells": [
  {
   "cell_type": "code",
   "execution_count": 1,
   "metadata": {},
   "outputs": [],
   "source": [
    "import numpy as np\n",
    "from scipy import stats\n",
    "\n",
    "def onemax(v):\n",
    "    return np.sum(v)\n",
    "\n",
    "rng = np.random.default_rng()\n",
    "\n",
    "class PBIL:\n",
    "    def __init__(self, length, pop_size, learning_rate, mutation_prob, mutation_shift, max_generations, fitness_function):\n",
    "        self.length = length\n",
    "        self.pop_size = pop_size  \n",
    "        self.learning_rate = learning_rate  \n",
    "        self.mutation_prob = mutation_prob  \n",
    "        self.mutation_shift = mutation_shift  \n",
    "        self.max_generations = max_generations  \n",
    "        self.prob_vector = np.full(length,0.5)\n",
    "        self.fitness_function = fitness_function\n",
    "        #self.fitness_function = np.vectorize(fitness_function)\n",
    "    \n",
    "    def generate_population(self):\n",
    "        return rng.uniform(0,1,(self.pop_size, self.length)) < self.prob_vector\n",
    "    \n",
    "    def update_probability_vector(self, best_individual):\n",
    "        self.prob_vector = (1 - self.learning_rate) * self.prob_vector + self.learning_rate * best_individual\n",
    "\n",
    "    def mutate_probability_vector(self):\n",
    "        mutation_mask = rng.uniform(0,1,self.length) < self.mutation_prob\n",
    "        random_mutation = rng.uniform(0,1,self.length) < 0.5\n",
    "        self.prob_vector = (1 - self.mutation_shift) * self.prob_vector * mutation_mask + self.mutation_shift * random_mutation * mutation_mask + self.prob_vector * (1 - mutation_mask)\n",
    "    \n",
    "    def learn(self):\n",
    "        for generation in range(self.max_generations):\n",
    "            population = self.generate_population().astype(int)\n",
    "            fitness_values = np.array([self.fitness_function(ind) for ind in population])\n",
    "            #fitness_values=self.fitness_function(population)\n",
    "\n",
    "            best_index = np.argmax(fitness_values)\n",
    "            best_individual = population[best_index]\n",
    "            best_fitness = fitness_values[best_index]\n",
    "\n",
    "            self.update_probability_vector(best_individual)\n",
    "            self.mutate_probability_vector()\n",
    "\n",
    "            print(f\"Generation {generation}: Best Fitness = {best_fitness}\")\n",
    "\n",
    "        return self.prob_vector, best_fitness\n"
   ]
  },
  {
   "cell_type": "code",
   "execution_count": 23,
   "metadata": {},
   "outputs": [
    {
     "data": {
      "text/plain": [
       "6034"
      ]
     },
     "execution_count": 23,
     "metadata": {},
     "output_type": "execute_result"
    }
   ],
   "source": [
    "ground_truth=np.loadtxt(\"ImageExpertReduced.txt\")\n",
    "classifiers=np.loadtxt(\"ClassificationRules.txt\")\n",
    "#print(classifiers.shape)\n",
    "#print(ground_truth.shape)\n",
    "#print(ground_truth)\n",
    "def evaluation(v):\n",
    "    votes=v.reshape(-1,1)*classifiers\n",
    "    #votes[votes==0]==np.nan\n",
    "    clean_votes=np.where(votes==0, np.nan, votes)\n",
    "    #print(clean_votes)\n",
    "    #options,counts=np.unique(votes,axis=0,return_counts=True)\n",
    "    results,counts=stats.mode(clean_votes,axis=0,nan_policy=\"omit\")\n",
    "    #print(votes)\n",
    "    #print(options)\n",
    "    #print(options.shape)\n",
    "    #print(counts)\n",
    "    #print(type(counts))\n",
    "    #print(results)\n",
    "    #print(ground_truth==results)\n",
    "    score=np.sum(ground_truth==results)\n",
    "    return score\n",
    "\n",
    "test=np.zeros(266)\n",
    "test[0]=1\n",
    "#print(test)\n",
    "evaluation(test)    "
   ]
  },
  {
   "cell_type": "code",
   "execution_count": 11,
   "metadata": {},
   "outputs": [
    {
     "name": "stdout",
     "output_type": "stream",
     "text": [
      "[[0. 0.]\n",
      " [0. 0.]\n",
      " [0. 0.]\n",
      " [0. 0.]\n",
      " [0. 0.]\n",
      " [0. 0.]\n",
      " [0. 0.]\n",
      " [0. 0.]\n",
      " [0. 0.]\n",
      " [0. 0.]]\n"
     ]
    }
   ],
   "source": [
    "t2=np.zeros((10,2))\n",
    "print(t2)"
   ]
  },
  {
   "cell_type": "code",
   "execution_count": null,
   "metadata": {},
   "outputs": [
    {
     "name": "stdout",
     "output_type": "stream",
     "text": [
      "Generation 0: Best Fitness = 8609\n",
      "Generation 1: Best Fitness = 8631\n",
      "Generation 2: Best Fitness = 8670\n",
      "Generation 3: Best Fitness = 8806\n",
      "Generation 4: Best Fitness = 8630\n",
      "Generation 5: Best Fitness = 8615\n",
      "Generation 6: Best Fitness = 8695\n",
      "Generation 7: Best Fitness = 8530\n",
      "Generation 8: Best Fitness = 8730\n",
      "Generation 9: Best Fitness = 8738\n",
      "Generation 10: Best Fitness = 8663\n",
      "Generation 11: Best Fitness = 8696\n",
      "Generation 12: Best Fitness = 8681\n",
      "Generation 13: Best Fitness = 8770\n",
      "Generation 14: Best Fitness = 8721\n",
      "Generation 15: Best Fitness = 8706\n",
      "Generation 16: Best Fitness = 8766\n",
      "Generation 17: Best Fitness = 8723\n",
      "Generation 18: Best Fitness = 8716\n",
      "Generation 19: Best Fitness = 8644\n",
      "Generation 20: Best Fitness = 8759\n",
      "Generation 21: Best Fitness = 8742\n",
      "Generation 22: Best Fitness = 8615\n",
      "Generation 23: Best Fitness = 8893\n",
      "Generation 24: Best Fitness = 8752\n",
      "Generation 25: Best Fitness = 8771\n",
      "Generation 26: Best Fitness = 8772\n",
      "Generation 27: Best Fitness = 8901\n",
      "Generation 28: Best Fitness = 8852\n",
      "Generation 29: Best Fitness = 8921\n",
      "Generation 30: Best Fitness = 8684\n",
      "Generation 31: Best Fitness = 8834\n",
      "Generation 32: Best Fitness = 8703\n",
      "Generation 33: Best Fitness = 8837\n",
      "Generation 34: Best Fitness = 8776\n",
      "Generation 35: Best Fitness = 8773\n",
      "Generation 36: Best Fitness = 8841\n",
      "Generation 37: Best Fitness = 8896\n",
      "Generation 38: Best Fitness = 8883\n",
      "Generation 39: Best Fitness = 8869\n",
      "Generation 40: Best Fitness = 8750\n",
      "Generation 41: Best Fitness = 8847\n",
      "Generation 42: Best Fitness = 8909\n",
      "Generation 43: Best Fitness = 8778\n",
      "Generation 44: Best Fitness = 8894\n",
      "Generation 45: Best Fitness = 8805\n",
      "Generation 46: Best Fitness = 9075\n",
      "Generation 47: Best Fitness = 8858\n",
      "Generation 48: Best Fitness = 8797\n",
      "Generation 49: Best Fitness = 8878\n",
      "Generation 50: Best Fitness = 8790\n",
      "Generation 51: Best Fitness = 9012\n",
      "Generation 52: Best Fitness = 8980\n",
      "Generation 53: Best Fitness = 8970\n",
      "Generation 54: Best Fitness = 8937\n",
      "Generation 55: Best Fitness = 9008\n",
      "Generation 56: Best Fitness = 8918\n"
     ]
    }
   ],
   "source": [
    "n_bits = 266\n",
    "pop_size = 100\n",
    "learning_rate = 0.01\n",
    "mutation_prob = 0.05\n",
    "mutation_shift = 0.01\n",
    "max_generations = 100\n",
    "\n",
    "pbil = PBIL(n_bits, pop_size, learning_rate, mutation_prob, mutation_shift, max_generations,evaluation)\n",
    "final_prob_vector, best_fitness = pbil.learn()\n",
    "\n",
    "print(\"Best Fitness Achieved:\", best_fitness)"
   ]
  }
 ],
 "metadata": {
  "kernelspec": {
   "display_name": "Python 3",
   "language": "python",
   "name": "python3"
  },
  "language_info": {
   "codemirror_mode": {
    "name": "ipython",
    "version": 3
   },
   "file_extension": ".py",
   "mimetype": "text/x-python",
   "name": "python",
   "nbconvert_exporter": "python",
   "pygments_lexer": "ipython3",
   "version": "3.10.12"
  }
 },
 "nbformat": 4,
 "nbformat_minor": 2
}
