{
 "cells": [
  {
   "cell_type": "code",
   "execution_count": 1,
   "metadata": {},
   "outputs": [],
   "source": [
    "import random\n",
    "\n",
    "def cxPartialyMatched(ind1, ind2):\n",
    "    \"\"\"Executes a partially matched crossover (PMX) on the input individuals.\n",
    "    The two individuals are modified in place. This crossover expects\n",
    "    :term:`sequence` individuals of indices, the result for any other type of\n",
    "    individuals is unpredictable.\n",
    "\n",
    "    :param ind1: The first individual participating in the crossover.\n",
    "    :param ind2: The second individual participating in the crossover.\n",
    "    :returns: A tuple of two individuals.\n",
    "\n",
    "    Moreover, this crossover generates two children by matching\n",
    "    pairs of values in a certain range of the two parents and swapping the values\n",
    "    of those indexes. For more details see [Goldberg1985]_.\n",
    "\n",
    "    This function uses the :func:`~random.randint` function from the python base\n",
    "    :mod:`random` module.\n",
    "\n",
    "    .. [Goldberg1985] Goldberg and Lingel, \"Alleles, loci, and the traveling\n",
    "       salesman problem\", 1985.\n",
    "    \"\"\"\n",
    "    size = min(len(ind1), len(ind2))\n",
    "    p1, p2 = [0] * size, [0] * size\n",
    "\n",
    "    # Initialize the position of each indices in the individuals\n",
    "    for i in range(size):\n",
    "        p1[ind1[i]] = i\n",
    "        p2[ind2[i]] = i\n",
    "    # Choose crossover points\n",
    "    # cxpoint1 = random.randint(0, size)\n",
    "    # cxpoint2 = random.randint(0, size - 1)\n",
    "    # if cxpoint2 >= cxpoint1:\n",
    "    #     cxpoint2 += 1\n",
    "    # else:  # Swap the two cx points\n",
    "    #     cxpoint1, cxpoint2 = cxpoint2, cxpoint1\n",
    "    cxpoint1=1\n",
    "    cxpoint2=4\n",
    "\n",
    "    # Apply crossover between cx points\n",
    "    for i in range(cxpoint1, cxpoint2):\n",
    "        # Keep track of the selected values\n",
    "        temp1 = ind1[i]\n",
    "        temp2 = ind2[i]\n",
    "        # Swap the matched value\n",
    "        ind1[i], ind1[p1[temp2]] = temp2, temp1\n",
    "        ind2[i], ind2[p2[temp1]] = temp1, temp2\n",
    "        # Position bookkeeping\n",
    "        p1[temp1], p1[temp2] = p1[temp2], p1[temp1]\n",
    "        p2[temp1], p2[temp2] = p2[temp2], p2[temp1]\n",
    "\n",
    "    return ind1, ind2"
   ]
  },
  {
   "cell_type": "code",
   "execution_count": 3,
   "metadata": {},
   "outputs": [
    {
     "name": "stdout",
     "output_type": "stream",
     "text": [
      "([0, 2, 4, 3, 5, 1], [3, 1, 5, 4, 2, 0])\n"
     ]
    }
   ],
   "source": [
    "print(cxPartialyMatched([0,1,5,4,3,2],[4,2,3,5,1,0]))"
   ]
  },
  {
   "cell_type": "code",
   "execution_count": 6,
   "metadata": {},
   "outputs": [],
   "source": [
    "# Function to find the index of a city in the tour array\n",
    "def find_city(city_name, n_city, tour):\n",
    "    j = 0\n",
    "    while j < n_city and tour[j] != city_name:\n",
    "        j += 1\n",
    "    return j\n",
    "\n",
    "# Function to swap two cities in a tour array\n",
    "def swap_city(city_pos1, city_pos2, tour):\n",
    "    temp = tour[city_pos1]\n",
    "    tour[city_pos1] = tour[city_pos2]\n",
    "    tour[city_pos2] = temp\n",
    "\n",
    "# Procedure to perform crossover on two tours\n",
    "def cross_tour(n_city, lo_cross, hi_cross, tour1_old, tour2_old):\n",
    "    hi_test = hi_cross + 1\n",
    "    if hi_test > n_city:\n",
    "        hi_test = 1\n",
    "    \n",
    "    # Initialize new tours as copies of the old tour\n",
    "    tour1_new = tour1_old[:]\n",
    "    tour2_new = tour2_old[:]\n",
    "    \n",
    "    if lo_cross < hi_cross and lo_cross < hi_test:\n",
    "        j = lo_cross\n",
    "        while j < hi_test:\n",
    "            # Perform mapped crossover on both tours\n",
    "            swap_city(j, find_city(tour1_old[j], n_city, tour2_new), tour2_new)\n",
    "            swap_city(j, find_city(tour2_old[j], n_city, tour1_new), tour1_new)\n",
    "            j += 1\n",
    "            if j > n_city:\n",
    "                break\n",
    "    \n",
    "    print(tour1_new,tour2_new)\n"
   ]
  },
  {
   "cell_type": "code",
   "execution_count": 7,
   "metadata": {},
   "outputs": [
    {
     "name": "stdout",
     "output_type": "stream",
     "text": [
      "[0, 2, 3, 5, 4, 1] [3, 1, 5, 4, 2, 0]\n"
     ]
    }
   ],
   "source": [
    "#print(cxPartialyMatched([1,2,8,7,6,3],[7,3,6,8,2,1]))\n",
    "cross_tour(len([0,1,5,4,3,2]),1,3,[0,1,5,4,3,2],[4,2,3,5,1,0])"
   ]
  }
 ],
 "metadata": {
  "kernelspec": {
   "display_name": "Python 3",
   "language": "python",
   "name": "python3"
  },
  "language_info": {
   "codemirror_mode": {
    "name": "ipython",
    "version": 3
   },
   "file_extension": ".py",
   "mimetype": "text/x-python",
   "name": "python",
   "nbconvert_exporter": "python",
   "pygments_lexer": "ipython3",
   "version": "3.10.12"
  }
 },
 "nbformat": 4,
 "nbformat_minor": 2
}
